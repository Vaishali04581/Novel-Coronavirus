{
 "cells": [
  {
   "cell_type": "markdown",
   "metadata": {},
   "source": [
    "# COVID-19 LIVE TRACKER- INDIA"
   ]
  },
  {
   "cell_type": "markdown",
   "metadata": {},
   "source": [
    "It contains some graphs and maps that will give you the latest updates about the pandemic- **CORONA VIRUS**\n",
    "\n",
    "**OPEN AS A DESKTOP SITE FOR A BETTER VIEW!**\n",
    "\n",
    "<h1>Developed by:-</h1>\n",
    "    \n",
    "   <font color= \"blue\" >ANUJAY SUYAL </font>\n",
    "    \n",
    "   <font color= \"blue\" >VAISHALI PANT</font>"
   ]
  },
  {
   "cell_type": "code",
   "execution_count": 1,
   "metadata": {},
   "outputs": [],
   "source": [
    "import pandas as pd\n",
    "import seaborn as sns\n",
    "import matplotlib.pyplot as plt  ##used for plotting graph\n",
    "from matplotlib import style\n",
    "##style.use('ggplot')\n",
    "%matplotlib inline\n",
    "\n",
    "\n",
    "import plotly\n",
    "import plotly.express as px\n",
    "import plotly.graph_objects as go   ##go means graph object\n",
    "plt.rcParams['figure.figsize']=17,8\n",
    "import cufflinks as cf  ##cufflinks connect plotly with pandas to create graphs\n",
    "import plotly.offline as pyo\n",
    "from plotly.offline import init_notebook_mode,plot,iplot\n",
    "\n",
    "import folium\n"
   ]
  },
  {
   "cell_type": "code",
   "execution_count": 2,
   "metadata": {},
   "outputs": [
    {
     "data": {
      "text/html": [
       "        <script type=\"text/javascript\">\n",
       "        window.PlotlyConfig = {MathJaxConfig: 'local'};\n",
       "        if (window.MathJax) {MathJax.Hub.Config({SVG: {font: \"STIX-Web\"}});}\n",
       "        if (typeof require !== 'undefined') {\n",
       "        require.undef(\"plotly\");\n",
       "        requirejs.config({\n",
       "            paths: {\n",
       "                'plotly': ['https://cdn.plot.ly/plotly-latest.min']\n",
       "            }\n",
       "        });\n",
       "        require(['plotly'], function(Plotly) {\n",
       "            window._Plotly = Plotly;\n",
       "        });\n",
       "        }\n",
       "        </script>\n",
       "        "
      ]
     },
     "metadata": {},
     "output_type": "display_data"
    },
    {
     "data": {
      "text/html": [
       "        <script type=\"text/javascript\">\n",
       "        window.PlotlyConfig = {MathJaxConfig: 'local'};\n",
       "        if (window.MathJax) {MathJax.Hub.Config({SVG: {font: \"STIX-Web\"}});}\n",
       "        if (typeof require !== 'undefined') {\n",
       "        require.undef(\"plotly\");\n",
       "        requirejs.config({\n",
       "            paths: {\n",
       "                'plotly': ['https://cdn.plot.ly/plotly-latest.min']\n",
       "            }\n",
       "        });\n",
       "        require(['plotly'], function(Plotly) {\n",
       "            window._Plotly = Plotly;\n",
       "        });\n",
       "        }\n",
       "        </script>\n",
       "        "
      ]
     },
     "metadata": {},
     "output_type": "display_data"
    }
   ],
   "source": [
    "pyo.init_notebook_mode(connected= True)\n",
    "cf.go_offline()"
   ]
  },
  {
   "cell_type": "code",
   "execution_count": 3,
   "metadata": {},
   "outputs": [
    {
     "data": {
      "text/html": [
       "<div>\n",
       "<style scoped>\n",
       "    .dataframe tbody tr th:only-of-type {\n",
       "        vertical-align: middle;\n",
       "    }\n",
       "\n",
       "    .dataframe tbody tr th {\n",
       "        vertical-align: top;\n",
       "    }\n",
       "\n",
       "    .dataframe thead th {\n",
       "        text-align: right;\n",
       "    }\n",
       "</style>\n",
       "<table border=\"1\" class=\"dataframe\">\n",
       "  <thead>\n",
       "    <tr style=\"text-align: right;\">\n",
       "      <th></th>\n",
       "      <th>State</th>\n",
       "      <th>Confirmed</th>\n",
       "      <th>Recovered</th>\n",
       "      <th>Deaths</th>\n",
       "      <th>Active</th>\n",
       "      <th>Last_Updated_Time</th>\n",
       "      <th>Migrated_Other</th>\n",
       "      <th>State_code</th>\n",
       "      <th>Delta_Confirmed</th>\n",
       "      <th>Delta_Recovered</th>\n",
       "      <th>Delta_Deaths</th>\n",
       "      <th>State_Notes</th>\n",
       "    </tr>\n",
       "  </thead>\n",
       "  <tbody>\n",
       "    <tr>\n",
       "      <th>0</th>\n",
       "      <td>Total</td>\n",
       "      <td>4037711</td>\n",
       "      <td>3115588</td>\n",
       "      <td>69791</td>\n",
       "      <td>851716</td>\n",
       "      <td>05/09/2020 18:29:26</td>\n",
       "      <td>616</td>\n",
       "      <td>TT</td>\n",
       "      <td>17472</td>\n",
       "      <td>11076</td>\n",
       "      <td>156</td>\n",
       "      <td>NaN</td>\n",
       "    </tr>\n",
       "    <tr>\n",
       "      <th>1</th>\n",
       "      <td>Maharashtra</td>\n",
       "      <td>863062</td>\n",
       "      <td>625773</td>\n",
       "      <td>25964</td>\n",
       "      <td>210978</td>\n",
       "      <td>04/09/2020 22:02:29</td>\n",
       "      <td>347</td>\n",
       "      <td>MH</td>\n",
       "      <td>0</td>\n",
       "      <td>0</td>\n",
       "      <td>0</td>\n",
       "      <td>347 cases are marked as non-covid deaths in MH...</td>\n",
       "    </tr>\n",
       "    <tr>\n",
       "      <th>2</th>\n",
       "      <td>Tamil Nadu</td>\n",
       "      <td>451827</td>\n",
       "      <td>392507</td>\n",
       "      <td>7687</td>\n",
       "      <td>51633</td>\n",
       "      <td>04/09/2020 19:40:49</td>\n",
       "      <td>0</td>\n",
       "      <td>TN</td>\n",
       "      <td>0</td>\n",
       "      <td>0</td>\n",
       "      <td>0</td>\n",
       "      <td>[July 22]: 444 backdated deceased entries adde...</td>\n",
       "    </tr>\n",
       "    <tr>\n",
       "      <th>3</th>\n",
       "      <td>Andhra Pradesh</td>\n",
       "      <td>476506</td>\n",
       "      <td>370163</td>\n",
       "      <td>4276</td>\n",
       "      <td>102067</td>\n",
       "      <td>04/09/2020 19:12:36</td>\n",
       "      <td>0</td>\n",
       "      <td>AP</td>\n",
       "      <td>0</td>\n",
       "      <td>0</td>\n",
       "      <td>0</td>\n",
       "      <td>Total includes patients from other states and ...</td>\n",
       "    </tr>\n",
       "    <tr>\n",
       "      <th>4</th>\n",
       "      <td>Karnataka</td>\n",
       "      <td>379486</td>\n",
       "      <td>274196</td>\n",
       "      <td>6170</td>\n",
       "      <td>99101</td>\n",
       "      <td>04/09/2020 20:28:28</td>\n",
       "      <td>19</td>\n",
       "      <td>KA</td>\n",
       "      <td>0</td>\n",
       "      <td>0</td>\n",
       "      <td>0</td>\n",
       "      <td>NaN</td>\n",
       "    </tr>\n",
       "    <tr>\n",
       "      <th>5</th>\n",
       "      <td>Delhi</td>\n",
       "      <td>185220</td>\n",
       "      <td>161865</td>\n",
       "      <td>4513</td>\n",
       "      <td>18842</td>\n",
       "      <td>04/09/2020 18:58:28</td>\n",
       "      <td>0</td>\n",
       "      <td>DL</td>\n",
       "      <td>0</td>\n",
       "      <td>0</td>\n",
       "      <td>0</td>\n",
       "      <td>[July 14]: Value for the total tests conducted...</td>\n",
       "    </tr>\n",
       "    <tr>\n",
       "      <th>6</th>\n",
       "      <td>Uttar Pradesh</td>\n",
       "      <td>259765</td>\n",
       "      <td>195959</td>\n",
       "      <td>3843</td>\n",
       "      <td>59963</td>\n",
       "      <td>05/09/2020 16:14:24</td>\n",
       "      <td>0</td>\n",
       "      <td>UP</td>\n",
       "      <td>6590</td>\n",
       "      <td>5141</td>\n",
       "      <td>81</td>\n",
       "      <td>NaN</td>\n",
       "    </tr>\n",
       "    <tr>\n",
       "      <th>7</th>\n",
       "      <td>West Bengal</td>\n",
       "      <td>174659</td>\n",
       "      <td>147553</td>\n",
       "      <td>3452</td>\n",
       "      <td>23654</td>\n",
       "      <td>04/09/2020 20:08:28</td>\n",
       "      <td>0</td>\n",
       "      <td>WB</td>\n",
       "      <td>0</td>\n",
       "      <td>0</td>\n",
       "      <td>0</td>\n",
       "      <td>NaN</td>\n",
       "    </tr>\n",
       "    <tr>\n",
       "      <th>8</th>\n",
       "      <td>Bihar</td>\n",
       "      <td>145861</td>\n",
       "      <td>128376</td>\n",
       "      <td>750</td>\n",
       "      <td>16734</td>\n",
       "      <td>05/09/2020 18:29:28</td>\n",
       "      <td>1</td>\n",
       "      <td>BR</td>\n",
       "      <td>1727</td>\n",
       "      <td>1965</td>\n",
       "      <td>9</td>\n",
       "      <td>NaN</td>\n",
       "    </tr>\n",
       "    <tr>\n",
       "      <th>9</th>\n",
       "      <td>Telangana</td>\n",
       "      <td>138395</td>\n",
       "      <td>104603</td>\n",
       "      <td>877</td>\n",
       "      <td>32915</td>\n",
       "      <td>05/09/2020 10:23:30</td>\n",
       "      <td>0</td>\n",
       "      <td>TG</td>\n",
       "      <td>2511</td>\n",
       "      <td>2579</td>\n",
       "      <td>11</td>\n",
       "      <td>[July 27]\\nTelangana bulletin for the previous...</td>\n",
       "    </tr>\n",
       "    <tr>\n",
       "      <th>10</th>\n",
       "      <td>Gujarat</td>\n",
       "      <td>101695</td>\n",
       "      <td>82498</td>\n",
       "      <td>3076</td>\n",
       "      <td>16121</td>\n",
       "      <td>04/09/2020 20:17:39</td>\n",
       "      <td>0</td>\n",
       "      <td>GJ</td>\n",
       "      <td>0</td>\n",
       "      <td>0</td>\n",
       "      <td>0</td>\n",
       "      <td>NaN</td>\n",
       "    </tr>\n",
       "    <tr>\n",
       "      <th>11</th>\n",
       "      <td>Assam</td>\n",
       "      <td>121225</td>\n",
       "      <td>92718</td>\n",
       "      <td>345</td>\n",
       "      <td>28159</td>\n",
       "      <td>05/09/2020 00:02:27</td>\n",
       "      <td>3</td>\n",
       "      <td>AS</td>\n",
       "      <td>0</td>\n",
       "      <td>0</td>\n",
       "      <td>0</td>\n",
       "      <td>Includes 1 case from Nagaland</td>\n",
       "    </tr>\n",
       "    <tr>\n",
       "      <th>12</th>\n",
       "      <td>Rajasthan</td>\n",
       "      <td>88515</td>\n",
       "      <td>71990</td>\n",
       "      <td>1116</td>\n",
       "      <td>15409</td>\n",
       "      <td>05/09/2020 11:55:23</td>\n",
       "      <td>0</td>\n",
       "      <td>RJ</td>\n",
       "      <td>718</td>\n",
       "      <td>91</td>\n",
       "      <td>8</td>\n",
       "      <td>NaN</td>\n",
       "    </tr>\n",
       "    <tr>\n",
       "      <th>13</th>\n",
       "      <td>Odisha</td>\n",
       "      <td>120221</td>\n",
       "      <td>90331</td>\n",
       "      <td>591</td>\n",
       "      <td>29299</td>\n",
       "      <td>05/09/2020 12:54:25</td>\n",
       "      <td>0</td>\n",
       "      <td>OR</td>\n",
       "      <td>3543</td>\n",
       "      <td>0</td>\n",
       "      <td>7</td>\n",
       "      <td>[July 12th] 20 non-covid deaths reported in st...</td>\n",
       "    </tr>\n",
       "    <tr>\n",
       "      <th>14</th>\n",
       "      <td>Haryana</td>\n",
       "      <td>71983</td>\n",
       "      <td>57171</td>\n",
       "      <td>759</td>\n",
       "      <td>14053</td>\n",
       "      <td>04/09/2020 19:46:27</td>\n",
       "      <td>0</td>\n",
       "      <td>HR</td>\n",
       "      <td>0</td>\n",
       "      <td>0</td>\n",
       "      <td>0</td>\n",
       "      <td>[Aug 2]: 21 Foreign Evacuees have been merged ...</td>\n",
       "    </tr>\n",
       "    <tr>\n",
       "      <th>15</th>\n",
       "      <td>Madhya Pradesh</td>\n",
       "      <td>70244</td>\n",
       "      <td>53257</td>\n",
       "      <td>1513</td>\n",
       "      <td>15474</td>\n",
       "      <td>04/09/2020 19:46:33</td>\n",
       "      <td>0</td>\n",
       "      <td>MP</td>\n",
       "      <td>0</td>\n",
       "      <td>0</td>\n",
       "      <td>0</td>\n",
       "      <td>NaN</td>\n",
       "    </tr>\n",
       "    <tr>\n",
       "      <th>16</th>\n",
       "      <td>Kerala</td>\n",
       "      <td>82105</td>\n",
       "      <td>60444</td>\n",
       "      <td>327</td>\n",
       "      <td>21268</td>\n",
       "      <td>04/09/2020 20:45:28</td>\n",
       "      <td>66</td>\n",
       "      <td>KL</td>\n",
       "      <td>0</td>\n",
       "      <td>0</td>\n",
       "      <td>0</td>\n",
       "      <td>Mahe native who expired in Kannur included in ...</td>\n",
       "    </tr>\n",
       "    <tr>\n",
       "      <th>17</th>\n",
       "      <td>Punjab</td>\n",
       "      <td>60013</td>\n",
       "      <td>42543</td>\n",
       "      <td>1739</td>\n",
       "      <td>15731</td>\n",
       "      <td>04/09/2020 20:08:34</td>\n",
       "      <td>0</td>\n",
       "      <td>PB</td>\n",
       "      <td>0</td>\n",
       "      <td>0</td>\n",
       "      <td>0</td>\n",
       "      <td>NaN</td>\n",
       "    </tr>\n",
       "    <tr>\n",
       "      <th>18</th>\n",
       "      <td>Jammu and Kashmir</td>\n",
       "      <td>42241</td>\n",
       "      <td>31924</td>\n",
       "      <td>770</td>\n",
       "      <td>9547</td>\n",
       "      <td>05/09/2020 18:29:31</td>\n",
       "      <td>0</td>\n",
       "      <td>JK</td>\n",
       "      <td>1251</td>\n",
       "      <td>489</td>\n",
       "      <td>15</td>\n",
       "      <td>NaN</td>\n",
       "    </tr>\n",
       "    <tr>\n",
       "      <th>19</th>\n",
       "      <td>Jharkhand</td>\n",
       "      <td>48039</td>\n",
       "      <td>32043</td>\n",
       "      <td>447</td>\n",
       "      <td>15549</td>\n",
       "      <td>04/09/2020 23:23:32</td>\n",
       "      <td>0</td>\n",
       "      <td>JH</td>\n",
       "      <td>0</td>\n",
       "      <td>0</td>\n",
       "      <td>0</td>\n",
       "      <td>NaN</td>\n",
       "    </tr>\n",
       "    <tr>\n",
       "      <th>20</th>\n",
       "      <td>Chhattisgarh</td>\n",
       "      <td>40634</td>\n",
       "      <td>19608</td>\n",
       "      <td>337</td>\n",
       "      <td>20689</td>\n",
       "      <td>04/09/2020 23:47:30</td>\n",
       "      <td>0</td>\n",
       "      <td>CT</td>\n",
       "      <td>0</td>\n",
       "      <td>0</td>\n",
       "      <td>0</td>\n",
       "      <td>NaN</td>\n",
       "    </tr>\n",
       "    <tr>\n",
       "      <th>21</th>\n",
       "      <td>Uttarakhand</td>\n",
       "      <td>23011</td>\n",
       "      <td>15447</td>\n",
       "      <td>312</td>\n",
       "      <td>7187</td>\n",
       "      <td>04/09/2020 22:19:36</td>\n",
       "      <td>65</td>\n",
       "      <td>UT</td>\n",
       "      <td>0</td>\n",
       "      <td>0</td>\n",
       "      <td>0</td>\n",
       "      <td>NaN</td>\n",
       "    </tr>\n",
       "    <tr>\n",
       "      <th>22</th>\n",
       "      <td>Goa</td>\n",
       "      <td>19863</td>\n",
       "      <td>14747</td>\n",
       "      <td>220</td>\n",
       "      <td>4896</td>\n",
       "      <td>04/09/2020 22:46:31</td>\n",
       "      <td>0</td>\n",
       "      <td>GA</td>\n",
       "      <td>0</td>\n",
       "      <td>0</td>\n",
       "      <td>0</td>\n",
       "      <td>NaN</td>\n",
       "    </tr>\n",
       "    <tr>\n",
       "      <th>23</th>\n",
       "      <td>Tripura</td>\n",
       "      <td>14524</td>\n",
       "      <td>8483</td>\n",
       "      <td>136</td>\n",
       "      <td>5884</td>\n",
       "      <td>05/09/2020 12:28:29</td>\n",
       "      <td>21</td>\n",
       "      <td>TR</td>\n",
       "      <td>691</td>\n",
       "      <td>271</td>\n",
       "      <td>7</td>\n",
       "      <td>[Aug 4]\\nTripura bulletin for the previous day...</td>\n",
       "    </tr>\n",
       "    <tr>\n",
       "      <th>24</th>\n",
       "      <td>Puducherry</td>\n",
       "      <td>16566</td>\n",
       "      <td>11107</td>\n",
       "      <td>298</td>\n",
       "      <td>5161</td>\n",
       "      <td>05/09/2020 18:29:33</td>\n",
       "      <td>0</td>\n",
       "      <td>PY</td>\n",
       "      <td>394</td>\n",
       "      <td>433</td>\n",
       "      <td>18</td>\n",
       "      <td>NaN</td>\n",
       "    </tr>\n",
       "    <tr>\n",
       "      <th>25</th>\n",
       "      <td>Manipur</td>\n",
       "      <td>6699</td>\n",
       "      <td>4899</td>\n",
       "      <td>35</td>\n",
       "      <td>1765</td>\n",
       "      <td>04/09/2020 20:08:37</td>\n",
       "      <td>0</td>\n",
       "      <td>MN</td>\n",
       "      <td>0</td>\n",
       "      <td>0</td>\n",
       "      <td>0</td>\n",
       "      <td>NaN</td>\n",
       "    </tr>\n",
       "    <tr>\n",
       "      <th>26</th>\n",
       "      <td>Himachal Pradesh</td>\n",
       "      <td>6830</td>\n",
       "      <td>4920</td>\n",
       "      <td>49</td>\n",
       "      <td>1814</td>\n",
       "      <td>05/09/2020 00:02:34</td>\n",
       "      <td>47</td>\n",
       "      <td>HP</td>\n",
       "      <td>0</td>\n",
       "      <td>0</td>\n",
       "      <td>0</td>\n",
       "      <td>Death of Tibetan refugee is included in deceas...</td>\n",
       "    </tr>\n",
       "    <tr>\n",
       "      <th>27</th>\n",
       "      <td>Nagaland</td>\n",
       "      <td>4128</td>\n",
       "      <td>3419</td>\n",
       "      <td>8</td>\n",
       "      <td>689</td>\n",
       "      <td>05/09/2020 16:14:27</td>\n",
       "      <td>12</td>\n",
       "      <td>NL</td>\n",
       "      <td>21</td>\n",
       "      <td>68</td>\n",
       "      <td>0</td>\n",
       "      <td>NaN</td>\n",
       "    </tr>\n",
       "    <tr>\n",
       "      <th>28</th>\n",
       "      <td>Arunachal Pradesh</td>\n",
       "      <td>4775</td>\n",
       "      <td>3280</td>\n",
       "      <td>8</td>\n",
       "      <td>1487</td>\n",
       "      <td>04/09/2020 22:19:39</td>\n",
       "      <td>0</td>\n",
       "      <td>AR</td>\n",
       "      <td>0</td>\n",
       "      <td>0</td>\n",
       "      <td>0</td>\n",
       "      <td>[July 25]: All numbers corresponding to Papum ...</td>\n",
       "    </tr>\n",
       "    <tr>\n",
       "      <th>29</th>\n",
       "      <td>Andaman and Nicobar Islands</td>\n",
       "      <td>3257</td>\n",
       "      <td>2863</td>\n",
       "      <td>49</td>\n",
       "      <td>345</td>\n",
       "      <td>04/09/2020 22:17:38</td>\n",
       "      <td>0</td>\n",
       "      <td>AN</td>\n",
       "      <td>0</td>\n",
       "      <td>0</td>\n",
       "      <td>0</td>\n",
       "      <td>NaN</td>\n",
       "    </tr>\n",
       "    <tr>\n",
       "      <th>30</th>\n",
       "      <td>Ladakh</td>\n",
       "      <td>2935</td>\n",
       "      <td>2085</td>\n",
       "      <td>35</td>\n",
       "      <td>815</td>\n",
       "      <td>04/09/2020 22:58:28</td>\n",
       "      <td>0</td>\n",
       "      <td>LA</td>\n",
       "      <td>0</td>\n",
       "      <td>0</td>\n",
       "      <td>0</td>\n",
       "      <td>NaN</td>\n",
       "    </tr>\n",
       "    <tr>\n",
       "      <th>31</th>\n",
       "      <td>Chandigarh</td>\n",
       "      <td>5268</td>\n",
       "      <td>3105</td>\n",
       "      <td>68</td>\n",
       "      <td>2092</td>\n",
       "      <td>04/09/2020 19:41:32</td>\n",
       "      <td>3</td>\n",
       "      <td>CH</td>\n",
       "      <td>0</td>\n",
       "      <td>0</td>\n",
       "      <td>0</td>\n",
       "      <td>NaN</td>\n",
       "    </tr>\n",
       "    <tr>\n",
       "      <th>32</th>\n",
       "      <td>Dadra and Nagar Haveli and Daman and Diu</td>\n",
       "      <td>2520</td>\n",
       "      <td>2209</td>\n",
       "      <td>2</td>\n",
       "      <td>285</td>\n",
       "      <td>05/09/2020 15:21:27</td>\n",
       "      <td>24</td>\n",
       "      <td>DN</td>\n",
       "      <td>10</td>\n",
       "      <td>7</td>\n",
       "      <td>0</td>\n",
       "      <td>NaN</td>\n",
       "    </tr>\n",
       "    <tr>\n",
       "      <th>33</th>\n",
       "      <td>Meghalaya</td>\n",
       "      <td>2734</td>\n",
       "      <td>1468</td>\n",
       "      <td>14</td>\n",
       "      <td>1252</td>\n",
       "      <td>04/09/2020 20:28:36</td>\n",
       "      <td>0</td>\n",
       "      <td>ML</td>\n",
       "      <td>0</td>\n",
       "      <td>0</td>\n",
       "      <td>0</td>\n",
       "      <td>[June 17]:\\nOne case was identified to be fals...</td>\n",
       "    </tr>\n",
       "    <tr>\n",
       "      <th>34</th>\n",
       "      <td>Sikkim</td>\n",
       "      <td>1843</td>\n",
       "      <td>1321</td>\n",
       "      <td>5</td>\n",
       "      <td>509</td>\n",
       "      <td>05/09/2020 00:02:38</td>\n",
       "      <td>8</td>\n",
       "      <td>SK</td>\n",
       "      <td>0</td>\n",
       "      <td>0</td>\n",
       "      <td>0</td>\n",
       "      <td>NaN</td>\n",
       "    </tr>\n",
       "    <tr>\n",
       "      <th>35</th>\n",
       "      <td>Mizoram</td>\n",
       "      <td>1062</td>\n",
       "      <td>713</td>\n",
       "      <td>0</td>\n",
       "      <td>349</td>\n",
       "      <td>05/09/2020 17:18:23</td>\n",
       "      <td>0</td>\n",
       "      <td>MZ</td>\n",
       "      <td>16</td>\n",
       "      <td>32</td>\n",
       "      <td>0</td>\n",
       "      <td>NaN</td>\n",
       "    </tr>\n",
       "    <tr>\n",
       "      <th>36</th>\n",
       "      <td>State Unassigned</td>\n",
       "      <td>0</td>\n",
       "      <td>0</td>\n",
       "      <td>0</td>\n",
       "      <td>0</td>\n",
       "      <td>19/07/2020 09:40:01</td>\n",
       "      <td>0</td>\n",
       "      <td>UN</td>\n",
       "      <td>0</td>\n",
       "      <td>0</td>\n",
       "      <td>0</td>\n",
       "      <td>MoHFW website reports that these are the 'case...</td>\n",
       "    </tr>\n",
       "    <tr>\n",
       "      <th>37</th>\n",
       "      <td>Lakshadweep</td>\n",
       "      <td>0</td>\n",
       "      <td>0</td>\n",
       "      <td>0</td>\n",
       "      <td>0</td>\n",
       "      <td>26/03/2020 07:19:29</td>\n",
       "      <td>0</td>\n",
       "      <td>LD</td>\n",
       "      <td>0</td>\n",
       "      <td>0</td>\n",
       "      <td>0</td>\n",
       "      <td>NaN</td>\n",
       "    </tr>\n",
       "  </tbody>\n",
       "</table>\n",
       "</div>"
      ],
      "text/plain": [
       "                                       State  Confirmed  Recovered  Deaths  \\\n",
       "0                                      Total    4037711    3115588   69791   \n",
       "1                                Maharashtra     863062     625773   25964   \n",
       "2                                 Tamil Nadu     451827     392507    7687   \n",
       "3                             Andhra Pradesh     476506     370163    4276   \n",
       "4                                  Karnataka     379486     274196    6170   \n",
       "5                                      Delhi     185220     161865    4513   \n",
       "6                              Uttar Pradesh     259765     195959    3843   \n",
       "7                                West Bengal     174659     147553    3452   \n",
       "8                                      Bihar     145861     128376     750   \n",
       "9                                  Telangana     138395     104603     877   \n",
       "10                                   Gujarat     101695      82498    3076   \n",
       "11                                     Assam     121225      92718     345   \n",
       "12                                 Rajasthan      88515      71990    1116   \n",
       "13                                    Odisha     120221      90331     591   \n",
       "14                                   Haryana      71983      57171     759   \n",
       "15                            Madhya Pradesh      70244      53257    1513   \n",
       "16                                    Kerala      82105      60444     327   \n",
       "17                                    Punjab      60013      42543    1739   \n",
       "18                         Jammu and Kashmir      42241      31924     770   \n",
       "19                                 Jharkhand      48039      32043     447   \n",
       "20                              Chhattisgarh      40634      19608     337   \n",
       "21                               Uttarakhand      23011      15447     312   \n",
       "22                                       Goa      19863      14747     220   \n",
       "23                                   Tripura      14524       8483     136   \n",
       "24                                Puducherry      16566      11107     298   \n",
       "25                                   Manipur       6699       4899      35   \n",
       "26                          Himachal Pradesh       6830       4920      49   \n",
       "27                                  Nagaland       4128       3419       8   \n",
       "28                         Arunachal Pradesh       4775       3280       8   \n",
       "29               Andaman and Nicobar Islands       3257       2863      49   \n",
       "30                                    Ladakh       2935       2085      35   \n",
       "31                                Chandigarh       5268       3105      68   \n",
       "32  Dadra and Nagar Haveli and Daman and Diu       2520       2209       2   \n",
       "33                                 Meghalaya       2734       1468      14   \n",
       "34                                    Sikkim       1843       1321       5   \n",
       "35                                   Mizoram       1062        713       0   \n",
       "36                          State Unassigned          0          0       0   \n",
       "37                               Lakshadweep          0          0       0   \n",
       "\n",
       "    Active    Last_Updated_Time  Migrated_Other State_code  Delta_Confirmed  \\\n",
       "0   851716  05/09/2020 18:29:26             616         TT            17472   \n",
       "1   210978  04/09/2020 22:02:29             347         MH                0   \n",
       "2    51633  04/09/2020 19:40:49               0         TN                0   \n",
       "3   102067  04/09/2020 19:12:36               0         AP                0   \n",
       "4    99101  04/09/2020 20:28:28              19         KA                0   \n",
       "5    18842  04/09/2020 18:58:28               0         DL                0   \n",
       "6    59963  05/09/2020 16:14:24               0         UP             6590   \n",
       "7    23654  04/09/2020 20:08:28               0         WB                0   \n",
       "8    16734  05/09/2020 18:29:28               1         BR             1727   \n",
       "9    32915  05/09/2020 10:23:30               0         TG             2511   \n",
       "10   16121  04/09/2020 20:17:39               0         GJ                0   \n",
       "11   28159  05/09/2020 00:02:27               3         AS                0   \n",
       "12   15409  05/09/2020 11:55:23               0         RJ              718   \n",
       "13   29299  05/09/2020 12:54:25               0         OR             3543   \n",
       "14   14053  04/09/2020 19:46:27               0         HR                0   \n",
       "15   15474  04/09/2020 19:46:33               0         MP                0   \n",
       "16   21268  04/09/2020 20:45:28              66         KL                0   \n",
       "17   15731  04/09/2020 20:08:34               0         PB                0   \n",
       "18    9547  05/09/2020 18:29:31               0         JK             1251   \n",
       "19   15549  04/09/2020 23:23:32               0         JH                0   \n",
       "20   20689  04/09/2020 23:47:30               0         CT                0   \n",
       "21    7187  04/09/2020 22:19:36              65         UT                0   \n",
       "22    4896  04/09/2020 22:46:31               0         GA                0   \n",
       "23    5884  05/09/2020 12:28:29              21         TR              691   \n",
       "24    5161  05/09/2020 18:29:33               0         PY              394   \n",
       "25    1765  04/09/2020 20:08:37               0         MN                0   \n",
       "26    1814  05/09/2020 00:02:34              47         HP                0   \n",
       "27     689  05/09/2020 16:14:27              12         NL               21   \n",
       "28    1487  04/09/2020 22:19:39               0         AR                0   \n",
       "29     345  04/09/2020 22:17:38               0         AN                0   \n",
       "30     815  04/09/2020 22:58:28               0         LA                0   \n",
       "31    2092  04/09/2020 19:41:32               3         CH                0   \n",
       "32     285  05/09/2020 15:21:27              24         DN               10   \n",
       "33    1252  04/09/2020 20:28:36               0         ML                0   \n",
       "34     509  05/09/2020 00:02:38               8         SK                0   \n",
       "35     349  05/09/2020 17:18:23               0         MZ               16   \n",
       "36       0  19/07/2020 09:40:01               0         UN                0   \n",
       "37       0  26/03/2020 07:19:29               0         LD                0   \n",
       "\n",
       "    Delta_Recovered  Delta_Deaths  \\\n",
       "0             11076           156   \n",
       "1                 0             0   \n",
       "2                 0             0   \n",
       "3                 0             0   \n",
       "4                 0             0   \n",
       "5                 0             0   \n",
       "6              5141            81   \n",
       "7                 0             0   \n",
       "8              1965             9   \n",
       "9              2579            11   \n",
       "10                0             0   \n",
       "11                0             0   \n",
       "12               91             8   \n",
       "13                0             7   \n",
       "14                0             0   \n",
       "15                0             0   \n",
       "16                0             0   \n",
       "17                0             0   \n",
       "18              489            15   \n",
       "19                0             0   \n",
       "20                0             0   \n",
       "21                0             0   \n",
       "22                0             0   \n",
       "23              271             7   \n",
       "24              433            18   \n",
       "25                0             0   \n",
       "26                0             0   \n",
       "27               68             0   \n",
       "28                0             0   \n",
       "29                0             0   \n",
       "30                0             0   \n",
       "31                0             0   \n",
       "32                7             0   \n",
       "33                0             0   \n",
       "34                0             0   \n",
       "35               32             0   \n",
       "36                0             0   \n",
       "37                0             0   \n",
       "\n",
       "                                          State_Notes  \n",
       "0                                                 NaN  \n",
       "1   347 cases are marked as non-covid deaths in MH...  \n",
       "2   [July 22]: 444 backdated deceased entries adde...  \n",
       "3   Total includes patients from other states and ...  \n",
       "4                                                 NaN  \n",
       "5   [July 14]: Value for the total tests conducted...  \n",
       "6                                                 NaN  \n",
       "7                                                 NaN  \n",
       "8                                                 NaN  \n",
       "9   [July 27]\\nTelangana bulletin for the previous...  \n",
       "10                                                NaN  \n",
       "11                      Includes 1 case from Nagaland  \n",
       "12                                                NaN  \n",
       "13  [July 12th] 20 non-covid deaths reported in st...  \n",
       "14  [Aug 2]: 21 Foreign Evacuees have been merged ...  \n",
       "15                                                NaN  \n",
       "16  Mahe native who expired in Kannur included in ...  \n",
       "17                                                NaN  \n",
       "18                                                NaN  \n",
       "19                                                NaN  \n",
       "20                                                NaN  \n",
       "21                                                NaN  \n",
       "22                                                NaN  \n",
       "23  [Aug 4]\\nTripura bulletin for the previous day...  \n",
       "24                                                NaN  \n",
       "25                                                NaN  \n",
       "26  Death of Tibetan refugee is included in deceas...  \n",
       "27                                                NaN  \n",
       "28  [July 25]: All numbers corresponding to Papum ...  \n",
       "29                                                NaN  \n",
       "30                                                NaN  \n",
       "31                                                NaN  \n",
       "32                                                NaN  \n",
       "33  [June 17]:\\nOne case was identified to be fals...  \n",
       "34                                                NaN  \n",
       "35                                                NaN  \n",
       "36  MoHFW website reports that these are the 'case...  \n",
       "37                                                NaN  "
      ]
     },
     "execution_count": 3,
     "metadata": {},
     "output_type": "execute_result"
    }
   ],
   "source": [
    "df= pd.read_csv(\"https://api.covid19india.org/csv/latest/state_wise.csv\")\n",
    "df"
   ]
  },
  {
   "cell_type": "code",
   "execution_count": 4,
   "metadata": {},
   "outputs": [],
   "source": [
    "df.drop(['Last_Updated_Time', 'Delta_Confirmed','State_Notes', 'Delta_Deaths','Delta_Recovered'],axis= 1,inplace= True)\n"
   ]
  },
  {
   "cell_type": "code",
   "execution_count": null,
   "metadata": {},
   "outputs": [],
   "source": []
  },
  {
   "cell_type": "code",
   "execution_count": null,
   "metadata": {},
   "outputs": [],
   "source": []
  },
  {
   "cell_type": "code",
   "execution_count": 5,
   "metadata": {},
   "outputs": [
    {
     "data": {
      "text/html": [
       "<style  type=\"text/css\" >\n",
       "    #T_5aa5ce46_ef7a_11ea_b32c_acd5641be5f4row0_col1 {\n",
       "            background-color:  #67000d;\n",
       "            color:  #f1f1f1;\n",
       "        }    #T_5aa5ce46_ef7a_11ea_b32c_acd5641be5f4row0_col2 {\n",
       "            background-color:  #67000d;\n",
       "            color:  #f1f1f1;\n",
       "        }    #T_5aa5ce46_ef7a_11ea_b32c_acd5641be5f4row0_col3 {\n",
       "            background-color:  #67000d;\n",
       "            color:  #f1f1f1;\n",
       "        }    #T_5aa5ce46_ef7a_11ea_b32c_acd5641be5f4row0_col4 {\n",
       "            background-color:  #67000d;\n",
       "            color:  #f1f1f1;\n",
       "        }    #T_5aa5ce46_ef7a_11ea_b32c_acd5641be5f4row0_col5 {\n",
       "            background-color:  #67000d;\n",
       "            color:  #f1f1f1;\n",
       "        }    #T_5aa5ce46_ef7a_11ea_b32c_acd5641be5f4row1_col1 {\n",
       "            background-color:  #fdc6b0;\n",
       "            color:  #000000;\n",
       "        }    #T_5aa5ce46_ef7a_11ea_b32c_acd5641be5f4row1_col2 {\n",
       "            background-color:  #fdcab5;\n",
       "            color:  #000000;\n",
       "        }    #T_5aa5ce46_ef7a_11ea_b32c_acd5641be5f4row1_col3 {\n",
       "            background-color:  #fc9373;\n",
       "            color:  #000000;\n",
       "        }    #T_5aa5ce46_ef7a_11ea_b32c_acd5641be5f4row1_col4 {\n",
       "            background-color:  #fcbca2;\n",
       "            color:  #000000;\n",
       "        }    #T_5aa5ce46_ef7a_11ea_b32c_acd5641be5f4row1_col5 {\n",
       "            background-color:  #f5523a;\n",
       "            color:  #000000;\n",
       "        }    #T_5aa5ce46_ef7a_11ea_b32c_acd5641be5f4row2_col1 {\n",
       "            background-color:  #fee3d6;\n",
       "            color:  #000000;\n",
       "        }    #T_5aa5ce46_ef7a_11ea_b32c_acd5641be5f4row2_col2 {\n",
       "            background-color:  #fee0d2;\n",
       "            color:  #000000;\n",
       "        }    #T_5aa5ce46_ef7a_11ea_b32c_acd5641be5f4row2_col3 {\n",
       "            background-color:  #fee3d6;\n",
       "            color:  #000000;\n",
       "        }    #T_5aa5ce46_ef7a_11ea_b32c_acd5641be5f4row2_col4 {\n",
       "            background-color:  #ffebe2;\n",
       "            color:  #000000;\n",
       "        }    #T_5aa5ce46_ef7a_11ea_b32c_acd5641be5f4row2_col5 {\n",
       "            background-color:  #fff5f0;\n",
       "            color:  #000000;\n",
       "        }    #T_5aa5ce46_ef7a_11ea_b32c_acd5641be5f4row3_col1 {\n",
       "            background-color:  #fee1d4;\n",
       "            color:  #000000;\n",
       "        }    #T_5aa5ce46_ef7a_11ea_b32c_acd5641be5f4row3_col2 {\n",
       "            background-color:  #fee1d4;\n",
       "            color:  #000000;\n",
       "        }    #T_5aa5ce46_ef7a_11ea_b32c_acd5641be5f4row3_col3 {\n",
       "            background-color:  #ffebe2;\n",
       "            color:  #000000;\n",
       "        }    #T_5aa5ce46_ef7a_11ea_b32c_acd5641be5f4row3_col4 {\n",
       "            background-color:  #fee1d4;\n",
       "            color:  #000000;\n",
       "        }    #T_5aa5ce46_ef7a_11ea_b32c_acd5641be5f4row3_col5 {\n",
       "            background-color:  #fff5f0;\n",
       "            color:  #000000;\n",
       "        }    #T_5aa5ce46_ef7a_11ea_b32c_acd5641be5f4row4_col1 {\n",
       "            background-color:  #fee5d9;\n",
       "            color:  #000000;\n",
       "        }    #T_5aa5ce46_ef7a_11ea_b32c_acd5641be5f4row4_col2 {\n",
       "            background-color:  #fee7db;\n",
       "            color:  #000000;\n",
       "        }    #T_5aa5ce46_ef7a_11ea_b32c_acd5641be5f4row4_col3 {\n",
       "            background-color:  #fee7db;\n",
       "            color:  #000000;\n",
       "        }    #T_5aa5ce46_ef7a_11ea_b32c_acd5641be5f4row4_col4 {\n",
       "            background-color:  #fee2d5;\n",
       "            color:  #000000;\n",
       "        }    #T_5aa5ce46_ef7a_11ea_b32c_acd5641be5f4row4_col5 {\n",
       "            background-color:  #fff0e9;\n",
       "            color:  #000000;\n",
       "        }    #T_5aa5ce46_ef7a_11ea_b32c_acd5641be5f4row5_col1 {\n",
       "            background-color:  #ffeee6;\n",
       "            color:  #000000;\n",
       "        }    #T_5aa5ce46_ef7a_11ea_b32c_acd5641be5f4row5_col2 {\n",
       "            background-color:  #ffece4;\n",
       "            color:  #000000;\n",
       "        }    #T_5aa5ce46_ef7a_11ea_b32c_acd5641be5f4row5_col3 {\n",
       "            background-color:  #feeae1;\n",
       "            color:  #000000;\n",
       "        }    #T_5aa5ce46_ef7a_11ea_b32c_acd5641be5f4row5_col4 {\n",
       "            background-color:  #fff2eb;\n",
       "            color:  #000000;\n",
       "        }    #T_5aa5ce46_ef7a_11ea_b32c_acd5641be5f4row5_col5 {\n",
       "            background-color:  #fff5f0;\n",
       "            color:  #000000;\n",
       "        }    #T_5aa5ce46_ef7a_11ea_b32c_acd5641be5f4row6_col1 {\n",
       "            background-color:  #feeae1;\n",
       "            color:  #000000;\n",
       "        }    #T_5aa5ce46_ef7a_11ea_b32c_acd5641be5f4row6_col2 {\n",
       "            background-color:  #feeae1;\n",
       "            color:  #000000;\n",
       "        }    #T_5aa5ce46_ef7a_11ea_b32c_acd5641be5f4row6_col3 {\n",
       "            background-color:  #ffece3;\n",
       "            color:  #000000;\n",
       "        }    #T_5aa5ce46_ef7a_11ea_b32c_acd5641be5f4row6_col4 {\n",
       "            background-color:  #fee9df;\n",
       "            color:  #000000;\n",
       "        }    #T_5aa5ce46_ef7a_11ea_b32c_acd5641be5f4row6_col5 {\n",
       "            background-color:  #fff5f0;\n",
       "            color:  #000000;\n",
       "        }    #T_5aa5ce46_ef7a_11ea_b32c_acd5641be5f4row7_col1 {\n",
       "            background-color:  #ffeee6;\n",
       "            color:  #000000;\n",
       "        }    #T_5aa5ce46_ef7a_11ea_b32c_acd5641be5f4row7_col2 {\n",
       "            background-color:  #ffede5;\n",
       "            color:  #000000;\n",
       "        }    #T_5aa5ce46_ef7a_11ea_b32c_acd5641be5f4row7_col3 {\n",
       "            background-color:  #ffede5;\n",
       "            color:  #000000;\n",
       "        }    #T_5aa5ce46_ef7a_11ea_b32c_acd5641be5f4row7_col4 {\n",
       "            background-color:  #fff0e9;\n",
       "            color:  #000000;\n",
       "        }    #T_5aa5ce46_ef7a_11ea_b32c_acd5641be5f4row7_col5 {\n",
       "            background-color:  #fff5f0;\n",
       "            color:  #000000;\n",
       "        }    #T_5aa5ce46_ef7a_11ea_b32c_acd5641be5f4row8_col1 {\n",
       "            background-color:  #ffefe8;\n",
       "            color:  #000000;\n",
       "        }    #T_5aa5ce46_ef7a_11ea_b32c_acd5641be5f4row8_col2 {\n",
       "            background-color:  #ffeee7;\n",
       "            color:  #000000;\n",
       "        }    #T_5aa5ce46_ef7a_11ea_b32c_acd5641be5f4row8_col3 {\n",
       "            background-color:  #fff4ee;\n",
       "            color:  #000000;\n",
       "        }    #T_5aa5ce46_ef7a_11ea_b32c_acd5641be5f4row8_col4 {\n",
       "            background-color:  #fff2eb;\n",
       "            color:  #000000;\n",
       "        }    #T_5aa5ce46_ef7a_11ea_b32c_acd5641be5f4row8_col5 {\n",
       "            background-color:  #fff5f0;\n",
       "            color:  #000000;\n",
       "        }    #T_5aa5ce46_ef7a_11ea_b32c_acd5641be5f4row9_col1 {\n",
       "            background-color:  #fff0e8;\n",
       "            color:  #000000;\n",
       "        }    #T_5aa5ce46_ef7a_11ea_b32c_acd5641be5f4row9_col2 {\n",
       "            background-color:  #fff0e8;\n",
       "            color:  #000000;\n",
       "        }    #T_5aa5ce46_ef7a_11ea_b32c_acd5641be5f4row9_col3 {\n",
       "            background-color:  #fff3ed;\n",
       "            color:  #000000;\n",
       "        }    #T_5aa5ce46_ef7a_11ea_b32c_acd5641be5f4row9_col4 {\n",
       "            background-color:  #ffefe8;\n",
       "            color:  #000000;\n",
       "        }    #T_5aa5ce46_ef7a_11ea_b32c_acd5641be5f4row9_col5 {\n",
       "            background-color:  #fff5f0;\n",
       "            color:  #000000;\n",
       "        }    #T_5aa5ce46_ef7a_11ea_b32c_acd5641be5f4row10_col1 {\n",
       "            background-color:  #fff1ea;\n",
       "            color:  #000000;\n",
       "        }    #T_5aa5ce46_ef7a_11ea_b32c_acd5641be5f4row10_col2 {\n",
       "            background-color:  #fff1ea;\n",
       "            color:  #000000;\n",
       "        }    #T_5aa5ce46_ef7a_11ea_b32c_acd5641be5f4row10_col3 {\n",
       "            background-color:  #ffeee6;\n",
       "            color:  #000000;\n",
       "        }    #T_5aa5ce46_ef7a_11ea_b32c_acd5641be5f4row10_col4 {\n",
       "            background-color:  #fff2ec;\n",
       "            color:  #000000;\n",
       "        }    #T_5aa5ce46_ef7a_11ea_b32c_acd5641be5f4row10_col5 {\n",
       "            background-color:  #fff5f0;\n",
       "            color:  #000000;\n",
       "        }    #T_5aa5ce46_ef7a_11ea_b32c_acd5641be5f4row11_col1 {\n",
       "            background-color:  #fff0e9;\n",
       "            color:  #000000;\n",
       "        }    #T_5aa5ce46_ef7a_11ea_b32c_acd5641be5f4row11_col2 {\n",
       "            background-color:  #fff0e9;\n",
       "            color:  #000000;\n",
       "        }    #T_5aa5ce46_ef7a_11ea_b32c_acd5641be5f4row11_col3 {\n",
       "            background-color:  #fff4ef;\n",
       "            color:  #000000;\n",
       "        }    #T_5aa5ce46_ef7a_11ea_b32c_acd5641be5f4row11_col4 {\n",
       "            background-color:  #fff0e8;\n",
       "            color:  #000000;\n",
       "        }    #T_5aa5ce46_ef7a_11ea_b32c_acd5641be5f4row11_col5 {\n",
       "            background-color:  #fff4ef;\n",
       "            color:  #000000;\n",
       "        }    #T_5aa5ce46_ef7a_11ea_b32c_acd5641be5f4row12_col1 {\n",
       "            background-color:  #fff2eb;\n",
       "            color:  #000000;\n",
       "        }    #T_5aa5ce46_ef7a_11ea_b32c_acd5641be5f4row12_col2 {\n",
       "            background-color:  #fff2eb;\n",
       "            color:  #000000;\n",
       "        }    #T_5aa5ce46_ef7a_11ea_b32c_acd5641be5f4row12_col3 {\n",
       "            background-color:  #fff2ec;\n",
       "            color:  #000000;\n",
       "        }    #T_5aa5ce46_ef7a_11ea_b32c_acd5641be5f4row12_col4 {\n",
       "            background-color:  #fff2ec;\n",
       "            color:  #000000;\n",
       "        }    #T_5aa5ce46_ef7a_11ea_b32c_acd5641be5f4row12_col5 {\n",
       "            background-color:  #fff5f0;\n",
       "            color:  #000000;\n",
       "        }    #T_5aa5ce46_ef7a_11ea_b32c_acd5641be5f4row13_col1 {\n",
       "            background-color:  #fff0e9;\n",
       "            color:  #000000;\n",
       "        }    #T_5aa5ce46_ef7a_11ea_b32c_acd5641be5f4row13_col2 {\n",
       "            background-color:  #fff0e9;\n",
       "            color:  #000000;\n",
       "        }    #T_5aa5ce46_ef7a_11ea_b32c_acd5641be5f4row13_col3 {\n",
       "            background-color:  #fff4ee;\n",
       "            color:  #000000;\n",
       "        }    #T_5aa5ce46_ef7a_11ea_b32c_acd5641be5f4row13_col4 {\n",
       "            background-color:  #fff0e8;\n",
       "            color:  #000000;\n",
       "        }    #T_5aa5ce46_ef7a_11ea_b32c_acd5641be5f4row13_col5 {\n",
       "            background-color:  #fff5f0;\n",
       "            color:  #000000;\n",
       "        }    #T_5aa5ce46_ef7a_11ea_b32c_acd5641be5f4row14_col1 {\n",
       "            background-color:  #fff2ec;\n",
       "            color:  #000000;\n",
       "        }    #T_5aa5ce46_ef7a_11ea_b32c_acd5641be5f4row14_col2 {\n",
       "            background-color:  #fff2ec;\n",
       "            color:  #000000;\n",
       "        }    #T_5aa5ce46_ef7a_11ea_b32c_acd5641be5f4row14_col3 {\n",
       "            background-color:  #fff4ee;\n",
       "            color:  #000000;\n",
       "        }    #T_5aa5ce46_ef7a_11ea_b32c_acd5641be5f4row14_col4 {\n",
       "            background-color:  #fff2ec;\n",
       "            color:  #000000;\n",
       "        }    #T_5aa5ce46_ef7a_11ea_b32c_acd5641be5f4row14_col5 {\n",
       "            background-color:  #fff5f0;\n",
       "            color:  #000000;\n",
       "        }    #T_5aa5ce46_ef7a_11ea_b32c_acd5641be5f4row15_col1 {\n",
       "            background-color:  #fff2ec;\n",
       "            color:  #000000;\n",
       "        }    #T_5aa5ce46_ef7a_11ea_b32c_acd5641be5f4row15_col2 {\n",
       "            background-color:  #fff2ec;\n",
       "            color:  #000000;\n",
       "        }    #T_5aa5ce46_ef7a_11ea_b32c_acd5641be5f4row15_col3 {\n",
       "            background-color:  #fff2eb;\n",
       "            color:  #000000;\n",
       "        }    #T_5aa5ce46_ef7a_11ea_b32c_acd5641be5f4row15_col4 {\n",
       "            background-color:  #fff2ec;\n",
       "            color:  #000000;\n",
       "        }    #T_5aa5ce46_ef7a_11ea_b32c_acd5641be5f4row15_col5 {\n",
       "            background-color:  #fff5f0;\n",
       "            color:  #000000;\n",
       "        }    #T_5aa5ce46_ef7a_11ea_b32c_acd5641be5f4row16_col1 {\n",
       "            background-color:  #fff2eb;\n",
       "            color:  #000000;\n",
       "        }    #T_5aa5ce46_ef7a_11ea_b32c_acd5641be5f4row16_col2 {\n",
       "            background-color:  #fff2ec;\n",
       "            color:  #000000;\n",
       "        }    #T_5aa5ce46_ef7a_11ea_b32c_acd5641be5f4row16_col3 {\n",
       "            background-color:  #fff4ef;\n",
       "            color:  #000000;\n",
       "        }    #T_5aa5ce46_ef7a_11ea_b32c_acd5641be5f4row16_col4 {\n",
       "            background-color:  #fff1ea;\n",
       "            color:  #000000;\n",
       "        }    #T_5aa5ce46_ef7a_11ea_b32c_acd5641be5f4row16_col5 {\n",
       "            background-color:  #fee3d7;\n",
       "            color:  #000000;\n",
       "        }    #T_5aa5ce46_ef7a_11ea_b32c_acd5641be5f4row17_col1 {\n",
       "            background-color:  #fff3ed;\n",
       "            color:  #000000;\n",
       "        }    #T_5aa5ce46_ef7a_11ea_b32c_acd5641be5f4row17_col2 {\n",
       "            background-color:  #fff3ed;\n",
       "            color:  #000000;\n",
       "        }    #T_5aa5ce46_ef7a_11ea_b32c_acd5641be5f4row17_col3 {\n",
       "            background-color:  #fff1ea;\n",
       "            color:  #000000;\n",
       "        }    #T_5aa5ce46_ef7a_11ea_b32c_acd5641be5f4row17_col4 {\n",
       "            background-color:  #fff2ec;\n",
       "            color:  #000000;\n",
       "        }    #T_5aa5ce46_ef7a_11ea_b32c_acd5641be5f4row17_col5 {\n",
       "            background-color:  #fff5f0;\n",
       "            color:  #000000;\n",
       "        }    #T_5aa5ce46_ef7a_11ea_b32c_acd5641be5f4row18_col1 {\n",
       "            background-color:  #fff4ee;\n",
       "            color:  #000000;\n",
       "        }    #T_5aa5ce46_ef7a_11ea_b32c_acd5641be5f4row18_col2 {\n",
       "            background-color:  #fff4ee;\n",
       "            color:  #000000;\n",
       "        }    #T_5aa5ce46_ef7a_11ea_b32c_acd5641be5f4row18_col3 {\n",
       "            background-color:  #fff4ee;\n",
       "            color:  #000000;\n",
       "        }    #T_5aa5ce46_ef7a_11ea_b32c_acd5641be5f4row18_col4 {\n",
       "            background-color:  #fff4ee;\n",
       "            color:  #000000;\n",
       "        }    #T_5aa5ce46_ef7a_11ea_b32c_acd5641be5f4row18_col5 {\n",
       "            background-color:  #fff5f0;\n",
       "            color:  #000000;\n",
       "        }    #T_5aa5ce46_ef7a_11ea_b32c_acd5641be5f4row19_col1 {\n",
       "            background-color:  #fff3ed;\n",
       "            color:  #000000;\n",
       "        }    #T_5aa5ce46_ef7a_11ea_b32c_acd5641be5f4row19_col2 {\n",
       "            background-color:  #fff4ee;\n",
       "            color:  #000000;\n",
       "        }    #T_5aa5ce46_ef7a_11ea_b32c_acd5641be5f4row19_col3 {\n",
       "            background-color:  #fff4ef;\n",
       "            color:  #000000;\n",
       "        }    #T_5aa5ce46_ef7a_11ea_b32c_acd5641be5f4row19_col4 {\n",
       "            background-color:  #fff2ec;\n",
       "            color:  #000000;\n",
       "        }    #T_5aa5ce46_ef7a_11ea_b32c_acd5641be5f4row19_col5 {\n",
       "            background-color:  #fff5f0;\n",
       "            color:  #000000;\n",
       "        }    #T_5aa5ce46_ef7a_11ea_b32c_acd5641be5f4row20_col1 {\n",
       "            background-color:  #fff4ee;\n",
       "            color:  #000000;\n",
       "        }    #T_5aa5ce46_ef7a_11ea_b32c_acd5641be5f4row20_col2 {\n",
       "            background-color:  #fff4ef;\n",
       "            color:  #000000;\n",
       "        }    #T_5aa5ce46_ef7a_11ea_b32c_acd5641be5f4row20_col3 {\n",
       "            background-color:  #fff4ef;\n",
       "            color:  #000000;\n",
       "        }    #T_5aa5ce46_ef7a_11ea_b32c_acd5641be5f4row20_col4 {\n",
       "            background-color:  #fff1ea;\n",
       "            color:  #000000;\n",
       "        }    #T_5aa5ce46_ef7a_11ea_b32c_acd5641be5f4row20_col5 {\n",
       "            background-color:  #fff5f0;\n",
       "            color:  #000000;\n",
       "        }    #T_5aa5ce46_ef7a_11ea_b32c_acd5641be5f4row21_col1 {\n",
       "            background-color:  #fff4ef;\n",
       "            color:  #000000;\n",
       "        }    #T_5aa5ce46_ef7a_11ea_b32c_acd5641be5f4row21_col2 {\n",
       "            background-color:  #fff4ef;\n",
       "            color:  #000000;\n",
       "        }    #T_5aa5ce46_ef7a_11ea_b32c_acd5641be5f4row21_col3 {\n",
       "            background-color:  #fff4ef;\n",
       "            color:  #000000;\n",
       "        }    #T_5aa5ce46_ef7a_11ea_b32c_acd5641be5f4row21_col4 {\n",
       "            background-color:  #fff4ee;\n",
       "            color:  #000000;\n",
       "        }    #T_5aa5ce46_ef7a_11ea_b32c_acd5641be5f4row21_col5 {\n",
       "            background-color:  #fee3d7;\n",
       "            color:  #000000;\n",
       "        }    #T_5aa5ce46_ef7a_11ea_b32c_acd5641be5f4row22_col1 {\n",
       "            background-color:  #fff4ef;\n",
       "            color:  #000000;\n",
       "        }    #T_5aa5ce46_ef7a_11ea_b32c_acd5641be5f4row22_col2 {\n",
       "            background-color:  #fff4ef;\n",
       "            color:  #000000;\n",
       "        }    #T_5aa5ce46_ef7a_11ea_b32c_acd5641be5f4row22_col3 {\n",
       "            background-color:  #fff5f0;\n",
       "            color:  #000000;\n",
       "        }    #T_5aa5ce46_ef7a_11ea_b32c_acd5641be5f4row22_col4 {\n",
       "            background-color:  #fff4ef;\n",
       "            color:  #000000;\n",
       "        }    #T_5aa5ce46_ef7a_11ea_b32c_acd5641be5f4row22_col5 {\n",
       "            background-color:  #fff5f0;\n",
       "            color:  #000000;\n",
       "        }    #T_5aa5ce46_ef7a_11ea_b32c_acd5641be5f4row23_col1 {\n",
       "            background-color:  #fff5f0;\n",
       "            color:  #000000;\n",
       "        }    #T_5aa5ce46_ef7a_11ea_b32c_acd5641be5f4row23_col2 {\n",
       "            background-color:  #fff5f0;\n",
       "            color:  #000000;\n",
       "        }    #T_5aa5ce46_ef7a_11ea_b32c_acd5641be5f4row23_col3 {\n",
       "            background-color:  #fff5f0;\n",
       "            color:  #000000;\n",
       "        }    #T_5aa5ce46_ef7a_11ea_b32c_acd5641be5f4row23_col4 {\n",
       "            background-color:  #fff4ef;\n",
       "            color:  #000000;\n",
       "        }    #T_5aa5ce46_ef7a_11ea_b32c_acd5641be5f4row23_col5 {\n",
       "            background-color:  #fff0e8;\n",
       "            color:  #000000;\n",
       "        }    #T_5aa5ce46_ef7a_11ea_b32c_acd5641be5f4row24_col1 {\n",
       "            background-color:  #fff4ef;\n",
       "            color:  #000000;\n",
       "        }    #T_5aa5ce46_ef7a_11ea_b32c_acd5641be5f4row24_col2 {\n",
       "            background-color:  #fff5f0;\n",
       "            color:  #000000;\n",
       "        }    #T_5aa5ce46_ef7a_11ea_b32c_acd5641be5f4row24_col3 {\n",
       "            background-color:  #fff4ef;\n",
       "            color:  #000000;\n",
       "        }    #T_5aa5ce46_ef7a_11ea_b32c_acd5641be5f4row24_col4 {\n",
       "            background-color:  #fff4ef;\n",
       "            color:  #000000;\n",
       "        }    #T_5aa5ce46_ef7a_11ea_b32c_acd5641be5f4row24_col5 {\n",
       "            background-color:  #fff5f0;\n",
       "            color:  #000000;\n",
       "        }    #T_5aa5ce46_ef7a_11ea_b32c_acd5641be5f4row25_col1 {\n",
       "            background-color:  #fff5f0;\n",
       "            color:  #000000;\n",
       "        }    #T_5aa5ce46_ef7a_11ea_b32c_acd5641be5f4row25_col2 {\n",
       "            background-color:  #fff5f0;\n",
       "            color:  #000000;\n",
       "        }    #T_5aa5ce46_ef7a_11ea_b32c_acd5641be5f4row25_col3 {\n",
       "            background-color:  #fff5f0;\n",
       "            color:  #000000;\n",
       "        }    #T_5aa5ce46_ef7a_11ea_b32c_acd5641be5f4row25_col4 {\n",
       "            background-color:  #fff5f0;\n",
       "            color:  #000000;\n",
       "        }    #T_5aa5ce46_ef7a_11ea_b32c_acd5641be5f4row25_col5 {\n",
       "            background-color:  #fff5f0;\n",
       "            color:  #000000;\n",
       "        }    #T_5aa5ce46_ef7a_11ea_b32c_acd5641be5f4row26_col1 {\n",
       "            background-color:  #fff5f0;\n",
       "            color:  #000000;\n",
       "        }    #T_5aa5ce46_ef7a_11ea_b32c_acd5641be5f4row26_col2 {\n",
       "            background-color:  #fff5f0;\n",
       "            color:  #000000;\n",
       "        }    #T_5aa5ce46_ef7a_11ea_b32c_acd5641be5f4row26_col3 {\n",
       "            background-color:  #fff5f0;\n",
       "            color:  #000000;\n",
       "        }    #T_5aa5ce46_ef7a_11ea_b32c_acd5641be5f4row26_col4 {\n",
       "            background-color:  #fff5f0;\n",
       "            color:  #000000;\n",
       "        }    #T_5aa5ce46_ef7a_11ea_b32c_acd5641be5f4row26_col5 {\n",
       "            background-color:  #fee8de;\n",
       "            color:  #000000;\n",
       "        }    #T_5aa5ce46_ef7a_11ea_b32c_acd5641be5f4row27_col1 {\n",
       "            background-color:  #fff5f0;\n",
       "            color:  #000000;\n",
       "        }    #T_5aa5ce46_ef7a_11ea_b32c_acd5641be5f4row27_col2 {\n",
       "            background-color:  #fff5f0;\n",
       "            color:  #000000;\n",
       "        }    #T_5aa5ce46_ef7a_11ea_b32c_acd5641be5f4row27_col3 {\n",
       "            background-color:  #fff5f0;\n",
       "            color:  #000000;\n",
       "        }    #T_5aa5ce46_ef7a_11ea_b32c_acd5641be5f4row27_col4 {\n",
       "            background-color:  #fff5f0;\n",
       "            color:  #000000;\n",
       "        }    #T_5aa5ce46_ef7a_11ea_b32c_acd5641be5f4row27_col5 {\n",
       "            background-color:  #fff2ec;\n",
       "            color:  #000000;\n",
       "        }    #T_5aa5ce46_ef7a_11ea_b32c_acd5641be5f4row28_col1 {\n",
       "            background-color:  #fff5f0;\n",
       "            color:  #000000;\n",
       "        }    #T_5aa5ce46_ef7a_11ea_b32c_acd5641be5f4row28_col2 {\n",
       "            background-color:  #fff5f0;\n",
       "            color:  #000000;\n",
       "        }    #T_5aa5ce46_ef7a_11ea_b32c_acd5641be5f4row28_col3 {\n",
       "            background-color:  #fff5f0;\n",
       "            color:  #000000;\n",
       "        }    #T_5aa5ce46_ef7a_11ea_b32c_acd5641be5f4row28_col4 {\n",
       "            background-color:  #fff5f0;\n",
       "            color:  #000000;\n",
       "        }    #T_5aa5ce46_ef7a_11ea_b32c_acd5641be5f4row28_col5 {\n",
       "            background-color:  #fff5f0;\n",
       "            color:  #000000;\n",
       "        }    #T_5aa5ce46_ef7a_11ea_b32c_acd5641be5f4row29_col1 {\n",
       "            background-color:  #fff5f0;\n",
       "            color:  #000000;\n",
       "        }    #T_5aa5ce46_ef7a_11ea_b32c_acd5641be5f4row29_col2 {\n",
       "            background-color:  #fff5f0;\n",
       "            color:  #000000;\n",
       "        }    #T_5aa5ce46_ef7a_11ea_b32c_acd5641be5f4row29_col3 {\n",
       "            background-color:  #fff5f0;\n",
       "            color:  #000000;\n",
       "        }    #T_5aa5ce46_ef7a_11ea_b32c_acd5641be5f4row29_col4 {\n",
       "            background-color:  #fff5f0;\n",
       "            color:  #000000;\n",
       "        }    #T_5aa5ce46_ef7a_11ea_b32c_acd5641be5f4row29_col5 {\n",
       "            background-color:  #fff5f0;\n",
       "            color:  #000000;\n",
       "        }    #T_5aa5ce46_ef7a_11ea_b32c_acd5641be5f4row30_col1 {\n",
       "            background-color:  #fff5f0;\n",
       "            color:  #000000;\n",
       "        }    #T_5aa5ce46_ef7a_11ea_b32c_acd5641be5f4row30_col2 {\n",
       "            background-color:  #fff5f0;\n",
       "            color:  #000000;\n",
       "        }    #T_5aa5ce46_ef7a_11ea_b32c_acd5641be5f4row30_col3 {\n",
       "            background-color:  #fff5f0;\n",
       "            color:  #000000;\n",
       "        }    #T_5aa5ce46_ef7a_11ea_b32c_acd5641be5f4row30_col4 {\n",
       "            background-color:  #fff5f0;\n",
       "            color:  #000000;\n",
       "        }    #T_5aa5ce46_ef7a_11ea_b32c_acd5641be5f4row30_col5 {\n",
       "            background-color:  #fff5f0;\n",
       "            color:  #000000;\n",
       "        }    #T_5aa5ce46_ef7a_11ea_b32c_acd5641be5f4row31_col1 {\n",
       "            background-color:  #fff5f0;\n",
       "            color:  #000000;\n",
       "        }    #T_5aa5ce46_ef7a_11ea_b32c_acd5641be5f4row31_col2 {\n",
       "            background-color:  #fff5f0;\n",
       "            color:  #000000;\n",
       "        }    #T_5aa5ce46_ef7a_11ea_b32c_acd5641be5f4row31_col3 {\n",
       "            background-color:  #fff5f0;\n",
       "            color:  #000000;\n",
       "        }    #T_5aa5ce46_ef7a_11ea_b32c_acd5641be5f4row31_col4 {\n",
       "            background-color:  #fff5f0;\n",
       "            color:  #000000;\n",
       "        }    #T_5aa5ce46_ef7a_11ea_b32c_acd5641be5f4row31_col5 {\n",
       "            background-color:  #fff4ef;\n",
       "            color:  #000000;\n",
       "        }    #T_5aa5ce46_ef7a_11ea_b32c_acd5641be5f4row32_col1 {\n",
       "            background-color:  #fff5f0;\n",
       "            color:  #000000;\n",
       "        }    #T_5aa5ce46_ef7a_11ea_b32c_acd5641be5f4row32_col2 {\n",
       "            background-color:  #fff5f0;\n",
       "            color:  #000000;\n",
       "        }    #T_5aa5ce46_ef7a_11ea_b32c_acd5641be5f4row32_col3 {\n",
       "            background-color:  #fff5f0;\n",
       "            color:  #000000;\n",
       "        }    #T_5aa5ce46_ef7a_11ea_b32c_acd5641be5f4row32_col4 {\n",
       "            background-color:  #fff5f0;\n",
       "            color:  #000000;\n",
       "        }    #T_5aa5ce46_ef7a_11ea_b32c_acd5641be5f4row32_col5 {\n",
       "            background-color:  #ffefe8;\n",
       "            color:  #000000;\n",
       "        }    #T_5aa5ce46_ef7a_11ea_b32c_acd5641be5f4row33_col1 {\n",
       "            background-color:  #fff5f0;\n",
       "            color:  #000000;\n",
       "        }    #T_5aa5ce46_ef7a_11ea_b32c_acd5641be5f4row33_col2 {\n",
       "            background-color:  #fff5f0;\n",
       "            color:  #000000;\n",
       "        }    #T_5aa5ce46_ef7a_11ea_b32c_acd5641be5f4row33_col3 {\n",
       "            background-color:  #fff5f0;\n",
       "            color:  #000000;\n",
       "        }    #T_5aa5ce46_ef7a_11ea_b32c_acd5641be5f4row33_col4 {\n",
       "            background-color:  #fff5f0;\n",
       "            color:  #000000;\n",
       "        }    #T_5aa5ce46_ef7a_11ea_b32c_acd5641be5f4row33_col5 {\n",
       "            background-color:  #fff5f0;\n",
       "            color:  #000000;\n",
       "        }    #T_5aa5ce46_ef7a_11ea_b32c_acd5641be5f4row34_col1 {\n",
       "            background-color:  #fff5f0;\n",
       "            color:  #000000;\n",
       "        }    #T_5aa5ce46_ef7a_11ea_b32c_acd5641be5f4row34_col2 {\n",
       "            background-color:  #fff5f0;\n",
       "            color:  #000000;\n",
       "        }    #T_5aa5ce46_ef7a_11ea_b32c_acd5641be5f4row34_col3 {\n",
       "            background-color:  #fff5f0;\n",
       "            color:  #000000;\n",
       "        }    #T_5aa5ce46_ef7a_11ea_b32c_acd5641be5f4row34_col4 {\n",
       "            background-color:  #fff5f0;\n",
       "            color:  #000000;\n",
       "        }    #T_5aa5ce46_ef7a_11ea_b32c_acd5641be5f4row34_col5 {\n",
       "            background-color:  #fff3ed;\n",
       "            color:  #000000;\n",
       "        }    #T_5aa5ce46_ef7a_11ea_b32c_acd5641be5f4row35_col1 {\n",
       "            background-color:  #fff5f0;\n",
       "            color:  #000000;\n",
       "        }    #T_5aa5ce46_ef7a_11ea_b32c_acd5641be5f4row35_col2 {\n",
       "            background-color:  #fff5f0;\n",
       "            color:  #000000;\n",
       "        }    #T_5aa5ce46_ef7a_11ea_b32c_acd5641be5f4row35_col3 {\n",
       "            background-color:  #fff5f0;\n",
       "            color:  #000000;\n",
       "        }    #T_5aa5ce46_ef7a_11ea_b32c_acd5641be5f4row35_col4 {\n",
       "            background-color:  #fff5f0;\n",
       "            color:  #000000;\n",
       "        }    #T_5aa5ce46_ef7a_11ea_b32c_acd5641be5f4row35_col5 {\n",
       "            background-color:  #fff5f0;\n",
       "            color:  #000000;\n",
       "        }    #T_5aa5ce46_ef7a_11ea_b32c_acd5641be5f4row36_col1 {\n",
       "            background-color:  #fff5f0;\n",
       "            color:  #000000;\n",
       "        }    #T_5aa5ce46_ef7a_11ea_b32c_acd5641be5f4row36_col2 {\n",
       "            background-color:  #fff5f0;\n",
       "            color:  #000000;\n",
       "        }    #T_5aa5ce46_ef7a_11ea_b32c_acd5641be5f4row36_col3 {\n",
       "            background-color:  #fff5f0;\n",
       "            color:  #000000;\n",
       "        }    #T_5aa5ce46_ef7a_11ea_b32c_acd5641be5f4row36_col4 {\n",
       "            background-color:  #fff5f0;\n",
       "            color:  #000000;\n",
       "        }    #T_5aa5ce46_ef7a_11ea_b32c_acd5641be5f4row36_col5 {\n",
       "            background-color:  #fff5f0;\n",
       "            color:  #000000;\n",
       "        }    #T_5aa5ce46_ef7a_11ea_b32c_acd5641be5f4row37_col1 {\n",
       "            background-color:  #fff5f0;\n",
       "            color:  #000000;\n",
       "        }    #T_5aa5ce46_ef7a_11ea_b32c_acd5641be5f4row37_col2 {\n",
       "            background-color:  #fff5f0;\n",
       "            color:  #000000;\n",
       "        }    #T_5aa5ce46_ef7a_11ea_b32c_acd5641be5f4row37_col3 {\n",
       "            background-color:  #fff5f0;\n",
       "            color:  #000000;\n",
       "        }    #T_5aa5ce46_ef7a_11ea_b32c_acd5641be5f4row37_col4 {\n",
       "            background-color:  #fff5f0;\n",
       "            color:  #000000;\n",
       "        }    #T_5aa5ce46_ef7a_11ea_b32c_acd5641be5f4row37_col5 {\n",
       "            background-color:  #fff5f0;\n",
       "            color:  #000000;\n",
       "        }</style><table id=\"T_5aa5ce46_ef7a_11ea_b32c_acd5641be5f4\" ><thead>    <tr>        <th class=\"blank level0\" ></th>        <th class=\"col_heading level0 col0\" >State</th>        <th class=\"col_heading level0 col1\" >Confirmed</th>        <th class=\"col_heading level0 col2\" >Recovered</th>        <th class=\"col_heading level0 col3\" >Deaths</th>        <th class=\"col_heading level0 col4\" >Active</th>        <th class=\"col_heading level0 col5\" >Migrated_Other</th>        <th class=\"col_heading level0 col6\" >State_code</th>    </tr></thead><tbody>\n",
       "                <tr>\n",
       "                        <th id=\"T_5aa5ce46_ef7a_11ea_b32c_acd5641be5f4level0_row0\" class=\"row_heading level0 row0\" >0</th>\n",
       "                        <td id=\"T_5aa5ce46_ef7a_11ea_b32c_acd5641be5f4row0_col0\" class=\"data row0 col0\" >Total</td>\n",
       "                        <td id=\"T_5aa5ce46_ef7a_11ea_b32c_acd5641be5f4row0_col1\" class=\"data row0 col1\" >4037711</td>\n",
       "                        <td id=\"T_5aa5ce46_ef7a_11ea_b32c_acd5641be5f4row0_col2\" class=\"data row0 col2\" >3115588</td>\n",
       "                        <td id=\"T_5aa5ce46_ef7a_11ea_b32c_acd5641be5f4row0_col3\" class=\"data row0 col3\" >69791</td>\n",
       "                        <td id=\"T_5aa5ce46_ef7a_11ea_b32c_acd5641be5f4row0_col4\" class=\"data row0 col4\" >851716</td>\n",
       "                        <td id=\"T_5aa5ce46_ef7a_11ea_b32c_acd5641be5f4row0_col5\" class=\"data row0 col5\" >616</td>\n",
       "                        <td id=\"T_5aa5ce46_ef7a_11ea_b32c_acd5641be5f4row0_col6\" class=\"data row0 col6\" >TT</td>\n",
       "            </tr>\n",
       "            <tr>\n",
       "                        <th id=\"T_5aa5ce46_ef7a_11ea_b32c_acd5641be5f4level0_row1\" class=\"row_heading level0 row1\" >1</th>\n",
       "                        <td id=\"T_5aa5ce46_ef7a_11ea_b32c_acd5641be5f4row1_col0\" class=\"data row1 col0\" >Maharashtra</td>\n",
       "                        <td id=\"T_5aa5ce46_ef7a_11ea_b32c_acd5641be5f4row1_col1\" class=\"data row1 col1\" >863062</td>\n",
       "                        <td id=\"T_5aa5ce46_ef7a_11ea_b32c_acd5641be5f4row1_col2\" class=\"data row1 col2\" >625773</td>\n",
       "                        <td id=\"T_5aa5ce46_ef7a_11ea_b32c_acd5641be5f4row1_col3\" class=\"data row1 col3\" >25964</td>\n",
       "                        <td id=\"T_5aa5ce46_ef7a_11ea_b32c_acd5641be5f4row1_col4\" class=\"data row1 col4\" >210978</td>\n",
       "                        <td id=\"T_5aa5ce46_ef7a_11ea_b32c_acd5641be5f4row1_col5\" class=\"data row1 col5\" >347</td>\n",
       "                        <td id=\"T_5aa5ce46_ef7a_11ea_b32c_acd5641be5f4row1_col6\" class=\"data row1 col6\" >MH</td>\n",
       "            </tr>\n",
       "            <tr>\n",
       "                        <th id=\"T_5aa5ce46_ef7a_11ea_b32c_acd5641be5f4level0_row2\" class=\"row_heading level0 row2\" >2</th>\n",
       "                        <td id=\"T_5aa5ce46_ef7a_11ea_b32c_acd5641be5f4row2_col0\" class=\"data row2 col0\" >Tamil Nadu</td>\n",
       "                        <td id=\"T_5aa5ce46_ef7a_11ea_b32c_acd5641be5f4row2_col1\" class=\"data row2 col1\" >451827</td>\n",
       "                        <td id=\"T_5aa5ce46_ef7a_11ea_b32c_acd5641be5f4row2_col2\" class=\"data row2 col2\" >392507</td>\n",
       "                        <td id=\"T_5aa5ce46_ef7a_11ea_b32c_acd5641be5f4row2_col3\" class=\"data row2 col3\" >7687</td>\n",
       "                        <td id=\"T_5aa5ce46_ef7a_11ea_b32c_acd5641be5f4row2_col4\" class=\"data row2 col4\" >51633</td>\n",
       "                        <td id=\"T_5aa5ce46_ef7a_11ea_b32c_acd5641be5f4row2_col5\" class=\"data row2 col5\" >0</td>\n",
       "                        <td id=\"T_5aa5ce46_ef7a_11ea_b32c_acd5641be5f4row2_col6\" class=\"data row2 col6\" >TN</td>\n",
       "            </tr>\n",
       "            <tr>\n",
       "                        <th id=\"T_5aa5ce46_ef7a_11ea_b32c_acd5641be5f4level0_row3\" class=\"row_heading level0 row3\" >3</th>\n",
       "                        <td id=\"T_5aa5ce46_ef7a_11ea_b32c_acd5641be5f4row3_col0\" class=\"data row3 col0\" >Andhra Pradesh</td>\n",
       "                        <td id=\"T_5aa5ce46_ef7a_11ea_b32c_acd5641be5f4row3_col1\" class=\"data row3 col1\" >476506</td>\n",
       "                        <td id=\"T_5aa5ce46_ef7a_11ea_b32c_acd5641be5f4row3_col2\" class=\"data row3 col2\" >370163</td>\n",
       "                        <td id=\"T_5aa5ce46_ef7a_11ea_b32c_acd5641be5f4row3_col3\" class=\"data row3 col3\" >4276</td>\n",
       "                        <td id=\"T_5aa5ce46_ef7a_11ea_b32c_acd5641be5f4row3_col4\" class=\"data row3 col4\" >102067</td>\n",
       "                        <td id=\"T_5aa5ce46_ef7a_11ea_b32c_acd5641be5f4row3_col5\" class=\"data row3 col5\" >0</td>\n",
       "                        <td id=\"T_5aa5ce46_ef7a_11ea_b32c_acd5641be5f4row3_col6\" class=\"data row3 col6\" >AP</td>\n",
       "            </tr>\n",
       "            <tr>\n",
       "                        <th id=\"T_5aa5ce46_ef7a_11ea_b32c_acd5641be5f4level0_row4\" class=\"row_heading level0 row4\" >4</th>\n",
       "                        <td id=\"T_5aa5ce46_ef7a_11ea_b32c_acd5641be5f4row4_col0\" class=\"data row4 col0\" >Karnataka</td>\n",
       "                        <td id=\"T_5aa5ce46_ef7a_11ea_b32c_acd5641be5f4row4_col1\" class=\"data row4 col1\" >379486</td>\n",
       "                        <td id=\"T_5aa5ce46_ef7a_11ea_b32c_acd5641be5f4row4_col2\" class=\"data row4 col2\" >274196</td>\n",
       "                        <td id=\"T_5aa5ce46_ef7a_11ea_b32c_acd5641be5f4row4_col3\" class=\"data row4 col3\" >6170</td>\n",
       "                        <td id=\"T_5aa5ce46_ef7a_11ea_b32c_acd5641be5f4row4_col4\" class=\"data row4 col4\" >99101</td>\n",
       "                        <td id=\"T_5aa5ce46_ef7a_11ea_b32c_acd5641be5f4row4_col5\" class=\"data row4 col5\" >19</td>\n",
       "                        <td id=\"T_5aa5ce46_ef7a_11ea_b32c_acd5641be5f4row4_col6\" class=\"data row4 col6\" >KA</td>\n",
       "            </tr>\n",
       "            <tr>\n",
       "                        <th id=\"T_5aa5ce46_ef7a_11ea_b32c_acd5641be5f4level0_row5\" class=\"row_heading level0 row5\" >5</th>\n",
       "                        <td id=\"T_5aa5ce46_ef7a_11ea_b32c_acd5641be5f4row5_col0\" class=\"data row5 col0\" >Delhi</td>\n",
       "                        <td id=\"T_5aa5ce46_ef7a_11ea_b32c_acd5641be5f4row5_col1\" class=\"data row5 col1\" >185220</td>\n",
       "                        <td id=\"T_5aa5ce46_ef7a_11ea_b32c_acd5641be5f4row5_col2\" class=\"data row5 col2\" >161865</td>\n",
       "                        <td id=\"T_5aa5ce46_ef7a_11ea_b32c_acd5641be5f4row5_col3\" class=\"data row5 col3\" >4513</td>\n",
       "                        <td id=\"T_5aa5ce46_ef7a_11ea_b32c_acd5641be5f4row5_col4\" class=\"data row5 col4\" >18842</td>\n",
       "                        <td id=\"T_5aa5ce46_ef7a_11ea_b32c_acd5641be5f4row5_col5\" class=\"data row5 col5\" >0</td>\n",
       "                        <td id=\"T_5aa5ce46_ef7a_11ea_b32c_acd5641be5f4row5_col6\" class=\"data row5 col6\" >DL</td>\n",
       "            </tr>\n",
       "            <tr>\n",
       "                        <th id=\"T_5aa5ce46_ef7a_11ea_b32c_acd5641be5f4level0_row6\" class=\"row_heading level0 row6\" >6</th>\n",
       "                        <td id=\"T_5aa5ce46_ef7a_11ea_b32c_acd5641be5f4row6_col0\" class=\"data row6 col0\" >Uttar Pradesh</td>\n",
       "                        <td id=\"T_5aa5ce46_ef7a_11ea_b32c_acd5641be5f4row6_col1\" class=\"data row6 col1\" >259765</td>\n",
       "                        <td id=\"T_5aa5ce46_ef7a_11ea_b32c_acd5641be5f4row6_col2\" class=\"data row6 col2\" >195959</td>\n",
       "                        <td id=\"T_5aa5ce46_ef7a_11ea_b32c_acd5641be5f4row6_col3\" class=\"data row6 col3\" >3843</td>\n",
       "                        <td id=\"T_5aa5ce46_ef7a_11ea_b32c_acd5641be5f4row6_col4\" class=\"data row6 col4\" >59963</td>\n",
       "                        <td id=\"T_5aa5ce46_ef7a_11ea_b32c_acd5641be5f4row6_col5\" class=\"data row6 col5\" >0</td>\n",
       "                        <td id=\"T_5aa5ce46_ef7a_11ea_b32c_acd5641be5f4row6_col6\" class=\"data row6 col6\" >UP</td>\n",
       "            </tr>\n",
       "            <tr>\n",
       "                        <th id=\"T_5aa5ce46_ef7a_11ea_b32c_acd5641be5f4level0_row7\" class=\"row_heading level0 row7\" >7</th>\n",
       "                        <td id=\"T_5aa5ce46_ef7a_11ea_b32c_acd5641be5f4row7_col0\" class=\"data row7 col0\" >West Bengal</td>\n",
       "                        <td id=\"T_5aa5ce46_ef7a_11ea_b32c_acd5641be5f4row7_col1\" class=\"data row7 col1\" >174659</td>\n",
       "                        <td id=\"T_5aa5ce46_ef7a_11ea_b32c_acd5641be5f4row7_col2\" class=\"data row7 col2\" >147553</td>\n",
       "                        <td id=\"T_5aa5ce46_ef7a_11ea_b32c_acd5641be5f4row7_col3\" class=\"data row7 col3\" >3452</td>\n",
       "                        <td id=\"T_5aa5ce46_ef7a_11ea_b32c_acd5641be5f4row7_col4\" class=\"data row7 col4\" >23654</td>\n",
       "                        <td id=\"T_5aa5ce46_ef7a_11ea_b32c_acd5641be5f4row7_col5\" class=\"data row7 col5\" >0</td>\n",
       "                        <td id=\"T_5aa5ce46_ef7a_11ea_b32c_acd5641be5f4row7_col6\" class=\"data row7 col6\" >WB</td>\n",
       "            </tr>\n",
       "            <tr>\n",
       "                        <th id=\"T_5aa5ce46_ef7a_11ea_b32c_acd5641be5f4level0_row8\" class=\"row_heading level0 row8\" >8</th>\n",
       "                        <td id=\"T_5aa5ce46_ef7a_11ea_b32c_acd5641be5f4row8_col0\" class=\"data row8 col0\" >Bihar</td>\n",
       "                        <td id=\"T_5aa5ce46_ef7a_11ea_b32c_acd5641be5f4row8_col1\" class=\"data row8 col1\" >145861</td>\n",
       "                        <td id=\"T_5aa5ce46_ef7a_11ea_b32c_acd5641be5f4row8_col2\" class=\"data row8 col2\" >128376</td>\n",
       "                        <td id=\"T_5aa5ce46_ef7a_11ea_b32c_acd5641be5f4row8_col3\" class=\"data row8 col3\" >750</td>\n",
       "                        <td id=\"T_5aa5ce46_ef7a_11ea_b32c_acd5641be5f4row8_col4\" class=\"data row8 col4\" >16734</td>\n",
       "                        <td id=\"T_5aa5ce46_ef7a_11ea_b32c_acd5641be5f4row8_col5\" class=\"data row8 col5\" >1</td>\n",
       "                        <td id=\"T_5aa5ce46_ef7a_11ea_b32c_acd5641be5f4row8_col6\" class=\"data row8 col6\" >BR</td>\n",
       "            </tr>\n",
       "            <tr>\n",
       "                        <th id=\"T_5aa5ce46_ef7a_11ea_b32c_acd5641be5f4level0_row9\" class=\"row_heading level0 row9\" >9</th>\n",
       "                        <td id=\"T_5aa5ce46_ef7a_11ea_b32c_acd5641be5f4row9_col0\" class=\"data row9 col0\" >Telangana</td>\n",
       "                        <td id=\"T_5aa5ce46_ef7a_11ea_b32c_acd5641be5f4row9_col1\" class=\"data row9 col1\" >138395</td>\n",
       "                        <td id=\"T_5aa5ce46_ef7a_11ea_b32c_acd5641be5f4row9_col2\" class=\"data row9 col2\" >104603</td>\n",
       "                        <td id=\"T_5aa5ce46_ef7a_11ea_b32c_acd5641be5f4row9_col3\" class=\"data row9 col3\" >877</td>\n",
       "                        <td id=\"T_5aa5ce46_ef7a_11ea_b32c_acd5641be5f4row9_col4\" class=\"data row9 col4\" >32915</td>\n",
       "                        <td id=\"T_5aa5ce46_ef7a_11ea_b32c_acd5641be5f4row9_col5\" class=\"data row9 col5\" >0</td>\n",
       "                        <td id=\"T_5aa5ce46_ef7a_11ea_b32c_acd5641be5f4row9_col6\" class=\"data row9 col6\" >TG</td>\n",
       "            </tr>\n",
       "            <tr>\n",
       "                        <th id=\"T_5aa5ce46_ef7a_11ea_b32c_acd5641be5f4level0_row10\" class=\"row_heading level0 row10\" >10</th>\n",
       "                        <td id=\"T_5aa5ce46_ef7a_11ea_b32c_acd5641be5f4row10_col0\" class=\"data row10 col0\" >Gujarat</td>\n",
       "                        <td id=\"T_5aa5ce46_ef7a_11ea_b32c_acd5641be5f4row10_col1\" class=\"data row10 col1\" >101695</td>\n",
       "                        <td id=\"T_5aa5ce46_ef7a_11ea_b32c_acd5641be5f4row10_col2\" class=\"data row10 col2\" >82498</td>\n",
       "                        <td id=\"T_5aa5ce46_ef7a_11ea_b32c_acd5641be5f4row10_col3\" class=\"data row10 col3\" >3076</td>\n",
       "                        <td id=\"T_5aa5ce46_ef7a_11ea_b32c_acd5641be5f4row10_col4\" class=\"data row10 col4\" >16121</td>\n",
       "                        <td id=\"T_5aa5ce46_ef7a_11ea_b32c_acd5641be5f4row10_col5\" class=\"data row10 col5\" >0</td>\n",
       "                        <td id=\"T_5aa5ce46_ef7a_11ea_b32c_acd5641be5f4row10_col6\" class=\"data row10 col6\" >GJ</td>\n",
       "            </tr>\n",
       "            <tr>\n",
       "                        <th id=\"T_5aa5ce46_ef7a_11ea_b32c_acd5641be5f4level0_row11\" class=\"row_heading level0 row11\" >11</th>\n",
       "                        <td id=\"T_5aa5ce46_ef7a_11ea_b32c_acd5641be5f4row11_col0\" class=\"data row11 col0\" >Assam</td>\n",
       "                        <td id=\"T_5aa5ce46_ef7a_11ea_b32c_acd5641be5f4row11_col1\" class=\"data row11 col1\" >121225</td>\n",
       "                        <td id=\"T_5aa5ce46_ef7a_11ea_b32c_acd5641be5f4row11_col2\" class=\"data row11 col2\" >92718</td>\n",
       "                        <td id=\"T_5aa5ce46_ef7a_11ea_b32c_acd5641be5f4row11_col3\" class=\"data row11 col3\" >345</td>\n",
       "                        <td id=\"T_5aa5ce46_ef7a_11ea_b32c_acd5641be5f4row11_col4\" class=\"data row11 col4\" >28159</td>\n",
       "                        <td id=\"T_5aa5ce46_ef7a_11ea_b32c_acd5641be5f4row11_col5\" class=\"data row11 col5\" >3</td>\n",
       "                        <td id=\"T_5aa5ce46_ef7a_11ea_b32c_acd5641be5f4row11_col6\" class=\"data row11 col6\" >AS</td>\n",
       "            </tr>\n",
       "            <tr>\n",
       "                        <th id=\"T_5aa5ce46_ef7a_11ea_b32c_acd5641be5f4level0_row12\" class=\"row_heading level0 row12\" >12</th>\n",
       "                        <td id=\"T_5aa5ce46_ef7a_11ea_b32c_acd5641be5f4row12_col0\" class=\"data row12 col0\" >Rajasthan</td>\n",
       "                        <td id=\"T_5aa5ce46_ef7a_11ea_b32c_acd5641be5f4row12_col1\" class=\"data row12 col1\" >88515</td>\n",
       "                        <td id=\"T_5aa5ce46_ef7a_11ea_b32c_acd5641be5f4row12_col2\" class=\"data row12 col2\" >71990</td>\n",
       "                        <td id=\"T_5aa5ce46_ef7a_11ea_b32c_acd5641be5f4row12_col3\" class=\"data row12 col3\" >1116</td>\n",
       "                        <td id=\"T_5aa5ce46_ef7a_11ea_b32c_acd5641be5f4row12_col4\" class=\"data row12 col4\" >15409</td>\n",
       "                        <td id=\"T_5aa5ce46_ef7a_11ea_b32c_acd5641be5f4row12_col5\" class=\"data row12 col5\" >0</td>\n",
       "                        <td id=\"T_5aa5ce46_ef7a_11ea_b32c_acd5641be5f4row12_col6\" class=\"data row12 col6\" >RJ</td>\n",
       "            </tr>\n",
       "            <tr>\n",
       "                        <th id=\"T_5aa5ce46_ef7a_11ea_b32c_acd5641be5f4level0_row13\" class=\"row_heading level0 row13\" >13</th>\n",
       "                        <td id=\"T_5aa5ce46_ef7a_11ea_b32c_acd5641be5f4row13_col0\" class=\"data row13 col0\" >Odisha</td>\n",
       "                        <td id=\"T_5aa5ce46_ef7a_11ea_b32c_acd5641be5f4row13_col1\" class=\"data row13 col1\" >120221</td>\n",
       "                        <td id=\"T_5aa5ce46_ef7a_11ea_b32c_acd5641be5f4row13_col2\" class=\"data row13 col2\" >90331</td>\n",
       "                        <td id=\"T_5aa5ce46_ef7a_11ea_b32c_acd5641be5f4row13_col3\" class=\"data row13 col3\" >591</td>\n",
       "                        <td id=\"T_5aa5ce46_ef7a_11ea_b32c_acd5641be5f4row13_col4\" class=\"data row13 col4\" >29299</td>\n",
       "                        <td id=\"T_5aa5ce46_ef7a_11ea_b32c_acd5641be5f4row13_col5\" class=\"data row13 col5\" >0</td>\n",
       "                        <td id=\"T_5aa5ce46_ef7a_11ea_b32c_acd5641be5f4row13_col6\" class=\"data row13 col6\" >OR</td>\n",
       "            </tr>\n",
       "            <tr>\n",
       "                        <th id=\"T_5aa5ce46_ef7a_11ea_b32c_acd5641be5f4level0_row14\" class=\"row_heading level0 row14\" >14</th>\n",
       "                        <td id=\"T_5aa5ce46_ef7a_11ea_b32c_acd5641be5f4row14_col0\" class=\"data row14 col0\" >Haryana</td>\n",
       "                        <td id=\"T_5aa5ce46_ef7a_11ea_b32c_acd5641be5f4row14_col1\" class=\"data row14 col1\" >71983</td>\n",
       "                        <td id=\"T_5aa5ce46_ef7a_11ea_b32c_acd5641be5f4row14_col2\" class=\"data row14 col2\" >57171</td>\n",
       "                        <td id=\"T_5aa5ce46_ef7a_11ea_b32c_acd5641be5f4row14_col3\" class=\"data row14 col3\" >759</td>\n",
       "                        <td id=\"T_5aa5ce46_ef7a_11ea_b32c_acd5641be5f4row14_col4\" class=\"data row14 col4\" >14053</td>\n",
       "                        <td id=\"T_5aa5ce46_ef7a_11ea_b32c_acd5641be5f4row14_col5\" class=\"data row14 col5\" >0</td>\n",
       "                        <td id=\"T_5aa5ce46_ef7a_11ea_b32c_acd5641be5f4row14_col6\" class=\"data row14 col6\" >HR</td>\n",
       "            </tr>\n",
       "            <tr>\n",
       "                        <th id=\"T_5aa5ce46_ef7a_11ea_b32c_acd5641be5f4level0_row15\" class=\"row_heading level0 row15\" >15</th>\n",
       "                        <td id=\"T_5aa5ce46_ef7a_11ea_b32c_acd5641be5f4row15_col0\" class=\"data row15 col0\" >Madhya Pradesh</td>\n",
       "                        <td id=\"T_5aa5ce46_ef7a_11ea_b32c_acd5641be5f4row15_col1\" class=\"data row15 col1\" >70244</td>\n",
       "                        <td id=\"T_5aa5ce46_ef7a_11ea_b32c_acd5641be5f4row15_col2\" class=\"data row15 col2\" >53257</td>\n",
       "                        <td id=\"T_5aa5ce46_ef7a_11ea_b32c_acd5641be5f4row15_col3\" class=\"data row15 col3\" >1513</td>\n",
       "                        <td id=\"T_5aa5ce46_ef7a_11ea_b32c_acd5641be5f4row15_col4\" class=\"data row15 col4\" >15474</td>\n",
       "                        <td id=\"T_5aa5ce46_ef7a_11ea_b32c_acd5641be5f4row15_col5\" class=\"data row15 col5\" >0</td>\n",
       "                        <td id=\"T_5aa5ce46_ef7a_11ea_b32c_acd5641be5f4row15_col6\" class=\"data row15 col6\" >MP</td>\n",
       "            </tr>\n",
       "            <tr>\n",
       "                        <th id=\"T_5aa5ce46_ef7a_11ea_b32c_acd5641be5f4level0_row16\" class=\"row_heading level0 row16\" >16</th>\n",
       "                        <td id=\"T_5aa5ce46_ef7a_11ea_b32c_acd5641be5f4row16_col0\" class=\"data row16 col0\" >Kerala</td>\n",
       "                        <td id=\"T_5aa5ce46_ef7a_11ea_b32c_acd5641be5f4row16_col1\" class=\"data row16 col1\" >82105</td>\n",
       "                        <td id=\"T_5aa5ce46_ef7a_11ea_b32c_acd5641be5f4row16_col2\" class=\"data row16 col2\" >60444</td>\n",
       "                        <td id=\"T_5aa5ce46_ef7a_11ea_b32c_acd5641be5f4row16_col3\" class=\"data row16 col3\" >327</td>\n",
       "                        <td id=\"T_5aa5ce46_ef7a_11ea_b32c_acd5641be5f4row16_col4\" class=\"data row16 col4\" >21268</td>\n",
       "                        <td id=\"T_5aa5ce46_ef7a_11ea_b32c_acd5641be5f4row16_col5\" class=\"data row16 col5\" >66</td>\n",
       "                        <td id=\"T_5aa5ce46_ef7a_11ea_b32c_acd5641be5f4row16_col6\" class=\"data row16 col6\" >KL</td>\n",
       "            </tr>\n",
       "            <tr>\n",
       "                        <th id=\"T_5aa5ce46_ef7a_11ea_b32c_acd5641be5f4level0_row17\" class=\"row_heading level0 row17\" >17</th>\n",
       "                        <td id=\"T_5aa5ce46_ef7a_11ea_b32c_acd5641be5f4row17_col0\" class=\"data row17 col0\" >Punjab</td>\n",
       "                        <td id=\"T_5aa5ce46_ef7a_11ea_b32c_acd5641be5f4row17_col1\" class=\"data row17 col1\" >60013</td>\n",
       "                        <td id=\"T_5aa5ce46_ef7a_11ea_b32c_acd5641be5f4row17_col2\" class=\"data row17 col2\" >42543</td>\n",
       "                        <td id=\"T_5aa5ce46_ef7a_11ea_b32c_acd5641be5f4row17_col3\" class=\"data row17 col3\" >1739</td>\n",
       "                        <td id=\"T_5aa5ce46_ef7a_11ea_b32c_acd5641be5f4row17_col4\" class=\"data row17 col4\" >15731</td>\n",
       "                        <td id=\"T_5aa5ce46_ef7a_11ea_b32c_acd5641be5f4row17_col5\" class=\"data row17 col5\" >0</td>\n",
       "                        <td id=\"T_5aa5ce46_ef7a_11ea_b32c_acd5641be5f4row17_col6\" class=\"data row17 col6\" >PB</td>\n",
       "            </tr>\n",
       "            <tr>\n",
       "                        <th id=\"T_5aa5ce46_ef7a_11ea_b32c_acd5641be5f4level0_row18\" class=\"row_heading level0 row18\" >18</th>\n",
       "                        <td id=\"T_5aa5ce46_ef7a_11ea_b32c_acd5641be5f4row18_col0\" class=\"data row18 col0\" >Jammu and Kashmir</td>\n",
       "                        <td id=\"T_5aa5ce46_ef7a_11ea_b32c_acd5641be5f4row18_col1\" class=\"data row18 col1\" >42241</td>\n",
       "                        <td id=\"T_5aa5ce46_ef7a_11ea_b32c_acd5641be5f4row18_col2\" class=\"data row18 col2\" >31924</td>\n",
       "                        <td id=\"T_5aa5ce46_ef7a_11ea_b32c_acd5641be5f4row18_col3\" class=\"data row18 col3\" >770</td>\n",
       "                        <td id=\"T_5aa5ce46_ef7a_11ea_b32c_acd5641be5f4row18_col4\" class=\"data row18 col4\" >9547</td>\n",
       "                        <td id=\"T_5aa5ce46_ef7a_11ea_b32c_acd5641be5f4row18_col5\" class=\"data row18 col5\" >0</td>\n",
       "                        <td id=\"T_5aa5ce46_ef7a_11ea_b32c_acd5641be5f4row18_col6\" class=\"data row18 col6\" >JK</td>\n",
       "            </tr>\n",
       "            <tr>\n",
       "                        <th id=\"T_5aa5ce46_ef7a_11ea_b32c_acd5641be5f4level0_row19\" class=\"row_heading level0 row19\" >19</th>\n",
       "                        <td id=\"T_5aa5ce46_ef7a_11ea_b32c_acd5641be5f4row19_col0\" class=\"data row19 col0\" >Jharkhand</td>\n",
       "                        <td id=\"T_5aa5ce46_ef7a_11ea_b32c_acd5641be5f4row19_col1\" class=\"data row19 col1\" >48039</td>\n",
       "                        <td id=\"T_5aa5ce46_ef7a_11ea_b32c_acd5641be5f4row19_col2\" class=\"data row19 col2\" >32043</td>\n",
       "                        <td id=\"T_5aa5ce46_ef7a_11ea_b32c_acd5641be5f4row19_col3\" class=\"data row19 col3\" >447</td>\n",
       "                        <td id=\"T_5aa5ce46_ef7a_11ea_b32c_acd5641be5f4row19_col4\" class=\"data row19 col4\" >15549</td>\n",
       "                        <td id=\"T_5aa5ce46_ef7a_11ea_b32c_acd5641be5f4row19_col5\" class=\"data row19 col5\" >0</td>\n",
       "                        <td id=\"T_5aa5ce46_ef7a_11ea_b32c_acd5641be5f4row19_col6\" class=\"data row19 col6\" >JH</td>\n",
       "            </tr>\n",
       "            <tr>\n",
       "                        <th id=\"T_5aa5ce46_ef7a_11ea_b32c_acd5641be5f4level0_row20\" class=\"row_heading level0 row20\" >20</th>\n",
       "                        <td id=\"T_5aa5ce46_ef7a_11ea_b32c_acd5641be5f4row20_col0\" class=\"data row20 col0\" >Chhattisgarh</td>\n",
       "                        <td id=\"T_5aa5ce46_ef7a_11ea_b32c_acd5641be5f4row20_col1\" class=\"data row20 col1\" >40634</td>\n",
       "                        <td id=\"T_5aa5ce46_ef7a_11ea_b32c_acd5641be5f4row20_col2\" class=\"data row20 col2\" >19608</td>\n",
       "                        <td id=\"T_5aa5ce46_ef7a_11ea_b32c_acd5641be5f4row20_col3\" class=\"data row20 col3\" >337</td>\n",
       "                        <td id=\"T_5aa5ce46_ef7a_11ea_b32c_acd5641be5f4row20_col4\" class=\"data row20 col4\" >20689</td>\n",
       "                        <td id=\"T_5aa5ce46_ef7a_11ea_b32c_acd5641be5f4row20_col5\" class=\"data row20 col5\" >0</td>\n",
       "                        <td id=\"T_5aa5ce46_ef7a_11ea_b32c_acd5641be5f4row20_col6\" class=\"data row20 col6\" >CT</td>\n",
       "            </tr>\n",
       "            <tr>\n",
       "                        <th id=\"T_5aa5ce46_ef7a_11ea_b32c_acd5641be5f4level0_row21\" class=\"row_heading level0 row21\" >21</th>\n",
       "                        <td id=\"T_5aa5ce46_ef7a_11ea_b32c_acd5641be5f4row21_col0\" class=\"data row21 col0\" >Uttarakhand</td>\n",
       "                        <td id=\"T_5aa5ce46_ef7a_11ea_b32c_acd5641be5f4row21_col1\" class=\"data row21 col1\" >23011</td>\n",
       "                        <td id=\"T_5aa5ce46_ef7a_11ea_b32c_acd5641be5f4row21_col2\" class=\"data row21 col2\" >15447</td>\n",
       "                        <td id=\"T_5aa5ce46_ef7a_11ea_b32c_acd5641be5f4row21_col3\" class=\"data row21 col3\" >312</td>\n",
       "                        <td id=\"T_5aa5ce46_ef7a_11ea_b32c_acd5641be5f4row21_col4\" class=\"data row21 col4\" >7187</td>\n",
       "                        <td id=\"T_5aa5ce46_ef7a_11ea_b32c_acd5641be5f4row21_col5\" class=\"data row21 col5\" >65</td>\n",
       "                        <td id=\"T_5aa5ce46_ef7a_11ea_b32c_acd5641be5f4row21_col6\" class=\"data row21 col6\" >UT</td>\n",
       "            </tr>\n",
       "            <tr>\n",
       "                        <th id=\"T_5aa5ce46_ef7a_11ea_b32c_acd5641be5f4level0_row22\" class=\"row_heading level0 row22\" >22</th>\n",
       "                        <td id=\"T_5aa5ce46_ef7a_11ea_b32c_acd5641be5f4row22_col0\" class=\"data row22 col0\" >Goa</td>\n",
       "                        <td id=\"T_5aa5ce46_ef7a_11ea_b32c_acd5641be5f4row22_col1\" class=\"data row22 col1\" >19863</td>\n",
       "                        <td id=\"T_5aa5ce46_ef7a_11ea_b32c_acd5641be5f4row22_col2\" class=\"data row22 col2\" >14747</td>\n",
       "                        <td id=\"T_5aa5ce46_ef7a_11ea_b32c_acd5641be5f4row22_col3\" class=\"data row22 col3\" >220</td>\n",
       "                        <td id=\"T_5aa5ce46_ef7a_11ea_b32c_acd5641be5f4row22_col4\" class=\"data row22 col4\" >4896</td>\n",
       "                        <td id=\"T_5aa5ce46_ef7a_11ea_b32c_acd5641be5f4row22_col5\" class=\"data row22 col5\" >0</td>\n",
       "                        <td id=\"T_5aa5ce46_ef7a_11ea_b32c_acd5641be5f4row22_col6\" class=\"data row22 col6\" >GA</td>\n",
       "            </tr>\n",
       "            <tr>\n",
       "                        <th id=\"T_5aa5ce46_ef7a_11ea_b32c_acd5641be5f4level0_row23\" class=\"row_heading level0 row23\" >23</th>\n",
       "                        <td id=\"T_5aa5ce46_ef7a_11ea_b32c_acd5641be5f4row23_col0\" class=\"data row23 col0\" >Tripura</td>\n",
       "                        <td id=\"T_5aa5ce46_ef7a_11ea_b32c_acd5641be5f4row23_col1\" class=\"data row23 col1\" >14524</td>\n",
       "                        <td id=\"T_5aa5ce46_ef7a_11ea_b32c_acd5641be5f4row23_col2\" class=\"data row23 col2\" >8483</td>\n",
       "                        <td id=\"T_5aa5ce46_ef7a_11ea_b32c_acd5641be5f4row23_col3\" class=\"data row23 col3\" >136</td>\n",
       "                        <td id=\"T_5aa5ce46_ef7a_11ea_b32c_acd5641be5f4row23_col4\" class=\"data row23 col4\" >5884</td>\n",
       "                        <td id=\"T_5aa5ce46_ef7a_11ea_b32c_acd5641be5f4row23_col5\" class=\"data row23 col5\" >21</td>\n",
       "                        <td id=\"T_5aa5ce46_ef7a_11ea_b32c_acd5641be5f4row23_col6\" class=\"data row23 col6\" >TR</td>\n",
       "            </tr>\n",
       "            <tr>\n",
       "                        <th id=\"T_5aa5ce46_ef7a_11ea_b32c_acd5641be5f4level0_row24\" class=\"row_heading level0 row24\" >24</th>\n",
       "                        <td id=\"T_5aa5ce46_ef7a_11ea_b32c_acd5641be5f4row24_col0\" class=\"data row24 col0\" >Puducherry</td>\n",
       "                        <td id=\"T_5aa5ce46_ef7a_11ea_b32c_acd5641be5f4row24_col1\" class=\"data row24 col1\" >16566</td>\n",
       "                        <td id=\"T_5aa5ce46_ef7a_11ea_b32c_acd5641be5f4row24_col2\" class=\"data row24 col2\" >11107</td>\n",
       "                        <td id=\"T_5aa5ce46_ef7a_11ea_b32c_acd5641be5f4row24_col3\" class=\"data row24 col3\" >298</td>\n",
       "                        <td id=\"T_5aa5ce46_ef7a_11ea_b32c_acd5641be5f4row24_col4\" class=\"data row24 col4\" >5161</td>\n",
       "                        <td id=\"T_5aa5ce46_ef7a_11ea_b32c_acd5641be5f4row24_col5\" class=\"data row24 col5\" >0</td>\n",
       "                        <td id=\"T_5aa5ce46_ef7a_11ea_b32c_acd5641be5f4row24_col6\" class=\"data row24 col6\" >PY</td>\n",
       "            </tr>\n",
       "            <tr>\n",
       "                        <th id=\"T_5aa5ce46_ef7a_11ea_b32c_acd5641be5f4level0_row25\" class=\"row_heading level0 row25\" >25</th>\n",
       "                        <td id=\"T_5aa5ce46_ef7a_11ea_b32c_acd5641be5f4row25_col0\" class=\"data row25 col0\" >Manipur</td>\n",
       "                        <td id=\"T_5aa5ce46_ef7a_11ea_b32c_acd5641be5f4row25_col1\" class=\"data row25 col1\" >6699</td>\n",
       "                        <td id=\"T_5aa5ce46_ef7a_11ea_b32c_acd5641be5f4row25_col2\" class=\"data row25 col2\" >4899</td>\n",
       "                        <td id=\"T_5aa5ce46_ef7a_11ea_b32c_acd5641be5f4row25_col3\" class=\"data row25 col3\" >35</td>\n",
       "                        <td id=\"T_5aa5ce46_ef7a_11ea_b32c_acd5641be5f4row25_col4\" class=\"data row25 col4\" >1765</td>\n",
       "                        <td id=\"T_5aa5ce46_ef7a_11ea_b32c_acd5641be5f4row25_col5\" class=\"data row25 col5\" >0</td>\n",
       "                        <td id=\"T_5aa5ce46_ef7a_11ea_b32c_acd5641be5f4row25_col6\" class=\"data row25 col6\" >MN</td>\n",
       "            </tr>\n",
       "            <tr>\n",
       "                        <th id=\"T_5aa5ce46_ef7a_11ea_b32c_acd5641be5f4level0_row26\" class=\"row_heading level0 row26\" >26</th>\n",
       "                        <td id=\"T_5aa5ce46_ef7a_11ea_b32c_acd5641be5f4row26_col0\" class=\"data row26 col0\" >Himachal Pradesh</td>\n",
       "                        <td id=\"T_5aa5ce46_ef7a_11ea_b32c_acd5641be5f4row26_col1\" class=\"data row26 col1\" >6830</td>\n",
       "                        <td id=\"T_5aa5ce46_ef7a_11ea_b32c_acd5641be5f4row26_col2\" class=\"data row26 col2\" >4920</td>\n",
       "                        <td id=\"T_5aa5ce46_ef7a_11ea_b32c_acd5641be5f4row26_col3\" class=\"data row26 col3\" >49</td>\n",
       "                        <td id=\"T_5aa5ce46_ef7a_11ea_b32c_acd5641be5f4row26_col4\" class=\"data row26 col4\" >1814</td>\n",
       "                        <td id=\"T_5aa5ce46_ef7a_11ea_b32c_acd5641be5f4row26_col5\" class=\"data row26 col5\" >47</td>\n",
       "                        <td id=\"T_5aa5ce46_ef7a_11ea_b32c_acd5641be5f4row26_col6\" class=\"data row26 col6\" >HP</td>\n",
       "            </tr>\n",
       "            <tr>\n",
       "                        <th id=\"T_5aa5ce46_ef7a_11ea_b32c_acd5641be5f4level0_row27\" class=\"row_heading level0 row27\" >27</th>\n",
       "                        <td id=\"T_5aa5ce46_ef7a_11ea_b32c_acd5641be5f4row27_col0\" class=\"data row27 col0\" >Nagaland</td>\n",
       "                        <td id=\"T_5aa5ce46_ef7a_11ea_b32c_acd5641be5f4row27_col1\" class=\"data row27 col1\" >4128</td>\n",
       "                        <td id=\"T_5aa5ce46_ef7a_11ea_b32c_acd5641be5f4row27_col2\" class=\"data row27 col2\" >3419</td>\n",
       "                        <td id=\"T_5aa5ce46_ef7a_11ea_b32c_acd5641be5f4row27_col3\" class=\"data row27 col3\" >8</td>\n",
       "                        <td id=\"T_5aa5ce46_ef7a_11ea_b32c_acd5641be5f4row27_col4\" class=\"data row27 col4\" >689</td>\n",
       "                        <td id=\"T_5aa5ce46_ef7a_11ea_b32c_acd5641be5f4row27_col5\" class=\"data row27 col5\" >12</td>\n",
       "                        <td id=\"T_5aa5ce46_ef7a_11ea_b32c_acd5641be5f4row27_col6\" class=\"data row27 col6\" >NL</td>\n",
       "            </tr>\n",
       "            <tr>\n",
       "                        <th id=\"T_5aa5ce46_ef7a_11ea_b32c_acd5641be5f4level0_row28\" class=\"row_heading level0 row28\" >28</th>\n",
       "                        <td id=\"T_5aa5ce46_ef7a_11ea_b32c_acd5641be5f4row28_col0\" class=\"data row28 col0\" >Arunachal Pradesh</td>\n",
       "                        <td id=\"T_5aa5ce46_ef7a_11ea_b32c_acd5641be5f4row28_col1\" class=\"data row28 col1\" >4775</td>\n",
       "                        <td id=\"T_5aa5ce46_ef7a_11ea_b32c_acd5641be5f4row28_col2\" class=\"data row28 col2\" >3280</td>\n",
       "                        <td id=\"T_5aa5ce46_ef7a_11ea_b32c_acd5641be5f4row28_col3\" class=\"data row28 col3\" >8</td>\n",
       "                        <td id=\"T_5aa5ce46_ef7a_11ea_b32c_acd5641be5f4row28_col4\" class=\"data row28 col4\" >1487</td>\n",
       "                        <td id=\"T_5aa5ce46_ef7a_11ea_b32c_acd5641be5f4row28_col5\" class=\"data row28 col5\" >0</td>\n",
       "                        <td id=\"T_5aa5ce46_ef7a_11ea_b32c_acd5641be5f4row28_col6\" class=\"data row28 col6\" >AR</td>\n",
       "            </tr>\n",
       "            <tr>\n",
       "                        <th id=\"T_5aa5ce46_ef7a_11ea_b32c_acd5641be5f4level0_row29\" class=\"row_heading level0 row29\" >29</th>\n",
       "                        <td id=\"T_5aa5ce46_ef7a_11ea_b32c_acd5641be5f4row29_col0\" class=\"data row29 col0\" >Andaman and Nicobar Islands</td>\n",
       "                        <td id=\"T_5aa5ce46_ef7a_11ea_b32c_acd5641be5f4row29_col1\" class=\"data row29 col1\" >3257</td>\n",
       "                        <td id=\"T_5aa5ce46_ef7a_11ea_b32c_acd5641be5f4row29_col2\" class=\"data row29 col2\" >2863</td>\n",
       "                        <td id=\"T_5aa5ce46_ef7a_11ea_b32c_acd5641be5f4row29_col3\" class=\"data row29 col3\" >49</td>\n",
       "                        <td id=\"T_5aa5ce46_ef7a_11ea_b32c_acd5641be5f4row29_col4\" class=\"data row29 col4\" >345</td>\n",
       "                        <td id=\"T_5aa5ce46_ef7a_11ea_b32c_acd5641be5f4row29_col5\" class=\"data row29 col5\" >0</td>\n",
       "                        <td id=\"T_5aa5ce46_ef7a_11ea_b32c_acd5641be5f4row29_col6\" class=\"data row29 col6\" >AN</td>\n",
       "            </tr>\n",
       "            <tr>\n",
       "                        <th id=\"T_5aa5ce46_ef7a_11ea_b32c_acd5641be5f4level0_row30\" class=\"row_heading level0 row30\" >30</th>\n",
       "                        <td id=\"T_5aa5ce46_ef7a_11ea_b32c_acd5641be5f4row30_col0\" class=\"data row30 col0\" >Ladakh</td>\n",
       "                        <td id=\"T_5aa5ce46_ef7a_11ea_b32c_acd5641be5f4row30_col1\" class=\"data row30 col1\" >2935</td>\n",
       "                        <td id=\"T_5aa5ce46_ef7a_11ea_b32c_acd5641be5f4row30_col2\" class=\"data row30 col2\" >2085</td>\n",
       "                        <td id=\"T_5aa5ce46_ef7a_11ea_b32c_acd5641be5f4row30_col3\" class=\"data row30 col3\" >35</td>\n",
       "                        <td id=\"T_5aa5ce46_ef7a_11ea_b32c_acd5641be5f4row30_col4\" class=\"data row30 col4\" >815</td>\n",
       "                        <td id=\"T_5aa5ce46_ef7a_11ea_b32c_acd5641be5f4row30_col5\" class=\"data row30 col5\" >0</td>\n",
       "                        <td id=\"T_5aa5ce46_ef7a_11ea_b32c_acd5641be5f4row30_col6\" class=\"data row30 col6\" >LA</td>\n",
       "            </tr>\n",
       "            <tr>\n",
       "                        <th id=\"T_5aa5ce46_ef7a_11ea_b32c_acd5641be5f4level0_row31\" class=\"row_heading level0 row31\" >31</th>\n",
       "                        <td id=\"T_5aa5ce46_ef7a_11ea_b32c_acd5641be5f4row31_col0\" class=\"data row31 col0\" >Chandigarh</td>\n",
       "                        <td id=\"T_5aa5ce46_ef7a_11ea_b32c_acd5641be5f4row31_col1\" class=\"data row31 col1\" >5268</td>\n",
       "                        <td id=\"T_5aa5ce46_ef7a_11ea_b32c_acd5641be5f4row31_col2\" class=\"data row31 col2\" >3105</td>\n",
       "                        <td id=\"T_5aa5ce46_ef7a_11ea_b32c_acd5641be5f4row31_col3\" class=\"data row31 col3\" >68</td>\n",
       "                        <td id=\"T_5aa5ce46_ef7a_11ea_b32c_acd5641be5f4row31_col4\" class=\"data row31 col4\" >2092</td>\n",
       "                        <td id=\"T_5aa5ce46_ef7a_11ea_b32c_acd5641be5f4row31_col5\" class=\"data row31 col5\" >3</td>\n",
       "                        <td id=\"T_5aa5ce46_ef7a_11ea_b32c_acd5641be5f4row31_col6\" class=\"data row31 col6\" >CH</td>\n",
       "            </tr>\n",
       "            <tr>\n",
       "                        <th id=\"T_5aa5ce46_ef7a_11ea_b32c_acd5641be5f4level0_row32\" class=\"row_heading level0 row32\" >32</th>\n",
       "                        <td id=\"T_5aa5ce46_ef7a_11ea_b32c_acd5641be5f4row32_col0\" class=\"data row32 col0\" >Dadra and Nagar Haveli and Daman and Diu</td>\n",
       "                        <td id=\"T_5aa5ce46_ef7a_11ea_b32c_acd5641be5f4row32_col1\" class=\"data row32 col1\" >2520</td>\n",
       "                        <td id=\"T_5aa5ce46_ef7a_11ea_b32c_acd5641be5f4row32_col2\" class=\"data row32 col2\" >2209</td>\n",
       "                        <td id=\"T_5aa5ce46_ef7a_11ea_b32c_acd5641be5f4row32_col3\" class=\"data row32 col3\" >2</td>\n",
       "                        <td id=\"T_5aa5ce46_ef7a_11ea_b32c_acd5641be5f4row32_col4\" class=\"data row32 col4\" >285</td>\n",
       "                        <td id=\"T_5aa5ce46_ef7a_11ea_b32c_acd5641be5f4row32_col5\" class=\"data row32 col5\" >24</td>\n",
       "                        <td id=\"T_5aa5ce46_ef7a_11ea_b32c_acd5641be5f4row32_col6\" class=\"data row32 col6\" >DN</td>\n",
       "            </tr>\n",
       "            <tr>\n",
       "                        <th id=\"T_5aa5ce46_ef7a_11ea_b32c_acd5641be5f4level0_row33\" class=\"row_heading level0 row33\" >33</th>\n",
       "                        <td id=\"T_5aa5ce46_ef7a_11ea_b32c_acd5641be5f4row33_col0\" class=\"data row33 col0\" >Meghalaya</td>\n",
       "                        <td id=\"T_5aa5ce46_ef7a_11ea_b32c_acd5641be5f4row33_col1\" class=\"data row33 col1\" >2734</td>\n",
       "                        <td id=\"T_5aa5ce46_ef7a_11ea_b32c_acd5641be5f4row33_col2\" class=\"data row33 col2\" >1468</td>\n",
       "                        <td id=\"T_5aa5ce46_ef7a_11ea_b32c_acd5641be5f4row33_col3\" class=\"data row33 col3\" >14</td>\n",
       "                        <td id=\"T_5aa5ce46_ef7a_11ea_b32c_acd5641be5f4row33_col4\" class=\"data row33 col4\" >1252</td>\n",
       "                        <td id=\"T_5aa5ce46_ef7a_11ea_b32c_acd5641be5f4row33_col5\" class=\"data row33 col5\" >0</td>\n",
       "                        <td id=\"T_5aa5ce46_ef7a_11ea_b32c_acd5641be5f4row33_col6\" class=\"data row33 col6\" >ML</td>\n",
       "            </tr>\n",
       "            <tr>\n",
       "                        <th id=\"T_5aa5ce46_ef7a_11ea_b32c_acd5641be5f4level0_row34\" class=\"row_heading level0 row34\" >34</th>\n",
       "                        <td id=\"T_5aa5ce46_ef7a_11ea_b32c_acd5641be5f4row34_col0\" class=\"data row34 col0\" >Sikkim</td>\n",
       "                        <td id=\"T_5aa5ce46_ef7a_11ea_b32c_acd5641be5f4row34_col1\" class=\"data row34 col1\" >1843</td>\n",
       "                        <td id=\"T_5aa5ce46_ef7a_11ea_b32c_acd5641be5f4row34_col2\" class=\"data row34 col2\" >1321</td>\n",
       "                        <td id=\"T_5aa5ce46_ef7a_11ea_b32c_acd5641be5f4row34_col3\" class=\"data row34 col3\" >5</td>\n",
       "                        <td id=\"T_5aa5ce46_ef7a_11ea_b32c_acd5641be5f4row34_col4\" class=\"data row34 col4\" >509</td>\n",
       "                        <td id=\"T_5aa5ce46_ef7a_11ea_b32c_acd5641be5f4row34_col5\" class=\"data row34 col5\" >8</td>\n",
       "                        <td id=\"T_5aa5ce46_ef7a_11ea_b32c_acd5641be5f4row34_col6\" class=\"data row34 col6\" >SK</td>\n",
       "            </tr>\n",
       "            <tr>\n",
       "                        <th id=\"T_5aa5ce46_ef7a_11ea_b32c_acd5641be5f4level0_row35\" class=\"row_heading level0 row35\" >35</th>\n",
       "                        <td id=\"T_5aa5ce46_ef7a_11ea_b32c_acd5641be5f4row35_col0\" class=\"data row35 col0\" >Mizoram</td>\n",
       "                        <td id=\"T_5aa5ce46_ef7a_11ea_b32c_acd5641be5f4row35_col1\" class=\"data row35 col1\" >1062</td>\n",
       "                        <td id=\"T_5aa5ce46_ef7a_11ea_b32c_acd5641be5f4row35_col2\" class=\"data row35 col2\" >713</td>\n",
       "                        <td id=\"T_5aa5ce46_ef7a_11ea_b32c_acd5641be5f4row35_col3\" class=\"data row35 col3\" >0</td>\n",
       "                        <td id=\"T_5aa5ce46_ef7a_11ea_b32c_acd5641be5f4row35_col4\" class=\"data row35 col4\" >349</td>\n",
       "                        <td id=\"T_5aa5ce46_ef7a_11ea_b32c_acd5641be5f4row35_col5\" class=\"data row35 col5\" >0</td>\n",
       "                        <td id=\"T_5aa5ce46_ef7a_11ea_b32c_acd5641be5f4row35_col6\" class=\"data row35 col6\" >MZ</td>\n",
       "            </tr>\n",
       "            <tr>\n",
       "                        <th id=\"T_5aa5ce46_ef7a_11ea_b32c_acd5641be5f4level0_row36\" class=\"row_heading level0 row36\" >36</th>\n",
       "                        <td id=\"T_5aa5ce46_ef7a_11ea_b32c_acd5641be5f4row36_col0\" class=\"data row36 col0\" >State Unassigned</td>\n",
       "                        <td id=\"T_5aa5ce46_ef7a_11ea_b32c_acd5641be5f4row36_col1\" class=\"data row36 col1\" >0</td>\n",
       "                        <td id=\"T_5aa5ce46_ef7a_11ea_b32c_acd5641be5f4row36_col2\" class=\"data row36 col2\" >0</td>\n",
       "                        <td id=\"T_5aa5ce46_ef7a_11ea_b32c_acd5641be5f4row36_col3\" class=\"data row36 col3\" >0</td>\n",
       "                        <td id=\"T_5aa5ce46_ef7a_11ea_b32c_acd5641be5f4row36_col4\" class=\"data row36 col4\" >0</td>\n",
       "                        <td id=\"T_5aa5ce46_ef7a_11ea_b32c_acd5641be5f4row36_col5\" class=\"data row36 col5\" >0</td>\n",
       "                        <td id=\"T_5aa5ce46_ef7a_11ea_b32c_acd5641be5f4row36_col6\" class=\"data row36 col6\" >UN</td>\n",
       "            </tr>\n",
       "            <tr>\n",
       "                        <th id=\"T_5aa5ce46_ef7a_11ea_b32c_acd5641be5f4level0_row37\" class=\"row_heading level0 row37\" >37</th>\n",
       "                        <td id=\"T_5aa5ce46_ef7a_11ea_b32c_acd5641be5f4row37_col0\" class=\"data row37 col0\" >Lakshadweep</td>\n",
       "                        <td id=\"T_5aa5ce46_ef7a_11ea_b32c_acd5641be5f4row37_col1\" class=\"data row37 col1\" >0</td>\n",
       "                        <td id=\"T_5aa5ce46_ef7a_11ea_b32c_acd5641be5f4row37_col2\" class=\"data row37 col2\" >0</td>\n",
       "                        <td id=\"T_5aa5ce46_ef7a_11ea_b32c_acd5641be5f4row37_col3\" class=\"data row37 col3\" >0</td>\n",
       "                        <td id=\"T_5aa5ce46_ef7a_11ea_b32c_acd5641be5f4row37_col4\" class=\"data row37 col4\" >0</td>\n",
       "                        <td id=\"T_5aa5ce46_ef7a_11ea_b32c_acd5641be5f4row37_col5\" class=\"data row37 col5\" >0</td>\n",
       "                        <td id=\"T_5aa5ce46_ef7a_11ea_b32c_acd5641be5f4row37_col6\" class=\"data row37 col6\" >LD</td>\n",
       "            </tr>\n",
       "    </tbody></table>"
      ],
      "text/plain": [
       "<pandas.io.formats.style.Styler at 0x18efb3bf048>"
      ]
     },
     "execution_count": 5,
     "metadata": {},
     "output_type": "execute_result"
    }
   ],
   "source": [
    "df.style.background_gradient(cmap= 'Reds')"
   ]
  },
  {
   "cell_type": "code",
   "execution_count": 6,
   "metadata": {},
   "outputs": [],
   "source": [
    "Indian_Coordinates= pd.read_excel(r\"Indian Coordinates (1).xlsx\")\n"
   ]
  },
  {
   "cell_type": "code",
   "execution_count": 7,
   "metadata": {},
   "outputs": [],
   "source": [
    "df_full= pd.merge(df, Indian_Coordinates, on= 'State_code')"
   ]
  },
  {
   "cell_type": "code",
   "execution_count": 8,
   "metadata": {},
   "outputs": [],
   "source": [
    "df_add= df_full.drop('States', axis=1)\n",
    "##df_add"
   ]
  },
  {
   "cell_type": "markdown",
   "metadata": {},
   "source": [
    "# MAP REPRESENTATION"
   ]
  },
  {
   "cell_type": "code",
   "execution_count": 9,
   "metadata": {},
   "outputs": [],
   "source": [
    "map= folium.Map(location=[20,70], zoom_start=4, tiles= 'Stamenterrain')\n",
    "for lat, long, value, name in zip(df_add['Latitude'],df_add['Longitude'],df_add['Confirmed'], df_add['State']):\n",
    "    folium.CircleMarker([lat, long], radius= value*0.0, popup= ('<strong>State</strong>:'+str(name).capitalize()+ '<br>''<strong>Confirmed</strong>:' +str(value)+'<br>'+ '<br>''<strong>Recovered</strong>:' +str(value)+'<br>'), color= 'red', full_color= 'red', fill_opacity= 0.6).add_to(map)                                  "
   ]
  },
  {
   "cell_type": "markdown",
   "metadata": {},
   "source": [
    "# CLICK ON THE CIRCLES TO CHECK CONFIRMED CASES FOR EACH STATE."
   ]
  },
  {
   "cell_type": "code",
   "execution_count": 10,
   "metadata": {},
   "outputs": [
    {
     "data": {
      "text/html": [
       "<div style=\"width:100%;\"><div style=\"position:relative;width:100%;height:0;padding-bottom:60%;\"><iframe src=\"about:blank\" style=\"position:absolute;width:100%;height:100%;left:0;top:0;border:none !important;\" data-html=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 onload=\"this.contentDocument.open();this.contentDocument.write(atob(this.getAttribute('data-html')));this.contentDocument.close();\" allowfullscreen webkitallowfullscreen mozallowfullscreen></iframe></div></div>"
      ],
      "text/plain": [
       "<folium.folium.Map at 0x18efb5c4888>"
      ]
     },
     "execution_count": 10,
     "metadata": {},
     "output_type": "execute_result"
    }
   ],
   "source": [
    "map"
   ]
  },
  {
   "cell_type": "markdown",
   "metadata": {},
   "source": [
    "# GRAPHICAL REPRESENTATION"
   ]
  },
  {
   "cell_type": "markdown",
   "metadata": {},
   "source": [
    "# Hover over the graph markers to see confirmed cases for each state."
   ]
  },
  {
   "cell_type": "code",
   "execution_count": 11,
   "metadata": {},
   "outputs": [
    {
     "data": {
      "application/vnd.plotly.v1+json": {
       "config": {
        "linkText": "Export to plot.ly",
        "plotlyServerURL": "https://plot.ly",
        "showLink": true
       },
       "data": [
        {
         "line": {
          "color": "rgba(219, 64, 82, 1.0)",
          "dash": "solid",
          "shape": "linear",
          "width": 1.3
         },
         "marker": {
          "size": 10,
          "symbol": "circle"
         },
         "mode": "markers+lines",
         "name": "Confirmed",
         "text": "",
         "type": "scatter",
         "x": [
          "Total",
          "Maharashtra",
          "Tamil Nadu",
          "Andhra Pradesh",
          "Karnataka",
          "Delhi",
          "Uttar Pradesh",
          "West Bengal",
          "Bihar",
          "Telangana",
          "Gujarat",
          "Assam",
          "Rajasthan",
          "Odisha",
          "Haryana",
          "Madhya Pradesh",
          "Kerala",
          "Punjab",
          "Jammu and Kashmir",
          "Jharkhand",
          "Chhattisgarh",
          "Uttarakhand",
          "Goa",
          "Tripura",
          "Puducherry",
          "Manipur",
          "Himachal Pradesh",
          "Nagaland",
          "Arunachal Pradesh",
          "Andaman and Nicobar Islands",
          "Ladakh",
          "Chandigarh",
          "Dadra and Nagar Haveli and Daman and Diu",
          "Meghalaya",
          "Sikkim",
          "Mizoram",
          "State Unassigned",
          "Lakshadweep"
         ],
         "y": [
          4037711,
          863062,
          451827,
          476506,
          379486,
          185220,
          259765,
          174659,
          145861,
          138395,
          101695,
          121225,
          88515,
          120221,
          71983,
          70244,
          82105,
          60013,
          42241,
          48039,
          40634,
          23011,
          19863,
          14524,
          16566,
          6699,
          6830,
          4128,
          4775,
          3257,
          2935,
          5268,
          2520,
          2734,
          1843,
          1062,
          0,
          0
         ]
        }
       ],
       "layout": {
        "legend": {
         "bgcolor": "#F5F6F9",
         "font": {
          "color": "#4D5663"
         }
        },
        "paper_bgcolor": "#F5F6F9",
        "plot_bgcolor": "#F5F6F9",
        "template": {
         "data": {
          "bar": [
           {
            "error_x": {
             "color": "#2a3f5f"
            },
            "error_y": {
             "color": "#2a3f5f"
            },
            "marker": {
             "line": {
              "color": "#E5ECF6",
              "width": 0.5
             }
            },
            "type": "bar"
           }
          ],
          "barpolar": [
           {
            "marker": {
             "line": {
              "color": "#E5ECF6",
              "width": 0.5
             }
            },
            "type": "barpolar"
           }
          ],
          "carpet": [
           {
            "aaxis": {
             "endlinecolor": "#2a3f5f",
             "gridcolor": "white",
             "linecolor": "white",
             "minorgridcolor": "white",
             "startlinecolor": "#2a3f5f"
            },
            "baxis": {
             "endlinecolor": "#2a3f5f",
             "gridcolor": "white",
             "linecolor": "white",
             "minorgridcolor": "white",
             "startlinecolor": "#2a3f5f"
            },
            "type": "carpet"
           }
          ],
          "choropleth": [
           {
            "colorbar": {
             "outlinewidth": 0,
             "ticks": ""
            },
            "type": "choropleth"
           }
          ],
          "contour": [
           {
            "colorbar": {
             "outlinewidth": 0,
             "ticks": ""
            },
            "colorscale": [
             [
              0,
              "#0d0887"
             ],
             [
              0.1111111111111111,
              "#46039f"
             ],
             [
              0.2222222222222222,
              "#7201a8"
             ],
             [
              0.3333333333333333,
              "#9c179e"
             ],
             [
              0.4444444444444444,
              "#bd3786"
             ],
             [
              0.5555555555555556,
              "#d8576b"
             ],
             [
              0.6666666666666666,
              "#ed7953"
             ],
             [
              0.7777777777777778,
              "#fb9f3a"
             ],
             [
              0.8888888888888888,
              "#fdca26"
             ],
             [
              1,
              "#f0f921"
             ]
            ],
            "type": "contour"
           }
          ],
          "contourcarpet": [
           {
            "colorbar": {
             "outlinewidth": 0,
             "ticks": ""
            },
            "type": "contourcarpet"
           }
          ],
          "heatmap": [
           {
            "colorbar": {
             "outlinewidth": 0,
             "ticks": ""
            },
            "colorscale": [
             [
              0,
              "#0d0887"
             ],
             [
              0.1111111111111111,
              "#46039f"
             ],
             [
              0.2222222222222222,
              "#7201a8"
             ],
             [
              0.3333333333333333,
              "#9c179e"
             ],
             [
              0.4444444444444444,
              "#bd3786"
             ],
             [
              0.5555555555555556,
              "#d8576b"
             ],
             [
              0.6666666666666666,
              "#ed7953"
             ],
             [
              0.7777777777777778,
              "#fb9f3a"
             ],
             [
              0.8888888888888888,
              "#fdca26"
             ],
             [
              1,
              "#f0f921"
             ]
            ],
            "type": "heatmap"
           }
          ],
          "heatmapgl": [
           {
            "colorbar": {
             "outlinewidth": 0,
             "ticks": ""
            },
            "colorscale": [
             [
              0,
              "#0d0887"
             ],
             [
              0.1111111111111111,
              "#46039f"
             ],
             [
              0.2222222222222222,
              "#7201a8"
             ],
             [
              0.3333333333333333,
              "#9c179e"
             ],
             [
              0.4444444444444444,
              "#bd3786"
             ],
             [
              0.5555555555555556,
              "#d8576b"
             ],
             [
              0.6666666666666666,
              "#ed7953"
             ],
             [
              0.7777777777777778,
              "#fb9f3a"
             ],
             [
              0.8888888888888888,
              "#fdca26"
             ],
             [
              1,
              "#f0f921"
             ]
            ],
            "type": "heatmapgl"
           }
          ],
          "histogram": [
           {
            "marker": {
             "colorbar": {
              "outlinewidth": 0,
              "ticks": ""
             }
            },
            "type": "histogram"
           }
          ],
          "histogram2d": [
           {
            "colorbar": {
             "outlinewidth": 0,
             "ticks": ""
            },
            "colorscale": [
             [
              0,
              "#0d0887"
             ],
             [
              0.1111111111111111,
              "#46039f"
             ],
             [
              0.2222222222222222,
              "#7201a8"
             ],
             [
              0.3333333333333333,
              "#9c179e"
             ],
             [
              0.4444444444444444,
              "#bd3786"
             ],
             [
              0.5555555555555556,
              "#d8576b"
             ],
             [
              0.6666666666666666,
              "#ed7953"
             ],
             [
              0.7777777777777778,
              "#fb9f3a"
             ],
             [
              0.8888888888888888,
              "#fdca26"
             ],
             [
              1,
              "#f0f921"
             ]
            ],
            "type": "histogram2d"
           }
          ],
          "histogram2dcontour": [
           {
            "colorbar": {
             "outlinewidth": 0,
             "ticks": ""
            },
            "colorscale": [
             [
              0,
              "#0d0887"
             ],
             [
              0.1111111111111111,
              "#46039f"
             ],
             [
              0.2222222222222222,
              "#7201a8"
             ],
             [
              0.3333333333333333,
              "#9c179e"
             ],
             [
              0.4444444444444444,
              "#bd3786"
             ],
             [
              0.5555555555555556,
              "#d8576b"
             ],
             [
              0.6666666666666666,
              "#ed7953"
             ],
             [
              0.7777777777777778,
              "#fb9f3a"
             ],
             [
              0.8888888888888888,
              "#fdca26"
             ],
             [
              1,
              "#f0f921"
             ]
            ],
            "type": "histogram2dcontour"
           }
          ],
          "mesh3d": [
           {
            "colorbar": {
             "outlinewidth": 0,
             "ticks": ""
            },
            "type": "mesh3d"
           }
          ],
          "parcoords": [
           {
            "line": {
             "colorbar": {
              "outlinewidth": 0,
              "ticks": ""
             }
            },
            "type": "parcoords"
           }
          ],
          "pie": [
           {
            "automargin": true,
            "type": "pie"
           }
          ],
          "scatter": [
           {
            "marker": {
             "colorbar": {
              "outlinewidth": 0,
              "ticks": ""
             }
            },
            "type": "scatter"
           }
          ],
          "scatter3d": [
           {
            "line": {
             "colorbar": {
              "outlinewidth": 0,
              "ticks": ""
             }
            },
            "marker": {
             "colorbar": {
              "outlinewidth": 0,
              "ticks": ""
             }
            },
            "type": "scatter3d"
           }
          ],
          "scattercarpet": [
           {
            "marker": {
             "colorbar": {
              "outlinewidth": 0,
              "ticks": ""
             }
            },
            "type": "scattercarpet"
           }
          ],
          "scattergeo": [
           {
            "marker": {
             "colorbar": {
              "outlinewidth": 0,
              "ticks": ""
             }
            },
            "type": "scattergeo"
           }
          ],
          "scattergl": [
           {
            "marker": {
             "colorbar": {
              "outlinewidth": 0,
              "ticks": ""
             }
            },
            "type": "scattergl"
           }
          ],
          "scattermapbox": [
           {
            "marker": {
             "colorbar": {
              "outlinewidth": 0,
              "ticks": ""
             }
            },
            "type": "scattermapbox"
           }
          ],
          "scatterpolar": [
           {
            "marker": {
             "colorbar": {
              "outlinewidth": 0,
              "ticks": ""
             }
            },
            "type": "scatterpolar"
           }
          ],
          "scatterpolargl": [
           {
            "marker": {
             "colorbar": {
              "outlinewidth": 0,
              "ticks": ""
             }
            },
            "type": "scatterpolargl"
           }
          ],
          "scatterternary": [
           {
            "marker": {
             "colorbar": {
              "outlinewidth": 0,
              "ticks": ""
             }
            },
            "type": "scatterternary"
           }
          ],
          "surface": [
           {
            "colorbar": {
             "outlinewidth": 0,
             "ticks": ""
            },
            "colorscale": [
             [
              0,
              "#0d0887"
             ],
             [
              0.1111111111111111,
              "#46039f"
             ],
             [
              0.2222222222222222,
              "#7201a8"
             ],
             [
              0.3333333333333333,
              "#9c179e"
             ],
             [
              0.4444444444444444,
              "#bd3786"
             ],
             [
              0.5555555555555556,
              "#d8576b"
             ],
             [
              0.6666666666666666,
              "#ed7953"
             ],
             [
              0.7777777777777778,
              "#fb9f3a"
             ],
             [
              0.8888888888888888,
              "#fdca26"
             ],
             [
              1,
              "#f0f921"
             ]
            ],
            "type": "surface"
           }
          ],
          "table": [
           {
            "cells": {
             "fill": {
              "color": "#EBF0F8"
             },
             "line": {
              "color": "white"
             }
            },
            "header": {
             "fill": {
              "color": "#C8D4E3"
             },
             "line": {
              "color": "white"
             }
            },
            "type": "table"
           }
          ]
         },
         "layout": {
          "annotationdefaults": {
           "arrowcolor": "#2a3f5f",
           "arrowhead": 0,
           "arrowwidth": 1
          },
          "coloraxis": {
           "colorbar": {
            "outlinewidth": 0,
            "ticks": ""
           }
          },
          "colorscale": {
           "diverging": [
            [
             0,
             "#8e0152"
            ],
            [
             0.1,
             "#c51b7d"
            ],
            [
             0.2,
             "#de77ae"
            ],
            [
             0.3,
             "#f1b6da"
            ],
            [
             0.4,
             "#fde0ef"
            ],
            [
             0.5,
             "#f7f7f7"
            ],
            [
             0.6,
             "#e6f5d0"
            ],
            [
             0.7,
             "#b8e186"
            ],
            [
             0.8,
             "#7fbc41"
            ],
            [
             0.9,
             "#4d9221"
            ],
            [
             1,
             "#276419"
            ]
           ],
           "sequential": [
            [
             0,
             "#0d0887"
            ],
            [
             0.1111111111111111,
             "#46039f"
            ],
            [
             0.2222222222222222,
             "#7201a8"
            ],
            [
             0.3333333333333333,
             "#9c179e"
            ],
            [
             0.4444444444444444,
             "#bd3786"
            ],
            [
             0.5555555555555556,
             "#d8576b"
            ],
            [
             0.6666666666666666,
             "#ed7953"
            ],
            [
             0.7777777777777778,
             "#fb9f3a"
            ],
            [
             0.8888888888888888,
             "#fdca26"
            ],
            [
             1,
             "#f0f921"
            ]
           ],
           "sequentialminus": [
            [
             0,
             "#0d0887"
            ],
            [
             0.1111111111111111,
             "#46039f"
            ],
            [
             0.2222222222222222,
             "#7201a8"
            ],
            [
             0.3333333333333333,
             "#9c179e"
            ],
            [
             0.4444444444444444,
             "#bd3786"
            ],
            [
             0.5555555555555556,
             "#d8576b"
            ],
            [
             0.6666666666666666,
             "#ed7953"
            ],
            [
             0.7777777777777778,
             "#fb9f3a"
            ],
            [
             0.8888888888888888,
             "#fdca26"
            ],
            [
             1,
             "#f0f921"
            ]
           ]
          },
          "colorway": [
           "#636efa",
           "#EF553B",
           "#00cc96",
           "#ab63fa",
           "#FFA15A",
           "#19d3f3",
           "#FF6692",
           "#B6E880",
           "#FF97FF",
           "#FECB52"
          ],
          "font": {
           "color": "#2a3f5f"
          },
          "geo": {
           "bgcolor": "white",
           "lakecolor": "white",
           "landcolor": "#E5ECF6",
           "showlakes": true,
           "showland": true,
           "subunitcolor": "white"
          },
          "hoverlabel": {
           "align": "left"
          },
          "hovermode": "closest",
          "mapbox": {
           "style": "light"
          },
          "paper_bgcolor": "white",
          "plot_bgcolor": "#E5ECF6",
          "polar": {
           "angularaxis": {
            "gridcolor": "white",
            "linecolor": "white",
            "ticks": ""
           },
           "bgcolor": "#E5ECF6",
           "radialaxis": {
            "gridcolor": "white",
            "linecolor": "white",
            "ticks": ""
           }
          },
          "scene": {
           "xaxis": {
            "backgroundcolor": "#E5ECF6",
            "gridcolor": "white",
            "gridwidth": 2,
            "linecolor": "white",
            "showbackground": true,
            "ticks": "",
            "zerolinecolor": "white"
           },
           "yaxis": {
            "backgroundcolor": "#E5ECF6",
            "gridcolor": "white",
            "gridwidth": 2,
            "linecolor": "white",
            "showbackground": true,
            "ticks": "",
            "zerolinecolor": "white"
           },
           "zaxis": {
            "backgroundcolor": "#E5ECF6",
            "gridcolor": "white",
            "gridwidth": 2,
            "linecolor": "white",
            "showbackground": true,
            "ticks": "",
            "zerolinecolor": "white"
           }
          },
          "shapedefaults": {
           "line": {
            "color": "#2a3f5f"
           }
          },
          "ternary": {
           "aaxis": {
            "gridcolor": "white",
            "linecolor": "white",
            "ticks": ""
           },
           "baxis": {
            "gridcolor": "white",
            "linecolor": "white",
            "ticks": ""
           },
           "bgcolor": "#E5ECF6",
           "caxis": {
            "gridcolor": "white",
            "linecolor": "white",
            "ticks": ""
           }
          },
          "title": {
           "x": 0.05
          },
          "xaxis": {
           "automargin": true,
           "gridcolor": "white",
           "linecolor": "white",
           "ticks": "",
           "title": {
            "standoff": 15
           },
           "zerolinecolor": "white",
           "zerolinewidth": 2
          },
          "yaxis": {
           "automargin": true,
           "gridcolor": "white",
           "linecolor": "white",
           "ticks": "",
           "title": {
            "standoff": 15
           },
           "zerolinecolor": "white",
           "zerolinewidth": 2
          }
         }
        },
        "title": {
         "font": {
          "color": "#4D5663"
         },
         "text": "Covid_19 graph"
        },
        "xaxis": {
         "gridcolor": "#E1E5ED",
         "showgrid": true,
         "tickfont": {
          "color": "#4D5663"
         },
         "title": {
          "font": {
           "color": "#4D5663"
          },
          "text": "State"
         },
         "zerolinecolor": "#E1E5ED"
        },
        "yaxis": {
         "gridcolor": "#E1E5ED",
         "showgrid": true,
         "tickfont": {
          "color": "#4D5663"
         },
         "title": {
          "font": {
           "color": "#4D5663"
          },
          "text": "Confirmed Cases"
         },
         "zerolinecolor": "#E1E5ED"
        }
       }
      },
      "text/html": [
       "<div>\n",
       "        \n",
       "        \n",
       "            <div id=\"7583494e-78c5-4bde-9810-f3fd4b049deb\" class=\"plotly-graph-div\" style=\"height:525px; width:100%;\"></div>\n",
       "            <script type=\"text/javascript\">\n",
       "                require([\"plotly\"], function(Plotly) {\n",
       "                    window.PLOTLYENV=window.PLOTLYENV || {};\n",
       "                    window.PLOTLYENV.BASE_URL='https://plot.ly';\n",
       "                    \n",
       "                if (document.getElementById(\"7583494e-78c5-4bde-9810-f3fd4b049deb\")) {\n",
       "                    Plotly.newPlot(\n",
       "                        '7583494e-78c5-4bde-9810-f3fd4b049deb',\n",
       "                        [{\"line\": {\"color\": \"rgba(219, 64, 82, 1.0)\", \"dash\": \"solid\", \"shape\": \"linear\", \"width\": 1.3}, \"marker\": {\"size\": 10, \"symbol\": \"circle\"}, \"mode\": \"markers+lines\", \"name\": \"Confirmed\", \"text\": \"\", \"type\": \"scatter\", \"x\": [\"Total\", \"Maharashtra\", \"Tamil Nadu\", \"Andhra Pradesh\", \"Karnataka\", \"Delhi\", \"Uttar Pradesh\", \"West Bengal\", \"Bihar\", \"Telangana\", \"Gujarat\", \"Assam\", \"Rajasthan\", \"Odisha\", \"Haryana\", \"Madhya Pradesh\", \"Kerala\", \"Punjab\", \"Jammu and Kashmir\", \"Jharkhand\", \"Chhattisgarh\", \"Uttarakhand\", \"Goa\", \"Tripura\", \"Puducherry\", \"Manipur\", \"Himachal Pradesh\", \"Nagaland\", \"Arunachal Pradesh\", \"Andaman and Nicobar Islands\", \"Ladakh\", \"Chandigarh\", \"Dadra and Nagar Haveli and Daman and Diu\", \"Meghalaya\", \"Sikkim\", \"Mizoram\", \"State Unassigned\", \"Lakshadweep\"], \"y\": [4037711, 863062, 451827, 476506, 379486, 185220, 259765, 174659, 145861, 138395, 101695, 121225, 88515, 120221, 71983, 70244, 82105, 60013, 42241, 48039, 40634, 23011, 19863, 14524, 16566, 6699, 6830, 4128, 4775, 3257, 2935, 5268, 2520, 2734, 1843, 1062, 0, 0]}],\n",
       "                        {\"legend\": {\"bgcolor\": \"#F5F6F9\", \"font\": {\"color\": \"#4D5663\"}}, \"paper_bgcolor\": \"#F5F6F9\", \"plot_bgcolor\": \"#F5F6F9\", \"template\": {\"data\": {\"bar\": [{\"error_x\": {\"color\": \"#2a3f5f\"}, \"error_y\": {\"color\": \"#2a3f5f\"}, \"marker\": {\"line\": {\"color\": \"#E5ECF6\", \"width\": 0.5}}, \"type\": \"bar\"}], \"barpolar\": [{\"marker\": {\"line\": {\"color\": \"#E5ECF6\", \"width\": 0.5}}, \"type\": \"barpolar\"}], \"carpet\": [{\"aaxis\": {\"endlinecolor\": \"#2a3f5f\", \"gridcolor\": \"white\", \"linecolor\": \"white\", \"minorgridcolor\": \"white\", \"startlinecolor\": \"#2a3f5f\"}, \"baxis\": {\"endlinecolor\": \"#2a3f5f\", \"gridcolor\": \"white\", \"linecolor\": \"white\", \"minorgridcolor\": \"white\", \"startlinecolor\": \"#2a3f5f\"}, \"type\": \"carpet\"}], \"choropleth\": [{\"colorbar\": {\"outlinewidth\": 0, \"ticks\": \"\"}, \"type\": \"choropleth\"}], \"contour\": [{\"colorbar\": {\"outlinewidth\": 0, \"ticks\": \"\"}, \"colorscale\": [[0.0, \"#0d0887\"], [0.1111111111111111, \"#46039f\"], [0.2222222222222222, \"#7201a8\"], [0.3333333333333333, \"#9c179e\"], [0.4444444444444444, \"#bd3786\"], [0.5555555555555556, \"#d8576b\"], [0.6666666666666666, \"#ed7953\"], [0.7777777777777778, \"#fb9f3a\"], [0.8888888888888888, \"#fdca26\"], [1.0, \"#f0f921\"]], \"type\": \"contour\"}], \"contourcarpet\": [{\"colorbar\": {\"outlinewidth\": 0, \"ticks\": \"\"}, \"type\": \"contourcarpet\"}], \"heatmap\": [{\"colorbar\": {\"outlinewidth\": 0, \"ticks\": \"\"}, \"colorscale\": [[0.0, \"#0d0887\"], [0.1111111111111111, \"#46039f\"], [0.2222222222222222, \"#7201a8\"], [0.3333333333333333, \"#9c179e\"], [0.4444444444444444, \"#bd3786\"], [0.5555555555555556, \"#d8576b\"], [0.6666666666666666, \"#ed7953\"], [0.7777777777777778, \"#fb9f3a\"], [0.8888888888888888, \"#fdca26\"], [1.0, \"#f0f921\"]], \"type\": \"heatmap\"}], \"heatmapgl\": [{\"colorbar\": {\"outlinewidth\": 0, \"ticks\": \"\"}, \"colorscale\": [[0.0, \"#0d0887\"], [0.1111111111111111, \"#46039f\"], [0.2222222222222222, \"#7201a8\"], [0.3333333333333333, \"#9c179e\"], [0.4444444444444444, \"#bd3786\"], [0.5555555555555556, \"#d8576b\"], [0.6666666666666666, \"#ed7953\"], [0.7777777777777778, \"#fb9f3a\"], [0.8888888888888888, \"#fdca26\"], [1.0, \"#f0f921\"]], \"type\": \"heatmapgl\"}], \"histogram\": [{\"marker\": {\"colorbar\": {\"outlinewidth\": 0, \"ticks\": \"\"}}, \"type\": \"histogram\"}], \"histogram2d\": [{\"colorbar\": {\"outlinewidth\": 0, \"ticks\": \"\"}, \"colorscale\": [[0.0, \"#0d0887\"], [0.1111111111111111, \"#46039f\"], [0.2222222222222222, \"#7201a8\"], [0.3333333333333333, \"#9c179e\"], [0.4444444444444444, \"#bd3786\"], [0.5555555555555556, \"#d8576b\"], [0.6666666666666666, \"#ed7953\"], [0.7777777777777778, \"#fb9f3a\"], [0.8888888888888888, \"#fdca26\"], [1.0, \"#f0f921\"]], \"type\": \"histogram2d\"}], \"histogram2dcontour\": [{\"colorbar\": {\"outlinewidth\": 0, \"ticks\": \"\"}, \"colorscale\": [[0.0, \"#0d0887\"], [0.1111111111111111, \"#46039f\"], [0.2222222222222222, \"#7201a8\"], [0.3333333333333333, \"#9c179e\"], [0.4444444444444444, \"#bd3786\"], [0.5555555555555556, \"#d8576b\"], [0.6666666666666666, \"#ed7953\"], [0.7777777777777778, \"#fb9f3a\"], [0.8888888888888888, \"#fdca26\"], [1.0, \"#f0f921\"]], \"type\": \"histogram2dcontour\"}], \"mesh3d\": [{\"colorbar\": {\"outlinewidth\": 0, \"ticks\": \"\"}, \"type\": \"mesh3d\"}], \"parcoords\": [{\"line\": {\"colorbar\": {\"outlinewidth\": 0, \"ticks\": \"\"}}, \"type\": \"parcoords\"}], \"pie\": [{\"automargin\": true, \"type\": \"pie\"}], \"scatter\": [{\"marker\": {\"colorbar\": {\"outlinewidth\": 0, \"ticks\": \"\"}}, \"type\": \"scatter\"}], \"scatter3d\": [{\"line\": {\"colorbar\": {\"outlinewidth\": 0, \"ticks\": \"\"}}, \"marker\": {\"colorbar\": {\"outlinewidth\": 0, \"ticks\": \"\"}}, \"type\": \"scatter3d\"}], \"scattercarpet\": [{\"marker\": {\"colorbar\": {\"outlinewidth\": 0, \"ticks\": \"\"}}, \"type\": \"scattercarpet\"}], \"scattergeo\": [{\"marker\": {\"colorbar\": {\"outlinewidth\": 0, \"ticks\": \"\"}}, \"type\": \"scattergeo\"}], \"scattergl\": [{\"marker\": {\"colorbar\": {\"outlinewidth\": 0, \"ticks\": \"\"}}, \"type\": \"scattergl\"}], \"scattermapbox\": [{\"marker\": {\"colorbar\": {\"outlinewidth\": 0, \"ticks\": \"\"}}, \"type\": \"scattermapbox\"}], \"scatterpolar\": [{\"marker\": {\"colorbar\": {\"outlinewidth\": 0, \"ticks\": \"\"}}, \"type\": \"scatterpolar\"}], \"scatterpolargl\": [{\"marker\": {\"colorbar\": {\"outlinewidth\": 0, \"ticks\": \"\"}}, \"type\": \"scatterpolargl\"}], \"scatterternary\": [{\"marker\": {\"colorbar\": {\"outlinewidth\": 0, \"ticks\": \"\"}}, \"type\": \"scatterternary\"}], \"surface\": [{\"colorbar\": {\"outlinewidth\": 0, \"ticks\": \"\"}, \"colorscale\": [[0.0, \"#0d0887\"], [0.1111111111111111, \"#46039f\"], [0.2222222222222222, \"#7201a8\"], [0.3333333333333333, \"#9c179e\"], [0.4444444444444444, \"#bd3786\"], [0.5555555555555556, \"#d8576b\"], [0.6666666666666666, \"#ed7953\"], [0.7777777777777778, \"#fb9f3a\"], [0.8888888888888888, \"#fdca26\"], [1.0, \"#f0f921\"]], \"type\": \"surface\"}], \"table\": [{\"cells\": {\"fill\": {\"color\": \"#EBF0F8\"}, \"line\": {\"color\": \"white\"}}, \"header\": {\"fill\": {\"color\": \"#C8D4E3\"}, \"line\": {\"color\": \"white\"}}, \"type\": \"table\"}]}, \"layout\": {\"annotationdefaults\": {\"arrowcolor\": \"#2a3f5f\", \"arrowhead\": 0, \"arrowwidth\": 1}, \"coloraxis\": {\"colorbar\": {\"outlinewidth\": 0, \"ticks\": \"\"}}, \"colorscale\": {\"diverging\": [[0, \"#8e0152\"], [0.1, \"#c51b7d\"], [0.2, \"#de77ae\"], [0.3, \"#f1b6da\"], [0.4, \"#fde0ef\"], [0.5, \"#f7f7f7\"], [0.6, \"#e6f5d0\"], [0.7, \"#b8e186\"], [0.8, \"#7fbc41\"], [0.9, \"#4d9221\"], [1, \"#276419\"]], \"sequential\": [[0.0, \"#0d0887\"], [0.1111111111111111, \"#46039f\"], [0.2222222222222222, \"#7201a8\"], [0.3333333333333333, \"#9c179e\"], [0.4444444444444444, \"#bd3786\"], [0.5555555555555556, \"#d8576b\"], [0.6666666666666666, \"#ed7953\"], [0.7777777777777778, \"#fb9f3a\"], [0.8888888888888888, \"#fdca26\"], [1.0, \"#f0f921\"]], \"sequentialminus\": [[0.0, \"#0d0887\"], [0.1111111111111111, \"#46039f\"], [0.2222222222222222, \"#7201a8\"], [0.3333333333333333, \"#9c179e\"], [0.4444444444444444, \"#bd3786\"], [0.5555555555555556, \"#d8576b\"], [0.6666666666666666, \"#ed7953\"], [0.7777777777777778, \"#fb9f3a\"], [0.8888888888888888, \"#fdca26\"], [1.0, \"#f0f921\"]]}, \"colorway\": [\"#636efa\", \"#EF553B\", \"#00cc96\", \"#ab63fa\", \"#FFA15A\", \"#19d3f3\", \"#FF6692\", \"#B6E880\", \"#FF97FF\", \"#FECB52\"], \"font\": {\"color\": \"#2a3f5f\"}, \"geo\": {\"bgcolor\": \"white\", \"lakecolor\": \"white\", \"landcolor\": \"#E5ECF6\", \"showlakes\": true, \"showland\": true, \"subunitcolor\": \"white\"}, \"hoverlabel\": {\"align\": \"left\"}, \"hovermode\": \"closest\", \"mapbox\": {\"style\": \"light\"}, \"paper_bgcolor\": \"white\", \"plot_bgcolor\": \"#E5ECF6\", \"polar\": {\"angularaxis\": {\"gridcolor\": \"white\", \"linecolor\": \"white\", \"ticks\": \"\"}, \"bgcolor\": \"#E5ECF6\", \"radialaxis\": {\"gridcolor\": \"white\", \"linecolor\": \"white\", \"ticks\": \"\"}}, \"scene\": {\"xaxis\": {\"backgroundcolor\": \"#E5ECF6\", \"gridcolor\": \"white\", \"gridwidth\": 2, \"linecolor\": \"white\", \"showbackground\": true, \"ticks\": \"\", \"zerolinecolor\": \"white\"}, \"yaxis\": {\"backgroundcolor\": \"#E5ECF6\", \"gridcolor\": \"white\", \"gridwidth\": 2, \"linecolor\": \"white\", \"showbackground\": true, \"ticks\": \"\", \"zerolinecolor\": \"white\"}, \"zaxis\": {\"backgroundcolor\": \"#E5ECF6\", \"gridcolor\": \"white\", \"gridwidth\": 2, \"linecolor\": \"white\", \"showbackground\": true, \"ticks\": \"\", \"zerolinecolor\": \"white\"}}, \"shapedefaults\": {\"line\": {\"color\": \"#2a3f5f\"}}, \"ternary\": {\"aaxis\": {\"gridcolor\": \"white\", \"linecolor\": \"white\", \"ticks\": \"\"}, \"baxis\": {\"gridcolor\": \"white\", \"linecolor\": \"white\", \"ticks\": \"\"}, \"bgcolor\": \"#E5ECF6\", \"caxis\": {\"gridcolor\": \"white\", \"linecolor\": \"white\", \"ticks\": \"\"}}, \"title\": {\"x\": 0.05}, \"xaxis\": {\"automargin\": true, \"gridcolor\": \"white\", \"linecolor\": \"white\", \"ticks\": \"\", \"title\": {\"standoff\": 15}, \"zerolinecolor\": \"white\", \"zerolinewidth\": 2}, \"yaxis\": {\"automargin\": true, \"gridcolor\": \"white\", \"linecolor\": \"white\", \"ticks\": \"\", \"title\": {\"standoff\": 15}, \"zerolinecolor\": \"white\", \"zerolinewidth\": 2}}}, \"title\": {\"font\": {\"color\": \"#4D5663\"}, \"text\": \"Covid_19 graph\"}, \"xaxis\": {\"gridcolor\": \"#E1E5ED\", \"showgrid\": true, \"tickfont\": {\"color\": \"#4D5663\"}, \"title\": {\"font\": {\"color\": \"#4D5663\"}, \"text\": \"State\"}, \"zerolinecolor\": \"#E1E5ED\"}, \"yaxis\": {\"gridcolor\": \"#E1E5ED\", \"showgrid\": true, \"tickfont\": {\"color\": \"#4D5663\"}, \"title\": {\"font\": {\"color\": \"#4D5663\"}, \"text\": \"Confirmed Cases\"}, \"zerolinecolor\": \"#E1E5ED\"}},\n",
       "                        {\"showLink\": true, \"linkText\": \"Export to plot.ly\", \"plotlyServerURL\": \"https://plot.ly\", \"responsive\": true}\n",
       "                    ).then(function(){\n",
       "                            \n",
       "var gd = document.getElementById('7583494e-78c5-4bde-9810-f3fd4b049deb');\n",
       "var x = new MutationObserver(function (mutations, observer) {{\n",
       "        var display = window.getComputedStyle(gd).display;\n",
       "        if (!display || display === 'none') {{\n",
       "            console.log([gd, 'removed!']);\n",
       "            Plotly.purge(gd);\n",
       "            observer.disconnect();\n",
       "        }}\n",
       "}});\n",
       "\n",
       "// Listen for the removal of the full notebook cells\n",
       "var notebookContainer = gd.closest('#notebook-container');\n",
       "if (notebookContainer) {{\n",
       "    x.observe(notebookContainer, {childList: true});\n",
       "}}\n",
       "\n",
       "// Listen for the clearing of the current output cell\n",
       "var outputEl = gd.closest('.output');\n",
       "if (outputEl) {{\n",
       "    x.observe(outputEl, {childList: true});\n",
       "}}\n",
       "\n",
       "                        })\n",
       "                };\n",
       "                });\n",
       "            </script>\n",
       "        </div>"
      ]
     },
     "metadata": {},
     "output_type": "display_data"
    }
   ],
   "source": [
    "\n",
    "df.iplot(kind= 'scatter', x= 'State', y='Confirmed', mode= 'markers+lines', title= 'Covid_19 graph', xTitle= 'State', yTitle= 'Confirmed Cases', color= 'red', size= 10)\n"
   ]
  },
  {
   "cell_type": "markdown",
   "metadata": {},
   "source": [
    "# Recovered cases per State"
   ]
  },
  {
   "cell_type": "code",
   "execution_count": 12,
   "metadata": {},
   "outputs": [
    {
     "data": {
      "application/vnd.plotly.v1+json": {
       "config": {
        "linkText": "Export to plot.ly",
        "plotlyServerURL": "https://plot.ly",
        "showLink": true
       },
       "data": [
        {
         "line": {
          "color": "rgba(219, 64, 82, 1.0)",
          "dash": "solid",
          "shape": "linear",
          "width": 1.3
         },
         "marker": {
          "size": 10,
          "symbol": "circle"
         },
         "mode": "markers+lines",
         "name": "Recovered",
         "text": "",
         "type": "scatter",
         "x": [
          "Total",
          "Maharashtra",
          "Tamil Nadu",
          "Andhra Pradesh",
          "Karnataka",
          "Delhi",
          "Uttar Pradesh",
          "West Bengal",
          "Bihar",
          "Telangana",
          "Gujarat",
          "Assam",
          "Rajasthan",
          "Odisha",
          "Haryana",
          "Madhya Pradesh",
          "Kerala",
          "Punjab",
          "Jammu and Kashmir",
          "Jharkhand",
          "Chhattisgarh",
          "Uttarakhand",
          "Goa",
          "Tripura",
          "Puducherry",
          "Manipur",
          "Himachal Pradesh",
          "Nagaland",
          "Arunachal Pradesh",
          "Andaman and Nicobar Islands",
          "Ladakh",
          "Chandigarh",
          "Dadra and Nagar Haveli and Daman and Diu",
          "Meghalaya",
          "Sikkim",
          "Mizoram",
          "State Unassigned",
          "Lakshadweep"
         ],
         "y": [
          3115588,
          625773,
          392507,
          370163,
          274196,
          161865,
          195959,
          147553,
          128376,
          104603,
          82498,
          92718,
          71990,
          90331,
          57171,
          53257,
          60444,
          42543,
          31924,
          32043,
          19608,
          15447,
          14747,
          8483,
          11107,
          4899,
          4920,
          3419,
          3280,
          2863,
          2085,
          3105,
          2209,
          1468,
          1321,
          713,
          0,
          0
         ]
        }
       ],
       "layout": {
        "legend": {
         "bgcolor": "#F5F6F9",
         "font": {
          "color": "#4D5663"
         }
        },
        "paper_bgcolor": "#F5F6F9",
        "plot_bgcolor": "#F5F6F9",
        "template": {
         "data": {
          "bar": [
           {
            "error_x": {
             "color": "#2a3f5f"
            },
            "error_y": {
             "color": "#2a3f5f"
            },
            "marker": {
             "line": {
              "color": "#E5ECF6",
              "width": 0.5
             }
            },
            "type": "bar"
           }
          ],
          "barpolar": [
           {
            "marker": {
             "line": {
              "color": "#E5ECF6",
              "width": 0.5
             }
            },
            "type": "barpolar"
           }
          ],
          "carpet": [
           {
            "aaxis": {
             "endlinecolor": "#2a3f5f",
             "gridcolor": "white",
             "linecolor": "white",
             "minorgridcolor": "white",
             "startlinecolor": "#2a3f5f"
            },
            "baxis": {
             "endlinecolor": "#2a3f5f",
             "gridcolor": "white",
             "linecolor": "white",
             "minorgridcolor": "white",
             "startlinecolor": "#2a3f5f"
            },
            "type": "carpet"
           }
          ],
          "choropleth": [
           {
            "colorbar": {
             "outlinewidth": 0,
             "ticks": ""
            },
            "type": "choropleth"
           }
          ],
          "contour": [
           {
            "colorbar": {
             "outlinewidth": 0,
             "ticks": ""
            },
            "colorscale": [
             [
              0,
              "#0d0887"
             ],
             [
              0.1111111111111111,
              "#46039f"
             ],
             [
              0.2222222222222222,
              "#7201a8"
             ],
             [
              0.3333333333333333,
              "#9c179e"
             ],
             [
              0.4444444444444444,
              "#bd3786"
             ],
             [
              0.5555555555555556,
              "#d8576b"
             ],
             [
              0.6666666666666666,
              "#ed7953"
             ],
             [
              0.7777777777777778,
              "#fb9f3a"
             ],
             [
              0.8888888888888888,
              "#fdca26"
             ],
             [
              1,
              "#f0f921"
             ]
            ],
            "type": "contour"
           }
          ],
          "contourcarpet": [
           {
            "colorbar": {
             "outlinewidth": 0,
             "ticks": ""
            },
            "type": "contourcarpet"
           }
          ],
          "heatmap": [
           {
            "colorbar": {
             "outlinewidth": 0,
             "ticks": ""
            },
            "colorscale": [
             [
              0,
              "#0d0887"
             ],
             [
              0.1111111111111111,
              "#46039f"
             ],
             [
              0.2222222222222222,
              "#7201a8"
             ],
             [
              0.3333333333333333,
              "#9c179e"
             ],
             [
              0.4444444444444444,
              "#bd3786"
             ],
             [
              0.5555555555555556,
              "#d8576b"
             ],
             [
              0.6666666666666666,
              "#ed7953"
             ],
             [
              0.7777777777777778,
              "#fb9f3a"
             ],
             [
              0.8888888888888888,
              "#fdca26"
             ],
             [
              1,
              "#f0f921"
             ]
            ],
            "type": "heatmap"
           }
          ],
          "heatmapgl": [
           {
            "colorbar": {
             "outlinewidth": 0,
             "ticks": ""
            },
            "colorscale": [
             [
              0,
              "#0d0887"
             ],
             [
              0.1111111111111111,
              "#46039f"
             ],
             [
              0.2222222222222222,
              "#7201a8"
             ],
             [
              0.3333333333333333,
              "#9c179e"
             ],
             [
              0.4444444444444444,
              "#bd3786"
             ],
             [
              0.5555555555555556,
              "#d8576b"
             ],
             [
              0.6666666666666666,
              "#ed7953"
             ],
             [
              0.7777777777777778,
              "#fb9f3a"
             ],
             [
              0.8888888888888888,
              "#fdca26"
             ],
             [
              1,
              "#f0f921"
             ]
            ],
            "type": "heatmapgl"
           }
          ],
          "histogram": [
           {
            "marker": {
             "colorbar": {
              "outlinewidth": 0,
              "ticks": ""
             }
            },
            "type": "histogram"
           }
          ],
          "histogram2d": [
           {
            "colorbar": {
             "outlinewidth": 0,
             "ticks": ""
            },
            "colorscale": [
             [
              0,
              "#0d0887"
             ],
             [
              0.1111111111111111,
              "#46039f"
             ],
             [
              0.2222222222222222,
              "#7201a8"
             ],
             [
              0.3333333333333333,
              "#9c179e"
             ],
             [
              0.4444444444444444,
              "#bd3786"
             ],
             [
              0.5555555555555556,
              "#d8576b"
             ],
             [
              0.6666666666666666,
              "#ed7953"
             ],
             [
              0.7777777777777778,
              "#fb9f3a"
             ],
             [
              0.8888888888888888,
              "#fdca26"
             ],
             [
              1,
              "#f0f921"
             ]
            ],
            "type": "histogram2d"
           }
          ],
          "histogram2dcontour": [
           {
            "colorbar": {
             "outlinewidth": 0,
             "ticks": ""
            },
            "colorscale": [
             [
              0,
              "#0d0887"
             ],
             [
              0.1111111111111111,
              "#46039f"
             ],
             [
              0.2222222222222222,
              "#7201a8"
             ],
             [
              0.3333333333333333,
              "#9c179e"
             ],
             [
              0.4444444444444444,
              "#bd3786"
             ],
             [
              0.5555555555555556,
              "#d8576b"
             ],
             [
              0.6666666666666666,
              "#ed7953"
             ],
             [
              0.7777777777777778,
              "#fb9f3a"
             ],
             [
              0.8888888888888888,
              "#fdca26"
             ],
             [
              1,
              "#f0f921"
             ]
            ],
            "type": "histogram2dcontour"
           }
          ],
          "mesh3d": [
           {
            "colorbar": {
             "outlinewidth": 0,
             "ticks": ""
            },
            "type": "mesh3d"
           }
          ],
          "parcoords": [
           {
            "line": {
             "colorbar": {
              "outlinewidth": 0,
              "ticks": ""
             }
            },
            "type": "parcoords"
           }
          ],
          "pie": [
           {
            "automargin": true,
            "type": "pie"
           }
          ],
          "scatter": [
           {
            "marker": {
             "colorbar": {
              "outlinewidth": 0,
              "ticks": ""
             }
            },
            "type": "scatter"
           }
          ],
          "scatter3d": [
           {
            "line": {
             "colorbar": {
              "outlinewidth": 0,
              "ticks": ""
             }
            },
            "marker": {
             "colorbar": {
              "outlinewidth": 0,
              "ticks": ""
             }
            },
            "type": "scatter3d"
           }
          ],
          "scattercarpet": [
           {
            "marker": {
             "colorbar": {
              "outlinewidth": 0,
              "ticks": ""
             }
            },
            "type": "scattercarpet"
           }
          ],
          "scattergeo": [
           {
            "marker": {
             "colorbar": {
              "outlinewidth": 0,
              "ticks": ""
             }
            },
            "type": "scattergeo"
           }
          ],
          "scattergl": [
           {
            "marker": {
             "colorbar": {
              "outlinewidth": 0,
              "ticks": ""
             }
            },
            "type": "scattergl"
           }
          ],
          "scattermapbox": [
           {
            "marker": {
             "colorbar": {
              "outlinewidth": 0,
              "ticks": ""
             }
            },
            "type": "scattermapbox"
           }
          ],
          "scatterpolar": [
           {
            "marker": {
             "colorbar": {
              "outlinewidth": 0,
              "ticks": ""
             }
            },
            "type": "scatterpolar"
           }
          ],
          "scatterpolargl": [
           {
            "marker": {
             "colorbar": {
              "outlinewidth": 0,
              "ticks": ""
             }
            },
            "type": "scatterpolargl"
           }
          ],
          "scatterternary": [
           {
            "marker": {
             "colorbar": {
              "outlinewidth": 0,
              "ticks": ""
             }
            },
            "type": "scatterternary"
           }
          ],
          "surface": [
           {
            "colorbar": {
             "outlinewidth": 0,
             "ticks": ""
            },
            "colorscale": [
             [
              0,
              "#0d0887"
             ],
             [
              0.1111111111111111,
              "#46039f"
             ],
             [
              0.2222222222222222,
              "#7201a8"
             ],
             [
              0.3333333333333333,
              "#9c179e"
             ],
             [
              0.4444444444444444,
              "#bd3786"
             ],
             [
              0.5555555555555556,
              "#d8576b"
             ],
             [
              0.6666666666666666,
              "#ed7953"
             ],
             [
              0.7777777777777778,
              "#fb9f3a"
             ],
             [
              0.8888888888888888,
              "#fdca26"
             ],
             [
              1,
              "#f0f921"
             ]
            ],
            "type": "surface"
           }
          ],
          "table": [
           {
            "cells": {
             "fill": {
              "color": "#EBF0F8"
             },
             "line": {
              "color": "white"
             }
            },
            "header": {
             "fill": {
              "color": "#C8D4E3"
             },
             "line": {
              "color": "white"
             }
            },
            "type": "table"
           }
          ]
         },
         "layout": {
          "annotationdefaults": {
           "arrowcolor": "#2a3f5f",
           "arrowhead": 0,
           "arrowwidth": 1
          },
          "coloraxis": {
           "colorbar": {
            "outlinewidth": 0,
            "ticks": ""
           }
          },
          "colorscale": {
           "diverging": [
            [
             0,
             "#8e0152"
            ],
            [
             0.1,
             "#c51b7d"
            ],
            [
             0.2,
             "#de77ae"
            ],
            [
             0.3,
             "#f1b6da"
            ],
            [
             0.4,
             "#fde0ef"
            ],
            [
             0.5,
             "#f7f7f7"
            ],
            [
             0.6,
             "#e6f5d0"
            ],
            [
             0.7,
             "#b8e186"
            ],
            [
             0.8,
             "#7fbc41"
            ],
            [
             0.9,
             "#4d9221"
            ],
            [
             1,
             "#276419"
            ]
           ],
           "sequential": [
            [
             0,
             "#0d0887"
            ],
            [
             0.1111111111111111,
             "#46039f"
            ],
            [
             0.2222222222222222,
             "#7201a8"
            ],
            [
             0.3333333333333333,
             "#9c179e"
            ],
            [
             0.4444444444444444,
             "#bd3786"
            ],
            [
             0.5555555555555556,
             "#d8576b"
            ],
            [
             0.6666666666666666,
             "#ed7953"
            ],
            [
             0.7777777777777778,
             "#fb9f3a"
            ],
            [
             0.8888888888888888,
             "#fdca26"
            ],
            [
             1,
             "#f0f921"
            ]
           ],
           "sequentialminus": [
            [
             0,
             "#0d0887"
            ],
            [
             0.1111111111111111,
             "#46039f"
            ],
            [
             0.2222222222222222,
             "#7201a8"
            ],
            [
             0.3333333333333333,
             "#9c179e"
            ],
            [
             0.4444444444444444,
             "#bd3786"
            ],
            [
             0.5555555555555556,
             "#d8576b"
            ],
            [
             0.6666666666666666,
             "#ed7953"
            ],
            [
             0.7777777777777778,
             "#fb9f3a"
            ],
            [
             0.8888888888888888,
             "#fdca26"
            ],
            [
             1,
             "#f0f921"
            ]
           ]
          },
          "colorway": [
           "#636efa",
           "#EF553B",
           "#00cc96",
           "#ab63fa",
           "#FFA15A",
           "#19d3f3",
           "#FF6692",
           "#B6E880",
           "#FF97FF",
           "#FECB52"
          ],
          "font": {
           "color": "#2a3f5f"
          },
          "geo": {
           "bgcolor": "white",
           "lakecolor": "white",
           "landcolor": "#E5ECF6",
           "showlakes": true,
           "showland": true,
           "subunitcolor": "white"
          },
          "hoverlabel": {
           "align": "left"
          },
          "hovermode": "closest",
          "mapbox": {
           "style": "light"
          },
          "paper_bgcolor": "white",
          "plot_bgcolor": "#E5ECF6",
          "polar": {
           "angularaxis": {
            "gridcolor": "white",
            "linecolor": "white",
            "ticks": ""
           },
           "bgcolor": "#E5ECF6",
           "radialaxis": {
            "gridcolor": "white",
            "linecolor": "white",
            "ticks": ""
           }
          },
          "scene": {
           "xaxis": {
            "backgroundcolor": "#E5ECF6",
            "gridcolor": "white",
            "gridwidth": 2,
            "linecolor": "white",
            "showbackground": true,
            "ticks": "",
            "zerolinecolor": "white"
           },
           "yaxis": {
            "backgroundcolor": "#E5ECF6",
            "gridcolor": "white",
            "gridwidth": 2,
            "linecolor": "white",
            "showbackground": true,
            "ticks": "",
            "zerolinecolor": "white"
           },
           "zaxis": {
            "backgroundcolor": "#E5ECF6",
            "gridcolor": "white",
            "gridwidth": 2,
            "linecolor": "white",
            "showbackground": true,
            "ticks": "",
            "zerolinecolor": "white"
           }
          },
          "shapedefaults": {
           "line": {
            "color": "#2a3f5f"
           }
          },
          "ternary": {
           "aaxis": {
            "gridcolor": "white",
            "linecolor": "white",
            "ticks": ""
           },
           "baxis": {
            "gridcolor": "white",
            "linecolor": "white",
            "ticks": ""
           },
           "bgcolor": "#E5ECF6",
           "caxis": {
            "gridcolor": "white",
            "linecolor": "white",
            "ticks": ""
           }
          },
          "title": {
           "x": 0.05
          },
          "xaxis": {
           "automargin": true,
           "gridcolor": "white",
           "linecolor": "white",
           "ticks": "",
           "title": {
            "standoff": 15
           },
           "zerolinecolor": "white",
           "zerolinewidth": 2
          },
          "yaxis": {
           "automargin": true,
           "gridcolor": "white",
           "linecolor": "white",
           "ticks": "",
           "title": {
            "standoff": 15
           },
           "zerolinecolor": "white",
           "zerolinewidth": 2
          }
         }
        },
        "title": {
         "font": {
          "color": "#4D5663"
         },
         "text": "Covid_19 graph"
        },
        "xaxis": {
         "gridcolor": "#E1E5ED",
         "showgrid": true,
         "tickfont": {
          "color": "#4D5663"
         },
         "title": {
          "font": {
           "color": "#4D5663"
          },
          "text": "State"
         },
         "zerolinecolor": "#E1E5ED"
        },
        "yaxis": {
         "gridcolor": "#E1E5ED",
         "showgrid": true,
         "tickfont": {
          "color": "#4D5663"
         },
         "title": {
          "font": {
           "color": "#4D5663"
          },
          "text": "Recovered"
         },
         "zerolinecolor": "#E1E5ED"
        }
       }
      },
      "text/html": [
       "<div>\n",
       "        \n",
       "        \n",
       "            <div id=\"383f15e3-79a6-4168-9eab-e1df4ffe4167\" class=\"plotly-graph-div\" style=\"height:525px; width:100%;\"></div>\n",
       "            <script type=\"text/javascript\">\n",
       "                require([\"plotly\"], function(Plotly) {\n",
       "                    window.PLOTLYENV=window.PLOTLYENV || {};\n",
       "                    window.PLOTLYENV.BASE_URL='https://plot.ly';\n",
       "                    \n",
       "                if (document.getElementById(\"383f15e3-79a6-4168-9eab-e1df4ffe4167\")) {\n",
       "                    Plotly.newPlot(\n",
       "                        '383f15e3-79a6-4168-9eab-e1df4ffe4167',\n",
       "                        [{\"line\": {\"color\": \"rgba(219, 64, 82, 1.0)\", \"dash\": \"solid\", \"shape\": \"linear\", \"width\": 1.3}, \"marker\": {\"size\": 10, \"symbol\": \"circle\"}, \"mode\": \"markers+lines\", \"name\": \"Recovered\", \"text\": \"\", \"type\": \"scatter\", \"x\": [\"Total\", \"Maharashtra\", \"Tamil Nadu\", \"Andhra Pradesh\", \"Karnataka\", \"Delhi\", \"Uttar Pradesh\", \"West Bengal\", \"Bihar\", \"Telangana\", \"Gujarat\", \"Assam\", \"Rajasthan\", \"Odisha\", \"Haryana\", \"Madhya Pradesh\", \"Kerala\", \"Punjab\", \"Jammu and Kashmir\", \"Jharkhand\", \"Chhattisgarh\", \"Uttarakhand\", \"Goa\", \"Tripura\", \"Puducherry\", \"Manipur\", \"Himachal Pradesh\", \"Nagaland\", \"Arunachal Pradesh\", \"Andaman and Nicobar Islands\", \"Ladakh\", \"Chandigarh\", \"Dadra and Nagar Haveli and Daman and Diu\", \"Meghalaya\", \"Sikkim\", \"Mizoram\", \"State Unassigned\", \"Lakshadweep\"], \"y\": [3115588, 625773, 392507, 370163, 274196, 161865, 195959, 147553, 128376, 104603, 82498, 92718, 71990, 90331, 57171, 53257, 60444, 42543, 31924, 32043, 19608, 15447, 14747, 8483, 11107, 4899, 4920, 3419, 3280, 2863, 2085, 3105, 2209, 1468, 1321, 713, 0, 0]}],\n",
       "                        {\"legend\": {\"bgcolor\": \"#F5F6F9\", \"font\": {\"color\": \"#4D5663\"}}, \"paper_bgcolor\": \"#F5F6F9\", \"plot_bgcolor\": \"#F5F6F9\", \"template\": {\"data\": {\"bar\": [{\"error_x\": {\"color\": \"#2a3f5f\"}, \"error_y\": {\"color\": \"#2a3f5f\"}, \"marker\": {\"line\": {\"color\": \"#E5ECF6\", \"width\": 0.5}}, \"type\": \"bar\"}], \"barpolar\": [{\"marker\": {\"line\": {\"color\": \"#E5ECF6\", \"width\": 0.5}}, \"type\": \"barpolar\"}], \"carpet\": [{\"aaxis\": {\"endlinecolor\": \"#2a3f5f\", \"gridcolor\": \"white\", \"linecolor\": \"white\", \"minorgridcolor\": \"white\", \"startlinecolor\": \"#2a3f5f\"}, \"baxis\": {\"endlinecolor\": \"#2a3f5f\", \"gridcolor\": \"white\", \"linecolor\": \"white\", \"minorgridcolor\": \"white\", \"startlinecolor\": \"#2a3f5f\"}, \"type\": \"carpet\"}], \"choropleth\": [{\"colorbar\": {\"outlinewidth\": 0, \"ticks\": \"\"}, \"type\": \"choropleth\"}], \"contour\": [{\"colorbar\": {\"outlinewidth\": 0, \"ticks\": \"\"}, \"colorscale\": [[0.0, \"#0d0887\"], [0.1111111111111111, \"#46039f\"], [0.2222222222222222, \"#7201a8\"], [0.3333333333333333, \"#9c179e\"], [0.4444444444444444, \"#bd3786\"], [0.5555555555555556, \"#d8576b\"], [0.6666666666666666, \"#ed7953\"], [0.7777777777777778, \"#fb9f3a\"], [0.8888888888888888, \"#fdca26\"], [1.0, \"#f0f921\"]], \"type\": \"contour\"}], \"contourcarpet\": [{\"colorbar\": {\"outlinewidth\": 0, \"ticks\": \"\"}, \"type\": \"contourcarpet\"}], \"heatmap\": [{\"colorbar\": {\"outlinewidth\": 0, \"ticks\": \"\"}, \"colorscale\": [[0.0, \"#0d0887\"], [0.1111111111111111, \"#46039f\"], [0.2222222222222222, \"#7201a8\"], [0.3333333333333333, \"#9c179e\"], [0.4444444444444444, \"#bd3786\"], [0.5555555555555556, \"#d8576b\"], [0.6666666666666666, \"#ed7953\"], [0.7777777777777778, \"#fb9f3a\"], [0.8888888888888888, \"#fdca26\"], [1.0, \"#f0f921\"]], \"type\": \"heatmap\"}], \"heatmapgl\": [{\"colorbar\": {\"outlinewidth\": 0, \"ticks\": \"\"}, \"colorscale\": [[0.0, \"#0d0887\"], [0.1111111111111111, \"#46039f\"], [0.2222222222222222, \"#7201a8\"], [0.3333333333333333, \"#9c179e\"], [0.4444444444444444, \"#bd3786\"], [0.5555555555555556, \"#d8576b\"], [0.6666666666666666, \"#ed7953\"], [0.7777777777777778, \"#fb9f3a\"], [0.8888888888888888, \"#fdca26\"], [1.0, \"#f0f921\"]], \"type\": \"heatmapgl\"}], \"histogram\": [{\"marker\": {\"colorbar\": {\"outlinewidth\": 0, \"ticks\": \"\"}}, \"type\": \"histogram\"}], \"histogram2d\": [{\"colorbar\": {\"outlinewidth\": 0, \"ticks\": \"\"}, \"colorscale\": [[0.0, \"#0d0887\"], [0.1111111111111111, \"#46039f\"], [0.2222222222222222, \"#7201a8\"], [0.3333333333333333, \"#9c179e\"], [0.4444444444444444, \"#bd3786\"], [0.5555555555555556, \"#d8576b\"], [0.6666666666666666, \"#ed7953\"], [0.7777777777777778, \"#fb9f3a\"], [0.8888888888888888, \"#fdca26\"], [1.0, \"#f0f921\"]], \"type\": \"histogram2d\"}], \"histogram2dcontour\": [{\"colorbar\": {\"outlinewidth\": 0, \"ticks\": \"\"}, \"colorscale\": [[0.0, \"#0d0887\"], [0.1111111111111111, \"#46039f\"], [0.2222222222222222, \"#7201a8\"], [0.3333333333333333, \"#9c179e\"], [0.4444444444444444, \"#bd3786\"], [0.5555555555555556, \"#d8576b\"], [0.6666666666666666, \"#ed7953\"], [0.7777777777777778, \"#fb9f3a\"], [0.8888888888888888, \"#fdca26\"], [1.0, \"#f0f921\"]], \"type\": \"histogram2dcontour\"}], \"mesh3d\": [{\"colorbar\": {\"outlinewidth\": 0, \"ticks\": \"\"}, \"type\": \"mesh3d\"}], \"parcoords\": [{\"line\": {\"colorbar\": {\"outlinewidth\": 0, \"ticks\": \"\"}}, \"type\": \"parcoords\"}], \"pie\": [{\"automargin\": true, \"type\": \"pie\"}], \"scatter\": [{\"marker\": {\"colorbar\": {\"outlinewidth\": 0, \"ticks\": \"\"}}, \"type\": \"scatter\"}], \"scatter3d\": [{\"line\": {\"colorbar\": {\"outlinewidth\": 0, \"ticks\": \"\"}}, \"marker\": {\"colorbar\": {\"outlinewidth\": 0, \"ticks\": \"\"}}, \"type\": \"scatter3d\"}], \"scattercarpet\": [{\"marker\": {\"colorbar\": {\"outlinewidth\": 0, \"ticks\": \"\"}}, \"type\": \"scattercarpet\"}], \"scattergeo\": [{\"marker\": {\"colorbar\": {\"outlinewidth\": 0, \"ticks\": \"\"}}, \"type\": \"scattergeo\"}], \"scattergl\": [{\"marker\": {\"colorbar\": {\"outlinewidth\": 0, \"ticks\": \"\"}}, \"type\": \"scattergl\"}], \"scattermapbox\": [{\"marker\": {\"colorbar\": {\"outlinewidth\": 0, \"ticks\": \"\"}}, \"type\": \"scattermapbox\"}], \"scatterpolar\": [{\"marker\": {\"colorbar\": {\"outlinewidth\": 0, \"ticks\": \"\"}}, \"type\": \"scatterpolar\"}], \"scatterpolargl\": [{\"marker\": {\"colorbar\": {\"outlinewidth\": 0, \"ticks\": \"\"}}, \"type\": \"scatterpolargl\"}], \"scatterternary\": [{\"marker\": {\"colorbar\": {\"outlinewidth\": 0, \"ticks\": \"\"}}, \"type\": \"scatterternary\"}], \"surface\": [{\"colorbar\": {\"outlinewidth\": 0, \"ticks\": \"\"}, \"colorscale\": [[0.0, \"#0d0887\"], [0.1111111111111111, \"#46039f\"], [0.2222222222222222, \"#7201a8\"], [0.3333333333333333, \"#9c179e\"], [0.4444444444444444, \"#bd3786\"], [0.5555555555555556, \"#d8576b\"], [0.6666666666666666, \"#ed7953\"], [0.7777777777777778, \"#fb9f3a\"], [0.8888888888888888, \"#fdca26\"], [1.0, \"#f0f921\"]], \"type\": \"surface\"}], \"table\": [{\"cells\": {\"fill\": {\"color\": \"#EBF0F8\"}, \"line\": {\"color\": \"white\"}}, \"header\": {\"fill\": {\"color\": \"#C8D4E3\"}, \"line\": {\"color\": \"white\"}}, \"type\": \"table\"}]}, \"layout\": {\"annotationdefaults\": {\"arrowcolor\": \"#2a3f5f\", \"arrowhead\": 0, \"arrowwidth\": 1}, \"coloraxis\": {\"colorbar\": {\"outlinewidth\": 0, \"ticks\": \"\"}}, \"colorscale\": {\"diverging\": [[0, \"#8e0152\"], [0.1, \"#c51b7d\"], [0.2, \"#de77ae\"], [0.3, \"#f1b6da\"], [0.4, \"#fde0ef\"], [0.5, \"#f7f7f7\"], [0.6, \"#e6f5d0\"], [0.7, \"#b8e186\"], [0.8, \"#7fbc41\"], [0.9, \"#4d9221\"], [1, \"#276419\"]], \"sequential\": [[0.0, \"#0d0887\"], [0.1111111111111111, \"#46039f\"], [0.2222222222222222, \"#7201a8\"], [0.3333333333333333, \"#9c179e\"], [0.4444444444444444, \"#bd3786\"], [0.5555555555555556, \"#d8576b\"], [0.6666666666666666, \"#ed7953\"], [0.7777777777777778, \"#fb9f3a\"], [0.8888888888888888, \"#fdca26\"], [1.0, \"#f0f921\"]], \"sequentialminus\": [[0.0, \"#0d0887\"], [0.1111111111111111, \"#46039f\"], [0.2222222222222222, \"#7201a8\"], [0.3333333333333333, \"#9c179e\"], [0.4444444444444444, \"#bd3786\"], [0.5555555555555556, \"#d8576b\"], [0.6666666666666666, \"#ed7953\"], [0.7777777777777778, \"#fb9f3a\"], [0.8888888888888888, \"#fdca26\"], [1.0, \"#f0f921\"]]}, \"colorway\": [\"#636efa\", \"#EF553B\", \"#00cc96\", \"#ab63fa\", \"#FFA15A\", \"#19d3f3\", \"#FF6692\", \"#B6E880\", \"#FF97FF\", \"#FECB52\"], \"font\": {\"color\": \"#2a3f5f\"}, \"geo\": {\"bgcolor\": \"white\", \"lakecolor\": \"white\", \"landcolor\": \"#E5ECF6\", \"showlakes\": true, \"showland\": true, \"subunitcolor\": \"white\"}, \"hoverlabel\": {\"align\": \"left\"}, \"hovermode\": \"closest\", \"mapbox\": {\"style\": \"light\"}, \"paper_bgcolor\": \"white\", \"plot_bgcolor\": \"#E5ECF6\", \"polar\": {\"angularaxis\": {\"gridcolor\": \"white\", \"linecolor\": \"white\", \"ticks\": \"\"}, \"bgcolor\": \"#E5ECF6\", \"radialaxis\": {\"gridcolor\": \"white\", \"linecolor\": \"white\", \"ticks\": \"\"}}, \"scene\": {\"xaxis\": {\"backgroundcolor\": \"#E5ECF6\", \"gridcolor\": \"white\", \"gridwidth\": 2, \"linecolor\": \"white\", \"showbackground\": true, \"ticks\": \"\", \"zerolinecolor\": \"white\"}, \"yaxis\": {\"backgroundcolor\": \"#E5ECF6\", \"gridcolor\": \"white\", \"gridwidth\": 2, \"linecolor\": \"white\", \"showbackground\": true, \"ticks\": \"\", \"zerolinecolor\": \"white\"}, \"zaxis\": {\"backgroundcolor\": \"#E5ECF6\", \"gridcolor\": \"white\", \"gridwidth\": 2, \"linecolor\": \"white\", \"showbackground\": true, \"ticks\": \"\", \"zerolinecolor\": \"white\"}}, \"shapedefaults\": {\"line\": {\"color\": \"#2a3f5f\"}}, \"ternary\": {\"aaxis\": {\"gridcolor\": \"white\", \"linecolor\": \"white\", \"ticks\": \"\"}, \"baxis\": {\"gridcolor\": \"white\", \"linecolor\": \"white\", \"ticks\": \"\"}, \"bgcolor\": \"#E5ECF6\", \"caxis\": {\"gridcolor\": \"white\", \"linecolor\": \"white\", \"ticks\": \"\"}}, \"title\": {\"x\": 0.05}, \"xaxis\": {\"automargin\": true, \"gridcolor\": \"white\", \"linecolor\": \"white\", \"ticks\": \"\", \"title\": {\"standoff\": 15}, \"zerolinecolor\": \"white\", \"zerolinewidth\": 2}, \"yaxis\": {\"automargin\": true, \"gridcolor\": \"white\", \"linecolor\": \"white\", \"ticks\": \"\", \"title\": {\"standoff\": 15}, \"zerolinecolor\": \"white\", \"zerolinewidth\": 2}}}, \"title\": {\"font\": {\"color\": \"#4D5663\"}, \"text\": \"Covid_19 graph\"}, \"xaxis\": {\"gridcolor\": \"#E1E5ED\", \"showgrid\": true, \"tickfont\": {\"color\": \"#4D5663\"}, \"title\": {\"font\": {\"color\": \"#4D5663\"}, \"text\": \"State\"}, \"zerolinecolor\": \"#E1E5ED\"}, \"yaxis\": {\"gridcolor\": \"#E1E5ED\", \"showgrid\": true, \"tickfont\": {\"color\": \"#4D5663\"}, \"title\": {\"font\": {\"color\": \"#4D5663\"}, \"text\": \"Recovered\"}, \"zerolinecolor\": \"#E1E5ED\"}},\n",
       "                        {\"showLink\": true, \"linkText\": \"Export to plot.ly\", \"plotlyServerURL\": \"https://plot.ly\", \"responsive\": true}\n",
       "                    ).then(function(){\n",
       "                            \n",
       "var gd = document.getElementById('383f15e3-79a6-4168-9eab-e1df4ffe4167');\n",
       "var x = new MutationObserver(function (mutations, observer) {{\n",
       "        var display = window.getComputedStyle(gd).display;\n",
       "        if (!display || display === 'none') {{\n",
       "            console.log([gd, 'removed!']);\n",
       "            Plotly.purge(gd);\n",
       "            observer.disconnect();\n",
       "        }}\n",
       "}});\n",
       "\n",
       "// Listen for the removal of the full notebook cells\n",
       "var notebookContainer = gd.closest('#notebook-container');\n",
       "if (notebookContainer) {{\n",
       "    x.observe(notebookContainer, {childList: true});\n",
       "}}\n",
       "\n",
       "// Listen for the clearing of the current output cell\n",
       "var outputEl = gd.closest('.output');\n",
       "if (outputEl) {{\n",
       "    x.observe(outputEl, {childList: true});\n",
       "}}\n",
       "\n",
       "                        })\n",
       "                };\n",
       "                });\n",
       "            </script>\n",
       "        </div>"
      ]
     },
     "metadata": {},
     "output_type": "display_data"
    }
   ],
   "source": [
    "df.iplot(kind= 'scatter', x= 'State', y='Recovered', mode= 'markers+lines', title= 'Covid_19 graph', xTitle= 'State', yTitle= 'Recovered', color= 'red', size= 10)\n"
   ]
  },
  {
   "cell_type": "markdown",
   "metadata": {},
   "source": [
    "# Deceased per State"
   ]
  },
  {
   "cell_type": "code",
   "execution_count": 13,
   "metadata": {},
   "outputs": [
    {
     "data": {
      "application/vnd.plotly.v1+json": {
       "config": {
        "linkText": "Export to plot.ly",
        "plotlyServerURL": "https://plot.ly",
        "showLink": true
       },
       "data": [
        {
         "line": {
          "color": "rgba(219, 64, 82, 1.0)",
          "dash": "solid",
          "shape": "linear",
          "width": 1.3
         },
         "marker": {
          "size": 10,
          "symbol": "circle"
         },
         "mode": "markers+lines",
         "name": "Deaths",
         "text": "",
         "type": "scatter",
         "x": [
          "Total",
          "Maharashtra",
          "Tamil Nadu",
          "Andhra Pradesh",
          "Karnataka",
          "Delhi",
          "Uttar Pradesh",
          "West Bengal",
          "Bihar",
          "Telangana",
          "Gujarat",
          "Assam",
          "Rajasthan",
          "Odisha",
          "Haryana",
          "Madhya Pradesh",
          "Kerala",
          "Punjab",
          "Jammu and Kashmir",
          "Jharkhand",
          "Chhattisgarh",
          "Uttarakhand",
          "Goa",
          "Tripura",
          "Puducherry",
          "Manipur",
          "Himachal Pradesh",
          "Nagaland",
          "Arunachal Pradesh",
          "Andaman and Nicobar Islands",
          "Ladakh",
          "Chandigarh",
          "Dadra and Nagar Haveli and Daman and Diu",
          "Meghalaya",
          "Sikkim",
          "Mizoram",
          "State Unassigned",
          "Lakshadweep"
         ],
         "y": [
          69791,
          25964,
          7687,
          4276,
          6170,
          4513,
          3843,
          3452,
          750,
          877,
          3076,
          345,
          1116,
          591,
          759,
          1513,
          327,
          1739,
          770,
          447,
          337,
          312,
          220,
          136,
          298,
          35,
          49,
          8,
          8,
          49,
          35,
          68,
          2,
          14,
          5,
          0,
          0,
          0
         ]
        }
       ],
       "layout": {
        "legend": {
         "bgcolor": "#F5F6F9",
         "font": {
          "color": "#4D5663"
         }
        },
        "paper_bgcolor": "#F5F6F9",
        "plot_bgcolor": "#F5F6F9",
        "template": {
         "data": {
          "bar": [
           {
            "error_x": {
             "color": "#2a3f5f"
            },
            "error_y": {
             "color": "#2a3f5f"
            },
            "marker": {
             "line": {
              "color": "#E5ECF6",
              "width": 0.5
             }
            },
            "type": "bar"
           }
          ],
          "barpolar": [
           {
            "marker": {
             "line": {
              "color": "#E5ECF6",
              "width": 0.5
             }
            },
            "type": "barpolar"
           }
          ],
          "carpet": [
           {
            "aaxis": {
             "endlinecolor": "#2a3f5f",
             "gridcolor": "white",
             "linecolor": "white",
             "minorgridcolor": "white",
             "startlinecolor": "#2a3f5f"
            },
            "baxis": {
             "endlinecolor": "#2a3f5f",
             "gridcolor": "white",
             "linecolor": "white",
             "minorgridcolor": "white",
             "startlinecolor": "#2a3f5f"
            },
            "type": "carpet"
           }
          ],
          "choropleth": [
           {
            "colorbar": {
             "outlinewidth": 0,
             "ticks": ""
            },
            "type": "choropleth"
           }
          ],
          "contour": [
           {
            "colorbar": {
             "outlinewidth": 0,
             "ticks": ""
            },
            "colorscale": [
             [
              0,
              "#0d0887"
             ],
             [
              0.1111111111111111,
              "#46039f"
             ],
             [
              0.2222222222222222,
              "#7201a8"
             ],
             [
              0.3333333333333333,
              "#9c179e"
             ],
             [
              0.4444444444444444,
              "#bd3786"
             ],
             [
              0.5555555555555556,
              "#d8576b"
             ],
             [
              0.6666666666666666,
              "#ed7953"
             ],
             [
              0.7777777777777778,
              "#fb9f3a"
             ],
             [
              0.8888888888888888,
              "#fdca26"
             ],
             [
              1,
              "#f0f921"
             ]
            ],
            "type": "contour"
           }
          ],
          "contourcarpet": [
           {
            "colorbar": {
             "outlinewidth": 0,
             "ticks": ""
            },
            "type": "contourcarpet"
           }
          ],
          "heatmap": [
           {
            "colorbar": {
             "outlinewidth": 0,
             "ticks": ""
            },
            "colorscale": [
             [
              0,
              "#0d0887"
             ],
             [
              0.1111111111111111,
              "#46039f"
             ],
             [
              0.2222222222222222,
              "#7201a8"
             ],
             [
              0.3333333333333333,
              "#9c179e"
             ],
             [
              0.4444444444444444,
              "#bd3786"
             ],
             [
              0.5555555555555556,
              "#d8576b"
             ],
             [
              0.6666666666666666,
              "#ed7953"
             ],
             [
              0.7777777777777778,
              "#fb9f3a"
             ],
             [
              0.8888888888888888,
              "#fdca26"
             ],
             [
              1,
              "#f0f921"
             ]
            ],
            "type": "heatmap"
           }
          ],
          "heatmapgl": [
           {
            "colorbar": {
             "outlinewidth": 0,
             "ticks": ""
            },
            "colorscale": [
             [
              0,
              "#0d0887"
             ],
             [
              0.1111111111111111,
              "#46039f"
             ],
             [
              0.2222222222222222,
              "#7201a8"
             ],
             [
              0.3333333333333333,
              "#9c179e"
             ],
             [
              0.4444444444444444,
              "#bd3786"
             ],
             [
              0.5555555555555556,
              "#d8576b"
             ],
             [
              0.6666666666666666,
              "#ed7953"
             ],
             [
              0.7777777777777778,
              "#fb9f3a"
             ],
             [
              0.8888888888888888,
              "#fdca26"
             ],
             [
              1,
              "#f0f921"
             ]
            ],
            "type": "heatmapgl"
           }
          ],
          "histogram": [
           {
            "marker": {
             "colorbar": {
              "outlinewidth": 0,
              "ticks": ""
             }
            },
            "type": "histogram"
           }
          ],
          "histogram2d": [
           {
            "colorbar": {
             "outlinewidth": 0,
             "ticks": ""
            },
            "colorscale": [
             [
              0,
              "#0d0887"
             ],
             [
              0.1111111111111111,
              "#46039f"
             ],
             [
              0.2222222222222222,
              "#7201a8"
             ],
             [
              0.3333333333333333,
              "#9c179e"
             ],
             [
              0.4444444444444444,
              "#bd3786"
             ],
             [
              0.5555555555555556,
              "#d8576b"
             ],
             [
              0.6666666666666666,
              "#ed7953"
             ],
             [
              0.7777777777777778,
              "#fb9f3a"
             ],
             [
              0.8888888888888888,
              "#fdca26"
             ],
             [
              1,
              "#f0f921"
             ]
            ],
            "type": "histogram2d"
           }
          ],
          "histogram2dcontour": [
           {
            "colorbar": {
             "outlinewidth": 0,
             "ticks": ""
            },
            "colorscale": [
             [
              0,
              "#0d0887"
             ],
             [
              0.1111111111111111,
              "#46039f"
             ],
             [
              0.2222222222222222,
              "#7201a8"
             ],
             [
              0.3333333333333333,
              "#9c179e"
             ],
             [
              0.4444444444444444,
              "#bd3786"
             ],
             [
              0.5555555555555556,
              "#d8576b"
             ],
             [
              0.6666666666666666,
              "#ed7953"
             ],
             [
              0.7777777777777778,
              "#fb9f3a"
             ],
             [
              0.8888888888888888,
              "#fdca26"
             ],
             [
              1,
              "#f0f921"
             ]
            ],
            "type": "histogram2dcontour"
           }
          ],
          "mesh3d": [
           {
            "colorbar": {
             "outlinewidth": 0,
             "ticks": ""
            },
            "type": "mesh3d"
           }
          ],
          "parcoords": [
           {
            "line": {
             "colorbar": {
              "outlinewidth": 0,
              "ticks": ""
             }
            },
            "type": "parcoords"
           }
          ],
          "pie": [
           {
            "automargin": true,
            "type": "pie"
           }
          ],
          "scatter": [
           {
            "marker": {
             "colorbar": {
              "outlinewidth": 0,
              "ticks": ""
             }
            },
            "type": "scatter"
           }
          ],
          "scatter3d": [
           {
            "line": {
             "colorbar": {
              "outlinewidth": 0,
              "ticks": ""
             }
            },
            "marker": {
             "colorbar": {
              "outlinewidth": 0,
              "ticks": ""
             }
            },
            "type": "scatter3d"
           }
          ],
          "scattercarpet": [
           {
            "marker": {
             "colorbar": {
              "outlinewidth": 0,
              "ticks": ""
             }
            },
            "type": "scattercarpet"
           }
          ],
          "scattergeo": [
           {
            "marker": {
             "colorbar": {
              "outlinewidth": 0,
              "ticks": ""
             }
            },
            "type": "scattergeo"
           }
          ],
          "scattergl": [
           {
            "marker": {
             "colorbar": {
              "outlinewidth": 0,
              "ticks": ""
             }
            },
            "type": "scattergl"
           }
          ],
          "scattermapbox": [
           {
            "marker": {
             "colorbar": {
              "outlinewidth": 0,
              "ticks": ""
             }
            },
            "type": "scattermapbox"
           }
          ],
          "scatterpolar": [
           {
            "marker": {
             "colorbar": {
              "outlinewidth": 0,
              "ticks": ""
             }
            },
            "type": "scatterpolar"
           }
          ],
          "scatterpolargl": [
           {
            "marker": {
             "colorbar": {
              "outlinewidth": 0,
              "ticks": ""
             }
            },
            "type": "scatterpolargl"
           }
          ],
          "scatterternary": [
           {
            "marker": {
             "colorbar": {
              "outlinewidth": 0,
              "ticks": ""
             }
            },
            "type": "scatterternary"
           }
          ],
          "surface": [
           {
            "colorbar": {
             "outlinewidth": 0,
             "ticks": ""
            },
            "colorscale": [
             [
              0,
              "#0d0887"
             ],
             [
              0.1111111111111111,
              "#46039f"
             ],
             [
              0.2222222222222222,
              "#7201a8"
             ],
             [
              0.3333333333333333,
              "#9c179e"
             ],
             [
              0.4444444444444444,
              "#bd3786"
             ],
             [
              0.5555555555555556,
              "#d8576b"
             ],
             [
              0.6666666666666666,
              "#ed7953"
             ],
             [
              0.7777777777777778,
              "#fb9f3a"
             ],
             [
              0.8888888888888888,
              "#fdca26"
             ],
             [
              1,
              "#f0f921"
             ]
            ],
            "type": "surface"
           }
          ],
          "table": [
           {
            "cells": {
             "fill": {
              "color": "#EBF0F8"
             },
             "line": {
              "color": "white"
             }
            },
            "header": {
             "fill": {
              "color": "#C8D4E3"
             },
             "line": {
              "color": "white"
             }
            },
            "type": "table"
           }
          ]
         },
         "layout": {
          "annotationdefaults": {
           "arrowcolor": "#2a3f5f",
           "arrowhead": 0,
           "arrowwidth": 1
          },
          "coloraxis": {
           "colorbar": {
            "outlinewidth": 0,
            "ticks": ""
           }
          },
          "colorscale": {
           "diverging": [
            [
             0,
             "#8e0152"
            ],
            [
             0.1,
             "#c51b7d"
            ],
            [
             0.2,
             "#de77ae"
            ],
            [
             0.3,
             "#f1b6da"
            ],
            [
             0.4,
             "#fde0ef"
            ],
            [
             0.5,
             "#f7f7f7"
            ],
            [
             0.6,
             "#e6f5d0"
            ],
            [
             0.7,
             "#b8e186"
            ],
            [
             0.8,
             "#7fbc41"
            ],
            [
             0.9,
             "#4d9221"
            ],
            [
             1,
             "#276419"
            ]
           ],
           "sequential": [
            [
             0,
             "#0d0887"
            ],
            [
             0.1111111111111111,
             "#46039f"
            ],
            [
             0.2222222222222222,
             "#7201a8"
            ],
            [
             0.3333333333333333,
             "#9c179e"
            ],
            [
             0.4444444444444444,
             "#bd3786"
            ],
            [
             0.5555555555555556,
             "#d8576b"
            ],
            [
             0.6666666666666666,
             "#ed7953"
            ],
            [
             0.7777777777777778,
             "#fb9f3a"
            ],
            [
             0.8888888888888888,
             "#fdca26"
            ],
            [
             1,
             "#f0f921"
            ]
           ],
           "sequentialminus": [
            [
             0,
             "#0d0887"
            ],
            [
             0.1111111111111111,
             "#46039f"
            ],
            [
             0.2222222222222222,
             "#7201a8"
            ],
            [
             0.3333333333333333,
             "#9c179e"
            ],
            [
             0.4444444444444444,
             "#bd3786"
            ],
            [
             0.5555555555555556,
             "#d8576b"
            ],
            [
             0.6666666666666666,
             "#ed7953"
            ],
            [
             0.7777777777777778,
             "#fb9f3a"
            ],
            [
             0.8888888888888888,
             "#fdca26"
            ],
            [
             1,
             "#f0f921"
            ]
           ]
          },
          "colorway": [
           "#636efa",
           "#EF553B",
           "#00cc96",
           "#ab63fa",
           "#FFA15A",
           "#19d3f3",
           "#FF6692",
           "#B6E880",
           "#FF97FF",
           "#FECB52"
          ],
          "font": {
           "color": "#2a3f5f"
          },
          "geo": {
           "bgcolor": "white",
           "lakecolor": "white",
           "landcolor": "#E5ECF6",
           "showlakes": true,
           "showland": true,
           "subunitcolor": "white"
          },
          "hoverlabel": {
           "align": "left"
          },
          "hovermode": "closest",
          "mapbox": {
           "style": "light"
          },
          "paper_bgcolor": "white",
          "plot_bgcolor": "#E5ECF6",
          "polar": {
           "angularaxis": {
            "gridcolor": "white",
            "linecolor": "white",
            "ticks": ""
           },
           "bgcolor": "#E5ECF6",
           "radialaxis": {
            "gridcolor": "white",
            "linecolor": "white",
            "ticks": ""
           }
          },
          "scene": {
           "xaxis": {
            "backgroundcolor": "#E5ECF6",
            "gridcolor": "white",
            "gridwidth": 2,
            "linecolor": "white",
            "showbackground": true,
            "ticks": "",
            "zerolinecolor": "white"
           },
           "yaxis": {
            "backgroundcolor": "#E5ECF6",
            "gridcolor": "white",
            "gridwidth": 2,
            "linecolor": "white",
            "showbackground": true,
            "ticks": "",
            "zerolinecolor": "white"
           },
           "zaxis": {
            "backgroundcolor": "#E5ECF6",
            "gridcolor": "white",
            "gridwidth": 2,
            "linecolor": "white",
            "showbackground": true,
            "ticks": "",
            "zerolinecolor": "white"
           }
          },
          "shapedefaults": {
           "line": {
            "color": "#2a3f5f"
           }
          },
          "ternary": {
           "aaxis": {
            "gridcolor": "white",
            "linecolor": "white",
            "ticks": ""
           },
           "baxis": {
            "gridcolor": "white",
            "linecolor": "white",
            "ticks": ""
           },
           "bgcolor": "#E5ECF6",
           "caxis": {
            "gridcolor": "white",
            "linecolor": "white",
            "ticks": ""
           }
          },
          "title": {
           "x": 0.05
          },
          "xaxis": {
           "automargin": true,
           "gridcolor": "white",
           "linecolor": "white",
           "ticks": "",
           "title": {
            "standoff": 15
           },
           "zerolinecolor": "white",
           "zerolinewidth": 2
          },
          "yaxis": {
           "automargin": true,
           "gridcolor": "white",
           "linecolor": "white",
           "ticks": "",
           "title": {
            "standoff": 15
           },
           "zerolinecolor": "white",
           "zerolinewidth": 2
          }
         }
        },
        "title": {
         "font": {
          "color": "#4D5663"
         },
         "text": "Covid_19 graph"
        },
        "xaxis": {
         "gridcolor": "#E1E5ED",
         "showgrid": true,
         "tickfont": {
          "color": "#4D5663"
         },
         "title": {
          "font": {
           "color": "#4D5663"
          },
          "text": "State"
         },
         "zerolinecolor": "#E1E5ED"
        },
        "yaxis": {
         "gridcolor": "#E1E5ED",
         "showgrid": true,
         "tickfont": {
          "color": "#4D5663"
         },
         "title": {
          "font": {
           "color": "#4D5663"
          },
          "text": "Deaths"
         },
         "zerolinecolor": "#E1E5ED"
        }
       }
      },
      "text/html": [
       "<div>\n",
       "        \n",
       "        \n",
       "            <div id=\"f51bb417-745b-4105-b23b-1caf8d3b3cd6\" class=\"plotly-graph-div\" style=\"height:525px; width:100%;\"></div>\n",
       "            <script type=\"text/javascript\">\n",
       "                require([\"plotly\"], function(Plotly) {\n",
       "                    window.PLOTLYENV=window.PLOTLYENV || {};\n",
       "                    window.PLOTLYENV.BASE_URL='https://plot.ly';\n",
       "                    \n",
       "                if (document.getElementById(\"f51bb417-745b-4105-b23b-1caf8d3b3cd6\")) {\n",
       "                    Plotly.newPlot(\n",
       "                        'f51bb417-745b-4105-b23b-1caf8d3b3cd6',\n",
       "                        [{\"line\": {\"color\": \"rgba(219, 64, 82, 1.0)\", \"dash\": \"solid\", \"shape\": \"linear\", \"width\": 1.3}, \"marker\": {\"size\": 10, \"symbol\": \"circle\"}, \"mode\": \"markers+lines\", \"name\": \"Deaths\", \"text\": \"\", \"type\": \"scatter\", \"x\": [\"Total\", \"Maharashtra\", \"Tamil Nadu\", \"Andhra Pradesh\", \"Karnataka\", \"Delhi\", \"Uttar Pradesh\", \"West Bengal\", \"Bihar\", \"Telangana\", \"Gujarat\", \"Assam\", \"Rajasthan\", \"Odisha\", \"Haryana\", \"Madhya Pradesh\", \"Kerala\", \"Punjab\", \"Jammu and Kashmir\", \"Jharkhand\", \"Chhattisgarh\", \"Uttarakhand\", \"Goa\", \"Tripura\", \"Puducherry\", \"Manipur\", \"Himachal Pradesh\", \"Nagaland\", \"Arunachal Pradesh\", \"Andaman and Nicobar Islands\", \"Ladakh\", \"Chandigarh\", \"Dadra and Nagar Haveli and Daman and Diu\", \"Meghalaya\", \"Sikkim\", \"Mizoram\", \"State Unassigned\", \"Lakshadweep\"], \"y\": [69791, 25964, 7687, 4276, 6170, 4513, 3843, 3452, 750, 877, 3076, 345, 1116, 591, 759, 1513, 327, 1739, 770, 447, 337, 312, 220, 136, 298, 35, 49, 8, 8, 49, 35, 68, 2, 14, 5, 0, 0, 0]}],\n",
       "                        {\"legend\": {\"bgcolor\": \"#F5F6F9\", \"font\": {\"color\": \"#4D5663\"}}, \"paper_bgcolor\": \"#F5F6F9\", \"plot_bgcolor\": \"#F5F6F9\", \"template\": {\"data\": {\"bar\": [{\"error_x\": {\"color\": \"#2a3f5f\"}, \"error_y\": {\"color\": \"#2a3f5f\"}, \"marker\": {\"line\": {\"color\": \"#E5ECF6\", \"width\": 0.5}}, \"type\": \"bar\"}], \"barpolar\": [{\"marker\": {\"line\": {\"color\": \"#E5ECF6\", \"width\": 0.5}}, \"type\": \"barpolar\"}], \"carpet\": [{\"aaxis\": {\"endlinecolor\": \"#2a3f5f\", \"gridcolor\": \"white\", \"linecolor\": \"white\", \"minorgridcolor\": \"white\", \"startlinecolor\": \"#2a3f5f\"}, \"baxis\": {\"endlinecolor\": \"#2a3f5f\", \"gridcolor\": \"white\", \"linecolor\": \"white\", \"minorgridcolor\": \"white\", \"startlinecolor\": \"#2a3f5f\"}, \"type\": \"carpet\"}], \"choropleth\": [{\"colorbar\": {\"outlinewidth\": 0, \"ticks\": \"\"}, \"type\": \"choropleth\"}], \"contour\": [{\"colorbar\": {\"outlinewidth\": 0, \"ticks\": \"\"}, \"colorscale\": [[0.0, \"#0d0887\"], [0.1111111111111111, \"#46039f\"], [0.2222222222222222, \"#7201a8\"], [0.3333333333333333, \"#9c179e\"], [0.4444444444444444, \"#bd3786\"], [0.5555555555555556, \"#d8576b\"], [0.6666666666666666, \"#ed7953\"], [0.7777777777777778, \"#fb9f3a\"], [0.8888888888888888, \"#fdca26\"], [1.0, \"#f0f921\"]], \"type\": \"contour\"}], \"contourcarpet\": [{\"colorbar\": {\"outlinewidth\": 0, \"ticks\": \"\"}, \"type\": \"contourcarpet\"}], \"heatmap\": [{\"colorbar\": {\"outlinewidth\": 0, \"ticks\": \"\"}, \"colorscale\": [[0.0, \"#0d0887\"], [0.1111111111111111, \"#46039f\"], [0.2222222222222222, \"#7201a8\"], [0.3333333333333333, \"#9c179e\"], [0.4444444444444444, \"#bd3786\"], [0.5555555555555556, \"#d8576b\"], [0.6666666666666666, \"#ed7953\"], [0.7777777777777778, \"#fb9f3a\"], [0.8888888888888888, \"#fdca26\"], [1.0, \"#f0f921\"]], \"type\": \"heatmap\"}], \"heatmapgl\": [{\"colorbar\": {\"outlinewidth\": 0, \"ticks\": \"\"}, \"colorscale\": [[0.0, \"#0d0887\"], [0.1111111111111111, \"#46039f\"], [0.2222222222222222, \"#7201a8\"], [0.3333333333333333, \"#9c179e\"], [0.4444444444444444, \"#bd3786\"], [0.5555555555555556, \"#d8576b\"], [0.6666666666666666, \"#ed7953\"], [0.7777777777777778, \"#fb9f3a\"], [0.8888888888888888, \"#fdca26\"], [1.0, \"#f0f921\"]], \"type\": \"heatmapgl\"}], \"histogram\": [{\"marker\": {\"colorbar\": {\"outlinewidth\": 0, \"ticks\": \"\"}}, \"type\": \"histogram\"}], \"histogram2d\": [{\"colorbar\": {\"outlinewidth\": 0, \"ticks\": \"\"}, \"colorscale\": [[0.0, \"#0d0887\"], [0.1111111111111111, \"#46039f\"], [0.2222222222222222, \"#7201a8\"], [0.3333333333333333, \"#9c179e\"], [0.4444444444444444, \"#bd3786\"], [0.5555555555555556, \"#d8576b\"], [0.6666666666666666, \"#ed7953\"], [0.7777777777777778, \"#fb9f3a\"], [0.8888888888888888, \"#fdca26\"], [1.0, \"#f0f921\"]], \"type\": \"histogram2d\"}], \"histogram2dcontour\": [{\"colorbar\": {\"outlinewidth\": 0, \"ticks\": \"\"}, \"colorscale\": [[0.0, \"#0d0887\"], [0.1111111111111111, \"#46039f\"], [0.2222222222222222, \"#7201a8\"], [0.3333333333333333, \"#9c179e\"], [0.4444444444444444, \"#bd3786\"], [0.5555555555555556, \"#d8576b\"], [0.6666666666666666, \"#ed7953\"], [0.7777777777777778, \"#fb9f3a\"], [0.8888888888888888, \"#fdca26\"], [1.0, \"#f0f921\"]], \"type\": \"histogram2dcontour\"}], \"mesh3d\": [{\"colorbar\": {\"outlinewidth\": 0, \"ticks\": \"\"}, \"type\": \"mesh3d\"}], \"parcoords\": [{\"line\": {\"colorbar\": {\"outlinewidth\": 0, \"ticks\": \"\"}}, \"type\": \"parcoords\"}], \"pie\": [{\"automargin\": true, \"type\": \"pie\"}], \"scatter\": [{\"marker\": {\"colorbar\": {\"outlinewidth\": 0, \"ticks\": \"\"}}, \"type\": \"scatter\"}], \"scatter3d\": [{\"line\": {\"colorbar\": {\"outlinewidth\": 0, \"ticks\": \"\"}}, \"marker\": {\"colorbar\": {\"outlinewidth\": 0, \"ticks\": \"\"}}, \"type\": \"scatter3d\"}], \"scattercarpet\": [{\"marker\": {\"colorbar\": {\"outlinewidth\": 0, \"ticks\": \"\"}}, \"type\": \"scattercarpet\"}], \"scattergeo\": [{\"marker\": {\"colorbar\": {\"outlinewidth\": 0, \"ticks\": \"\"}}, \"type\": \"scattergeo\"}], \"scattergl\": [{\"marker\": {\"colorbar\": {\"outlinewidth\": 0, \"ticks\": \"\"}}, \"type\": \"scattergl\"}], \"scattermapbox\": [{\"marker\": {\"colorbar\": {\"outlinewidth\": 0, \"ticks\": \"\"}}, \"type\": \"scattermapbox\"}], \"scatterpolar\": [{\"marker\": {\"colorbar\": {\"outlinewidth\": 0, \"ticks\": \"\"}}, \"type\": \"scatterpolar\"}], \"scatterpolargl\": [{\"marker\": {\"colorbar\": {\"outlinewidth\": 0, \"ticks\": \"\"}}, \"type\": \"scatterpolargl\"}], \"scatterternary\": [{\"marker\": {\"colorbar\": {\"outlinewidth\": 0, \"ticks\": \"\"}}, \"type\": \"scatterternary\"}], \"surface\": [{\"colorbar\": {\"outlinewidth\": 0, \"ticks\": \"\"}, \"colorscale\": [[0.0, \"#0d0887\"], [0.1111111111111111, \"#46039f\"], [0.2222222222222222, \"#7201a8\"], [0.3333333333333333, \"#9c179e\"], [0.4444444444444444, \"#bd3786\"], [0.5555555555555556, \"#d8576b\"], [0.6666666666666666, \"#ed7953\"], [0.7777777777777778, \"#fb9f3a\"], [0.8888888888888888, \"#fdca26\"], [1.0, \"#f0f921\"]], \"type\": \"surface\"}], \"table\": [{\"cells\": {\"fill\": {\"color\": \"#EBF0F8\"}, \"line\": {\"color\": \"white\"}}, \"header\": {\"fill\": {\"color\": \"#C8D4E3\"}, \"line\": {\"color\": \"white\"}}, \"type\": \"table\"}]}, \"layout\": {\"annotationdefaults\": {\"arrowcolor\": \"#2a3f5f\", \"arrowhead\": 0, \"arrowwidth\": 1}, \"coloraxis\": {\"colorbar\": {\"outlinewidth\": 0, \"ticks\": \"\"}}, \"colorscale\": {\"diverging\": [[0, \"#8e0152\"], [0.1, \"#c51b7d\"], [0.2, \"#de77ae\"], [0.3, \"#f1b6da\"], [0.4, \"#fde0ef\"], [0.5, \"#f7f7f7\"], [0.6, \"#e6f5d0\"], [0.7, \"#b8e186\"], [0.8, \"#7fbc41\"], [0.9, \"#4d9221\"], [1, \"#276419\"]], \"sequential\": [[0.0, \"#0d0887\"], [0.1111111111111111, \"#46039f\"], [0.2222222222222222, \"#7201a8\"], [0.3333333333333333, \"#9c179e\"], [0.4444444444444444, \"#bd3786\"], [0.5555555555555556, \"#d8576b\"], [0.6666666666666666, \"#ed7953\"], [0.7777777777777778, \"#fb9f3a\"], [0.8888888888888888, \"#fdca26\"], [1.0, \"#f0f921\"]], \"sequentialminus\": [[0.0, \"#0d0887\"], [0.1111111111111111, \"#46039f\"], [0.2222222222222222, \"#7201a8\"], [0.3333333333333333, \"#9c179e\"], [0.4444444444444444, \"#bd3786\"], [0.5555555555555556, \"#d8576b\"], [0.6666666666666666, \"#ed7953\"], [0.7777777777777778, \"#fb9f3a\"], [0.8888888888888888, \"#fdca26\"], [1.0, \"#f0f921\"]]}, \"colorway\": [\"#636efa\", \"#EF553B\", \"#00cc96\", \"#ab63fa\", \"#FFA15A\", \"#19d3f3\", \"#FF6692\", \"#B6E880\", \"#FF97FF\", \"#FECB52\"], \"font\": {\"color\": \"#2a3f5f\"}, \"geo\": {\"bgcolor\": \"white\", \"lakecolor\": \"white\", \"landcolor\": \"#E5ECF6\", \"showlakes\": true, \"showland\": true, \"subunitcolor\": \"white\"}, \"hoverlabel\": {\"align\": \"left\"}, \"hovermode\": \"closest\", \"mapbox\": {\"style\": \"light\"}, \"paper_bgcolor\": \"white\", \"plot_bgcolor\": \"#E5ECF6\", \"polar\": {\"angularaxis\": {\"gridcolor\": \"white\", \"linecolor\": \"white\", \"ticks\": \"\"}, \"bgcolor\": \"#E5ECF6\", \"radialaxis\": {\"gridcolor\": \"white\", \"linecolor\": \"white\", \"ticks\": \"\"}}, \"scene\": {\"xaxis\": {\"backgroundcolor\": \"#E5ECF6\", \"gridcolor\": \"white\", \"gridwidth\": 2, \"linecolor\": \"white\", \"showbackground\": true, \"ticks\": \"\", \"zerolinecolor\": \"white\"}, \"yaxis\": {\"backgroundcolor\": \"#E5ECF6\", \"gridcolor\": \"white\", \"gridwidth\": 2, \"linecolor\": \"white\", \"showbackground\": true, \"ticks\": \"\", \"zerolinecolor\": \"white\"}, \"zaxis\": {\"backgroundcolor\": \"#E5ECF6\", \"gridcolor\": \"white\", \"gridwidth\": 2, \"linecolor\": \"white\", \"showbackground\": true, \"ticks\": \"\", \"zerolinecolor\": \"white\"}}, \"shapedefaults\": {\"line\": {\"color\": \"#2a3f5f\"}}, \"ternary\": {\"aaxis\": {\"gridcolor\": \"white\", \"linecolor\": \"white\", \"ticks\": \"\"}, \"baxis\": {\"gridcolor\": \"white\", \"linecolor\": \"white\", \"ticks\": \"\"}, \"bgcolor\": \"#E5ECF6\", \"caxis\": {\"gridcolor\": \"white\", \"linecolor\": \"white\", \"ticks\": \"\"}}, \"title\": {\"x\": 0.05}, \"xaxis\": {\"automargin\": true, \"gridcolor\": \"white\", \"linecolor\": \"white\", \"ticks\": \"\", \"title\": {\"standoff\": 15}, \"zerolinecolor\": \"white\", \"zerolinewidth\": 2}, \"yaxis\": {\"automargin\": true, \"gridcolor\": \"white\", \"linecolor\": \"white\", \"ticks\": \"\", \"title\": {\"standoff\": 15}, \"zerolinecolor\": \"white\", \"zerolinewidth\": 2}}}, \"title\": {\"font\": {\"color\": \"#4D5663\"}, \"text\": \"Covid_19 graph\"}, \"xaxis\": {\"gridcolor\": \"#E1E5ED\", \"showgrid\": true, \"tickfont\": {\"color\": \"#4D5663\"}, \"title\": {\"font\": {\"color\": \"#4D5663\"}, \"text\": \"State\"}, \"zerolinecolor\": \"#E1E5ED\"}, \"yaxis\": {\"gridcolor\": \"#E1E5ED\", \"showgrid\": true, \"tickfont\": {\"color\": \"#4D5663\"}, \"title\": {\"font\": {\"color\": \"#4D5663\"}, \"text\": \"Deaths\"}, \"zerolinecolor\": \"#E1E5ED\"}},\n",
       "                        {\"showLink\": true, \"linkText\": \"Export to plot.ly\", \"plotlyServerURL\": \"https://plot.ly\", \"responsive\": true}\n",
       "                    ).then(function(){\n",
       "                            \n",
       "var gd = document.getElementById('f51bb417-745b-4105-b23b-1caf8d3b3cd6');\n",
       "var x = new MutationObserver(function (mutations, observer) {{\n",
       "        var display = window.getComputedStyle(gd).display;\n",
       "        if (!display || display === 'none') {{\n",
       "            console.log([gd, 'removed!']);\n",
       "            Plotly.purge(gd);\n",
       "            observer.disconnect();\n",
       "        }}\n",
       "}});\n",
       "\n",
       "// Listen for the removal of the full notebook cells\n",
       "var notebookContainer = gd.closest('#notebook-container');\n",
       "if (notebookContainer) {{\n",
       "    x.observe(notebookContainer, {childList: true});\n",
       "}}\n",
       "\n",
       "// Listen for the clearing of the current output cell\n",
       "var outputEl = gd.closest('.output');\n",
       "if (outputEl) {{\n",
       "    x.observe(outputEl, {childList: true});\n",
       "}}\n",
       "\n",
       "                        })\n",
       "                };\n",
       "                });\n",
       "            </script>\n",
       "        </div>"
      ]
     },
     "metadata": {},
     "output_type": "display_data"
    }
   ],
   "source": [
    "df.iplot(kind= 'scatter', x= 'State', y='Deaths', mode= 'markers+lines', title= 'Covid_19 graph', xTitle= 'State', yTitle= 'Deaths', color= 'red', size= 10)\n"
   ]
  },
  {
   "cell_type": "markdown",
   "metadata": {},
   "source": [
    "# Active Cases per State"
   ]
  },
  {
   "cell_type": "code",
   "execution_count": 14,
   "metadata": {},
   "outputs": [
    {
     "data": {
      "application/vnd.plotly.v1+json": {
       "config": {
        "linkText": "Export to plot.ly",
        "plotlyServerURL": "https://plot.ly",
        "showLink": true
       },
       "data": [
        {
         "line": {
          "color": "rgba(219, 64, 82, 1.0)",
          "dash": "solid",
          "shape": "linear",
          "width": 1.3
         },
         "marker": {
          "size": 10,
          "symbol": "circle"
         },
         "mode": "markers+lines",
         "name": "Active",
         "text": "",
         "type": "scatter",
         "x": [
          "Total",
          "Maharashtra",
          "Tamil Nadu",
          "Andhra Pradesh",
          "Karnataka",
          "Delhi",
          "Uttar Pradesh",
          "West Bengal",
          "Bihar",
          "Telangana",
          "Gujarat",
          "Assam",
          "Rajasthan",
          "Odisha",
          "Haryana",
          "Madhya Pradesh",
          "Kerala",
          "Punjab",
          "Jammu and Kashmir",
          "Jharkhand",
          "Chhattisgarh",
          "Uttarakhand",
          "Goa",
          "Tripura",
          "Puducherry",
          "Manipur",
          "Himachal Pradesh",
          "Nagaland",
          "Arunachal Pradesh",
          "Andaman and Nicobar Islands",
          "Ladakh",
          "Chandigarh",
          "Dadra and Nagar Haveli and Daman and Diu",
          "Meghalaya",
          "Sikkim",
          "Mizoram",
          "State Unassigned",
          "Lakshadweep"
         ],
         "y": [
          851716,
          210978,
          51633,
          102067,
          99101,
          18842,
          59963,
          23654,
          16734,
          32915,
          16121,
          28159,
          15409,
          29299,
          14053,
          15474,
          21268,
          15731,
          9547,
          15549,
          20689,
          7187,
          4896,
          5884,
          5161,
          1765,
          1814,
          689,
          1487,
          345,
          815,
          2092,
          285,
          1252,
          509,
          349,
          0,
          0
         ]
        }
       ],
       "layout": {
        "legend": {
         "bgcolor": "#F5F6F9",
         "font": {
          "color": "#4D5663"
         }
        },
        "paper_bgcolor": "#F5F6F9",
        "plot_bgcolor": "#F5F6F9",
        "template": {
         "data": {
          "bar": [
           {
            "error_x": {
             "color": "#2a3f5f"
            },
            "error_y": {
             "color": "#2a3f5f"
            },
            "marker": {
             "line": {
              "color": "#E5ECF6",
              "width": 0.5
             }
            },
            "type": "bar"
           }
          ],
          "barpolar": [
           {
            "marker": {
             "line": {
              "color": "#E5ECF6",
              "width": 0.5
             }
            },
            "type": "barpolar"
           }
          ],
          "carpet": [
           {
            "aaxis": {
             "endlinecolor": "#2a3f5f",
             "gridcolor": "white",
             "linecolor": "white",
             "minorgridcolor": "white",
             "startlinecolor": "#2a3f5f"
            },
            "baxis": {
             "endlinecolor": "#2a3f5f",
             "gridcolor": "white",
             "linecolor": "white",
             "minorgridcolor": "white",
             "startlinecolor": "#2a3f5f"
            },
            "type": "carpet"
           }
          ],
          "choropleth": [
           {
            "colorbar": {
             "outlinewidth": 0,
             "ticks": ""
            },
            "type": "choropleth"
           }
          ],
          "contour": [
           {
            "colorbar": {
             "outlinewidth": 0,
             "ticks": ""
            },
            "colorscale": [
             [
              0,
              "#0d0887"
             ],
             [
              0.1111111111111111,
              "#46039f"
             ],
             [
              0.2222222222222222,
              "#7201a8"
             ],
             [
              0.3333333333333333,
              "#9c179e"
             ],
             [
              0.4444444444444444,
              "#bd3786"
             ],
             [
              0.5555555555555556,
              "#d8576b"
             ],
             [
              0.6666666666666666,
              "#ed7953"
             ],
             [
              0.7777777777777778,
              "#fb9f3a"
             ],
             [
              0.8888888888888888,
              "#fdca26"
             ],
             [
              1,
              "#f0f921"
             ]
            ],
            "type": "contour"
           }
          ],
          "contourcarpet": [
           {
            "colorbar": {
             "outlinewidth": 0,
             "ticks": ""
            },
            "type": "contourcarpet"
           }
          ],
          "heatmap": [
           {
            "colorbar": {
             "outlinewidth": 0,
             "ticks": ""
            },
            "colorscale": [
             [
              0,
              "#0d0887"
             ],
             [
              0.1111111111111111,
              "#46039f"
             ],
             [
              0.2222222222222222,
              "#7201a8"
             ],
             [
              0.3333333333333333,
              "#9c179e"
             ],
             [
              0.4444444444444444,
              "#bd3786"
             ],
             [
              0.5555555555555556,
              "#d8576b"
             ],
             [
              0.6666666666666666,
              "#ed7953"
             ],
             [
              0.7777777777777778,
              "#fb9f3a"
             ],
             [
              0.8888888888888888,
              "#fdca26"
             ],
             [
              1,
              "#f0f921"
             ]
            ],
            "type": "heatmap"
           }
          ],
          "heatmapgl": [
           {
            "colorbar": {
             "outlinewidth": 0,
             "ticks": ""
            },
            "colorscale": [
             [
              0,
              "#0d0887"
             ],
             [
              0.1111111111111111,
              "#46039f"
             ],
             [
              0.2222222222222222,
              "#7201a8"
             ],
             [
              0.3333333333333333,
              "#9c179e"
             ],
             [
              0.4444444444444444,
              "#bd3786"
             ],
             [
              0.5555555555555556,
              "#d8576b"
             ],
             [
              0.6666666666666666,
              "#ed7953"
             ],
             [
              0.7777777777777778,
              "#fb9f3a"
             ],
             [
              0.8888888888888888,
              "#fdca26"
             ],
             [
              1,
              "#f0f921"
             ]
            ],
            "type": "heatmapgl"
           }
          ],
          "histogram": [
           {
            "marker": {
             "colorbar": {
              "outlinewidth": 0,
              "ticks": ""
             }
            },
            "type": "histogram"
           }
          ],
          "histogram2d": [
           {
            "colorbar": {
             "outlinewidth": 0,
             "ticks": ""
            },
            "colorscale": [
             [
              0,
              "#0d0887"
             ],
             [
              0.1111111111111111,
              "#46039f"
             ],
             [
              0.2222222222222222,
              "#7201a8"
             ],
             [
              0.3333333333333333,
              "#9c179e"
             ],
             [
              0.4444444444444444,
              "#bd3786"
             ],
             [
              0.5555555555555556,
              "#d8576b"
             ],
             [
              0.6666666666666666,
              "#ed7953"
             ],
             [
              0.7777777777777778,
              "#fb9f3a"
             ],
             [
              0.8888888888888888,
              "#fdca26"
             ],
             [
              1,
              "#f0f921"
             ]
            ],
            "type": "histogram2d"
           }
          ],
          "histogram2dcontour": [
           {
            "colorbar": {
             "outlinewidth": 0,
             "ticks": ""
            },
            "colorscale": [
             [
              0,
              "#0d0887"
             ],
             [
              0.1111111111111111,
              "#46039f"
             ],
             [
              0.2222222222222222,
              "#7201a8"
             ],
             [
              0.3333333333333333,
              "#9c179e"
             ],
             [
              0.4444444444444444,
              "#bd3786"
             ],
             [
              0.5555555555555556,
              "#d8576b"
             ],
             [
              0.6666666666666666,
              "#ed7953"
             ],
             [
              0.7777777777777778,
              "#fb9f3a"
             ],
             [
              0.8888888888888888,
              "#fdca26"
             ],
             [
              1,
              "#f0f921"
             ]
            ],
            "type": "histogram2dcontour"
           }
          ],
          "mesh3d": [
           {
            "colorbar": {
             "outlinewidth": 0,
             "ticks": ""
            },
            "type": "mesh3d"
           }
          ],
          "parcoords": [
           {
            "line": {
             "colorbar": {
              "outlinewidth": 0,
              "ticks": ""
             }
            },
            "type": "parcoords"
           }
          ],
          "pie": [
           {
            "automargin": true,
            "type": "pie"
           }
          ],
          "scatter": [
           {
            "marker": {
             "colorbar": {
              "outlinewidth": 0,
              "ticks": ""
             }
            },
            "type": "scatter"
           }
          ],
          "scatter3d": [
           {
            "line": {
             "colorbar": {
              "outlinewidth": 0,
              "ticks": ""
             }
            },
            "marker": {
             "colorbar": {
              "outlinewidth": 0,
              "ticks": ""
             }
            },
            "type": "scatter3d"
           }
          ],
          "scattercarpet": [
           {
            "marker": {
             "colorbar": {
              "outlinewidth": 0,
              "ticks": ""
             }
            },
            "type": "scattercarpet"
           }
          ],
          "scattergeo": [
           {
            "marker": {
             "colorbar": {
              "outlinewidth": 0,
              "ticks": ""
             }
            },
            "type": "scattergeo"
           }
          ],
          "scattergl": [
           {
            "marker": {
             "colorbar": {
              "outlinewidth": 0,
              "ticks": ""
             }
            },
            "type": "scattergl"
           }
          ],
          "scattermapbox": [
           {
            "marker": {
             "colorbar": {
              "outlinewidth": 0,
              "ticks": ""
             }
            },
            "type": "scattermapbox"
           }
          ],
          "scatterpolar": [
           {
            "marker": {
             "colorbar": {
              "outlinewidth": 0,
              "ticks": ""
             }
            },
            "type": "scatterpolar"
           }
          ],
          "scatterpolargl": [
           {
            "marker": {
             "colorbar": {
              "outlinewidth": 0,
              "ticks": ""
             }
            },
            "type": "scatterpolargl"
           }
          ],
          "scatterternary": [
           {
            "marker": {
             "colorbar": {
              "outlinewidth": 0,
              "ticks": ""
             }
            },
            "type": "scatterternary"
           }
          ],
          "surface": [
           {
            "colorbar": {
             "outlinewidth": 0,
             "ticks": ""
            },
            "colorscale": [
             [
              0,
              "#0d0887"
             ],
             [
              0.1111111111111111,
              "#46039f"
             ],
             [
              0.2222222222222222,
              "#7201a8"
             ],
             [
              0.3333333333333333,
              "#9c179e"
             ],
             [
              0.4444444444444444,
              "#bd3786"
             ],
             [
              0.5555555555555556,
              "#d8576b"
             ],
             [
              0.6666666666666666,
              "#ed7953"
             ],
             [
              0.7777777777777778,
              "#fb9f3a"
             ],
             [
              0.8888888888888888,
              "#fdca26"
             ],
             [
              1,
              "#f0f921"
             ]
            ],
            "type": "surface"
           }
          ],
          "table": [
           {
            "cells": {
             "fill": {
              "color": "#EBF0F8"
             },
             "line": {
              "color": "white"
             }
            },
            "header": {
             "fill": {
              "color": "#C8D4E3"
             },
             "line": {
              "color": "white"
             }
            },
            "type": "table"
           }
          ]
         },
         "layout": {
          "annotationdefaults": {
           "arrowcolor": "#2a3f5f",
           "arrowhead": 0,
           "arrowwidth": 1
          },
          "coloraxis": {
           "colorbar": {
            "outlinewidth": 0,
            "ticks": ""
           }
          },
          "colorscale": {
           "diverging": [
            [
             0,
             "#8e0152"
            ],
            [
             0.1,
             "#c51b7d"
            ],
            [
             0.2,
             "#de77ae"
            ],
            [
             0.3,
             "#f1b6da"
            ],
            [
             0.4,
             "#fde0ef"
            ],
            [
             0.5,
             "#f7f7f7"
            ],
            [
             0.6,
             "#e6f5d0"
            ],
            [
             0.7,
             "#b8e186"
            ],
            [
             0.8,
             "#7fbc41"
            ],
            [
             0.9,
             "#4d9221"
            ],
            [
             1,
             "#276419"
            ]
           ],
           "sequential": [
            [
             0,
             "#0d0887"
            ],
            [
             0.1111111111111111,
             "#46039f"
            ],
            [
             0.2222222222222222,
             "#7201a8"
            ],
            [
             0.3333333333333333,
             "#9c179e"
            ],
            [
             0.4444444444444444,
             "#bd3786"
            ],
            [
             0.5555555555555556,
             "#d8576b"
            ],
            [
             0.6666666666666666,
             "#ed7953"
            ],
            [
             0.7777777777777778,
             "#fb9f3a"
            ],
            [
             0.8888888888888888,
             "#fdca26"
            ],
            [
             1,
             "#f0f921"
            ]
           ],
           "sequentialminus": [
            [
             0,
             "#0d0887"
            ],
            [
             0.1111111111111111,
             "#46039f"
            ],
            [
             0.2222222222222222,
             "#7201a8"
            ],
            [
             0.3333333333333333,
             "#9c179e"
            ],
            [
             0.4444444444444444,
             "#bd3786"
            ],
            [
             0.5555555555555556,
             "#d8576b"
            ],
            [
             0.6666666666666666,
             "#ed7953"
            ],
            [
             0.7777777777777778,
             "#fb9f3a"
            ],
            [
             0.8888888888888888,
             "#fdca26"
            ],
            [
             1,
             "#f0f921"
            ]
           ]
          },
          "colorway": [
           "#636efa",
           "#EF553B",
           "#00cc96",
           "#ab63fa",
           "#FFA15A",
           "#19d3f3",
           "#FF6692",
           "#B6E880",
           "#FF97FF",
           "#FECB52"
          ],
          "font": {
           "color": "#2a3f5f"
          },
          "geo": {
           "bgcolor": "white",
           "lakecolor": "white",
           "landcolor": "#E5ECF6",
           "showlakes": true,
           "showland": true,
           "subunitcolor": "white"
          },
          "hoverlabel": {
           "align": "left"
          },
          "hovermode": "closest",
          "mapbox": {
           "style": "light"
          },
          "paper_bgcolor": "white",
          "plot_bgcolor": "#E5ECF6",
          "polar": {
           "angularaxis": {
            "gridcolor": "white",
            "linecolor": "white",
            "ticks": ""
           },
           "bgcolor": "#E5ECF6",
           "radialaxis": {
            "gridcolor": "white",
            "linecolor": "white",
            "ticks": ""
           }
          },
          "scene": {
           "xaxis": {
            "backgroundcolor": "#E5ECF6",
            "gridcolor": "white",
            "gridwidth": 2,
            "linecolor": "white",
            "showbackground": true,
            "ticks": "",
            "zerolinecolor": "white"
           },
           "yaxis": {
            "backgroundcolor": "#E5ECF6",
            "gridcolor": "white",
            "gridwidth": 2,
            "linecolor": "white",
            "showbackground": true,
            "ticks": "",
            "zerolinecolor": "white"
           },
           "zaxis": {
            "backgroundcolor": "#E5ECF6",
            "gridcolor": "white",
            "gridwidth": 2,
            "linecolor": "white",
            "showbackground": true,
            "ticks": "",
            "zerolinecolor": "white"
           }
          },
          "shapedefaults": {
           "line": {
            "color": "#2a3f5f"
           }
          },
          "ternary": {
           "aaxis": {
            "gridcolor": "white",
            "linecolor": "white",
            "ticks": ""
           },
           "baxis": {
            "gridcolor": "white",
            "linecolor": "white",
            "ticks": ""
           },
           "bgcolor": "#E5ECF6",
           "caxis": {
            "gridcolor": "white",
            "linecolor": "white",
            "ticks": ""
           }
          },
          "title": {
           "x": 0.05
          },
          "xaxis": {
           "automargin": true,
           "gridcolor": "white",
           "linecolor": "white",
           "ticks": "",
           "title": {
            "standoff": 15
           },
           "zerolinecolor": "white",
           "zerolinewidth": 2
          },
          "yaxis": {
           "automargin": true,
           "gridcolor": "white",
           "linecolor": "white",
           "ticks": "",
           "title": {
            "standoff": 15
           },
           "zerolinecolor": "white",
           "zerolinewidth": 2
          }
         }
        },
        "title": {
         "font": {
          "color": "#4D5663"
         },
         "text": "Covid_19 graph"
        },
        "xaxis": {
         "gridcolor": "#E1E5ED",
         "showgrid": true,
         "tickfont": {
          "color": "#4D5663"
         },
         "title": {
          "font": {
           "color": "#4D5663"
          },
          "text": "State"
         },
         "zerolinecolor": "#E1E5ED"
        },
        "yaxis": {
         "gridcolor": "#E1E5ED",
         "showgrid": true,
         "tickfont": {
          "color": "#4D5663"
         },
         "title": {
          "font": {
           "color": "#4D5663"
          },
          "text": "Active Cases"
         },
         "zerolinecolor": "#E1E5ED"
        }
       }
      },
      "text/html": [
       "<div>\n",
       "        \n",
       "        \n",
       "            <div id=\"1eb24c72-235a-463f-8e2c-11ce10cada9d\" class=\"plotly-graph-div\" style=\"height:525px; width:100%;\"></div>\n",
       "            <script type=\"text/javascript\">\n",
       "                require([\"plotly\"], function(Plotly) {\n",
       "                    window.PLOTLYENV=window.PLOTLYENV || {};\n",
       "                    window.PLOTLYENV.BASE_URL='https://plot.ly';\n",
       "                    \n",
       "                if (document.getElementById(\"1eb24c72-235a-463f-8e2c-11ce10cada9d\")) {\n",
       "                    Plotly.newPlot(\n",
       "                        '1eb24c72-235a-463f-8e2c-11ce10cada9d',\n",
       "                        [{\"line\": {\"color\": \"rgba(219, 64, 82, 1.0)\", \"dash\": \"solid\", \"shape\": \"linear\", \"width\": 1.3}, \"marker\": {\"size\": 10, \"symbol\": \"circle\"}, \"mode\": \"markers+lines\", \"name\": \"Active\", \"text\": \"\", \"type\": \"scatter\", \"x\": [\"Total\", \"Maharashtra\", \"Tamil Nadu\", \"Andhra Pradesh\", \"Karnataka\", \"Delhi\", \"Uttar Pradesh\", \"West Bengal\", \"Bihar\", \"Telangana\", \"Gujarat\", \"Assam\", \"Rajasthan\", \"Odisha\", \"Haryana\", \"Madhya Pradesh\", \"Kerala\", \"Punjab\", \"Jammu and Kashmir\", \"Jharkhand\", \"Chhattisgarh\", \"Uttarakhand\", \"Goa\", \"Tripura\", \"Puducherry\", \"Manipur\", \"Himachal Pradesh\", \"Nagaland\", \"Arunachal Pradesh\", \"Andaman and Nicobar Islands\", \"Ladakh\", \"Chandigarh\", \"Dadra and Nagar Haveli and Daman and Diu\", \"Meghalaya\", \"Sikkim\", \"Mizoram\", \"State Unassigned\", \"Lakshadweep\"], \"y\": [851716, 210978, 51633, 102067, 99101, 18842, 59963, 23654, 16734, 32915, 16121, 28159, 15409, 29299, 14053, 15474, 21268, 15731, 9547, 15549, 20689, 7187, 4896, 5884, 5161, 1765, 1814, 689, 1487, 345, 815, 2092, 285, 1252, 509, 349, 0, 0]}],\n",
       "                        {\"legend\": {\"bgcolor\": \"#F5F6F9\", \"font\": {\"color\": \"#4D5663\"}}, \"paper_bgcolor\": \"#F5F6F9\", \"plot_bgcolor\": \"#F5F6F9\", \"template\": {\"data\": {\"bar\": [{\"error_x\": {\"color\": \"#2a3f5f\"}, \"error_y\": {\"color\": \"#2a3f5f\"}, \"marker\": {\"line\": {\"color\": \"#E5ECF6\", \"width\": 0.5}}, \"type\": \"bar\"}], \"barpolar\": [{\"marker\": {\"line\": {\"color\": \"#E5ECF6\", \"width\": 0.5}}, \"type\": \"barpolar\"}], \"carpet\": [{\"aaxis\": {\"endlinecolor\": \"#2a3f5f\", \"gridcolor\": \"white\", \"linecolor\": \"white\", \"minorgridcolor\": \"white\", \"startlinecolor\": \"#2a3f5f\"}, \"baxis\": {\"endlinecolor\": \"#2a3f5f\", \"gridcolor\": \"white\", \"linecolor\": \"white\", \"minorgridcolor\": \"white\", \"startlinecolor\": \"#2a3f5f\"}, \"type\": \"carpet\"}], \"choropleth\": [{\"colorbar\": {\"outlinewidth\": 0, \"ticks\": \"\"}, \"type\": \"choropleth\"}], \"contour\": [{\"colorbar\": {\"outlinewidth\": 0, \"ticks\": \"\"}, \"colorscale\": [[0.0, \"#0d0887\"], [0.1111111111111111, \"#46039f\"], [0.2222222222222222, \"#7201a8\"], [0.3333333333333333, \"#9c179e\"], [0.4444444444444444, \"#bd3786\"], [0.5555555555555556, \"#d8576b\"], [0.6666666666666666, \"#ed7953\"], [0.7777777777777778, \"#fb9f3a\"], [0.8888888888888888, \"#fdca26\"], [1.0, \"#f0f921\"]], \"type\": \"contour\"}], \"contourcarpet\": [{\"colorbar\": {\"outlinewidth\": 0, \"ticks\": \"\"}, \"type\": \"contourcarpet\"}], \"heatmap\": [{\"colorbar\": {\"outlinewidth\": 0, \"ticks\": \"\"}, \"colorscale\": [[0.0, \"#0d0887\"], [0.1111111111111111, \"#46039f\"], [0.2222222222222222, \"#7201a8\"], [0.3333333333333333, \"#9c179e\"], [0.4444444444444444, \"#bd3786\"], [0.5555555555555556, \"#d8576b\"], [0.6666666666666666, \"#ed7953\"], [0.7777777777777778, \"#fb9f3a\"], [0.8888888888888888, \"#fdca26\"], [1.0, \"#f0f921\"]], \"type\": \"heatmap\"}], \"heatmapgl\": [{\"colorbar\": {\"outlinewidth\": 0, \"ticks\": \"\"}, \"colorscale\": [[0.0, \"#0d0887\"], [0.1111111111111111, \"#46039f\"], [0.2222222222222222, \"#7201a8\"], [0.3333333333333333, \"#9c179e\"], [0.4444444444444444, \"#bd3786\"], [0.5555555555555556, \"#d8576b\"], [0.6666666666666666, \"#ed7953\"], [0.7777777777777778, \"#fb9f3a\"], [0.8888888888888888, \"#fdca26\"], [1.0, \"#f0f921\"]], \"type\": \"heatmapgl\"}], \"histogram\": [{\"marker\": {\"colorbar\": {\"outlinewidth\": 0, \"ticks\": \"\"}}, \"type\": \"histogram\"}], \"histogram2d\": [{\"colorbar\": {\"outlinewidth\": 0, \"ticks\": \"\"}, \"colorscale\": [[0.0, \"#0d0887\"], [0.1111111111111111, \"#46039f\"], [0.2222222222222222, \"#7201a8\"], [0.3333333333333333, \"#9c179e\"], [0.4444444444444444, \"#bd3786\"], [0.5555555555555556, \"#d8576b\"], [0.6666666666666666, \"#ed7953\"], [0.7777777777777778, \"#fb9f3a\"], [0.8888888888888888, \"#fdca26\"], [1.0, \"#f0f921\"]], \"type\": \"histogram2d\"}], \"histogram2dcontour\": [{\"colorbar\": {\"outlinewidth\": 0, \"ticks\": \"\"}, \"colorscale\": [[0.0, \"#0d0887\"], [0.1111111111111111, \"#46039f\"], [0.2222222222222222, \"#7201a8\"], [0.3333333333333333, \"#9c179e\"], [0.4444444444444444, \"#bd3786\"], [0.5555555555555556, \"#d8576b\"], [0.6666666666666666, \"#ed7953\"], [0.7777777777777778, \"#fb9f3a\"], [0.8888888888888888, \"#fdca26\"], [1.0, \"#f0f921\"]], \"type\": \"histogram2dcontour\"}], \"mesh3d\": [{\"colorbar\": {\"outlinewidth\": 0, \"ticks\": \"\"}, \"type\": \"mesh3d\"}], \"parcoords\": [{\"line\": {\"colorbar\": {\"outlinewidth\": 0, \"ticks\": \"\"}}, \"type\": \"parcoords\"}], \"pie\": [{\"automargin\": true, \"type\": \"pie\"}], \"scatter\": [{\"marker\": {\"colorbar\": {\"outlinewidth\": 0, \"ticks\": \"\"}}, \"type\": \"scatter\"}], \"scatter3d\": [{\"line\": {\"colorbar\": {\"outlinewidth\": 0, \"ticks\": \"\"}}, \"marker\": {\"colorbar\": {\"outlinewidth\": 0, \"ticks\": \"\"}}, \"type\": \"scatter3d\"}], \"scattercarpet\": [{\"marker\": {\"colorbar\": {\"outlinewidth\": 0, \"ticks\": \"\"}}, \"type\": \"scattercarpet\"}], \"scattergeo\": [{\"marker\": {\"colorbar\": {\"outlinewidth\": 0, \"ticks\": \"\"}}, \"type\": \"scattergeo\"}], \"scattergl\": [{\"marker\": {\"colorbar\": {\"outlinewidth\": 0, \"ticks\": \"\"}}, \"type\": \"scattergl\"}], \"scattermapbox\": [{\"marker\": {\"colorbar\": {\"outlinewidth\": 0, \"ticks\": \"\"}}, \"type\": \"scattermapbox\"}], \"scatterpolar\": [{\"marker\": {\"colorbar\": {\"outlinewidth\": 0, \"ticks\": \"\"}}, \"type\": \"scatterpolar\"}], \"scatterpolargl\": [{\"marker\": {\"colorbar\": {\"outlinewidth\": 0, \"ticks\": \"\"}}, \"type\": \"scatterpolargl\"}], \"scatterternary\": [{\"marker\": {\"colorbar\": {\"outlinewidth\": 0, \"ticks\": \"\"}}, \"type\": \"scatterternary\"}], \"surface\": [{\"colorbar\": {\"outlinewidth\": 0, \"ticks\": \"\"}, \"colorscale\": [[0.0, \"#0d0887\"], [0.1111111111111111, \"#46039f\"], [0.2222222222222222, \"#7201a8\"], [0.3333333333333333, \"#9c179e\"], [0.4444444444444444, \"#bd3786\"], [0.5555555555555556, \"#d8576b\"], [0.6666666666666666, \"#ed7953\"], [0.7777777777777778, \"#fb9f3a\"], [0.8888888888888888, \"#fdca26\"], [1.0, \"#f0f921\"]], \"type\": \"surface\"}], \"table\": [{\"cells\": {\"fill\": {\"color\": \"#EBF0F8\"}, \"line\": {\"color\": \"white\"}}, \"header\": {\"fill\": {\"color\": \"#C8D4E3\"}, \"line\": {\"color\": \"white\"}}, \"type\": \"table\"}]}, \"layout\": {\"annotationdefaults\": {\"arrowcolor\": \"#2a3f5f\", \"arrowhead\": 0, \"arrowwidth\": 1}, \"coloraxis\": {\"colorbar\": {\"outlinewidth\": 0, \"ticks\": \"\"}}, \"colorscale\": {\"diverging\": [[0, \"#8e0152\"], [0.1, \"#c51b7d\"], [0.2, \"#de77ae\"], [0.3, \"#f1b6da\"], [0.4, \"#fde0ef\"], [0.5, \"#f7f7f7\"], [0.6, \"#e6f5d0\"], [0.7, \"#b8e186\"], [0.8, \"#7fbc41\"], [0.9, \"#4d9221\"], [1, \"#276419\"]], \"sequential\": [[0.0, \"#0d0887\"], [0.1111111111111111, \"#46039f\"], [0.2222222222222222, \"#7201a8\"], [0.3333333333333333, \"#9c179e\"], [0.4444444444444444, \"#bd3786\"], [0.5555555555555556, \"#d8576b\"], [0.6666666666666666, \"#ed7953\"], [0.7777777777777778, \"#fb9f3a\"], [0.8888888888888888, \"#fdca26\"], [1.0, \"#f0f921\"]], \"sequentialminus\": [[0.0, \"#0d0887\"], [0.1111111111111111, \"#46039f\"], [0.2222222222222222, \"#7201a8\"], [0.3333333333333333, \"#9c179e\"], [0.4444444444444444, \"#bd3786\"], [0.5555555555555556, \"#d8576b\"], [0.6666666666666666, \"#ed7953\"], [0.7777777777777778, \"#fb9f3a\"], [0.8888888888888888, \"#fdca26\"], [1.0, \"#f0f921\"]]}, \"colorway\": [\"#636efa\", \"#EF553B\", \"#00cc96\", \"#ab63fa\", \"#FFA15A\", \"#19d3f3\", \"#FF6692\", \"#B6E880\", \"#FF97FF\", \"#FECB52\"], \"font\": {\"color\": \"#2a3f5f\"}, \"geo\": {\"bgcolor\": \"white\", \"lakecolor\": \"white\", \"landcolor\": \"#E5ECF6\", \"showlakes\": true, \"showland\": true, \"subunitcolor\": \"white\"}, \"hoverlabel\": {\"align\": \"left\"}, \"hovermode\": \"closest\", \"mapbox\": {\"style\": \"light\"}, \"paper_bgcolor\": \"white\", \"plot_bgcolor\": \"#E5ECF6\", \"polar\": {\"angularaxis\": {\"gridcolor\": \"white\", \"linecolor\": \"white\", \"ticks\": \"\"}, \"bgcolor\": \"#E5ECF6\", \"radialaxis\": {\"gridcolor\": \"white\", \"linecolor\": \"white\", \"ticks\": \"\"}}, \"scene\": {\"xaxis\": {\"backgroundcolor\": \"#E5ECF6\", \"gridcolor\": \"white\", \"gridwidth\": 2, \"linecolor\": \"white\", \"showbackground\": true, \"ticks\": \"\", \"zerolinecolor\": \"white\"}, \"yaxis\": {\"backgroundcolor\": \"#E5ECF6\", \"gridcolor\": \"white\", \"gridwidth\": 2, \"linecolor\": \"white\", \"showbackground\": true, \"ticks\": \"\", \"zerolinecolor\": \"white\"}, \"zaxis\": {\"backgroundcolor\": \"#E5ECF6\", \"gridcolor\": \"white\", \"gridwidth\": 2, \"linecolor\": \"white\", \"showbackground\": true, \"ticks\": \"\", \"zerolinecolor\": \"white\"}}, \"shapedefaults\": {\"line\": {\"color\": \"#2a3f5f\"}}, \"ternary\": {\"aaxis\": {\"gridcolor\": \"white\", \"linecolor\": \"white\", \"ticks\": \"\"}, \"baxis\": {\"gridcolor\": \"white\", \"linecolor\": \"white\", \"ticks\": \"\"}, \"bgcolor\": \"#E5ECF6\", \"caxis\": {\"gridcolor\": \"white\", \"linecolor\": \"white\", \"ticks\": \"\"}}, \"title\": {\"x\": 0.05}, \"xaxis\": {\"automargin\": true, \"gridcolor\": \"white\", \"linecolor\": \"white\", \"ticks\": \"\", \"title\": {\"standoff\": 15}, \"zerolinecolor\": \"white\", \"zerolinewidth\": 2}, \"yaxis\": {\"automargin\": true, \"gridcolor\": \"white\", \"linecolor\": \"white\", \"ticks\": \"\", \"title\": {\"standoff\": 15}, \"zerolinecolor\": \"white\", \"zerolinewidth\": 2}}}, \"title\": {\"font\": {\"color\": \"#4D5663\"}, \"text\": \"Covid_19 graph\"}, \"xaxis\": {\"gridcolor\": \"#E1E5ED\", \"showgrid\": true, \"tickfont\": {\"color\": \"#4D5663\"}, \"title\": {\"font\": {\"color\": \"#4D5663\"}, \"text\": \"State\"}, \"zerolinecolor\": \"#E1E5ED\"}, \"yaxis\": {\"gridcolor\": \"#E1E5ED\", \"showgrid\": true, \"tickfont\": {\"color\": \"#4D5663\"}, \"title\": {\"font\": {\"color\": \"#4D5663\"}, \"text\": \"Active Cases\"}, \"zerolinecolor\": \"#E1E5ED\"}},\n",
       "                        {\"showLink\": true, \"linkText\": \"Export to plot.ly\", \"plotlyServerURL\": \"https://plot.ly\", \"responsive\": true}\n",
       "                    ).then(function(){\n",
       "                            \n",
       "var gd = document.getElementById('1eb24c72-235a-463f-8e2c-11ce10cada9d');\n",
       "var x = new MutationObserver(function (mutations, observer) {{\n",
       "        var display = window.getComputedStyle(gd).display;\n",
       "        if (!display || display === 'none') {{\n",
       "            console.log([gd, 'removed!']);\n",
       "            Plotly.purge(gd);\n",
       "            observer.disconnect();\n",
       "        }}\n",
       "}});\n",
       "\n",
       "// Listen for the removal of the full notebook cells\n",
       "var notebookContainer = gd.closest('#notebook-container');\n",
       "if (notebookContainer) {{\n",
       "    x.observe(notebookContainer, {childList: true});\n",
       "}}\n",
       "\n",
       "// Listen for the clearing of the current output cell\n",
       "var outputEl = gd.closest('.output');\n",
       "if (outputEl) {{\n",
       "    x.observe(outputEl, {childList: true});\n",
       "}}\n",
       "\n",
       "                        })\n",
       "                };\n",
       "                });\n",
       "            </script>\n",
       "        </div>"
      ]
     },
     "metadata": {},
     "output_type": "display_data"
    }
   ],
   "source": [
    "df.iplot(kind= 'scatter', x= 'State', y='Active', mode= 'markers+lines', title= 'Covid_19 graph', xTitle= 'State', yTitle= 'Active Cases', color= 'red', size= 10)\n"
   ]
  },
  {
   "cell_type": "code",
   "execution_count": 15,
   "metadata": {},
   "outputs": [],
   "source": [
    "Indian_Coordinates= pd.read_excel(r\"Indian Coordinates (1).xlsx\")"
   ]
  },
  {
   "cell_type": "code",
   "execution_count": 16,
   "metadata": {},
   "outputs": [],
   "source": [
    "##Indian_Coordinates"
   ]
  },
  {
   "cell_type": "code",
   "execution_count": null,
   "metadata": {},
   "outputs": [],
   "source": []
  },
  {
   "cell_type": "code",
   "execution_count": 17,
   "metadata": {},
   "outputs": [],
   "source": [
    "df_full= pd.merge(df, Indian_Coordinates, on= 'State_code')"
   ]
  },
  {
   "cell_type": "code",
   "execution_count": 18,
   "metadata": {},
   "outputs": [],
   "source": [
    "##df_full"
   ]
  },
  {
   "cell_type": "code",
   "execution_count": 19,
   "metadata": {},
   "outputs": [],
   "source": [
    "map= folium.Map(location=[20,70], zoom_start=4, tiles= 'Stamenterrain')\n",
    "for lat, long, value, name in zip(df_add['Latitude'],df_add['Longitude'],df_add['Confirmed'], df_add['State']):\n",
    "    folium.CircleMarker([lat, long], radius= value*0.0, popup= ('<strong>State</strong>:'+str(name).capitalize()+ '<br>''<strong>Confirmed</strong>:' +str(value)+'<br>'+ '<br>''<strong>Recovered</strong>:' +str(value)+'<br>'), color= 'red', full_color= 'red', fill_opacity= 0.6).add_to(map)                                  "
   ]
  },
  {
   "cell_type": "markdown",
   "metadata": {},
   "source": [
    "---"
   ]
  },
  {
   "cell_type": "markdown",
   "metadata": {},
   "source": [
    "# Data from 30th January till date."
   ]
  },
  {
   "cell_type": "code",
   "execution_count": 20,
   "metadata": {},
   "outputs": [],
   "source": [
    "df6= pd.read_csv(\"https://api.covid19india.org/csv/latest/case_time_series.csv\")\n",
    "##df6"
   ]
  },
  {
   "cell_type": "markdown",
   "metadata": {},
   "source": [
    "# Total confirmed, recovered and deceased- datewise."
   ]
  },
  {
   "cell_type": "code",
   "execution_count": 21,
   "metadata": {},
   "outputs": [
    {
     "data": {
      "application/vnd.plotly.v1+json": {
       "config": {
        "linkText": "Export to plot.ly",
        "plotlyServerURL": "https://plot.ly",
        "showLink": true
       },
       "data": [
        {
         "line": {
          "color": "rgba(219, 64, 82, 1.0)",
          "dash": "solid",
          "shape": "linear",
          "width": 1.3
         },
         "marker": {
          "size": 2,
          "symbol": "circle"
         },
         "mode": "markers+lines",
         "name": "Total Confirmed",
         "text": "",
         "type": "scatter",
         "x": [
          "30 January ",
          "31 January ",
          "01 February ",
          "02 February ",
          "03 February ",
          "04 February ",
          "05 February ",
          "06 February ",
          "07 February ",
          "08 February ",
          "09 February ",
          "10 February ",
          "11 February ",
          "12 February ",
          "13 February ",
          "14 February ",
          "15 February ",
          "16 February ",
          "17 February ",
          "18 February ",
          "19 February ",
          "20 February ",
          "21 February ",
          "22 February ",
          "23 February ",
          "24 February ",
          "25 February ",
          "26 February ",
          "27 February ",
          "28 February ",
          "29 February ",
          "01 March ",
          "02 March ",
          "03 March ",
          "04 March ",
          "05 March ",
          "06 March ",
          "07 March ",
          "08 March ",
          "09 March ",
          "10 March ",
          "11 March ",
          "12 March ",
          "13 March ",
          "14 March ",
          "15 March ",
          "16 March ",
          "17 March ",
          "18 March ",
          "19 March ",
          "20 March ",
          "21 March ",
          "22 March ",
          "23 March ",
          "24 March ",
          "25 March ",
          "26 March ",
          "27 March ",
          "28 March ",
          "29 March ",
          "30 March ",
          "31 March ",
          "01 April ",
          "02 April ",
          "03 April ",
          "04 April ",
          "05 April ",
          "06 April ",
          "07 April ",
          "08 April ",
          "09 April ",
          "10 April ",
          "11 April ",
          "12 April ",
          "13 April ",
          "14 April ",
          "15 April ",
          "16 April ",
          "17 April ",
          "18 April ",
          "19 April ",
          "20 April ",
          "21 April ",
          "22 April ",
          "23 April ",
          "24 April ",
          "25 April ",
          "26 April ",
          "27 April ",
          "28 April ",
          "29 April ",
          "30 April ",
          "01 May ",
          "02 May ",
          "03 May ",
          "04 May ",
          "05 May ",
          "06 May ",
          "07 May ",
          "08 May ",
          "09 May ",
          "10 May ",
          "11 May ",
          "12 May ",
          "13 May ",
          "14 May ",
          "15 May ",
          "16 May ",
          "17 May ",
          "18 May ",
          "19 May ",
          "20 May ",
          "21 May ",
          "22 May ",
          "23 May ",
          "24 May ",
          "25 May ",
          "26 May ",
          "27 May ",
          "28 May ",
          "29 May ",
          "30 May ",
          "31 May ",
          "01 June ",
          "02 June ",
          "03 June ",
          "04 June ",
          "05 June ",
          "06 June ",
          "07 June ",
          "08 June ",
          "09 June ",
          "10 June ",
          "11 June ",
          "12 June ",
          "13 June ",
          "14 June ",
          "15 June ",
          "16 June ",
          "17 June ",
          "18 June ",
          "19 June ",
          "20 June ",
          "21 June ",
          "22 June ",
          "23 June ",
          "24 June ",
          "25 June ",
          "26 June ",
          "27 June ",
          "28 June ",
          "29 June ",
          "30 June ",
          "01 July ",
          "02 July ",
          "03 July ",
          "04 July ",
          "05 July ",
          "06 July ",
          "07 July ",
          "08 July ",
          "09 July ",
          "10 July ",
          "11 July ",
          "12 July ",
          "13 July ",
          "14 July ",
          "15 July ",
          "16 July ",
          "17 July ",
          "18 July ",
          "19 July ",
          "20 July ",
          "21 July ",
          "22 July ",
          "23 July ",
          "24 July ",
          "25 July ",
          "26 July ",
          "27 July ",
          "28 July ",
          "29 July ",
          "30 July ",
          "31 July ",
          "01 August ",
          "02 August ",
          "03 August ",
          "04 August ",
          "05 August ",
          "06 August ",
          "07 August ",
          "08 August ",
          "09 August ",
          "10 August ",
          "11 August ",
          "12 August ",
          "13 August ",
          "14 August ",
          "15 August ",
          "16 August ",
          "17 August ",
          "18 August ",
          "19 August ",
          "20 August ",
          "21 August ",
          "22 August ",
          "23 August ",
          "24 August ",
          "25 August ",
          "26 August ",
          "27 August ",
          "28 August ",
          "29 August ",
          "30 August ",
          "31 August ",
          "01 September ",
          "02 September ",
          "03 September ",
          "04 September "
         ],
         "y": [
          1,
          1,
          1,
          2,
          3,
          3,
          3,
          3,
          3,
          3,
          3,
          3,
          3,
          3,
          3,
          3,
          3,
          3,
          3,
          3,
          3,
          3,
          3,
          3,
          3,
          3,
          3,
          3,
          3,
          3,
          3,
          3,
          5,
          6,
          28,
          30,
          31,
          34,
          39,
          48,
          63,
          71,
          81,
          91,
          102,
          112,
          126,
          146,
          171,
          198,
          256,
          334,
          403,
          497,
          571,
          657,
          730,
          883,
          1019,
          1139,
          1326,
          1635,
          2059,
          2545,
          3105,
          3684,
          4293,
          4777,
          5350,
          5915,
          6728,
          7599,
          8453,
          9211,
          10454,
          11485,
          12371,
          13432,
          14354,
          15725,
          17305,
          18544,
          20081,
          21373,
          23040,
          24448,
          26283,
          27890,
          29458,
          31360,
          33065,
          34866,
          37262,
          39826,
          42778,
          46434,
          49405,
          53007,
          56351,
          59690,
          62865,
          67176,
          70768,
          74330,
          78056,
          82047,
          85855,
          90649,
          95698,
          100326,
          106480,
          112200,
          118223,
          124759,
          131424,
          138537,
          144951,
          150858,
          158104,
          165358,
          173496,
          181860,
          190649,
          198372,
          207187,
          216876,
          226723,
          236195,
          246603,
          257485,
          266021,
          276002,
          287158,
          298293,
          309599,
          321638,
          333043,
          343075,
          354161,
          367269,
          381098,
          395838,
          411753,
          426904,
          440464,
          456120,
          472988,
          491193,
          509448,
          529590,
          549200,
          567539,
          585795,
          605224,
          627171,
          649889,
          673907,
          697849,
          720349,
          743496,
          769057,
          794847,
          822609,
          850366,
          879472,
          907650,
          937567,
          970174,
          1005642,
          1040462,
          1077873,
          1118108,
          1154914,
          1194084,
          1239685,
          1288128,
          1337016,
          1387088,
          1436020,
          1482504,
          1532135,
          1584614,
          1639582,
          1697068,
          1752185,
          1804857,
          1855345,
          1906627,
          1963253,
          2025423,
          2086878,
          2152034,
          2214151,
          2267167,
          2328419,
          2395485,
          2459626,
          2525236,
          2589222,
          2647318,
          2701616,
          2766640,
          2835836,
          2904354,
          2973383,
          3043450,
          3105199,
          3164895,
          3231768,
          3307763,
          3384590,
          3461247,
          3539726,
          3619187,
          3687953,
          3766121,
          3848981,
          3933137,
          4020252
         ]
        },
        {
         "line": {
          "color": "rgba(55, 128, 191, 1.0)",
          "dash": "solid",
          "shape": "linear",
          "width": 1.3
         },
         "marker": {
          "size": 2,
          "symbol": "circle"
         },
         "mode": "markers+lines",
         "name": "Total Recovered",
         "text": "",
         "type": "scatter",
         "x": [
          "30 January ",
          "31 January ",
          "01 February ",
          "02 February ",
          "03 February ",
          "04 February ",
          "05 February ",
          "06 February ",
          "07 February ",
          "08 February ",
          "09 February ",
          "10 February ",
          "11 February ",
          "12 February ",
          "13 February ",
          "14 February ",
          "15 February ",
          "16 February ",
          "17 February ",
          "18 February ",
          "19 February ",
          "20 February ",
          "21 February ",
          "22 February ",
          "23 February ",
          "24 February ",
          "25 February ",
          "26 February ",
          "27 February ",
          "28 February ",
          "29 February ",
          "01 March ",
          "02 March ",
          "03 March ",
          "04 March ",
          "05 March ",
          "06 March ",
          "07 March ",
          "08 March ",
          "09 March ",
          "10 March ",
          "11 March ",
          "12 March ",
          "13 March ",
          "14 March ",
          "15 March ",
          "16 March ",
          "17 March ",
          "18 March ",
          "19 March ",
          "20 March ",
          "21 March ",
          "22 March ",
          "23 March ",
          "24 March ",
          "25 March ",
          "26 March ",
          "27 March ",
          "28 March ",
          "29 March ",
          "30 March ",
          "31 March ",
          "01 April ",
          "02 April ",
          "03 April ",
          "04 April ",
          "05 April ",
          "06 April ",
          "07 April ",
          "08 April ",
          "09 April ",
          "10 April ",
          "11 April ",
          "12 April ",
          "13 April ",
          "14 April ",
          "15 April ",
          "16 April ",
          "17 April ",
          "18 April ",
          "19 April ",
          "20 April ",
          "21 April ",
          "22 April ",
          "23 April ",
          "24 April ",
          "25 April ",
          "26 April ",
          "27 April ",
          "28 April ",
          "29 April ",
          "30 April ",
          "01 May ",
          "02 May ",
          "03 May ",
          "04 May ",
          "05 May ",
          "06 May ",
          "07 May ",
          "08 May ",
          "09 May ",
          "10 May ",
          "11 May ",
          "12 May ",
          "13 May ",
          "14 May ",
          "15 May ",
          "16 May ",
          "17 May ",
          "18 May ",
          "19 May ",
          "20 May ",
          "21 May ",
          "22 May ",
          "23 May ",
          "24 May ",
          "25 May ",
          "26 May ",
          "27 May ",
          "28 May ",
          "29 May ",
          "30 May ",
          "31 May ",
          "01 June ",
          "02 June ",
          "03 June ",
          "04 June ",
          "05 June ",
          "06 June ",
          "07 June ",
          "08 June ",
          "09 June ",
          "10 June ",
          "11 June ",
          "12 June ",
          "13 June ",
          "14 June ",
          "15 June ",
          "16 June ",
          "17 June ",
          "18 June ",
          "19 June ",
          "20 June ",
          "21 June ",
          "22 June ",
          "23 June ",
          "24 June ",
          "25 June ",
          "26 June ",
          "27 June ",
          "28 June ",
          "29 June ",
          "30 June ",
          "01 July ",
          "02 July ",
          "03 July ",
          "04 July ",
          "05 July ",
          "06 July ",
          "07 July ",
          "08 July ",
          "09 July ",
          "10 July ",
          "11 July ",
          "12 July ",
          "13 July ",
          "14 July ",
          "15 July ",
          "16 July ",
          "17 July ",
          "18 July ",
          "19 July ",
          "20 July ",
          "21 July ",
          "22 July ",
          "23 July ",
          "24 July ",
          "25 July ",
          "26 July ",
          "27 July ",
          "28 July ",
          "29 July ",
          "30 July ",
          "31 July ",
          "01 August ",
          "02 August ",
          "03 August ",
          "04 August ",
          "05 August ",
          "06 August ",
          "07 August ",
          "08 August ",
          "09 August ",
          "10 August ",
          "11 August ",
          "12 August ",
          "13 August ",
          "14 August ",
          "15 August ",
          "16 August ",
          "17 August ",
          "18 August ",
          "19 August ",
          "20 August ",
          "21 August ",
          "22 August ",
          "23 August ",
          "24 August ",
          "25 August ",
          "26 August ",
          "27 August ",
          "28 August ",
          "29 August ",
          "30 August ",
          "31 August ",
          "01 September ",
          "02 September ",
          "03 September ",
          "04 September "
         ],
         "y": [
          0,
          0,
          0,
          0,
          0,
          0,
          0,
          0,
          0,
          0,
          0,
          0,
          0,
          0,
          1,
          1,
          1,
          2,
          2,
          2,
          2,
          3,
          3,
          3,
          3,
          3,
          3,
          3,
          3,
          3,
          3,
          3,
          3,
          3,
          3,
          3,
          3,
          3,
          3,
          3,
          4,
          4,
          4,
          10,
          10,
          13,
          14,
          15,
          15,
          20,
          23,
          23,
          23,
          25,
          40,
          43,
          50,
          75,
          85,
          102,
          137,
          150,
          169,
          191,
          230,
          286,
          329,
          394,
          469,
          565,
          635,
          786,
          972,
          1086,
          1198,
          1365,
          1509,
          1767,
          2040,
          2466,
          2854,
          3273,
          3976,
          4370,
          5012,
          5496,
          5938,
          6523,
          7103,
          7739,
          8429,
          9059,
          10021,
          10852,
          11763,
          12845,
          14140,
          15301,
          16776,
          17887,
          19301,
          20970,
          22549,
          24454,
          26417,
          28011,
          30245,
          34257,
          36795,
          39277,
          42309,
          45422,
          48553,
          51833,
          54409,
          57694,
          60706,
          64291,
          67725,
          70896,
          82631,
          86934,
          91862,
          95744,
          100275,
          104064,
          108454,
          113224,
          118657,
          123848,
          129019,
          134653,
          140928,
          146972,
          154235,
          162327,
          169685,
          180324,
          187550,
          194440,
          205181,
          214210,
          228184,
          237259,
          248138,
          258600,
          271689,
          285672,
          295918,
          310147,
          321778,
          335275,
          347840,
          359904,
          379903,
          394320,
          409066,
          424895,
          440210,
          457046,
          476554,
          495962,
          516251,
          536232,
          554430,
          572113,
          593090,
          613736,
          636603,
          654079,
          677662,
          700392,
          724695,
          752284,
          784159,
          817485,
          849999,
          887124,
          918636,
          952990,
          988673,
          1021559,
          1058984,
          1095538,
          1146906,
          1187261,
          1230331,
          1281551,
          1327134,
          1377275,
          1427662,
          1479797,
          1534271,
          1581633,
          1638094,
          1695853,
          1750629,
          1807549,
          1860665,
          1918069,
          1976241,
          2036696,
          2096061,
          2157934,
          2220792,
          2279893,
          2336789,
          2403094,
          2467245,
          2523436,
          2583056,
          2647531,
          2712513,
          2772935,
          2837370,
          2899515,
          2967389,
          3034880,
          3104505
         ]
        },
        {
         "line": {
          "color": "rgba(0, 128, 0, 1.0)",
          "dash": "solid",
          "shape": "linear",
          "width": 1.3
         },
         "marker": {
          "size": 2,
          "symbol": "circle"
         },
         "mode": "markers+lines",
         "name": "Total Deceased",
         "text": "",
         "type": "scatter",
         "x": [
          "30 January ",
          "31 January ",
          "01 February ",
          "02 February ",
          "03 February ",
          "04 February ",
          "05 February ",
          "06 February ",
          "07 February ",
          "08 February ",
          "09 February ",
          "10 February ",
          "11 February ",
          "12 February ",
          "13 February ",
          "14 February ",
          "15 February ",
          "16 February ",
          "17 February ",
          "18 February ",
          "19 February ",
          "20 February ",
          "21 February ",
          "22 February ",
          "23 February ",
          "24 February ",
          "25 February ",
          "26 February ",
          "27 February ",
          "28 February ",
          "29 February ",
          "01 March ",
          "02 March ",
          "03 March ",
          "04 March ",
          "05 March ",
          "06 March ",
          "07 March ",
          "08 March ",
          "09 March ",
          "10 March ",
          "11 March ",
          "12 March ",
          "13 March ",
          "14 March ",
          "15 March ",
          "16 March ",
          "17 March ",
          "18 March ",
          "19 March ",
          "20 March ",
          "21 March ",
          "22 March ",
          "23 March ",
          "24 March ",
          "25 March ",
          "26 March ",
          "27 March ",
          "28 March ",
          "29 March ",
          "30 March ",
          "31 March ",
          "01 April ",
          "02 April ",
          "03 April ",
          "04 April ",
          "05 April ",
          "06 April ",
          "07 April ",
          "08 April ",
          "09 April ",
          "10 April ",
          "11 April ",
          "12 April ",
          "13 April ",
          "14 April ",
          "15 April ",
          "16 April ",
          "17 April ",
          "18 April ",
          "19 April ",
          "20 April ",
          "21 April ",
          "22 April ",
          "23 April ",
          "24 April ",
          "25 April ",
          "26 April ",
          "27 April ",
          "28 April ",
          "29 April ",
          "30 April ",
          "01 May ",
          "02 May ",
          "03 May ",
          "04 May ",
          "05 May ",
          "06 May ",
          "07 May ",
          "08 May ",
          "09 May ",
          "10 May ",
          "11 May ",
          "12 May ",
          "13 May ",
          "14 May ",
          "15 May ",
          "16 May ",
          "17 May ",
          "18 May ",
          "19 May ",
          "20 May ",
          "21 May ",
          "22 May ",
          "23 May ",
          "24 May ",
          "25 May ",
          "26 May ",
          "27 May ",
          "28 May ",
          "29 May ",
          "30 May ",
          "31 May ",
          "01 June ",
          "02 June ",
          "03 June ",
          "04 June ",
          "05 June ",
          "06 June ",
          "07 June ",
          "08 June ",
          "09 June ",
          "10 June ",
          "11 June ",
          "12 June ",
          "13 June ",
          "14 June ",
          "15 June ",
          "16 June ",
          "17 June ",
          "18 June ",
          "19 June ",
          "20 June ",
          "21 June ",
          "22 June ",
          "23 June ",
          "24 June ",
          "25 June ",
          "26 June ",
          "27 June ",
          "28 June ",
          "29 June ",
          "30 June ",
          "01 July ",
          "02 July ",
          "03 July ",
          "04 July ",
          "05 July ",
          "06 July ",
          "07 July ",
          "08 July ",
          "09 July ",
          "10 July ",
          "11 July ",
          "12 July ",
          "13 July ",
          "14 July ",
          "15 July ",
          "16 July ",
          "17 July ",
          "18 July ",
          "19 July ",
          "20 July ",
          "21 July ",
          "22 July ",
          "23 July ",
          "24 July ",
          "25 July ",
          "26 July ",
          "27 July ",
          "28 July ",
          "29 July ",
          "30 July ",
          "31 July ",
          "01 August ",
          "02 August ",
          "03 August ",
          "04 August ",
          "05 August ",
          "06 August ",
          "07 August ",
          "08 August ",
          "09 August ",
          "10 August ",
          "11 August ",
          "12 August ",
          "13 August ",
          "14 August ",
          "15 August ",
          "16 August ",
          "17 August ",
          "18 August ",
          "19 August ",
          "20 August ",
          "21 August ",
          "22 August ",
          "23 August ",
          "24 August ",
          "25 August ",
          "26 August ",
          "27 August ",
          "28 August ",
          "29 August ",
          "30 August ",
          "31 August ",
          "01 September ",
          "02 September ",
          "03 September ",
          "04 September "
         ],
         "y": [
          0,
          0,
          0,
          0,
          0,
          0,
          0,
          0,
          0,
          0,
          0,
          0,
          0,
          0,
          0,
          0,
          0,
          0,
          0,
          0,
          0,
          0,
          0,
          0,
          0,
          0,
          0,
          0,
          0,
          0,
          0,
          0,
          0,
          0,
          0,
          0,
          0,
          0,
          0,
          0,
          0,
          0,
          1,
          1,
          2,
          2,
          2,
          3,
          3,
          4,
          4,
          4,
          7,
          9,
          10,
          11,
          16,
          19,
          24,
          27,
          41,
          47,
          53,
          69,
          83,
          96,
          118,
          134,
          161,
          181,
          227,
          249,
          290,
          332,
          359,
          396,
          423,
          449,
          487,
          522,
          560,
          593,
          646,
          682,
          722,
          781,
          825,
          881,
          939,
          1008,
          1079,
          1154,
          1231,
          1323,
          1463,
          1566,
          1694,
          1785,
          1889,
          1986,
          2101,
          2213,
          2294,
          2414,
          2551,
          2648,
          2752,
          2872,
          3024,
          3155,
          3301,
          3435,
          3583,
          3725,
          3867,
          4023,
          4173,
          4346,
          4534,
          4710,
          4979,
          5184,
          5406,
          5607,
          5829,
          6088,
          6362,
          6648,
          6945,
          7206,
          7477,
          7749,
          8107,
          8501,
          8889,
          9198,
          9522,
          9918,
          11922,
          12263,
          12606,
          12970,
          13278,
          13704,
          14016,
          14484,
          14908,
          15309,
          15690,
          16104,
          16488,
          16905,
          17411,
          17849,
          18227,
          18671,
          19282,
          19703,
          20176,
          20655,
          21147,
          21626,
          22146,
          22689,
          23189,
          23730,
          24317,
          24931,
          25611,
          26287,
          26830,
          27505,
          28101,
          28772,
          29902,
          30657,
          31420,
          32123,
          32827,
          33469,
          34243,
          35018,
          35802,
          36566,
          37420,
          38180,
          38986,
          39835,
          40754,
          41653,
          42589,
          43464,
          44477,
          45364,
          46199,
          47149,
          48155,
          49144,
          50096,
          51048,
          51928,
          53027,
          54006,
          54987,
          55940,
          56858,
          57704,
          58558,
          59624,
          60641,
          61707,
          62726,
          63669,
          64629,
          65445,
          66472,
          67498,
          68581,
          69647
         ]
        }
       ],
       "layout": {
        "legend": {
         "bgcolor": "#F5F6F9",
         "font": {
          "color": "#4D5663"
         }
        },
        "paper_bgcolor": "#F5F6F9",
        "plot_bgcolor": "#F5F6F9",
        "template": {
         "data": {
          "bar": [
           {
            "error_x": {
             "color": "#2a3f5f"
            },
            "error_y": {
             "color": "#2a3f5f"
            },
            "marker": {
             "line": {
              "color": "#E5ECF6",
              "width": 0.5
             }
            },
            "type": "bar"
           }
          ],
          "barpolar": [
           {
            "marker": {
             "line": {
              "color": "#E5ECF6",
              "width": 0.5
             }
            },
            "type": "barpolar"
           }
          ],
          "carpet": [
           {
            "aaxis": {
             "endlinecolor": "#2a3f5f",
             "gridcolor": "white",
             "linecolor": "white",
             "minorgridcolor": "white",
             "startlinecolor": "#2a3f5f"
            },
            "baxis": {
             "endlinecolor": "#2a3f5f",
             "gridcolor": "white",
             "linecolor": "white",
             "minorgridcolor": "white",
             "startlinecolor": "#2a3f5f"
            },
            "type": "carpet"
           }
          ],
          "choropleth": [
           {
            "colorbar": {
             "outlinewidth": 0,
             "ticks": ""
            },
            "type": "choropleth"
           }
          ],
          "contour": [
           {
            "colorbar": {
             "outlinewidth": 0,
             "ticks": ""
            },
            "colorscale": [
             [
              0,
              "#0d0887"
             ],
             [
              0.1111111111111111,
              "#46039f"
             ],
             [
              0.2222222222222222,
              "#7201a8"
             ],
             [
              0.3333333333333333,
              "#9c179e"
             ],
             [
              0.4444444444444444,
              "#bd3786"
             ],
             [
              0.5555555555555556,
              "#d8576b"
             ],
             [
              0.6666666666666666,
              "#ed7953"
             ],
             [
              0.7777777777777778,
              "#fb9f3a"
             ],
             [
              0.8888888888888888,
              "#fdca26"
             ],
             [
              1,
              "#f0f921"
             ]
            ],
            "type": "contour"
           }
          ],
          "contourcarpet": [
           {
            "colorbar": {
             "outlinewidth": 0,
             "ticks": ""
            },
            "type": "contourcarpet"
           }
          ],
          "heatmap": [
           {
            "colorbar": {
             "outlinewidth": 0,
             "ticks": ""
            },
            "colorscale": [
             [
              0,
              "#0d0887"
             ],
             [
              0.1111111111111111,
              "#46039f"
             ],
             [
              0.2222222222222222,
              "#7201a8"
             ],
             [
              0.3333333333333333,
              "#9c179e"
             ],
             [
              0.4444444444444444,
              "#bd3786"
             ],
             [
              0.5555555555555556,
              "#d8576b"
             ],
             [
              0.6666666666666666,
              "#ed7953"
             ],
             [
              0.7777777777777778,
              "#fb9f3a"
             ],
             [
              0.8888888888888888,
              "#fdca26"
             ],
             [
              1,
              "#f0f921"
             ]
            ],
            "type": "heatmap"
           }
          ],
          "heatmapgl": [
           {
            "colorbar": {
             "outlinewidth": 0,
             "ticks": ""
            },
            "colorscale": [
             [
              0,
              "#0d0887"
             ],
             [
              0.1111111111111111,
              "#46039f"
             ],
             [
              0.2222222222222222,
              "#7201a8"
             ],
             [
              0.3333333333333333,
              "#9c179e"
             ],
             [
              0.4444444444444444,
              "#bd3786"
             ],
             [
              0.5555555555555556,
              "#d8576b"
             ],
             [
              0.6666666666666666,
              "#ed7953"
             ],
             [
              0.7777777777777778,
              "#fb9f3a"
             ],
             [
              0.8888888888888888,
              "#fdca26"
             ],
             [
              1,
              "#f0f921"
             ]
            ],
            "type": "heatmapgl"
           }
          ],
          "histogram": [
           {
            "marker": {
             "colorbar": {
              "outlinewidth": 0,
              "ticks": ""
             }
            },
            "type": "histogram"
           }
          ],
          "histogram2d": [
           {
            "colorbar": {
             "outlinewidth": 0,
             "ticks": ""
            },
            "colorscale": [
             [
              0,
              "#0d0887"
             ],
             [
              0.1111111111111111,
              "#46039f"
             ],
             [
              0.2222222222222222,
              "#7201a8"
             ],
             [
              0.3333333333333333,
              "#9c179e"
             ],
             [
              0.4444444444444444,
              "#bd3786"
             ],
             [
              0.5555555555555556,
              "#d8576b"
             ],
             [
              0.6666666666666666,
              "#ed7953"
             ],
             [
              0.7777777777777778,
              "#fb9f3a"
             ],
             [
              0.8888888888888888,
              "#fdca26"
             ],
             [
              1,
              "#f0f921"
             ]
            ],
            "type": "histogram2d"
           }
          ],
          "histogram2dcontour": [
           {
            "colorbar": {
             "outlinewidth": 0,
             "ticks": ""
            },
            "colorscale": [
             [
              0,
              "#0d0887"
             ],
             [
              0.1111111111111111,
              "#46039f"
             ],
             [
              0.2222222222222222,
              "#7201a8"
             ],
             [
              0.3333333333333333,
              "#9c179e"
             ],
             [
              0.4444444444444444,
              "#bd3786"
             ],
             [
              0.5555555555555556,
              "#d8576b"
             ],
             [
              0.6666666666666666,
              "#ed7953"
             ],
             [
              0.7777777777777778,
              "#fb9f3a"
             ],
             [
              0.8888888888888888,
              "#fdca26"
             ],
             [
              1,
              "#f0f921"
             ]
            ],
            "type": "histogram2dcontour"
           }
          ],
          "mesh3d": [
           {
            "colorbar": {
             "outlinewidth": 0,
             "ticks": ""
            },
            "type": "mesh3d"
           }
          ],
          "parcoords": [
           {
            "line": {
             "colorbar": {
              "outlinewidth": 0,
              "ticks": ""
             }
            },
            "type": "parcoords"
           }
          ],
          "pie": [
           {
            "automargin": true,
            "type": "pie"
           }
          ],
          "scatter": [
           {
            "marker": {
             "colorbar": {
              "outlinewidth": 0,
              "ticks": ""
             }
            },
            "type": "scatter"
           }
          ],
          "scatter3d": [
           {
            "line": {
             "colorbar": {
              "outlinewidth": 0,
              "ticks": ""
             }
            },
            "marker": {
             "colorbar": {
              "outlinewidth": 0,
              "ticks": ""
             }
            },
            "type": "scatter3d"
           }
          ],
          "scattercarpet": [
           {
            "marker": {
             "colorbar": {
              "outlinewidth": 0,
              "ticks": ""
             }
            },
            "type": "scattercarpet"
           }
          ],
          "scattergeo": [
           {
            "marker": {
             "colorbar": {
              "outlinewidth": 0,
              "ticks": ""
             }
            },
            "type": "scattergeo"
           }
          ],
          "scattergl": [
           {
            "marker": {
             "colorbar": {
              "outlinewidth": 0,
              "ticks": ""
             }
            },
            "type": "scattergl"
           }
          ],
          "scattermapbox": [
           {
            "marker": {
             "colorbar": {
              "outlinewidth": 0,
              "ticks": ""
             }
            },
            "type": "scattermapbox"
           }
          ],
          "scatterpolar": [
           {
            "marker": {
             "colorbar": {
              "outlinewidth": 0,
              "ticks": ""
             }
            },
            "type": "scatterpolar"
           }
          ],
          "scatterpolargl": [
           {
            "marker": {
             "colorbar": {
              "outlinewidth": 0,
              "ticks": ""
             }
            },
            "type": "scatterpolargl"
           }
          ],
          "scatterternary": [
           {
            "marker": {
             "colorbar": {
              "outlinewidth": 0,
              "ticks": ""
             }
            },
            "type": "scatterternary"
           }
          ],
          "surface": [
           {
            "colorbar": {
             "outlinewidth": 0,
             "ticks": ""
            },
            "colorscale": [
             [
              0,
              "#0d0887"
             ],
             [
              0.1111111111111111,
              "#46039f"
             ],
             [
              0.2222222222222222,
              "#7201a8"
             ],
             [
              0.3333333333333333,
              "#9c179e"
             ],
             [
              0.4444444444444444,
              "#bd3786"
             ],
             [
              0.5555555555555556,
              "#d8576b"
             ],
             [
              0.6666666666666666,
              "#ed7953"
             ],
             [
              0.7777777777777778,
              "#fb9f3a"
             ],
             [
              0.8888888888888888,
              "#fdca26"
             ],
             [
              1,
              "#f0f921"
             ]
            ],
            "type": "surface"
           }
          ],
          "table": [
           {
            "cells": {
             "fill": {
              "color": "#EBF0F8"
             },
             "line": {
              "color": "white"
             }
            },
            "header": {
             "fill": {
              "color": "#C8D4E3"
             },
             "line": {
              "color": "white"
             }
            },
            "type": "table"
           }
          ]
         },
         "layout": {
          "annotationdefaults": {
           "arrowcolor": "#2a3f5f",
           "arrowhead": 0,
           "arrowwidth": 1
          },
          "coloraxis": {
           "colorbar": {
            "outlinewidth": 0,
            "ticks": ""
           }
          },
          "colorscale": {
           "diverging": [
            [
             0,
             "#8e0152"
            ],
            [
             0.1,
             "#c51b7d"
            ],
            [
             0.2,
             "#de77ae"
            ],
            [
             0.3,
             "#f1b6da"
            ],
            [
             0.4,
             "#fde0ef"
            ],
            [
             0.5,
             "#f7f7f7"
            ],
            [
             0.6,
             "#e6f5d0"
            ],
            [
             0.7,
             "#b8e186"
            ],
            [
             0.8,
             "#7fbc41"
            ],
            [
             0.9,
             "#4d9221"
            ],
            [
             1,
             "#276419"
            ]
           ],
           "sequential": [
            [
             0,
             "#0d0887"
            ],
            [
             0.1111111111111111,
             "#46039f"
            ],
            [
             0.2222222222222222,
             "#7201a8"
            ],
            [
             0.3333333333333333,
             "#9c179e"
            ],
            [
             0.4444444444444444,
             "#bd3786"
            ],
            [
             0.5555555555555556,
             "#d8576b"
            ],
            [
             0.6666666666666666,
             "#ed7953"
            ],
            [
             0.7777777777777778,
             "#fb9f3a"
            ],
            [
             0.8888888888888888,
             "#fdca26"
            ],
            [
             1,
             "#f0f921"
            ]
           ],
           "sequentialminus": [
            [
             0,
             "#0d0887"
            ],
            [
             0.1111111111111111,
             "#46039f"
            ],
            [
             0.2222222222222222,
             "#7201a8"
            ],
            [
             0.3333333333333333,
             "#9c179e"
            ],
            [
             0.4444444444444444,
             "#bd3786"
            ],
            [
             0.5555555555555556,
             "#d8576b"
            ],
            [
             0.6666666666666666,
             "#ed7953"
            ],
            [
             0.7777777777777778,
             "#fb9f3a"
            ],
            [
             0.8888888888888888,
             "#fdca26"
            ],
            [
             1,
             "#f0f921"
            ]
           ]
          },
          "colorway": [
           "#636efa",
           "#EF553B",
           "#00cc96",
           "#ab63fa",
           "#FFA15A",
           "#19d3f3",
           "#FF6692",
           "#B6E880",
           "#FF97FF",
           "#FECB52"
          ],
          "font": {
           "color": "#2a3f5f"
          },
          "geo": {
           "bgcolor": "white",
           "lakecolor": "white",
           "landcolor": "#E5ECF6",
           "showlakes": true,
           "showland": true,
           "subunitcolor": "white"
          },
          "hoverlabel": {
           "align": "left"
          },
          "hovermode": "closest",
          "mapbox": {
           "style": "light"
          },
          "paper_bgcolor": "white",
          "plot_bgcolor": "#E5ECF6",
          "polar": {
           "angularaxis": {
            "gridcolor": "white",
            "linecolor": "white",
            "ticks": ""
           },
           "bgcolor": "#E5ECF6",
           "radialaxis": {
            "gridcolor": "white",
            "linecolor": "white",
            "ticks": ""
           }
          },
          "scene": {
           "xaxis": {
            "backgroundcolor": "#E5ECF6",
            "gridcolor": "white",
            "gridwidth": 2,
            "linecolor": "white",
            "showbackground": true,
            "ticks": "",
            "zerolinecolor": "white"
           },
           "yaxis": {
            "backgroundcolor": "#E5ECF6",
            "gridcolor": "white",
            "gridwidth": 2,
            "linecolor": "white",
            "showbackground": true,
            "ticks": "",
            "zerolinecolor": "white"
           },
           "zaxis": {
            "backgroundcolor": "#E5ECF6",
            "gridcolor": "white",
            "gridwidth": 2,
            "linecolor": "white",
            "showbackground": true,
            "ticks": "",
            "zerolinecolor": "white"
           }
          },
          "shapedefaults": {
           "line": {
            "color": "#2a3f5f"
           }
          },
          "ternary": {
           "aaxis": {
            "gridcolor": "white",
            "linecolor": "white",
            "ticks": ""
           },
           "baxis": {
            "gridcolor": "white",
            "linecolor": "white",
            "ticks": ""
           },
           "bgcolor": "#E5ECF6",
           "caxis": {
            "gridcolor": "white",
            "linecolor": "white",
            "ticks": ""
           }
          },
          "title": {
           "x": 0.05
          },
          "xaxis": {
           "automargin": true,
           "gridcolor": "white",
           "linecolor": "white",
           "ticks": "",
           "title": {
            "standoff": 15
           },
           "zerolinecolor": "white",
           "zerolinewidth": 2
          },
          "yaxis": {
           "automargin": true,
           "gridcolor": "white",
           "linecolor": "white",
           "ticks": "",
           "title": {
            "standoff": 15
           },
           "zerolinecolor": "white",
           "zerolinewidth": 2
          }
         }
        },
        "title": {
         "font": {
          "color": "#4D5663"
         }
        },
        "xaxis": {
         "gridcolor": "#E1E5ED",
         "showgrid": true,
         "tickfont": {
          "color": "#4D5663"
         },
         "title": {
          "font": {
           "color": "#4D5663"
          },
          "text": "Date"
         },
         "zerolinecolor": "#E1E5ED"
        },
        "yaxis": {
         "gridcolor": "#E1E5ED",
         "showgrid": true,
         "tickfont": {
          "color": "#4D5663"
         },
         "title": {
          "font": {
           "color": "#4D5663"
          },
          "text": "Total Confirmed, Recovered and Deceased"
         },
         "zerolinecolor": "#E1E5ED"
        }
       }
      },
      "text/html": [
       "<div>\n",
       "        \n",
       "        \n",
       "            <div id=\"20b74821-91d6-49c4-ba98-02484b70ea78\" class=\"plotly-graph-div\" style=\"height:525px; width:100%;\"></div>\n",
       "            <script type=\"text/javascript\">\n",
       "                require([\"plotly\"], function(Plotly) {\n",
       "                    window.PLOTLYENV=window.PLOTLYENV || {};\n",
       "                    window.PLOTLYENV.BASE_URL='https://plot.ly';\n",
       "                    \n",
       "                if (document.getElementById(\"20b74821-91d6-49c4-ba98-02484b70ea78\")) {\n",
       "                    Plotly.newPlot(\n",
       "                        '20b74821-91d6-49c4-ba98-02484b70ea78',\n",
       "                        [{\"line\": {\"color\": \"rgba(219, 64, 82, 1.0)\", \"dash\": \"solid\", \"shape\": \"linear\", \"width\": 1.3}, \"marker\": {\"size\": 2, \"symbol\": \"circle\"}, \"mode\": \"markers+lines\", \"name\": \"Total Confirmed\", \"text\": \"\", \"type\": \"scatter\", \"x\": [\"30 January \", \"31 January \", \"01 February \", \"02 February \", \"03 February \", \"04 February \", \"05 February \", \"06 February \", \"07 February \", \"08 February \", \"09 February \", \"10 February \", \"11 February \", \"12 February \", \"13 February \", \"14 February \", \"15 February \", \"16 February \", \"17 February \", \"18 February \", \"19 February \", \"20 February \", \"21 February \", \"22 February \", \"23 February \", \"24 February \", \"25 February \", \"26 February \", \"27 February \", \"28 February \", \"29 February \", \"01 March \", \"02 March \", \"03 March \", \"04 March \", \"05 March \", \"06 March \", \"07 March \", \"08 March \", \"09 March \", \"10 March \", \"11 March \", \"12 March \", \"13 March \", \"14 March \", \"15 March \", \"16 March \", \"17 March \", \"18 March \", \"19 March \", \"20 March \", \"21 March \", \"22 March \", \"23 March \", \"24 March \", \"25 March \", \"26 March \", \"27 March \", \"28 March \", \"29 March \", \"30 March \", \"31 March \", \"01 April \", \"02 April \", \"03 April \", \"04 April \", \"05 April \", \"06 April \", \"07 April \", \"08 April \", \"09 April \", \"10 April \", \"11 April \", \"12 April \", \"13 April \", \"14 April \", \"15 April \", \"16 April \", \"17 April \", \"18 April \", \"19 April \", \"20 April \", \"21 April \", \"22 April \", \"23 April \", \"24 April \", \"25 April \", \"26 April \", \"27 April \", \"28 April \", \"29 April \", \"30 April \", \"01 May \", \"02 May \", \"03 May \", \"04 May \", \"05 May \", \"06 May \", \"07 May \", \"08 May \", \"09 May \", \"10 May \", \"11 May \", \"12 May \", \"13 May \", \"14 May \", \"15 May \", \"16 May \", \"17 May \", \"18 May \", \"19 May \", \"20 May \", \"21 May \", \"22 May \", \"23 May \", \"24 May \", \"25 May \", \"26 May \", \"27 May \", \"28 May \", \"29 May \", \"30 May \", \"31 May \", \"01 June \", \"02 June \", \"03 June \", \"04 June \", \"05 June \", \"06 June \", \"07 June \", \"08 June \", \"09 June \", \"10 June \", \"11 June \", \"12 June \", \"13 June \", \"14 June \", \"15 June \", \"16 June \", \"17 June \", \"18 June \", \"19 June \", \"20 June \", \"21 June \", \"22 June \", \"23 June \", \"24 June \", \"25 June \", \"26 June \", \"27 June \", \"28 June \", \"29 June \", \"30 June \", \"01 July \", \"02 July \", \"03 July \", \"04 July \", \"05 July \", \"06 July \", \"07 July \", \"08 July \", \"09 July \", \"10 July \", \"11 July \", \"12 July \", \"13 July \", \"14 July \", \"15 July \", \"16 July \", \"17 July \", \"18 July \", \"19 July \", \"20 July \", \"21 July \", \"22 July \", \"23 July \", \"24 July \", \"25 July \", \"26 July \", \"27 July \", \"28 July \", \"29 July \", \"30 July \", \"31 July \", \"01 August \", \"02 August \", \"03 August \", \"04 August \", \"05 August \", \"06 August \", \"07 August \", \"08 August \", \"09 August \", \"10 August \", \"11 August \", \"12 August \", \"13 August \", \"14 August \", \"15 August \", \"16 August \", \"17 August \", \"18 August \", \"19 August \", \"20 August \", \"21 August \", \"22 August \", \"23 August \", \"24 August \", \"25 August \", \"26 August \", \"27 August \", \"28 August \", \"29 August \", \"30 August \", \"31 August \", \"01 September \", \"02 September \", \"03 September \", \"04 September \"], \"y\": [1, 1, 1, 2, 3, 3, 3, 3, 3, 3, 3, 3, 3, 3, 3, 3, 3, 3, 3, 3, 3, 3, 3, 3, 3, 3, 3, 3, 3, 3, 3, 3, 5, 6, 28, 30, 31, 34, 39, 48, 63, 71, 81, 91, 102, 112, 126, 146, 171, 198, 256, 334, 403, 497, 571, 657, 730, 883, 1019, 1139, 1326, 1635, 2059, 2545, 3105, 3684, 4293, 4777, 5350, 5915, 6728, 7599, 8453, 9211, 10454, 11485, 12371, 13432, 14354, 15725, 17305, 18544, 20081, 21373, 23040, 24448, 26283, 27890, 29458, 31360, 33065, 34866, 37262, 39826, 42778, 46434, 49405, 53007, 56351, 59690, 62865, 67176, 70768, 74330, 78056, 82047, 85855, 90649, 95698, 100326, 106480, 112200, 118223, 124759, 131424, 138537, 144951, 150858, 158104, 165358, 173496, 181860, 190649, 198372, 207187, 216876, 226723, 236195, 246603, 257485, 266021, 276002, 287158, 298293, 309599, 321638, 333043, 343075, 354161, 367269, 381098, 395838, 411753, 426904, 440464, 456120, 472988, 491193, 509448, 529590, 549200, 567539, 585795, 605224, 627171, 649889, 673907, 697849, 720349, 743496, 769057, 794847, 822609, 850366, 879472, 907650, 937567, 970174, 1005642, 1040462, 1077873, 1118108, 1154914, 1194084, 1239685, 1288128, 1337016, 1387088, 1436020, 1482504, 1532135, 1584614, 1639582, 1697068, 1752185, 1804857, 1855345, 1906627, 1963253, 2025423, 2086878, 2152034, 2214151, 2267167, 2328419, 2395485, 2459626, 2525236, 2589222, 2647318, 2701616, 2766640, 2835836, 2904354, 2973383, 3043450, 3105199, 3164895, 3231768, 3307763, 3384590, 3461247, 3539726, 3619187, 3687953, 3766121, 3848981, 3933137, 4020252]}, {\"line\": {\"color\": \"rgba(55, 128, 191, 1.0)\", \"dash\": \"solid\", \"shape\": \"linear\", \"width\": 1.3}, \"marker\": {\"size\": 2, \"symbol\": \"circle\"}, \"mode\": \"markers+lines\", \"name\": \"Total Recovered\", \"text\": \"\", \"type\": \"scatter\", \"x\": [\"30 January \", \"31 January \", \"01 February \", \"02 February \", \"03 February \", \"04 February \", \"05 February \", \"06 February \", \"07 February \", \"08 February \", \"09 February \", \"10 February \", \"11 February \", \"12 February \", \"13 February \", \"14 February \", \"15 February \", \"16 February \", \"17 February \", \"18 February \", \"19 February \", \"20 February \", \"21 February \", \"22 February \", \"23 February \", \"24 February \", \"25 February \", \"26 February \", \"27 February \", \"28 February \", \"29 February \", \"01 March \", \"02 March \", \"03 March \", \"04 March \", \"05 March \", \"06 March \", \"07 March \", \"08 March \", \"09 March \", \"10 March \", \"11 March \", \"12 March \", \"13 March \", \"14 March \", \"15 March \", \"16 March \", \"17 March \", \"18 March \", \"19 March \", \"20 March \", \"21 March \", \"22 March \", \"23 March \", \"24 March \", \"25 March \", \"26 March \", \"27 March \", \"28 March \", \"29 March \", \"30 March \", \"31 March \", \"01 April \", \"02 April \", \"03 April \", \"04 April \", \"05 April \", \"06 April \", \"07 April \", \"08 April \", \"09 April \", \"10 April \", \"11 April \", \"12 April \", \"13 April \", \"14 April \", \"15 April \", \"16 April \", \"17 April \", \"18 April \", \"19 April \", \"20 April \", \"21 April \", \"22 April \", \"23 April \", \"24 April \", \"25 April \", \"26 April \", \"27 April \", \"28 April \", \"29 April \", \"30 April \", \"01 May \", \"02 May \", \"03 May \", \"04 May \", \"05 May \", \"06 May \", \"07 May \", \"08 May \", \"09 May \", \"10 May \", \"11 May \", \"12 May \", \"13 May \", \"14 May \", \"15 May \", \"16 May \", \"17 May \", \"18 May \", \"19 May \", \"20 May \", \"21 May \", \"22 May \", \"23 May \", \"24 May \", \"25 May \", \"26 May \", \"27 May \", \"28 May \", \"29 May \", \"30 May \", \"31 May \", \"01 June \", \"02 June \", \"03 June \", \"04 June \", \"05 June \", \"06 June \", \"07 June \", \"08 June \", \"09 June \", \"10 June \", \"11 June \", \"12 June \", \"13 June \", \"14 June \", \"15 June \", \"16 June \", \"17 June \", \"18 June \", \"19 June \", \"20 June \", \"21 June \", \"22 June \", \"23 June \", \"24 June \", \"25 June \", \"26 June \", \"27 June \", \"28 June \", \"29 June \", \"30 June \", \"01 July \", \"02 July \", \"03 July \", \"04 July \", \"05 July \", \"06 July \", \"07 July \", \"08 July \", \"09 July \", \"10 July \", \"11 July \", \"12 July \", \"13 July \", \"14 July \", \"15 July \", \"16 July \", \"17 July \", \"18 July \", \"19 July \", \"20 July \", \"21 July \", \"22 July \", \"23 July \", \"24 July \", \"25 July \", \"26 July \", \"27 July \", \"28 July \", \"29 July \", \"30 July \", \"31 July \", \"01 August \", \"02 August \", \"03 August \", \"04 August \", \"05 August \", \"06 August \", \"07 August \", \"08 August \", \"09 August \", \"10 August \", \"11 August \", \"12 August \", \"13 August \", \"14 August \", \"15 August \", \"16 August \", \"17 August \", \"18 August \", \"19 August \", \"20 August \", \"21 August \", \"22 August \", \"23 August \", \"24 August \", \"25 August \", \"26 August \", \"27 August \", \"28 August \", \"29 August \", \"30 August \", \"31 August \", \"01 September \", \"02 September \", \"03 September \", \"04 September \"], \"y\": [0, 0, 0, 0, 0, 0, 0, 0, 0, 0, 0, 0, 0, 0, 1, 1, 1, 2, 2, 2, 2, 3, 3, 3, 3, 3, 3, 3, 3, 3, 3, 3, 3, 3, 3, 3, 3, 3, 3, 3, 4, 4, 4, 10, 10, 13, 14, 15, 15, 20, 23, 23, 23, 25, 40, 43, 50, 75, 85, 102, 137, 150, 169, 191, 230, 286, 329, 394, 469, 565, 635, 786, 972, 1086, 1198, 1365, 1509, 1767, 2040, 2466, 2854, 3273, 3976, 4370, 5012, 5496, 5938, 6523, 7103, 7739, 8429, 9059, 10021, 10852, 11763, 12845, 14140, 15301, 16776, 17887, 19301, 20970, 22549, 24454, 26417, 28011, 30245, 34257, 36795, 39277, 42309, 45422, 48553, 51833, 54409, 57694, 60706, 64291, 67725, 70896, 82631, 86934, 91862, 95744, 100275, 104064, 108454, 113224, 118657, 123848, 129019, 134653, 140928, 146972, 154235, 162327, 169685, 180324, 187550, 194440, 205181, 214210, 228184, 237259, 248138, 258600, 271689, 285672, 295918, 310147, 321778, 335275, 347840, 359904, 379903, 394320, 409066, 424895, 440210, 457046, 476554, 495962, 516251, 536232, 554430, 572113, 593090, 613736, 636603, 654079, 677662, 700392, 724695, 752284, 784159, 817485, 849999, 887124, 918636, 952990, 988673, 1021559, 1058984, 1095538, 1146906, 1187261, 1230331, 1281551, 1327134, 1377275, 1427662, 1479797, 1534271, 1581633, 1638094, 1695853, 1750629, 1807549, 1860665, 1918069, 1976241, 2036696, 2096061, 2157934, 2220792, 2279893, 2336789, 2403094, 2467245, 2523436, 2583056, 2647531, 2712513, 2772935, 2837370, 2899515, 2967389, 3034880, 3104505]}, {\"line\": {\"color\": \"rgba(0, 128, 0, 1.0)\", \"dash\": \"solid\", \"shape\": \"linear\", \"width\": 1.3}, \"marker\": {\"size\": 2, \"symbol\": \"circle\"}, \"mode\": \"markers+lines\", \"name\": \"Total Deceased\", \"text\": \"\", \"type\": \"scatter\", \"x\": [\"30 January \", \"31 January \", \"01 February \", \"02 February \", \"03 February \", \"04 February \", \"05 February \", \"06 February \", \"07 February \", \"08 February \", \"09 February \", \"10 February \", \"11 February \", \"12 February \", \"13 February \", \"14 February \", \"15 February \", \"16 February \", \"17 February \", \"18 February \", \"19 February \", \"20 February \", \"21 February \", \"22 February \", \"23 February \", \"24 February \", \"25 February \", \"26 February \", \"27 February \", \"28 February \", \"29 February \", \"01 March \", \"02 March \", \"03 March \", \"04 March \", \"05 March \", \"06 March \", \"07 March \", \"08 March \", \"09 March \", \"10 March \", \"11 March \", \"12 March \", \"13 March \", \"14 March \", \"15 March \", \"16 March \", \"17 March \", \"18 March \", \"19 March \", \"20 March \", \"21 March \", \"22 March \", \"23 March \", \"24 March \", \"25 March \", \"26 March \", \"27 March \", \"28 March \", \"29 March \", \"30 March \", \"31 March \", \"01 April \", \"02 April \", \"03 April \", \"04 April \", \"05 April \", \"06 April \", \"07 April \", \"08 April \", \"09 April \", \"10 April \", \"11 April \", \"12 April \", \"13 April \", \"14 April \", \"15 April \", \"16 April \", \"17 April \", \"18 April \", \"19 April \", \"20 April \", \"21 April \", \"22 April \", \"23 April \", \"24 April \", \"25 April \", \"26 April \", \"27 April \", \"28 April \", \"29 April \", \"30 April \", \"01 May \", \"02 May \", \"03 May \", \"04 May \", \"05 May \", \"06 May \", \"07 May \", \"08 May \", \"09 May \", \"10 May \", \"11 May \", \"12 May \", \"13 May \", \"14 May \", \"15 May \", \"16 May \", \"17 May \", \"18 May \", \"19 May \", \"20 May \", \"21 May \", \"22 May \", \"23 May \", \"24 May \", \"25 May \", \"26 May \", \"27 May \", \"28 May \", \"29 May \", \"30 May \", \"31 May \", \"01 June \", \"02 June \", \"03 June \", \"04 June \", \"05 June \", \"06 June \", \"07 June \", \"08 June \", \"09 June \", \"10 June \", \"11 June \", \"12 June \", \"13 June \", \"14 June \", \"15 June \", \"16 June \", \"17 June \", \"18 June \", \"19 June \", \"20 June \", \"21 June \", \"22 June \", \"23 June \", \"24 June \", \"25 June \", \"26 June \", \"27 June \", \"28 June \", \"29 June \", \"30 June \", \"01 July \", \"02 July \", \"03 July \", \"04 July \", \"05 July \", \"06 July \", \"07 July \", \"08 July \", \"09 July \", \"10 July \", \"11 July \", \"12 July \", \"13 July \", \"14 July \", \"15 July \", \"16 July \", \"17 July \", \"18 July \", \"19 July \", \"20 July \", \"21 July \", \"22 July \", \"23 July \", \"24 July \", \"25 July \", \"26 July \", \"27 July \", \"28 July \", \"29 July \", \"30 July \", \"31 July \", \"01 August \", \"02 August \", \"03 August \", \"04 August \", \"05 August \", \"06 August \", \"07 August \", \"08 August \", \"09 August \", \"10 August \", \"11 August \", \"12 August \", \"13 August \", \"14 August \", \"15 August \", \"16 August \", \"17 August \", \"18 August \", \"19 August \", \"20 August \", \"21 August \", \"22 August \", \"23 August \", \"24 August \", \"25 August \", \"26 August \", \"27 August \", \"28 August \", \"29 August \", \"30 August \", \"31 August \", \"01 September \", \"02 September \", \"03 September \", \"04 September \"], \"y\": [0, 0, 0, 0, 0, 0, 0, 0, 0, 0, 0, 0, 0, 0, 0, 0, 0, 0, 0, 0, 0, 0, 0, 0, 0, 0, 0, 0, 0, 0, 0, 0, 0, 0, 0, 0, 0, 0, 0, 0, 0, 0, 1, 1, 2, 2, 2, 3, 3, 4, 4, 4, 7, 9, 10, 11, 16, 19, 24, 27, 41, 47, 53, 69, 83, 96, 118, 134, 161, 181, 227, 249, 290, 332, 359, 396, 423, 449, 487, 522, 560, 593, 646, 682, 722, 781, 825, 881, 939, 1008, 1079, 1154, 1231, 1323, 1463, 1566, 1694, 1785, 1889, 1986, 2101, 2213, 2294, 2414, 2551, 2648, 2752, 2872, 3024, 3155, 3301, 3435, 3583, 3725, 3867, 4023, 4173, 4346, 4534, 4710, 4979, 5184, 5406, 5607, 5829, 6088, 6362, 6648, 6945, 7206, 7477, 7749, 8107, 8501, 8889, 9198, 9522, 9918, 11922, 12263, 12606, 12970, 13278, 13704, 14016, 14484, 14908, 15309, 15690, 16104, 16488, 16905, 17411, 17849, 18227, 18671, 19282, 19703, 20176, 20655, 21147, 21626, 22146, 22689, 23189, 23730, 24317, 24931, 25611, 26287, 26830, 27505, 28101, 28772, 29902, 30657, 31420, 32123, 32827, 33469, 34243, 35018, 35802, 36566, 37420, 38180, 38986, 39835, 40754, 41653, 42589, 43464, 44477, 45364, 46199, 47149, 48155, 49144, 50096, 51048, 51928, 53027, 54006, 54987, 55940, 56858, 57704, 58558, 59624, 60641, 61707, 62726, 63669, 64629, 65445, 66472, 67498, 68581, 69647]}],\n",
       "                        {\"legend\": {\"bgcolor\": \"#F5F6F9\", \"font\": {\"color\": \"#4D5663\"}}, \"paper_bgcolor\": \"#F5F6F9\", \"plot_bgcolor\": \"#F5F6F9\", \"template\": {\"data\": {\"bar\": [{\"error_x\": {\"color\": \"#2a3f5f\"}, \"error_y\": {\"color\": \"#2a3f5f\"}, \"marker\": {\"line\": {\"color\": \"#E5ECF6\", \"width\": 0.5}}, \"type\": \"bar\"}], \"barpolar\": [{\"marker\": {\"line\": {\"color\": \"#E5ECF6\", \"width\": 0.5}}, \"type\": \"barpolar\"}], \"carpet\": [{\"aaxis\": {\"endlinecolor\": \"#2a3f5f\", \"gridcolor\": \"white\", \"linecolor\": \"white\", \"minorgridcolor\": \"white\", \"startlinecolor\": \"#2a3f5f\"}, \"baxis\": {\"endlinecolor\": \"#2a3f5f\", \"gridcolor\": \"white\", \"linecolor\": \"white\", \"minorgridcolor\": \"white\", \"startlinecolor\": \"#2a3f5f\"}, \"type\": \"carpet\"}], \"choropleth\": [{\"colorbar\": {\"outlinewidth\": 0, \"ticks\": \"\"}, \"type\": \"choropleth\"}], \"contour\": [{\"colorbar\": {\"outlinewidth\": 0, \"ticks\": \"\"}, \"colorscale\": [[0.0, \"#0d0887\"], [0.1111111111111111, \"#46039f\"], [0.2222222222222222, \"#7201a8\"], [0.3333333333333333, \"#9c179e\"], [0.4444444444444444, \"#bd3786\"], [0.5555555555555556, \"#d8576b\"], [0.6666666666666666, \"#ed7953\"], [0.7777777777777778, \"#fb9f3a\"], [0.8888888888888888, \"#fdca26\"], [1.0, \"#f0f921\"]], \"type\": \"contour\"}], \"contourcarpet\": [{\"colorbar\": {\"outlinewidth\": 0, \"ticks\": \"\"}, \"type\": \"contourcarpet\"}], \"heatmap\": [{\"colorbar\": {\"outlinewidth\": 0, \"ticks\": \"\"}, \"colorscale\": [[0.0, \"#0d0887\"], [0.1111111111111111, \"#46039f\"], [0.2222222222222222, \"#7201a8\"], [0.3333333333333333, \"#9c179e\"], [0.4444444444444444, \"#bd3786\"], [0.5555555555555556, \"#d8576b\"], [0.6666666666666666, \"#ed7953\"], [0.7777777777777778, \"#fb9f3a\"], [0.8888888888888888, \"#fdca26\"], [1.0, \"#f0f921\"]], \"type\": \"heatmap\"}], \"heatmapgl\": [{\"colorbar\": {\"outlinewidth\": 0, \"ticks\": \"\"}, \"colorscale\": [[0.0, \"#0d0887\"], [0.1111111111111111, \"#46039f\"], [0.2222222222222222, \"#7201a8\"], [0.3333333333333333, \"#9c179e\"], [0.4444444444444444, \"#bd3786\"], [0.5555555555555556, \"#d8576b\"], [0.6666666666666666, \"#ed7953\"], [0.7777777777777778, \"#fb9f3a\"], [0.8888888888888888, \"#fdca26\"], [1.0, \"#f0f921\"]], \"type\": \"heatmapgl\"}], \"histogram\": [{\"marker\": {\"colorbar\": {\"outlinewidth\": 0, \"ticks\": \"\"}}, \"type\": \"histogram\"}], \"histogram2d\": [{\"colorbar\": {\"outlinewidth\": 0, \"ticks\": \"\"}, \"colorscale\": [[0.0, \"#0d0887\"], [0.1111111111111111, \"#46039f\"], [0.2222222222222222, \"#7201a8\"], [0.3333333333333333, \"#9c179e\"], [0.4444444444444444, \"#bd3786\"], [0.5555555555555556, \"#d8576b\"], [0.6666666666666666, \"#ed7953\"], [0.7777777777777778, \"#fb9f3a\"], [0.8888888888888888, \"#fdca26\"], [1.0, \"#f0f921\"]], \"type\": \"histogram2d\"}], \"histogram2dcontour\": [{\"colorbar\": {\"outlinewidth\": 0, \"ticks\": \"\"}, \"colorscale\": [[0.0, \"#0d0887\"], [0.1111111111111111, \"#46039f\"], [0.2222222222222222, \"#7201a8\"], [0.3333333333333333, \"#9c179e\"], [0.4444444444444444, \"#bd3786\"], [0.5555555555555556, \"#d8576b\"], [0.6666666666666666, \"#ed7953\"], [0.7777777777777778, \"#fb9f3a\"], [0.8888888888888888, \"#fdca26\"], [1.0, \"#f0f921\"]], \"type\": \"histogram2dcontour\"}], \"mesh3d\": [{\"colorbar\": {\"outlinewidth\": 0, \"ticks\": \"\"}, \"type\": \"mesh3d\"}], \"parcoords\": [{\"line\": {\"colorbar\": {\"outlinewidth\": 0, \"ticks\": \"\"}}, \"type\": \"parcoords\"}], \"pie\": [{\"automargin\": true, \"type\": \"pie\"}], \"scatter\": [{\"marker\": {\"colorbar\": {\"outlinewidth\": 0, \"ticks\": \"\"}}, \"type\": \"scatter\"}], \"scatter3d\": [{\"line\": {\"colorbar\": {\"outlinewidth\": 0, \"ticks\": \"\"}}, \"marker\": {\"colorbar\": {\"outlinewidth\": 0, \"ticks\": \"\"}}, \"type\": \"scatter3d\"}], \"scattercarpet\": [{\"marker\": {\"colorbar\": {\"outlinewidth\": 0, \"ticks\": \"\"}}, \"type\": \"scattercarpet\"}], \"scattergeo\": [{\"marker\": {\"colorbar\": {\"outlinewidth\": 0, \"ticks\": \"\"}}, \"type\": \"scattergeo\"}], \"scattergl\": [{\"marker\": {\"colorbar\": {\"outlinewidth\": 0, \"ticks\": \"\"}}, \"type\": \"scattergl\"}], \"scattermapbox\": [{\"marker\": {\"colorbar\": {\"outlinewidth\": 0, \"ticks\": \"\"}}, \"type\": \"scattermapbox\"}], \"scatterpolar\": [{\"marker\": {\"colorbar\": {\"outlinewidth\": 0, \"ticks\": \"\"}}, \"type\": \"scatterpolar\"}], \"scatterpolargl\": [{\"marker\": {\"colorbar\": {\"outlinewidth\": 0, \"ticks\": \"\"}}, \"type\": \"scatterpolargl\"}], \"scatterternary\": [{\"marker\": {\"colorbar\": {\"outlinewidth\": 0, \"ticks\": \"\"}}, \"type\": \"scatterternary\"}], \"surface\": [{\"colorbar\": {\"outlinewidth\": 0, \"ticks\": \"\"}, \"colorscale\": [[0.0, \"#0d0887\"], [0.1111111111111111, \"#46039f\"], [0.2222222222222222, \"#7201a8\"], [0.3333333333333333, \"#9c179e\"], [0.4444444444444444, \"#bd3786\"], [0.5555555555555556, \"#d8576b\"], [0.6666666666666666, \"#ed7953\"], [0.7777777777777778, \"#fb9f3a\"], [0.8888888888888888, \"#fdca26\"], [1.0, \"#f0f921\"]], \"type\": \"surface\"}], \"table\": [{\"cells\": {\"fill\": {\"color\": \"#EBF0F8\"}, \"line\": {\"color\": \"white\"}}, \"header\": {\"fill\": {\"color\": \"#C8D4E3\"}, \"line\": {\"color\": \"white\"}}, \"type\": \"table\"}]}, \"layout\": {\"annotationdefaults\": {\"arrowcolor\": \"#2a3f5f\", \"arrowhead\": 0, \"arrowwidth\": 1}, \"coloraxis\": {\"colorbar\": {\"outlinewidth\": 0, \"ticks\": \"\"}}, \"colorscale\": {\"diverging\": [[0, \"#8e0152\"], [0.1, \"#c51b7d\"], [0.2, \"#de77ae\"], [0.3, \"#f1b6da\"], [0.4, \"#fde0ef\"], [0.5, \"#f7f7f7\"], [0.6, \"#e6f5d0\"], [0.7, \"#b8e186\"], [0.8, \"#7fbc41\"], [0.9, \"#4d9221\"], [1, \"#276419\"]], \"sequential\": [[0.0, \"#0d0887\"], [0.1111111111111111, \"#46039f\"], [0.2222222222222222, \"#7201a8\"], [0.3333333333333333, \"#9c179e\"], [0.4444444444444444, \"#bd3786\"], [0.5555555555555556, \"#d8576b\"], [0.6666666666666666, \"#ed7953\"], [0.7777777777777778, \"#fb9f3a\"], [0.8888888888888888, \"#fdca26\"], [1.0, \"#f0f921\"]], \"sequentialminus\": [[0.0, \"#0d0887\"], [0.1111111111111111, \"#46039f\"], [0.2222222222222222, \"#7201a8\"], [0.3333333333333333, \"#9c179e\"], [0.4444444444444444, \"#bd3786\"], [0.5555555555555556, \"#d8576b\"], [0.6666666666666666, \"#ed7953\"], [0.7777777777777778, \"#fb9f3a\"], [0.8888888888888888, \"#fdca26\"], [1.0, \"#f0f921\"]]}, \"colorway\": [\"#636efa\", \"#EF553B\", \"#00cc96\", \"#ab63fa\", \"#FFA15A\", \"#19d3f3\", \"#FF6692\", \"#B6E880\", \"#FF97FF\", \"#FECB52\"], \"font\": {\"color\": \"#2a3f5f\"}, \"geo\": {\"bgcolor\": \"white\", \"lakecolor\": \"white\", \"landcolor\": \"#E5ECF6\", \"showlakes\": true, \"showland\": true, \"subunitcolor\": \"white\"}, \"hoverlabel\": {\"align\": \"left\"}, \"hovermode\": \"closest\", \"mapbox\": {\"style\": \"light\"}, \"paper_bgcolor\": \"white\", \"plot_bgcolor\": \"#E5ECF6\", \"polar\": {\"angularaxis\": {\"gridcolor\": \"white\", \"linecolor\": \"white\", \"ticks\": \"\"}, \"bgcolor\": \"#E5ECF6\", \"radialaxis\": {\"gridcolor\": \"white\", \"linecolor\": \"white\", \"ticks\": \"\"}}, \"scene\": {\"xaxis\": {\"backgroundcolor\": \"#E5ECF6\", \"gridcolor\": \"white\", \"gridwidth\": 2, \"linecolor\": \"white\", \"showbackground\": true, \"ticks\": \"\", \"zerolinecolor\": \"white\"}, \"yaxis\": {\"backgroundcolor\": \"#E5ECF6\", \"gridcolor\": \"white\", \"gridwidth\": 2, \"linecolor\": \"white\", \"showbackground\": true, \"ticks\": \"\", \"zerolinecolor\": \"white\"}, \"zaxis\": {\"backgroundcolor\": \"#E5ECF6\", \"gridcolor\": \"white\", \"gridwidth\": 2, \"linecolor\": \"white\", \"showbackground\": true, \"ticks\": \"\", \"zerolinecolor\": \"white\"}}, \"shapedefaults\": {\"line\": {\"color\": \"#2a3f5f\"}}, \"ternary\": {\"aaxis\": {\"gridcolor\": \"white\", \"linecolor\": \"white\", \"ticks\": \"\"}, \"baxis\": {\"gridcolor\": \"white\", \"linecolor\": \"white\", \"ticks\": \"\"}, \"bgcolor\": \"#E5ECF6\", \"caxis\": {\"gridcolor\": \"white\", \"linecolor\": \"white\", \"ticks\": \"\"}}, \"title\": {\"x\": 0.05}, \"xaxis\": {\"automargin\": true, \"gridcolor\": \"white\", \"linecolor\": \"white\", \"ticks\": \"\", \"title\": {\"standoff\": 15}, \"zerolinecolor\": \"white\", \"zerolinewidth\": 2}, \"yaxis\": {\"automargin\": true, \"gridcolor\": \"white\", \"linecolor\": \"white\", \"ticks\": \"\", \"title\": {\"standoff\": 15}, \"zerolinecolor\": \"white\", \"zerolinewidth\": 2}}}, \"title\": {\"font\": {\"color\": \"#4D5663\"}}, \"xaxis\": {\"gridcolor\": \"#E1E5ED\", \"showgrid\": true, \"tickfont\": {\"color\": \"#4D5663\"}, \"title\": {\"font\": {\"color\": \"#4D5663\"}, \"text\": \"Date\"}, \"zerolinecolor\": \"#E1E5ED\"}, \"yaxis\": {\"gridcolor\": \"#E1E5ED\", \"showgrid\": true, \"tickfont\": {\"color\": \"#4D5663\"}, \"title\": {\"font\": {\"color\": \"#4D5663\"}, \"text\": \"Total Confirmed, Recovered and Deceased\"}, \"zerolinecolor\": \"#E1E5ED\"}},\n",
       "                        {\"showLink\": true, \"linkText\": \"Export to plot.ly\", \"plotlyServerURL\": \"https://plot.ly\", \"responsive\": true}\n",
       "                    ).then(function(){\n",
       "                            \n",
       "var gd = document.getElementById('20b74821-91d6-49c4-ba98-02484b70ea78');\n",
       "var x = new MutationObserver(function (mutations, observer) {{\n",
       "        var display = window.getComputedStyle(gd).display;\n",
       "        if (!display || display === 'none') {{\n",
       "            console.log([gd, 'removed!']);\n",
       "            Plotly.purge(gd);\n",
       "            observer.disconnect();\n",
       "        }}\n",
       "}});\n",
       "\n",
       "// Listen for the removal of the full notebook cells\n",
       "var notebookContainer = gd.closest('#notebook-container');\n",
       "if (notebookContainer) {{\n",
       "    x.observe(notebookContainer, {childList: true});\n",
       "}}\n",
       "\n",
       "// Listen for the clearing of the current output cell\n",
       "var outputEl = gd.closest('.output');\n",
       "if (outputEl) {{\n",
       "    x.observe(outputEl, {childList: true});\n",
       "}}\n",
       "\n",
       "                        })\n",
       "                };\n",
       "                });\n",
       "            </script>\n",
       "        </div>"
      ]
     },
     "metadata": {},
     "output_type": "display_data"
    }
   ],
   "source": [
    "df6.iplot(kind= 'scatter', x= 'Date', y=['Total Confirmed', 'Total Recovered', 'Total Deceased'], mode= 'markers+lines', xTitle= 'Date', yTitle= 'Total Confirmed, Recovered and Deceased', color= ['red', 'blue', 'green'], size= 2)\n"
   ]
  },
  {
   "cell_type": "markdown",
   "metadata": {},
   "source": [
    "# Daily confirmed, recovered and deceased."
   ]
  },
  {
   "cell_type": "code",
   "execution_count": 22,
   "metadata": {},
   "outputs": [
    {
     "data": {
      "application/vnd.plotly.v1+json": {
       "config": {
        "linkText": "Export to plot.ly",
        "plotlyServerURL": "https://plot.ly",
        "showLink": true
       },
       "data": [
        {
         "line": {
          "color": "rgba(219, 64, 82, 1.0)",
          "dash": "solid",
          "shape": "linear",
          "width": 1.3
         },
         "marker": {
          "size": 4,
          "symbol": "circle"
         },
         "mode": "markers+lines",
         "name": "Daily Confirmed",
         "text": "",
         "type": "scatter",
         "x": [
          "30 January ",
          "31 January ",
          "01 February ",
          "02 February ",
          "03 February ",
          "04 February ",
          "05 February ",
          "06 February ",
          "07 February ",
          "08 February ",
          "09 February ",
          "10 February ",
          "11 February ",
          "12 February ",
          "13 February ",
          "14 February ",
          "15 February ",
          "16 February ",
          "17 February ",
          "18 February ",
          "19 February ",
          "20 February ",
          "21 February ",
          "22 February ",
          "23 February ",
          "24 February ",
          "25 February ",
          "26 February ",
          "27 February ",
          "28 February ",
          "29 February ",
          "01 March ",
          "02 March ",
          "03 March ",
          "04 March ",
          "05 March ",
          "06 March ",
          "07 March ",
          "08 March ",
          "09 March ",
          "10 March ",
          "11 March ",
          "12 March ",
          "13 March ",
          "14 March ",
          "15 March ",
          "16 March ",
          "17 March ",
          "18 March ",
          "19 March ",
          "20 March ",
          "21 March ",
          "22 March ",
          "23 March ",
          "24 March ",
          "25 March ",
          "26 March ",
          "27 March ",
          "28 March ",
          "29 March ",
          "30 March ",
          "31 March ",
          "01 April ",
          "02 April ",
          "03 April ",
          "04 April ",
          "05 April ",
          "06 April ",
          "07 April ",
          "08 April ",
          "09 April ",
          "10 April ",
          "11 April ",
          "12 April ",
          "13 April ",
          "14 April ",
          "15 April ",
          "16 April ",
          "17 April ",
          "18 April ",
          "19 April ",
          "20 April ",
          "21 April ",
          "22 April ",
          "23 April ",
          "24 April ",
          "25 April ",
          "26 April ",
          "27 April ",
          "28 April ",
          "29 April ",
          "30 April ",
          "01 May ",
          "02 May ",
          "03 May ",
          "04 May ",
          "05 May ",
          "06 May ",
          "07 May ",
          "08 May ",
          "09 May ",
          "10 May ",
          "11 May ",
          "12 May ",
          "13 May ",
          "14 May ",
          "15 May ",
          "16 May ",
          "17 May ",
          "18 May ",
          "19 May ",
          "20 May ",
          "21 May ",
          "22 May ",
          "23 May ",
          "24 May ",
          "25 May ",
          "26 May ",
          "27 May ",
          "28 May ",
          "29 May ",
          "30 May ",
          "31 May ",
          "01 June ",
          "02 June ",
          "03 June ",
          "04 June ",
          "05 June ",
          "06 June ",
          "07 June ",
          "08 June ",
          "09 June ",
          "10 June ",
          "11 June ",
          "12 June ",
          "13 June ",
          "14 June ",
          "15 June ",
          "16 June ",
          "17 June ",
          "18 June ",
          "19 June ",
          "20 June ",
          "21 June ",
          "22 June ",
          "23 June ",
          "24 June ",
          "25 June ",
          "26 June ",
          "27 June ",
          "28 June ",
          "29 June ",
          "30 June ",
          "01 July ",
          "02 July ",
          "03 July ",
          "04 July ",
          "05 July ",
          "06 July ",
          "07 July ",
          "08 July ",
          "09 July ",
          "10 July ",
          "11 July ",
          "12 July ",
          "13 July ",
          "14 July ",
          "15 July ",
          "16 July ",
          "17 July ",
          "18 July ",
          "19 July ",
          "20 July ",
          "21 July ",
          "22 July ",
          "23 July ",
          "24 July ",
          "25 July ",
          "26 July ",
          "27 July ",
          "28 July ",
          "29 July ",
          "30 July ",
          "31 July ",
          "01 August ",
          "02 August ",
          "03 August ",
          "04 August ",
          "05 August ",
          "06 August ",
          "07 August ",
          "08 August ",
          "09 August ",
          "10 August ",
          "11 August ",
          "12 August ",
          "13 August ",
          "14 August ",
          "15 August ",
          "16 August ",
          "17 August ",
          "18 August ",
          "19 August ",
          "20 August ",
          "21 August ",
          "22 August ",
          "23 August ",
          "24 August ",
          "25 August ",
          "26 August ",
          "27 August ",
          "28 August ",
          "29 August ",
          "30 August ",
          "31 August ",
          "01 September ",
          "02 September ",
          "03 September ",
          "04 September "
         ],
         "y": [
          1,
          0,
          0,
          1,
          1,
          0,
          0,
          0,
          0,
          0,
          0,
          0,
          0,
          0,
          0,
          0,
          0,
          0,
          0,
          0,
          0,
          0,
          0,
          0,
          0,
          0,
          0,
          0,
          0,
          0,
          0,
          0,
          2,
          1,
          22,
          2,
          1,
          3,
          5,
          9,
          15,
          8,
          10,
          10,
          11,
          10,
          14,
          20,
          25,
          27,
          58,
          78,
          69,
          94,
          74,
          86,
          73,
          153,
          136,
          120,
          187,
          309,
          424,
          486,
          560,
          579,
          609,
          484,
          573,
          565,
          813,
          871,
          854,
          758,
          1243,
          1031,
          886,
          1061,
          922,
          1371,
          1580,
          1239,
          1537,
          1292,
          1667,
          1408,
          1835,
          1607,
          1568,
          1902,
          1705,
          1801,
          2396,
          2564,
          2952,
          3656,
          2971,
          3602,
          3344,
          3339,
          3175,
          4311,
          3592,
          3562,
          3726,
          3991,
          3808,
          4794,
          5049,
          4628,
          6154,
          5720,
          6023,
          6536,
          6667,
          7111,
          6414,
          5907,
          7246,
          7254,
          8138,
          8364,
          8789,
          7723,
          8812,
          9689,
          9847,
          9472,
          10408,
          10882,
          8536,
          9981,
          11156,
          11135,
          11306,
          12039,
          11405,
          10032,
          11086,
          13108,
          13829,
          14740,
          15918,
          15151,
          13560,
          15656,
          16868,
          18205,
          18255,
          20142,
          19610,
          18339,
          18256,
          19429,
          21947,
          22718,
          24018,
          23942,
          22500,
          23147,
          25561,
          25790,
          27762,
          27757,
          29106,
          28178,
          29917,
          32607,
          35468,
          34820,
          37411,
          40235,
          36806,
          39170,
          45601,
          48443,
          48888,
          50072,
          48932,
          46484,
          49631,
          52479,
          54968,
          57486,
          55117,
          52672,
          50488,
          51282,
          56626,
          62170,
          61455,
          65156,
          62117,
          53016,
          61252,
          67066,
          64141,
          65610,
          63986,
          58096,
          54298,
          65024,
          69196,
          68518,
          69029,
          70067,
          61749,
          59696,
          66873,
          75995,
          76827,
          76657,
          78479,
          79461,
          68766,
          78168,
          82860,
          84156,
          87115
         ]
        },
        {
         "line": {
          "color": "rgba(55, 128, 191, 1.0)",
          "dash": "solid",
          "shape": "linear",
          "width": 1.3
         },
         "marker": {
          "size": 4,
          "symbol": "circle"
         },
         "mode": "markers+lines",
         "name": "Daily Recovered",
         "text": "",
         "type": "scatter",
         "x": [
          "30 January ",
          "31 January ",
          "01 February ",
          "02 February ",
          "03 February ",
          "04 February ",
          "05 February ",
          "06 February ",
          "07 February ",
          "08 February ",
          "09 February ",
          "10 February ",
          "11 February ",
          "12 February ",
          "13 February ",
          "14 February ",
          "15 February ",
          "16 February ",
          "17 February ",
          "18 February ",
          "19 February ",
          "20 February ",
          "21 February ",
          "22 February ",
          "23 February ",
          "24 February ",
          "25 February ",
          "26 February ",
          "27 February ",
          "28 February ",
          "29 February ",
          "01 March ",
          "02 March ",
          "03 March ",
          "04 March ",
          "05 March ",
          "06 March ",
          "07 March ",
          "08 March ",
          "09 March ",
          "10 March ",
          "11 March ",
          "12 March ",
          "13 March ",
          "14 March ",
          "15 March ",
          "16 March ",
          "17 March ",
          "18 March ",
          "19 March ",
          "20 March ",
          "21 March ",
          "22 March ",
          "23 March ",
          "24 March ",
          "25 March ",
          "26 March ",
          "27 March ",
          "28 March ",
          "29 March ",
          "30 March ",
          "31 March ",
          "01 April ",
          "02 April ",
          "03 April ",
          "04 April ",
          "05 April ",
          "06 April ",
          "07 April ",
          "08 April ",
          "09 April ",
          "10 April ",
          "11 April ",
          "12 April ",
          "13 April ",
          "14 April ",
          "15 April ",
          "16 April ",
          "17 April ",
          "18 April ",
          "19 April ",
          "20 April ",
          "21 April ",
          "22 April ",
          "23 April ",
          "24 April ",
          "25 April ",
          "26 April ",
          "27 April ",
          "28 April ",
          "29 April ",
          "30 April ",
          "01 May ",
          "02 May ",
          "03 May ",
          "04 May ",
          "05 May ",
          "06 May ",
          "07 May ",
          "08 May ",
          "09 May ",
          "10 May ",
          "11 May ",
          "12 May ",
          "13 May ",
          "14 May ",
          "15 May ",
          "16 May ",
          "17 May ",
          "18 May ",
          "19 May ",
          "20 May ",
          "21 May ",
          "22 May ",
          "23 May ",
          "24 May ",
          "25 May ",
          "26 May ",
          "27 May ",
          "28 May ",
          "29 May ",
          "30 May ",
          "31 May ",
          "01 June ",
          "02 June ",
          "03 June ",
          "04 June ",
          "05 June ",
          "06 June ",
          "07 June ",
          "08 June ",
          "09 June ",
          "10 June ",
          "11 June ",
          "12 June ",
          "13 June ",
          "14 June ",
          "15 June ",
          "16 June ",
          "17 June ",
          "18 June ",
          "19 June ",
          "20 June ",
          "21 June ",
          "22 June ",
          "23 June ",
          "24 June ",
          "25 June ",
          "26 June ",
          "27 June ",
          "28 June ",
          "29 June ",
          "30 June ",
          "01 July ",
          "02 July ",
          "03 July ",
          "04 July ",
          "05 July ",
          "06 July ",
          "07 July ",
          "08 July ",
          "09 July ",
          "10 July ",
          "11 July ",
          "12 July ",
          "13 July ",
          "14 July ",
          "15 July ",
          "16 July ",
          "17 July ",
          "18 July ",
          "19 July ",
          "20 July ",
          "21 July ",
          "22 July ",
          "23 July ",
          "24 July ",
          "25 July ",
          "26 July ",
          "27 July ",
          "28 July ",
          "29 July ",
          "30 July ",
          "31 July ",
          "01 August ",
          "02 August ",
          "03 August ",
          "04 August ",
          "05 August ",
          "06 August ",
          "07 August ",
          "08 August ",
          "09 August ",
          "10 August ",
          "11 August ",
          "12 August ",
          "13 August ",
          "14 August ",
          "15 August ",
          "16 August ",
          "17 August ",
          "18 August ",
          "19 August ",
          "20 August ",
          "21 August ",
          "22 August ",
          "23 August ",
          "24 August ",
          "25 August ",
          "26 August ",
          "27 August ",
          "28 August ",
          "29 August ",
          "30 August ",
          "31 August ",
          "01 September ",
          "02 September ",
          "03 September ",
          "04 September "
         ],
         "y": [
          0,
          0,
          0,
          0,
          0,
          0,
          0,
          0,
          0,
          0,
          0,
          0,
          0,
          0,
          1,
          0,
          0,
          1,
          0,
          0,
          0,
          1,
          0,
          0,
          0,
          0,
          0,
          0,
          0,
          0,
          0,
          0,
          0,
          0,
          0,
          0,
          0,
          0,
          0,
          0,
          1,
          0,
          0,
          6,
          0,
          3,
          1,
          1,
          0,
          5,
          3,
          0,
          0,
          2,
          15,
          3,
          7,
          25,
          10,
          17,
          35,
          13,
          19,
          22,
          39,
          56,
          43,
          65,
          75,
          96,
          70,
          151,
          186,
          114,
          112,
          167,
          144,
          258,
          273,
          426,
          388,
          419,
          703,
          394,
          642,
          484,
          442,
          585,
          580,
          636,
          690,
          630,
          962,
          831,
          911,
          1082,
          1295,
          1161,
          1475,
          1111,
          1414,
          1669,
          1579,
          1905,
          1963,
          1594,
          2234,
          4012,
          2538,
          2482,
          3032,
          3113,
          3131,
          3280,
          2576,
          3285,
          3012,
          3585,
          3434,
          3171,
          11735,
          4303,
          4928,
          3882,
          4531,
          3789,
          4390,
          4770,
          5433,
          5191,
          5171,
          5634,
          6275,
          6044,
          7263,
          8092,
          7358,
          10639,
          7226,
          6890,
          10741,
          9029,
          13974,
          9075,
          10879,
          10462,
          13089,
          13983,
          10246,
          14229,
          11631,
          13497,
          12565,
          12064,
          19999,
          14417,
          14746,
          15829,
          15315,
          16836,
          19508,
          19408,
          20289,
          19981,
          18198,
          17683,
          20977,
          20646,
          22867,
          17476,
          23583,
          22730,
          24303,
          27589,
          31875,
          33326,
          32514,
          37125,
          31512,
          34354,
          35683,
          32886,
          37425,
          36554,
          51368,
          40355,
          43070,
          51220,
          45583,
          50141,
          50387,
          52135,
          54474,
          47362,
          56461,
          57759,
          54776,
          56920,
          53116,
          57404,
          58172,
          60455,
          59365,
          61873,
          62858,
          59101,
          56896,
          66305,
          64151,
          56191,
          59620,
          64475,
          64982,
          60422,
          64435,
          62145,
          67874,
          67491,
          69625
         ]
        },
        {
         "line": {
          "color": "rgba(0, 128, 0, 1.0)",
          "dash": "solid",
          "shape": "linear",
          "width": 1.3
         },
         "marker": {
          "size": 4,
          "symbol": "circle"
         },
         "mode": "markers+lines",
         "name": "Daily Deceased",
         "text": "",
         "type": "scatter",
         "x": [
          "30 January ",
          "31 January ",
          "01 February ",
          "02 February ",
          "03 February ",
          "04 February ",
          "05 February ",
          "06 February ",
          "07 February ",
          "08 February ",
          "09 February ",
          "10 February ",
          "11 February ",
          "12 February ",
          "13 February ",
          "14 February ",
          "15 February ",
          "16 February ",
          "17 February ",
          "18 February ",
          "19 February ",
          "20 February ",
          "21 February ",
          "22 February ",
          "23 February ",
          "24 February ",
          "25 February ",
          "26 February ",
          "27 February ",
          "28 February ",
          "29 February ",
          "01 March ",
          "02 March ",
          "03 March ",
          "04 March ",
          "05 March ",
          "06 March ",
          "07 March ",
          "08 March ",
          "09 March ",
          "10 March ",
          "11 March ",
          "12 March ",
          "13 March ",
          "14 March ",
          "15 March ",
          "16 March ",
          "17 March ",
          "18 March ",
          "19 March ",
          "20 March ",
          "21 March ",
          "22 March ",
          "23 March ",
          "24 March ",
          "25 March ",
          "26 March ",
          "27 March ",
          "28 March ",
          "29 March ",
          "30 March ",
          "31 March ",
          "01 April ",
          "02 April ",
          "03 April ",
          "04 April ",
          "05 April ",
          "06 April ",
          "07 April ",
          "08 April ",
          "09 April ",
          "10 April ",
          "11 April ",
          "12 April ",
          "13 April ",
          "14 April ",
          "15 April ",
          "16 April ",
          "17 April ",
          "18 April ",
          "19 April ",
          "20 April ",
          "21 April ",
          "22 April ",
          "23 April ",
          "24 April ",
          "25 April ",
          "26 April ",
          "27 April ",
          "28 April ",
          "29 April ",
          "30 April ",
          "01 May ",
          "02 May ",
          "03 May ",
          "04 May ",
          "05 May ",
          "06 May ",
          "07 May ",
          "08 May ",
          "09 May ",
          "10 May ",
          "11 May ",
          "12 May ",
          "13 May ",
          "14 May ",
          "15 May ",
          "16 May ",
          "17 May ",
          "18 May ",
          "19 May ",
          "20 May ",
          "21 May ",
          "22 May ",
          "23 May ",
          "24 May ",
          "25 May ",
          "26 May ",
          "27 May ",
          "28 May ",
          "29 May ",
          "30 May ",
          "31 May ",
          "01 June ",
          "02 June ",
          "03 June ",
          "04 June ",
          "05 June ",
          "06 June ",
          "07 June ",
          "08 June ",
          "09 June ",
          "10 June ",
          "11 June ",
          "12 June ",
          "13 June ",
          "14 June ",
          "15 June ",
          "16 June ",
          "17 June ",
          "18 June ",
          "19 June ",
          "20 June ",
          "21 June ",
          "22 June ",
          "23 June ",
          "24 June ",
          "25 June ",
          "26 June ",
          "27 June ",
          "28 June ",
          "29 June ",
          "30 June ",
          "01 July ",
          "02 July ",
          "03 July ",
          "04 July ",
          "05 July ",
          "06 July ",
          "07 July ",
          "08 July ",
          "09 July ",
          "10 July ",
          "11 July ",
          "12 July ",
          "13 July ",
          "14 July ",
          "15 July ",
          "16 July ",
          "17 July ",
          "18 July ",
          "19 July ",
          "20 July ",
          "21 July ",
          "22 July ",
          "23 July ",
          "24 July ",
          "25 July ",
          "26 July ",
          "27 July ",
          "28 July ",
          "29 July ",
          "30 July ",
          "31 July ",
          "01 August ",
          "02 August ",
          "03 August ",
          "04 August ",
          "05 August ",
          "06 August ",
          "07 August ",
          "08 August ",
          "09 August ",
          "10 August ",
          "11 August ",
          "12 August ",
          "13 August ",
          "14 August ",
          "15 August ",
          "16 August ",
          "17 August ",
          "18 August ",
          "19 August ",
          "20 August ",
          "21 August ",
          "22 August ",
          "23 August ",
          "24 August ",
          "25 August ",
          "26 August ",
          "27 August ",
          "28 August ",
          "29 August ",
          "30 August ",
          "31 August ",
          "01 September ",
          "02 September ",
          "03 September ",
          "04 September "
         ],
         "y": [
          0,
          0,
          0,
          0,
          0,
          0,
          0,
          0,
          0,
          0,
          0,
          0,
          0,
          0,
          0,
          0,
          0,
          0,
          0,
          0,
          0,
          0,
          0,
          0,
          0,
          0,
          0,
          0,
          0,
          0,
          0,
          0,
          0,
          0,
          0,
          0,
          0,
          0,
          0,
          0,
          0,
          0,
          1,
          0,
          1,
          0,
          0,
          1,
          0,
          1,
          0,
          0,
          3,
          2,
          1,
          1,
          5,
          3,
          5,
          3,
          14,
          6,
          6,
          16,
          14,
          13,
          22,
          16,
          27,
          20,
          46,
          22,
          41,
          42,
          27,
          37,
          27,
          26,
          38,
          35,
          38,
          33,
          53,
          36,
          40,
          59,
          44,
          56,
          58,
          69,
          71,
          75,
          77,
          92,
          140,
          103,
          128,
          91,
          104,
          97,
          115,
          112,
          81,
          120,
          137,
          97,
          104,
          120,
          152,
          131,
          146,
          134,
          148,
          142,
          142,
          156,
          150,
          173,
          188,
          176,
          269,
          205,
          222,
          201,
          222,
          259,
          274,
          286,
          297,
          261,
          271,
          272,
          358,
          394,
          388,
          309,
          324,
          396,
          2004,
          341,
          343,
          364,
          308,
          426,
          312,
          468,
          424,
          401,
          381,
          414,
          384,
          417,
          506,
          438,
          378,
          444,
          611,
          421,
          473,
          479,
          492,
          479,
          520,
          543,
          500,
          541,
          587,
          614,
          680,
          676,
          543,
          675,
          596,
          671,
          1130,
          755,
          763,
          703,
          704,
          642,
          774,
          775,
          784,
          764,
          854,
          760,
          806,
          849,
          919,
          899,
          936,
          875,
          1013,
          887,
          835,
          950,
          1006,
          989,
          952,
          952,
          880,
          1099,
          979,
          981,
          953,
          918,
          846,
          854,
          1066,
          1017,
          1066,
          1019,
          943,
          960,
          816,
          1027,
          1026,
          1083,
          1066
         ]
        }
       ],
       "layout": {
        "legend": {
         "bgcolor": "#F5F6F9",
         "font": {
          "color": "#4D5663"
         }
        },
        "paper_bgcolor": "#F5F6F9",
        "plot_bgcolor": "#F5F6F9",
        "template": {
         "data": {
          "bar": [
           {
            "error_x": {
             "color": "#2a3f5f"
            },
            "error_y": {
             "color": "#2a3f5f"
            },
            "marker": {
             "line": {
              "color": "#E5ECF6",
              "width": 0.5
             }
            },
            "type": "bar"
           }
          ],
          "barpolar": [
           {
            "marker": {
             "line": {
              "color": "#E5ECF6",
              "width": 0.5
             }
            },
            "type": "barpolar"
           }
          ],
          "carpet": [
           {
            "aaxis": {
             "endlinecolor": "#2a3f5f",
             "gridcolor": "white",
             "linecolor": "white",
             "minorgridcolor": "white",
             "startlinecolor": "#2a3f5f"
            },
            "baxis": {
             "endlinecolor": "#2a3f5f",
             "gridcolor": "white",
             "linecolor": "white",
             "minorgridcolor": "white",
             "startlinecolor": "#2a3f5f"
            },
            "type": "carpet"
           }
          ],
          "choropleth": [
           {
            "colorbar": {
             "outlinewidth": 0,
             "ticks": ""
            },
            "type": "choropleth"
           }
          ],
          "contour": [
           {
            "colorbar": {
             "outlinewidth": 0,
             "ticks": ""
            },
            "colorscale": [
             [
              0,
              "#0d0887"
             ],
             [
              0.1111111111111111,
              "#46039f"
             ],
             [
              0.2222222222222222,
              "#7201a8"
             ],
             [
              0.3333333333333333,
              "#9c179e"
             ],
             [
              0.4444444444444444,
              "#bd3786"
             ],
             [
              0.5555555555555556,
              "#d8576b"
             ],
             [
              0.6666666666666666,
              "#ed7953"
             ],
             [
              0.7777777777777778,
              "#fb9f3a"
             ],
             [
              0.8888888888888888,
              "#fdca26"
             ],
             [
              1,
              "#f0f921"
             ]
            ],
            "type": "contour"
           }
          ],
          "contourcarpet": [
           {
            "colorbar": {
             "outlinewidth": 0,
             "ticks": ""
            },
            "type": "contourcarpet"
           }
          ],
          "heatmap": [
           {
            "colorbar": {
             "outlinewidth": 0,
             "ticks": ""
            },
            "colorscale": [
             [
              0,
              "#0d0887"
             ],
             [
              0.1111111111111111,
              "#46039f"
             ],
             [
              0.2222222222222222,
              "#7201a8"
             ],
             [
              0.3333333333333333,
              "#9c179e"
             ],
             [
              0.4444444444444444,
              "#bd3786"
             ],
             [
              0.5555555555555556,
              "#d8576b"
             ],
             [
              0.6666666666666666,
              "#ed7953"
             ],
             [
              0.7777777777777778,
              "#fb9f3a"
             ],
             [
              0.8888888888888888,
              "#fdca26"
             ],
             [
              1,
              "#f0f921"
             ]
            ],
            "type": "heatmap"
           }
          ],
          "heatmapgl": [
           {
            "colorbar": {
             "outlinewidth": 0,
             "ticks": ""
            },
            "colorscale": [
             [
              0,
              "#0d0887"
             ],
             [
              0.1111111111111111,
              "#46039f"
             ],
             [
              0.2222222222222222,
              "#7201a8"
             ],
             [
              0.3333333333333333,
              "#9c179e"
             ],
             [
              0.4444444444444444,
              "#bd3786"
             ],
             [
              0.5555555555555556,
              "#d8576b"
             ],
             [
              0.6666666666666666,
              "#ed7953"
             ],
             [
              0.7777777777777778,
              "#fb9f3a"
             ],
             [
              0.8888888888888888,
              "#fdca26"
             ],
             [
              1,
              "#f0f921"
             ]
            ],
            "type": "heatmapgl"
           }
          ],
          "histogram": [
           {
            "marker": {
             "colorbar": {
              "outlinewidth": 0,
              "ticks": ""
             }
            },
            "type": "histogram"
           }
          ],
          "histogram2d": [
           {
            "colorbar": {
             "outlinewidth": 0,
             "ticks": ""
            },
            "colorscale": [
             [
              0,
              "#0d0887"
             ],
             [
              0.1111111111111111,
              "#46039f"
             ],
             [
              0.2222222222222222,
              "#7201a8"
             ],
             [
              0.3333333333333333,
              "#9c179e"
             ],
             [
              0.4444444444444444,
              "#bd3786"
             ],
             [
              0.5555555555555556,
              "#d8576b"
             ],
             [
              0.6666666666666666,
              "#ed7953"
             ],
             [
              0.7777777777777778,
              "#fb9f3a"
             ],
             [
              0.8888888888888888,
              "#fdca26"
             ],
             [
              1,
              "#f0f921"
             ]
            ],
            "type": "histogram2d"
           }
          ],
          "histogram2dcontour": [
           {
            "colorbar": {
             "outlinewidth": 0,
             "ticks": ""
            },
            "colorscale": [
             [
              0,
              "#0d0887"
             ],
             [
              0.1111111111111111,
              "#46039f"
             ],
             [
              0.2222222222222222,
              "#7201a8"
             ],
             [
              0.3333333333333333,
              "#9c179e"
             ],
             [
              0.4444444444444444,
              "#bd3786"
             ],
             [
              0.5555555555555556,
              "#d8576b"
             ],
             [
              0.6666666666666666,
              "#ed7953"
             ],
             [
              0.7777777777777778,
              "#fb9f3a"
             ],
             [
              0.8888888888888888,
              "#fdca26"
             ],
             [
              1,
              "#f0f921"
             ]
            ],
            "type": "histogram2dcontour"
           }
          ],
          "mesh3d": [
           {
            "colorbar": {
             "outlinewidth": 0,
             "ticks": ""
            },
            "type": "mesh3d"
           }
          ],
          "parcoords": [
           {
            "line": {
             "colorbar": {
              "outlinewidth": 0,
              "ticks": ""
             }
            },
            "type": "parcoords"
           }
          ],
          "pie": [
           {
            "automargin": true,
            "type": "pie"
           }
          ],
          "scatter": [
           {
            "marker": {
             "colorbar": {
              "outlinewidth": 0,
              "ticks": ""
             }
            },
            "type": "scatter"
           }
          ],
          "scatter3d": [
           {
            "line": {
             "colorbar": {
              "outlinewidth": 0,
              "ticks": ""
             }
            },
            "marker": {
             "colorbar": {
              "outlinewidth": 0,
              "ticks": ""
             }
            },
            "type": "scatter3d"
           }
          ],
          "scattercarpet": [
           {
            "marker": {
             "colorbar": {
              "outlinewidth": 0,
              "ticks": ""
             }
            },
            "type": "scattercarpet"
           }
          ],
          "scattergeo": [
           {
            "marker": {
             "colorbar": {
              "outlinewidth": 0,
              "ticks": ""
             }
            },
            "type": "scattergeo"
           }
          ],
          "scattergl": [
           {
            "marker": {
             "colorbar": {
              "outlinewidth": 0,
              "ticks": ""
             }
            },
            "type": "scattergl"
           }
          ],
          "scattermapbox": [
           {
            "marker": {
             "colorbar": {
              "outlinewidth": 0,
              "ticks": ""
             }
            },
            "type": "scattermapbox"
           }
          ],
          "scatterpolar": [
           {
            "marker": {
             "colorbar": {
              "outlinewidth": 0,
              "ticks": ""
             }
            },
            "type": "scatterpolar"
           }
          ],
          "scatterpolargl": [
           {
            "marker": {
             "colorbar": {
              "outlinewidth": 0,
              "ticks": ""
             }
            },
            "type": "scatterpolargl"
           }
          ],
          "scatterternary": [
           {
            "marker": {
             "colorbar": {
              "outlinewidth": 0,
              "ticks": ""
             }
            },
            "type": "scatterternary"
           }
          ],
          "surface": [
           {
            "colorbar": {
             "outlinewidth": 0,
             "ticks": ""
            },
            "colorscale": [
             [
              0,
              "#0d0887"
             ],
             [
              0.1111111111111111,
              "#46039f"
             ],
             [
              0.2222222222222222,
              "#7201a8"
             ],
             [
              0.3333333333333333,
              "#9c179e"
             ],
             [
              0.4444444444444444,
              "#bd3786"
             ],
             [
              0.5555555555555556,
              "#d8576b"
             ],
             [
              0.6666666666666666,
              "#ed7953"
             ],
             [
              0.7777777777777778,
              "#fb9f3a"
             ],
             [
              0.8888888888888888,
              "#fdca26"
             ],
             [
              1,
              "#f0f921"
             ]
            ],
            "type": "surface"
           }
          ],
          "table": [
           {
            "cells": {
             "fill": {
              "color": "#EBF0F8"
             },
             "line": {
              "color": "white"
             }
            },
            "header": {
             "fill": {
              "color": "#C8D4E3"
             },
             "line": {
              "color": "white"
             }
            },
            "type": "table"
           }
          ]
         },
         "layout": {
          "annotationdefaults": {
           "arrowcolor": "#2a3f5f",
           "arrowhead": 0,
           "arrowwidth": 1
          },
          "coloraxis": {
           "colorbar": {
            "outlinewidth": 0,
            "ticks": ""
           }
          },
          "colorscale": {
           "diverging": [
            [
             0,
             "#8e0152"
            ],
            [
             0.1,
             "#c51b7d"
            ],
            [
             0.2,
             "#de77ae"
            ],
            [
             0.3,
             "#f1b6da"
            ],
            [
             0.4,
             "#fde0ef"
            ],
            [
             0.5,
             "#f7f7f7"
            ],
            [
             0.6,
             "#e6f5d0"
            ],
            [
             0.7,
             "#b8e186"
            ],
            [
             0.8,
             "#7fbc41"
            ],
            [
             0.9,
             "#4d9221"
            ],
            [
             1,
             "#276419"
            ]
           ],
           "sequential": [
            [
             0,
             "#0d0887"
            ],
            [
             0.1111111111111111,
             "#46039f"
            ],
            [
             0.2222222222222222,
             "#7201a8"
            ],
            [
             0.3333333333333333,
             "#9c179e"
            ],
            [
             0.4444444444444444,
             "#bd3786"
            ],
            [
             0.5555555555555556,
             "#d8576b"
            ],
            [
             0.6666666666666666,
             "#ed7953"
            ],
            [
             0.7777777777777778,
             "#fb9f3a"
            ],
            [
             0.8888888888888888,
             "#fdca26"
            ],
            [
             1,
             "#f0f921"
            ]
           ],
           "sequentialminus": [
            [
             0,
             "#0d0887"
            ],
            [
             0.1111111111111111,
             "#46039f"
            ],
            [
             0.2222222222222222,
             "#7201a8"
            ],
            [
             0.3333333333333333,
             "#9c179e"
            ],
            [
             0.4444444444444444,
             "#bd3786"
            ],
            [
             0.5555555555555556,
             "#d8576b"
            ],
            [
             0.6666666666666666,
             "#ed7953"
            ],
            [
             0.7777777777777778,
             "#fb9f3a"
            ],
            [
             0.8888888888888888,
             "#fdca26"
            ],
            [
             1,
             "#f0f921"
            ]
           ]
          },
          "colorway": [
           "#636efa",
           "#EF553B",
           "#00cc96",
           "#ab63fa",
           "#FFA15A",
           "#19d3f3",
           "#FF6692",
           "#B6E880",
           "#FF97FF",
           "#FECB52"
          ],
          "font": {
           "color": "#2a3f5f"
          },
          "geo": {
           "bgcolor": "white",
           "lakecolor": "white",
           "landcolor": "#E5ECF6",
           "showlakes": true,
           "showland": true,
           "subunitcolor": "white"
          },
          "hoverlabel": {
           "align": "left"
          },
          "hovermode": "closest",
          "mapbox": {
           "style": "light"
          },
          "paper_bgcolor": "white",
          "plot_bgcolor": "#E5ECF6",
          "polar": {
           "angularaxis": {
            "gridcolor": "white",
            "linecolor": "white",
            "ticks": ""
           },
           "bgcolor": "#E5ECF6",
           "radialaxis": {
            "gridcolor": "white",
            "linecolor": "white",
            "ticks": ""
           }
          },
          "scene": {
           "xaxis": {
            "backgroundcolor": "#E5ECF6",
            "gridcolor": "white",
            "gridwidth": 2,
            "linecolor": "white",
            "showbackground": true,
            "ticks": "",
            "zerolinecolor": "white"
           },
           "yaxis": {
            "backgroundcolor": "#E5ECF6",
            "gridcolor": "white",
            "gridwidth": 2,
            "linecolor": "white",
            "showbackground": true,
            "ticks": "",
            "zerolinecolor": "white"
           },
           "zaxis": {
            "backgroundcolor": "#E5ECF6",
            "gridcolor": "white",
            "gridwidth": 2,
            "linecolor": "white",
            "showbackground": true,
            "ticks": "",
            "zerolinecolor": "white"
           }
          },
          "shapedefaults": {
           "line": {
            "color": "#2a3f5f"
           }
          },
          "ternary": {
           "aaxis": {
            "gridcolor": "white",
            "linecolor": "white",
            "ticks": ""
           },
           "baxis": {
            "gridcolor": "white",
            "linecolor": "white",
            "ticks": ""
           },
           "bgcolor": "#E5ECF6",
           "caxis": {
            "gridcolor": "white",
            "linecolor": "white",
            "ticks": ""
           }
          },
          "title": {
           "x": 0.05
          },
          "xaxis": {
           "automargin": true,
           "gridcolor": "white",
           "linecolor": "white",
           "ticks": "",
           "title": {
            "standoff": 15
           },
           "zerolinecolor": "white",
           "zerolinewidth": 2
          },
          "yaxis": {
           "automargin": true,
           "gridcolor": "white",
           "linecolor": "white",
           "ticks": "",
           "title": {
            "standoff": 15
           },
           "zerolinecolor": "white",
           "zerolinewidth": 2
          }
         }
        },
        "title": {
         "font": {
          "color": "#4D5663"
         },
         "text": "Cases Daily"
        },
        "xaxis": {
         "gridcolor": "#E1E5ED",
         "showgrid": true,
         "tickfont": {
          "color": "#4D5663"
         },
         "title": {
          "font": {
           "color": "#4D5663"
          },
          "text": "Date"
         },
         "zerolinecolor": "#E1E5ED"
        },
        "yaxis": {
         "gridcolor": "#E1E5ED",
         "showgrid": true,
         "tickfont": {
          "color": "#4D5663"
         },
         "title": {
          "font": {
           "color": "#4D5663"
          },
          "text": "Daily Confirmed, Recovered and Deceased"
         },
         "zerolinecolor": "#E1E5ED"
        }
       }
      },
      "text/html": [
       "<div>\n",
       "        \n",
       "        \n",
       "            <div id=\"c0b4bc6c-0deb-4426-92da-45994748ef2d\" class=\"plotly-graph-div\" style=\"height:525px; width:100%;\"></div>\n",
       "            <script type=\"text/javascript\">\n",
       "                require([\"plotly\"], function(Plotly) {\n",
       "                    window.PLOTLYENV=window.PLOTLYENV || {};\n",
       "                    window.PLOTLYENV.BASE_URL='https://plot.ly';\n",
       "                    \n",
       "                if (document.getElementById(\"c0b4bc6c-0deb-4426-92da-45994748ef2d\")) {\n",
       "                    Plotly.newPlot(\n",
       "                        'c0b4bc6c-0deb-4426-92da-45994748ef2d',\n",
       "                        [{\"line\": {\"color\": \"rgba(219, 64, 82, 1.0)\", \"dash\": \"solid\", \"shape\": \"linear\", \"width\": 1.3}, \"marker\": {\"size\": 4, \"symbol\": \"circle\"}, \"mode\": \"markers+lines\", \"name\": \"Daily Confirmed\", \"text\": \"\", \"type\": \"scatter\", \"x\": [\"30 January \", \"31 January \", \"01 February \", \"02 February \", \"03 February \", \"04 February \", \"05 February \", \"06 February \", \"07 February \", \"08 February \", \"09 February \", \"10 February \", \"11 February \", \"12 February \", \"13 February \", \"14 February \", \"15 February \", \"16 February \", \"17 February \", \"18 February \", \"19 February \", \"20 February \", \"21 February \", \"22 February \", \"23 February \", \"24 February \", \"25 February \", \"26 February \", \"27 February \", \"28 February \", \"29 February \", \"01 March \", \"02 March \", \"03 March \", \"04 March \", \"05 March \", \"06 March \", \"07 March \", \"08 March \", \"09 March \", \"10 March \", \"11 March \", \"12 March \", \"13 March \", \"14 March \", \"15 March \", \"16 March \", \"17 March \", \"18 March \", \"19 March \", \"20 March \", \"21 March \", \"22 March \", \"23 March \", \"24 March \", \"25 March \", \"26 March \", \"27 March \", \"28 March \", \"29 March \", \"30 March \", \"31 March \", \"01 April \", \"02 April \", \"03 April \", \"04 April \", \"05 April \", \"06 April \", \"07 April \", \"08 April \", \"09 April \", \"10 April \", \"11 April \", \"12 April \", \"13 April \", \"14 April \", \"15 April \", \"16 April \", \"17 April \", \"18 April \", \"19 April \", \"20 April \", \"21 April \", \"22 April \", \"23 April \", \"24 April \", \"25 April \", \"26 April \", \"27 April \", \"28 April \", \"29 April \", \"30 April \", \"01 May \", \"02 May \", \"03 May \", \"04 May \", \"05 May \", \"06 May \", \"07 May \", \"08 May \", \"09 May \", \"10 May \", \"11 May \", \"12 May \", \"13 May \", \"14 May \", \"15 May \", \"16 May \", \"17 May \", \"18 May \", \"19 May \", \"20 May \", \"21 May \", \"22 May \", \"23 May \", \"24 May \", \"25 May \", \"26 May \", \"27 May \", \"28 May \", \"29 May \", \"30 May \", \"31 May \", \"01 June \", \"02 June \", \"03 June \", \"04 June \", \"05 June \", \"06 June \", \"07 June \", \"08 June \", \"09 June \", \"10 June \", \"11 June \", \"12 June \", \"13 June \", \"14 June \", \"15 June \", \"16 June \", \"17 June \", \"18 June \", \"19 June \", \"20 June \", \"21 June \", \"22 June \", \"23 June \", \"24 June \", \"25 June \", \"26 June \", \"27 June \", \"28 June \", \"29 June \", \"30 June \", \"01 July \", \"02 July \", \"03 July \", \"04 July \", \"05 July \", \"06 July \", \"07 July \", \"08 July \", \"09 July \", \"10 July \", \"11 July \", \"12 July \", \"13 July \", \"14 July \", \"15 July \", \"16 July \", \"17 July \", \"18 July \", \"19 July \", \"20 July \", \"21 July \", \"22 July \", \"23 July \", \"24 July \", \"25 July \", \"26 July \", \"27 July \", \"28 July \", \"29 July \", \"30 July \", \"31 July \", \"01 August \", \"02 August \", \"03 August \", \"04 August \", \"05 August \", \"06 August \", \"07 August \", \"08 August \", \"09 August \", \"10 August \", \"11 August \", \"12 August \", \"13 August \", \"14 August \", \"15 August \", \"16 August \", \"17 August \", \"18 August \", \"19 August \", \"20 August \", \"21 August \", \"22 August \", \"23 August \", \"24 August \", \"25 August \", \"26 August \", \"27 August \", \"28 August \", \"29 August \", \"30 August \", \"31 August \", \"01 September \", \"02 September \", \"03 September \", \"04 September \"], \"y\": [1, 0, 0, 1, 1, 0, 0, 0, 0, 0, 0, 0, 0, 0, 0, 0, 0, 0, 0, 0, 0, 0, 0, 0, 0, 0, 0, 0, 0, 0, 0, 0, 2, 1, 22, 2, 1, 3, 5, 9, 15, 8, 10, 10, 11, 10, 14, 20, 25, 27, 58, 78, 69, 94, 74, 86, 73, 153, 136, 120, 187, 309, 424, 486, 560, 579, 609, 484, 573, 565, 813, 871, 854, 758, 1243, 1031, 886, 1061, 922, 1371, 1580, 1239, 1537, 1292, 1667, 1408, 1835, 1607, 1568, 1902, 1705, 1801, 2396, 2564, 2952, 3656, 2971, 3602, 3344, 3339, 3175, 4311, 3592, 3562, 3726, 3991, 3808, 4794, 5049, 4628, 6154, 5720, 6023, 6536, 6667, 7111, 6414, 5907, 7246, 7254, 8138, 8364, 8789, 7723, 8812, 9689, 9847, 9472, 10408, 10882, 8536, 9981, 11156, 11135, 11306, 12039, 11405, 10032, 11086, 13108, 13829, 14740, 15918, 15151, 13560, 15656, 16868, 18205, 18255, 20142, 19610, 18339, 18256, 19429, 21947, 22718, 24018, 23942, 22500, 23147, 25561, 25790, 27762, 27757, 29106, 28178, 29917, 32607, 35468, 34820, 37411, 40235, 36806, 39170, 45601, 48443, 48888, 50072, 48932, 46484, 49631, 52479, 54968, 57486, 55117, 52672, 50488, 51282, 56626, 62170, 61455, 65156, 62117, 53016, 61252, 67066, 64141, 65610, 63986, 58096, 54298, 65024, 69196, 68518, 69029, 70067, 61749, 59696, 66873, 75995, 76827, 76657, 78479, 79461, 68766, 78168, 82860, 84156, 87115]}, {\"line\": {\"color\": \"rgba(55, 128, 191, 1.0)\", \"dash\": \"solid\", \"shape\": \"linear\", \"width\": 1.3}, \"marker\": {\"size\": 4, \"symbol\": \"circle\"}, \"mode\": \"markers+lines\", \"name\": \"Daily Recovered\", \"text\": \"\", \"type\": \"scatter\", \"x\": [\"30 January \", \"31 January \", \"01 February \", \"02 February \", \"03 February \", \"04 February \", \"05 February \", \"06 February \", \"07 February \", \"08 February \", \"09 February \", \"10 February \", \"11 February \", \"12 February \", \"13 February \", \"14 February \", \"15 February \", \"16 February \", \"17 February \", \"18 February \", \"19 February \", \"20 February \", \"21 February \", \"22 February \", \"23 February \", \"24 February \", \"25 February \", \"26 February \", \"27 February \", \"28 February \", \"29 February \", \"01 March \", \"02 March \", \"03 March \", \"04 March \", \"05 March \", \"06 March \", \"07 March \", \"08 March \", \"09 March \", \"10 March \", \"11 March \", \"12 March \", \"13 March \", \"14 March \", \"15 March \", \"16 March \", \"17 March \", \"18 March \", \"19 March \", \"20 March \", \"21 March \", \"22 March \", \"23 March \", \"24 March \", \"25 March \", \"26 March \", \"27 March \", \"28 March \", \"29 March \", \"30 March \", \"31 March \", \"01 April \", \"02 April \", \"03 April \", \"04 April \", \"05 April \", \"06 April \", \"07 April \", \"08 April \", \"09 April \", \"10 April \", \"11 April \", \"12 April \", \"13 April \", \"14 April \", \"15 April \", \"16 April \", \"17 April \", \"18 April \", \"19 April \", \"20 April \", \"21 April \", \"22 April \", \"23 April \", \"24 April \", \"25 April \", \"26 April \", \"27 April \", \"28 April \", \"29 April \", \"30 April \", \"01 May \", \"02 May \", \"03 May \", \"04 May \", \"05 May \", \"06 May \", \"07 May \", \"08 May \", \"09 May \", \"10 May \", \"11 May \", \"12 May \", \"13 May \", \"14 May \", \"15 May \", \"16 May \", \"17 May \", \"18 May \", \"19 May \", \"20 May \", \"21 May \", \"22 May \", \"23 May \", \"24 May \", \"25 May \", \"26 May \", \"27 May \", \"28 May \", \"29 May \", \"30 May \", \"31 May \", \"01 June \", \"02 June \", \"03 June \", \"04 June \", \"05 June \", \"06 June \", \"07 June \", \"08 June \", \"09 June \", \"10 June \", \"11 June \", \"12 June \", \"13 June \", \"14 June \", \"15 June \", \"16 June \", \"17 June \", \"18 June \", \"19 June \", \"20 June \", \"21 June \", \"22 June \", \"23 June \", \"24 June \", \"25 June \", \"26 June \", \"27 June \", \"28 June \", \"29 June \", \"30 June \", \"01 July \", \"02 July \", \"03 July \", \"04 July \", \"05 July \", \"06 July \", \"07 July \", \"08 July \", \"09 July \", \"10 July \", \"11 July \", \"12 July \", \"13 July \", \"14 July \", \"15 July \", \"16 July \", \"17 July \", \"18 July \", \"19 July \", \"20 July \", \"21 July \", \"22 July \", \"23 July \", \"24 July \", \"25 July \", \"26 July \", \"27 July \", \"28 July \", \"29 July \", \"30 July \", \"31 July \", \"01 August \", \"02 August \", \"03 August \", \"04 August \", \"05 August \", \"06 August \", \"07 August \", \"08 August \", \"09 August \", \"10 August \", \"11 August \", \"12 August \", \"13 August \", \"14 August \", \"15 August \", \"16 August \", \"17 August \", \"18 August \", \"19 August \", \"20 August \", \"21 August \", \"22 August \", \"23 August \", \"24 August \", \"25 August \", \"26 August \", \"27 August \", \"28 August \", \"29 August \", \"30 August \", \"31 August \", \"01 September \", \"02 September \", \"03 September \", \"04 September \"], \"y\": [0, 0, 0, 0, 0, 0, 0, 0, 0, 0, 0, 0, 0, 0, 1, 0, 0, 1, 0, 0, 0, 1, 0, 0, 0, 0, 0, 0, 0, 0, 0, 0, 0, 0, 0, 0, 0, 0, 0, 0, 1, 0, 0, 6, 0, 3, 1, 1, 0, 5, 3, 0, 0, 2, 15, 3, 7, 25, 10, 17, 35, 13, 19, 22, 39, 56, 43, 65, 75, 96, 70, 151, 186, 114, 112, 167, 144, 258, 273, 426, 388, 419, 703, 394, 642, 484, 442, 585, 580, 636, 690, 630, 962, 831, 911, 1082, 1295, 1161, 1475, 1111, 1414, 1669, 1579, 1905, 1963, 1594, 2234, 4012, 2538, 2482, 3032, 3113, 3131, 3280, 2576, 3285, 3012, 3585, 3434, 3171, 11735, 4303, 4928, 3882, 4531, 3789, 4390, 4770, 5433, 5191, 5171, 5634, 6275, 6044, 7263, 8092, 7358, 10639, 7226, 6890, 10741, 9029, 13974, 9075, 10879, 10462, 13089, 13983, 10246, 14229, 11631, 13497, 12565, 12064, 19999, 14417, 14746, 15829, 15315, 16836, 19508, 19408, 20289, 19981, 18198, 17683, 20977, 20646, 22867, 17476, 23583, 22730, 24303, 27589, 31875, 33326, 32514, 37125, 31512, 34354, 35683, 32886, 37425, 36554, 51368, 40355, 43070, 51220, 45583, 50141, 50387, 52135, 54474, 47362, 56461, 57759, 54776, 56920, 53116, 57404, 58172, 60455, 59365, 61873, 62858, 59101, 56896, 66305, 64151, 56191, 59620, 64475, 64982, 60422, 64435, 62145, 67874, 67491, 69625]}, {\"line\": {\"color\": \"rgba(0, 128, 0, 1.0)\", \"dash\": \"solid\", \"shape\": \"linear\", \"width\": 1.3}, \"marker\": {\"size\": 4, \"symbol\": \"circle\"}, \"mode\": \"markers+lines\", \"name\": \"Daily Deceased\", \"text\": \"\", \"type\": \"scatter\", \"x\": [\"30 January \", \"31 January \", \"01 February \", \"02 February \", \"03 February \", \"04 February \", \"05 February \", \"06 February \", \"07 February \", \"08 February \", \"09 February \", \"10 February \", \"11 February \", \"12 February \", \"13 February \", \"14 February \", \"15 February \", \"16 February \", \"17 February \", \"18 February \", \"19 February \", \"20 February \", \"21 February \", \"22 February \", \"23 February \", \"24 February \", \"25 February \", \"26 February \", \"27 February \", \"28 February \", \"29 February \", \"01 March \", \"02 March \", \"03 March \", \"04 March \", \"05 March \", \"06 March \", \"07 March \", \"08 March \", \"09 March \", \"10 March \", \"11 March \", \"12 March \", \"13 March \", \"14 March \", \"15 March \", \"16 March \", \"17 March \", \"18 March \", \"19 March \", \"20 March \", \"21 March \", \"22 March \", \"23 March \", \"24 March \", \"25 March \", \"26 March \", \"27 March \", \"28 March \", \"29 March \", \"30 March \", \"31 March \", \"01 April \", \"02 April \", \"03 April \", \"04 April \", \"05 April \", \"06 April \", \"07 April \", \"08 April \", \"09 April \", \"10 April \", \"11 April \", \"12 April \", \"13 April \", \"14 April \", \"15 April \", \"16 April \", \"17 April \", \"18 April \", \"19 April \", \"20 April \", \"21 April \", \"22 April \", \"23 April \", \"24 April \", \"25 April \", \"26 April \", \"27 April \", \"28 April \", \"29 April \", \"30 April \", \"01 May \", \"02 May \", \"03 May \", \"04 May \", \"05 May \", \"06 May \", \"07 May \", \"08 May \", \"09 May \", \"10 May \", \"11 May \", \"12 May \", \"13 May \", \"14 May \", \"15 May \", \"16 May \", \"17 May \", \"18 May \", \"19 May \", \"20 May \", \"21 May \", \"22 May \", \"23 May \", \"24 May \", \"25 May \", \"26 May \", \"27 May \", \"28 May \", \"29 May \", \"30 May \", \"31 May \", \"01 June \", \"02 June \", \"03 June \", \"04 June \", \"05 June \", \"06 June \", \"07 June \", \"08 June \", \"09 June \", \"10 June \", \"11 June \", \"12 June \", \"13 June \", \"14 June \", \"15 June \", \"16 June \", \"17 June \", \"18 June \", \"19 June \", \"20 June \", \"21 June \", \"22 June \", \"23 June \", \"24 June \", \"25 June \", \"26 June \", \"27 June \", \"28 June \", \"29 June \", \"30 June \", \"01 July \", \"02 July \", \"03 July \", \"04 July \", \"05 July \", \"06 July \", \"07 July \", \"08 July \", \"09 July \", \"10 July \", \"11 July \", \"12 July \", \"13 July \", \"14 July \", \"15 July \", \"16 July \", \"17 July \", \"18 July \", \"19 July \", \"20 July \", \"21 July \", \"22 July \", \"23 July \", \"24 July \", \"25 July \", \"26 July \", \"27 July \", \"28 July \", \"29 July \", \"30 July \", \"31 July \", \"01 August \", \"02 August \", \"03 August \", \"04 August \", \"05 August \", \"06 August \", \"07 August \", \"08 August \", \"09 August \", \"10 August \", \"11 August \", \"12 August \", \"13 August \", \"14 August \", \"15 August \", \"16 August \", \"17 August \", \"18 August \", \"19 August \", \"20 August \", \"21 August \", \"22 August \", \"23 August \", \"24 August \", \"25 August \", \"26 August \", \"27 August \", \"28 August \", \"29 August \", \"30 August \", \"31 August \", \"01 September \", \"02 September \", \"03 September \", \"04 September \"], \"y\": [0, 0, 0, 0, 0, 0, 0, 0, 0, 0, 0, 0, 0, 0, 0, 0, 0, 0, 0, 0, 0, 0, 0, 0, 0, 0, 0, 0, 0, 0, 0, 0, 0, 0, 0, 0, 0, 0, 0, 0, 0, 0, 1, 0, 1, 0, 0, 1, 0, 1, 0, 0, 3, 2, 1, 1, 5, 3, 5, 3, 14, 6, 6, 16, 14, 13, 22, 16, 27, 20, 46, 22, 41, 42, 27, 37, 27, 26, 38, 35, 38, 33, 53, 36, 40, 59, 44, 56, 58, 69, 71, 75, 77, 92, 140, 103, 128, 91, 104, 97, 115, 112, 81, 120, 137, 97, 104, 120, 152, 131, 146, 134, 148, 142, 142, 156, 150, 173, 188, 176, 269, 205, 222, 201, 222, 259, 274, 286, 297, 261, 271, 272, 358, 394, 388, 309, 324, 396, 2004, 341, 343, 364, 308, 426, 312, 468, 424, 401, 381, 414, 384, 417, 506, 438, 378, 444, 611, 421, 473, 479, 492, 479, 520, 543, 500, 541, 587, 614, 680, 676, 543, 675, 596, 671, 1130, 755, 763, 703, 704, 642, 774, 775, 784, 764, 854, 760, 806, 849, 919, 899, 936, 875, 1013, 887, 835, 950, 1006, 989, 952, 952, 880, 1099, 979, 981, 953, 918, 846, 854, 1066, 1017, 1066, 1019, 943, 960, 816, 1027, 1026, 1083, 1066]}],\n",
       "                        {\"legend\": {\"bgcolor\": \"#F5F6F9\", \"font\": {\"color\": \"#4D5663\"}}, \"paper_bgcolor\": \"#F5F6F9\", \"plot_bgcolor\": \"#F5F6F9\", \"template\": {\"data\": {\"bar\": [{\"error_x\": {\"color\": \"#2a3f5f\"}, \"error_y\": {\"color\": \"#2a3f5f\"}, \"marker\": {\"line\": {\"color\": \"#E5ECF6\", \"width\": 0.5}}, \"type\": \"bar\"}], \"barpolar\": [{\"marker\": {\"line\": {\"color\": \"#E5ECF6\", \"width\": 0.5}}, \"type\": \"barpolar\"}], \"carpet\": [{\"aaxis\": {\"endlinecolor\": \"#2a3f5f\", \"gridcolor\": \"white\", \"linecolor\": \"white\", \"minorgridcolor\": \"white\", \"startlinecolor\": \"#2a3f5f\"}, \"baxis\": {\"endlinecolor\": \"#2a3f5f\", \"gridcolor\": \"white\", \"linecolor\": \"white\", \"minorgridcolor\": \"white\", \"startlinecolor\": \"#2a3f5f\"}, \"type\": \"carpet\"}], \"choropleth\": [{\"colorbar\": {\"outlinewidth\": 0, \"ticks\": \"\"}, \"type\": \"choropleth\"}], \"contour\": [{\"colorbar\": {\"outlinewidth\": 0, \"ticks\": \"\"}, \"colorscale\": [[0.0, \"#0d0887\"], [0.1111111111111111, \"#46039f\"], [0.2222222222222222, \"#7201a8\"], [0.3333333333333333, \"#9c179e\"], [0.4444444444444444, \"#bd3786\"], [0.5555555555555556, \"#d8576b\"], [0.6666666666666666, \"#ed7953\"], [0.7777777777777778, \"#fb9f3a\"], [0.8888888888888888, \"#fdca26\"], [1.0, \"#f0f921\"]], \"type\": \"contour\"}], \"contourcarpet\": [{\"colorbar\": {\"outlinewidth\": 0, \"ticks\": \"\"}, \"type\": \"contourcarpet\"}], \"heatmap\": [{\"colorbar\": {\"outlinewidth\": 0, \"ticks\": \"\"}, \"colorscale\": [[0.0, \"#0d0887\"], [0.1111111111111111, \"#46039f\"], [0.2222222222222222, \"#7201a8\"], [0.3333333333333333, \"#9c179e\"], [0.4444444444444444, \"#bd3786\"], [0.5555555555555556, \"#d8576b\"], [0.6666666666666666, \"#ed7953\"], [0.7777777777777778, \"#fb9f3a\"], [0.8888888888888888, \"#fdca26\"], [1.0, \"#f0f921\"]], \"type\": \"heatmap\"}], \"heatmapgl\": [{\"colorbar\": {\"outlinewidth\": 0, \"ticks\": \"\"}, \"colorscale\": [[0.0, \"#0d0887\"], [0.1111111111111111, \"#46039f\"], [0.2222222222222222, \"#7201a8\"], [0.3333333333333333, \"#9c179e\"], [0.4444444444444444, \"#bd3786\"], [0.5555555555555556, \"#d8576b\"], [0.6666666666666666, \"#ed7953\"], [0.7777777777777778, \"#fb9f3a\"], [0.8888888888888888, \"#fdca26\"], [1.0, \"#f0f921\"]], \"type\": \"heatmapgl\"}], \"histogram\": [{\"marker\": {\"colorbar\": {\"outlinewidth\": 0, \"ticks\": \"\"}}, \"type\": \"histogram\"}], \"histogram2d\": [{\"colorbar\": {\"outlinewidth\": 0, \"ticks\": \"\"}, \"colorscale\": [[0.0, \"#0d0887\"], [0.1111111111111111, \"#46039f\"], [0.2222222222222222, \"#7201a8\"], [0.3333333333333333, \"#9c179e\"], [0.4444444444444444, \"#bd3786\"], [0.5555555555555556, \"#d8576b\"], [0.6666666666666666, \"#ed7953\"], [0.7777777777777778, \"#fb9f3a\"], [0.8888888888888888, \"#fdca26\"], [1.0, \"#f0f921\"]], \"type\": \"histogram2d\"}], \"histogram2dcontour\": [{\"colorbar\": {\"outlinewidth\": 0, \"ticks\": \"\"}, \"colorscale\": [[0.0, \"#0d0887\"], [0.1111111111111111, \"#46039f\"], [0.2222222222222222, \"#7201a8\"], [0.3333333333333333, \"#9c179e\"], [0.4444444444444444, \"#bd3786\"], [0.5555555555555556, \"#d8576b\"], [0.6666666666666666, \"#ed7953\"], [0.7777777777777778, \"#fb9f3a\"], [0.8888888888888888, \"#fdca26\"], [1.0, \"#f0f921\"]], \"type\": \"histogram2dcontour\"}], \"mesh3d\": [{\"colorbar\": {\"outlinewidth\": 0, \"ticks\": \"\"}, \"type\": \"mesh3d\"}], \"parcoords\": [{\"line\": {\"colorbar\": {\"outlinewidth\": 0, \"ticks\": \"\"}}, \"type\": \"parcoords\"}], \"pie\": [{\"automargin\": true, \"type\": \"pie\"}], \"scatter\": [{\"marker\": {\"colorbar\": {\"outlinewidth\": 0, \"ticks\": \"\"}}, \"type\": \"scatter\"}], \"scatter3d\": [{\"line\": {\"colorbar\": {\"outlinewidth\": 0, \"ticks\": \"\"}}, \"marker\": {\"colorbar\": {\"outlinewidth\": 0, \"ticks\": \"\"}}, \"type\": \"scatter3d\"}], \"scattercarpet\": [{\"marker\": {\"colorbar\": {\"outlinewidth\": 0, \"ticks\": \"\"}}, \"type\": \"scattercarpet\"}], \"scattergeo\": [{\"marker\": {\"colorbar\": {\"outlinewidth\": 0, \"ticks\": \"\"}}, \"type\": \"scattergeo\"}], \"scattergl\": [{\"marker\": {\"colorbar\": {\"outlinewidth\": 0, \"ticks\": \"\"}}, \"type\": \"scattergl\"}], \"scattermapbox\": [{\"marker\": {\"colorbar\": {\"outlinewidth\": 0, \"ticks\": \"\"}}, \"type\": \"scattermapbox\"}], \"scatterpolar\": [{\"marker\": {\"colorbar\": {\"outlinewidth\": 0, \"ticks\": \"\"}}, \"type\": \"scatterpolar\"}], \"scatterpolargl\": [{\"marker\": {\"colorbar\": {\"outlinewidth\": 0, \"ticks\": \"\"}}, \"type\": \"scatterpolargl\"}], \"scatterternary\": [{\"marker\": {\"colorbar\": {\"outlinewidth\": 0, \"ticks\": \"\"}}, \"type\": \"scatterternary\"}], \"surface\": [{\"colorbar\": {\"outlinewidth\": 0, \"ticks\": \"\"}, \"colorscale\": [[0.0, \"#0d0887\"], [0.1111111111111111, \"#46039f\"], [0.2222222222222222, \"#7201a8\"], [0.3333333333333333, \"#9c179e\"], [0.4444444444444444, \"#bd3786\"], [0.5555555555555556, \"#d8576b\"], [0.6666666666666666, \"#ed7953\"], [0.7777777777777778, \"#fb9f3a\"], [0.8888888888888888, \"#fdca26\"], [1.0, \"#f0f921\"]], \"type\": \"surface\"}], \"table\": [{\"cells\": {\"fill\": {\"color\": \"#EBF0F8\"}, \"line\": {\"color\": \"white\"}}, \"header\": {\"fill\": {\"color\": \"#C8D4E3\"}, \"line\": {\"color\": \"white\"}}, \"type\": \"table\"}]}, \"layout\": {\"annotationdefaults\": {\"arrowcolor\": \"#2a3f5f\", \"arrowhead\": 0, \"arrowwidth\": 1}, \"coloraxis\": {\"colorbar\": {\"outlinewidth\": 0, \"ticks\": \"\"}}, \"colorscale\": {\"diverging\": [[0, \"#8e0152\"], [0.1, \"#c51b7d\"], [0.2, \"#de77ae\"], [0.3, \"#f1b6da\"], [0.4, \"#fde0ef\"], [0.5, \"#f7f7f7\"], [0.6, \"#e6f5d0\"], [0.7, \"#b8e186\"], [0.8, \"#7fbc41\"], [0.9, \"#4d9221\"], [1, \"#276419\"]], \"sequential\": [[0.0, \"#0d0887\"], [0.1111111111111111, \"#46039f\"], [0.2222222222222222, \"#7201a8\"], [0.3333333333333333, \"#9c179e\"], [0.4444444444444444, \"#bd3786\"], [0.5555555555555556, \"#d8576b\"], [0.6666666666666666, \"#ed7953\"], [0.7777777777777778, \"#fb9f3a\"], [0.8888888888888888, \"#fdca26\"], [1.0, \"#f0f921\"]], \"sequentialminus\": [[0.0, \"#0d0887\"], [0.1111111111111111, \"#46039f\"], [0.2222222222222222, \"#7201a8\"], [0.3333333333333333, \"#9c179e\"], [0.4444444444444444, \"#bd3786\"], [0.5555555555555556, \"#d8576b\"], [0.6666666666666666, \"#ed7953\"], [0.7777777777777778, \"#fb9f3a\"], [0.8888888888888888, \"#fdca26\"], [1.0, \"#f0f921\"]]}, \"colorway\": [\"#636efa\", \"#EF553B\", \"#00cc96\", \"#ab63fa\", \"#FFA15A\", \"#19d3f3\", \"#FF6692\", \"#B6E880\", \"#FF97FF\", \"#FECB52\"], \"font\": {\"color\": \"#2a3f5f\"}, \"geo\": {\"bgcolor\": \"white\", \"lakecolor\": \"white\", \"landcolor\": \"#E5ECF6\", \"showlakes\": true, \"showland\": true, \"subunitcolor\": \"white\"}, \"hoverlabel\": {\"align\": \"left\"}, \"hovermode\": \"closest\", \"mapbox\": {\"style\": \"light\"}, \"paper_bgcolor\": \"white\", \"plot_bgcolor\": \"#E5ECF6\", \"polar\": {\"angularaxis\": {\"gridcolor\": \"white\", \"linecolor\": \"white\", \"ticks\": \"\"}, \"bgcolor\": \"#E5ECF6\", \"radialaxis\": {\"gridcolor\": \"white\", \"linecolor\": \"white\", \"ticks\": \"\"}}, \"scene\": {\"xaxis\": {\"backgroundcolor\": \"#E5ECF6\", \"gridcolor\": \"white\", \"gridwidth\": 2, \"linecolor\": \"white\", \"showbackground\": true, \"ticks\": \"\", \"zerolinecolor\": \"white\"}, \"yaxis\": {\"backgroundcolor\": \"#E5ECF6\", \"gridcolor\": \"white\", \"gridwidth\": 2, \"linecolor\": \"white\", \"showbackground\": true, \"ticks\": \"\", \"zerolinecolor\": \"white\"}, \"zaxis\": {\"backgroundcolor\": \"#E5ECF6\", \"gridcolor\": \"white\", \"gridwidth\": 2, \"linecolor\": \"white\", \"showbackground\": true, \"ticks\": \"\", \"zerolinecolor\": \"white\"}}, \"shapedefaults\": {\"line\": {\"color\": \"#2a3f5f\"}}, \"ternary\": {\"aaxis\": {\"gridcolor\": \"white\", \"linecolor\": \"white\", \"ticks\": \"\"}, \"baxis\": {\"gridcolor\": \"white\", \"linecolor\": \"white\", \"ticks\": \"\"}, \"bgcolor\": \"#E5ECF6\", \"caxis\": {\"gridcolor\": \"white\", \"linecolor\": \"white\", \"ticks\": \"\"}}, \"title\": {\"x\": 0.05}, \"xaxis\": {\"automargin\": true, \"gridcolor\": \"white\", \"linecolor\": \"white\", \"ticks\": \"\", \"title\": {\"standoff\": 15}, \"zerolinecolor\": \"white\", \"zerolinewidth\": 2}, \"yaxis\": {\"automargin\": true, \"gridcolor\": \"white\", \"linecolor\": \"white\", \"ticks\": \"\", \"title\": {\"standoff\": 15}, \"zerolinecolor\": \"white\", \"zerolinewidth\": 2}}}, \"title\": {\"font\": {\"color\": \"#4D5663\"}, \"text\": \"Cases Daily\"}, \"xaxis\": {\"gridcolor\": \"#E1E5ED\", \"showgrid\": true, \"tickfont\": {\"color\": \"#4D5663\"}, \"title\": {\"font\": {\"color\": \"#4D5663\"}, \"text\": \"Date\"}, \"zerolinecolor\": \"#E1E5ED\"}, \"yaxis\": {\"gridcolor\": \"#E1E5ED\", \"showgrid\": true, \"tickfont\": {\"color\": \"#4D5663\"}, \"title\": {\"font\": {\"color\": \"#4D5663\"}, \"text\": \"Daily Confirmed, Recovered and Deceased\"}, \"zerolinecolor\": \"#E1E5ED\"}},\n",
       "                        {\"showLink\": true, \"linkText\": \"Export to plot.ly\", \"plotlyServerURL\": \"https://plot.ly\", \"responsive\": true}\n",
       "                    ).then(function(){\n",
       "                            \n",
       "var gd = document.getElementById('c0b4bc6c-0deb-4426-92da-45994748ef2d');\n",
       "var x = new MutationObserver(function (mutations, observer) {{\n",
       "        var display = window.getComputedStyle(gd).display;\n",
       "        if (!display || display === 'none') {{\n",
       "            console.log([gd, 'removed!']);\n",
       "            Plotly.purge(gd);\n",
       "            observer.disconnect();\n",
       "        }}\n",
       "}});\n",
       "\n",
       "// Listen for the removal of the full notebook cells\n",
       "var notebookContainer = gd.closest('#notebook-container');\n",
       "if (notebookContainer) {{\n",
       "    x.observe(notebookContainer, {childList: true});\n",
       "}}\n",
       "\n",
       "// Listen for the clearing of the current output cell\n",
       "var outputEl = gd.closest('.output');\n",
       "if (outputEl) {{\n",
       "    x.observe(outputEl, {childList: true});\n",
       "}}\n",
       "\n",
       "                        })\n",
       "                };\n",
       "                });\n",
       "            </script>\n",
       "        </div>"
      ]
     },
     "metadata": {},
     "output_type": "display_data"
    }
   ],
   "source": [
    "df6.iplot(kind= 'scatter', x= 'Date', y=['Daily Confirmed', 'Daily Recovered', 'Daily Deceased'], mode= 'markers+lines', title= 'Cases Daily', xTitle= 'Date', yTitle= 'Daily Confirmed, Recovered and Deceased', color= ['red', 'blue', 'green'], size= 4)\n"
   ]
  },
  {
   "cell_type": "code",
   "execution_count": 23,
   "metadata": {},
   "outputs": [
    {
     "data": {
      "text/html": [
       "<script>\n",
       "code_show=true; \n",
       "function code_toggle() {\n",
       " if (code_show){\n",
       " $('div.input').hide();\n",
       " } else {\n",
       " $('div.input').show();\n",
       " }\n",
       " code_show = !code_show\n",
       "} \n",
       "$( document ).ready(code_toggle);\n",
       "</script>\n",
       "<form action=\"javascript:code_toggle()\"><input type=\"submit\" value=\"Click here to toggle on/off the raw code.\"></form>"
      ],
      "text/plain": [
       "<IPython.core.display.HTML object>"
      ]
     },
     "execution_count": 23,
     "metadata": {},
     "output_type": "execute_result"
    }
   ],
   "source": [
    "from IPython.display import HTML\n",
    "\n",
    "HTML('''<script>\n",
    "code_show=true; \n",
    "function code_toggle() {\n",
    " if (code_show){\n",
    " $('div.input').hide();\n",
    " } else {\n",
    " $('div.input').show();\n",
    " }\n",
    " code_show = !code_show\n",
    "} \n",
    "$( document ).ready(code_toggle);\n",
    "</script>\n",
    "<form action=\"javascript:code_toggle()\"><input type=\"submit\" value=\"Click here to toggle on/off the raw code.\"></form>''')"
   ]
  },
  {
   "cell_type": "code",
   "execution_count": null,
   "metadata": {},
   "outputs": [],
   "source": []
  },
  {
   "cell_type": "code",
   "execution_count": null,
   "metadata": {},
   "outputs": [],
   "source": []
  }
 ],
 "metadata": {
  "kernelspec": {
   "display_name": "Python 3",
   "language": "python",
   "name": "python3"
  },
  "language_info": {
   "codemirror_mode": {
    "name": "ipython",
    "version": 3
   },
   "file_extension": ".py",
   "mimetype": "text/x-python",
   "name": "python",
   "nbconvert_exporter": "python",
   "pygments_lexer": "ipython3",
   "version": "3.7.6"
  }
 },
 "nbformat": 4,
 "nbformat_minor": 4
}
